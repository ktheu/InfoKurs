{
 "cells": [
  {
   "cell_type": "markdown",
   "metadata": {},
   "source": [
    "## Sort\n",
    "\n",
    "### SelectionSort"
   ]
  },
  {
   "cell_type": "code",
   "execution_count": 10,
   "metadata": {},
   "outputs": [],
   "source": [
    "def selection_sort(a):\n",
    "    for i in range(len(a)-1):\n",
    "        best = i\n",
    "        best_val = a[i]\n",
    "        for j in range(i+1,len(a)):\n",
    "            if a[j] < best_val:\n",
    "                best = j\n",
    "                best_val = a[j]\n",
    "        a[best],a[i] = a[i],a[best]"
   ]
  },
  {
   "cell_type": "code",
   "execution_count": 11,
   "metadata": {},
   "outputs": [
    {
     "name": "stdout",
     "output_type": "stream",
     "text": [
      "[4, 8, 15, 16, 23, 42]\n"
     ]
    }
   ],
   "source": [
    "a = [15, 23, 4, 42, 8, 16]\n",
    "selection_sort(a)\n",
    "print(a)"
   ]
  },
  {
   "cell_type": "markdown",
   "metadata": {},
   "source": [
    "### BubbleSort"
   ]
  },
  {
   "cell_type": "code",
   "execution_count": 30,
   "metadata": {},
   "outputs": [],
   "source": [
    "def bubble_sort(a):\n",
    "    getauscht = True\n",
    "    while getauscht:\n",
    "        getauscht = False\n",
    "        for i in range(len(a)-1):\n",
    "            if a[i] > a[i+1]:\n",
    "                a[i],a[i+1]=a[i+1],a[i]\n",
    "                getauscht = True"
   ]
  },
  {
   "cell_type": "code",
   "execution_count": 31,
   "metadata": {},
   "outputs": [
    {
     "name": "stdout",
     "output_type": "stream",
     "text": [
      "[4, 8, 15, 16, 23, 42]\n"
     ]
    }
   ],
   "source": [
    "a = [15, 23, 4, 42, 8, 16]\n",
    "bubble_sort(a)\n",
    "print(a)"
   ]
  },
  {
   "cell_type": "markdown",
   "metadata": {
    "tags": []
   },
   "source": [
    "### InsertionSort"
   ]
  },
  {
   "cell_type": "code",
   "execution_count": 3,
   "metadata": {
    "tags": []
   },
   "outputs": [
    {
     "name": "stdout",
     "output_type": "stream",
     "text": [
      "[4, 8, 15, 16, 23, 42]\n"
     ]
    }
   ],
   "source": [
    "def insertion_sort(a):\n",
    "    for i in range(1,len(a)):\n",
    "        x = a[i]\n",
    "        j = i\n",
    "        while j > 0 and a[j-1] > x:\n",
    "            a[j] = a[j-1]\n",
    "            j = j - 1\n",
    "        a[j] = x\n",
    "        \n",
    "a = [15, 23, 4, 42, 8, 16]\n",
    "insertion_sort(a)\n",
    "print(a)"
   ]
  },
  {
   "cell_type": "markdown",
   "metadata": {},
   "source": [
    "### MergeSort"
   ]
  },
  {
   "cell_type": "code",
   "execution_count": 32,
   "metadata": {},
   "outputs": [],
   "source": [
    "def merge(a, b):\n",
    "    i = j = 0\n",
    "    c=[]\n",
    "    while i < len(a) and j < len(b):\n",
    "        if a[i] < b[j]:\n",
    "            c.append(a[i])\n",
    "            i+=1\n",
    "        else:\n",
    "            c.append(b[j])\n",
    "            j+=1\n",
    "    c+=a[i:]+b[j:]\n",
    "    return c\n",
    "\n",
    "def merge_sort(a):\n",
    "    if len(a) <= 1: return a\n",
    "    halb = len(a)//2\n",
    "    b = a[0:halb]\n",
    "    c = a[halb:]\n",
    "    return merge(merge_sort(b),merge_sort(c))"
   ]
  },
  {
   "cell_type": "code",
   "execution_count": 33,
   "metadata": {},
   "outputs": [
    {
     "name": "stdout",
     "output_type": "stream",
     "text": [
      "[4, 8, 15, 16, 23, 42]\n"
     ]
    }
   ],
   "source": [
    "a = [15, 23, 4, 42, 8, 16]\n",
    "b = merge_sort(a)\n",
    "print(b)"
   ]
  },
  {
   "cell_type": "markdown",
   "metadata": {},
   "source": [
    "### QuickSort"
   ]
  },
  {
   "cell_type": "code",
   "execution_count": 34,
   "metadata": {},
   "outputs": [],
   "source": [
    "def quick_sort(a, unten = 0, oben = None):\n",
    "    if oben == None: oben = len(a)-1\n",
    "    i , j = unten, oben\n",
    "    mitte = (unten + oben) // 2\n",
    "    pivot = a[mitte]\n",
    "    while i <= j:\n",
    "        while a[i] < pivot: i+=1\n",
    "        while a[j] > pivot: j-=1\n",
    "        if i <= j:\n",
    "            tmp = a[i]\n",
    "            a[i] = a[j]\n",
    "            a[j] = tmp\n",
    "            i+=1\n",
    "            j-=1\n",
    "    if unten < j: quick_sort(a,unten,j)\n",
    "    if i < oben: quick_sort(a,i,oben)"
   ]
  },
  {
   "cell_type": "code",
   "execution_count": 35,
   "metadata": {},
   "outputs": [
    {
     "name": "stdout",
     "output_type": "stream",
     "text": [
      "[4, 8, 15, 16, 23, 42]\n"
     ]
    }
   ],
   "source": [
    "a = [15, 23, 4, 42, 8, 16]\n",
    "quick_sort(a)\n",
    "print(a)"
   ]
  },
  {
   "cell_type": "markdown",
   "metadata": {},
   "source": [
    "### HeapSort"
   ]
  },
  {
   "cell_type": "code",
   "execution_count": 36,
   "metadata": {},
   "outputs": [],
   "source": [
    "def sift(a, start , end):\n",
    "    i = start\n",
    "    x = a[start]\n",
    "    j = 2 * i + 1\n",
    "    if j < end and a[j+1] < a[j]:\n",
    "        j+=1\n",
    "    while j <= end and a[j] < x:\n",
    "        a[i] = a[j]\n",
    "        i = j\n",
    "        j = j * 2 + 1\n",
    "        if j < end and a[j+1] < a[j]:\n",
    "            j+=1\n",
    "    a[i] = x\n",
    "\n",
    "\n",
    "def heap_sort(a):\n",
    "    n = len(a)\n",
    "    for k in range ((n-2)//2,-1,-1):\n",
    "        sift(a,k,n-1)\n",
    "    for k in range(n-1,0,-1):\n",
    "        a[0],a[k]=a[k],a[0]\n",
    "        sift(a,0,k-1)"
   ]
  },
  {
   "cell_type": "code",
   "execution_count": 37,
   "metadata": {},
   "outputs": [
    {
     "name": "stdout",
     "output_type": "stream",
     "text": [
      "[42, 23, 16, 15, 8, 4]\n"
     ]
    }
   ],
   "source": [
    "a = [15, 23, 4, 42, 8, 16]\n",
    "heap_sort(a)\n",
    "print(a)"
   ]
  },
  {
   "cell_type": "markdown",
   "metadata": {},
   "source": [
    "### Laufzeitmessung"
   ]
  },
  {
   "cell_type": "code",
   "execution_count": 38,
   "metadata": {},
   "outputs": [
    {
     "name": "stdout",
     "output_type": "stream",
     "text": [
      "CPU times: total: 328 ms\n",
      "Wall time: 335 ms\n"
     ]
    }
   ],
   "source": [
    "%%time\n",
    "import random\n",
    "k = 4000 \n",
    "# a = zufallsliste mit k zahlen von -k bis +k\n",
    "a = [random.randint(-k,k) for i in range(k)]\n",
    "selection_sort(a)           \n",
    " "
   ]
  },
  {
   "cell_type": "code",
   "execution_count": null,
   "metadata": {},
   "outputs": [],
   "source": []
  }
 ],
 "metadata": {
  "kernelspec": {
   "display_name": "Python 3 (ipykernel)",
   "language": "python",
   "name": "python3"
  },
  "language_info": {
   "codemirror_mode": {
    "name": "ipython",
    "version": 3
   },
   "file_extension": ".py",
   "mimetype": "text/x-python",
   "name": "python",
   "nbconvert_exporter": "python",
   "pygments_lexer": "ipython3",
   "version": "3.11.2"
  },
  "vscode": {
   "interpreter": {
    "hash": "5497d93d61f97409de7b7f2fc1ef9587b6eab58d21fac1992c1f6d4a77dcee3b"
   }
  }
 },
 "nbformat": 4,
 "nbformat_minor": 4
}
