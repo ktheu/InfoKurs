{
 "cells": [
  {
   "cell_type": "markdown",
   "id": "9605190c-9b0f-4aa9-861d-e45e8680f3ca",
   "metadata": {},
   "source": [
    "# Rekursion\n",
    "\n",
    "Eine Funktion darf sich im Rumpf selbst wieder aufrufen. Man nennt das\n",
    "einen **rekursiven Aufruf**. Jede Rekursion braucht eine Bremse, damit es\n",
    "nicht zu unendlich vielen Aufrufen kommt.\n",
    "\n",
    "## Beispiel 1: Fakultät\n",
    "Iterative Definition der Fakultät:  \n",
    "$n! =\\begin{cases}\n",
    " 1   &  n = 0 \\\\\n",
    " 1 \\cdot 2 \\cdot 3 \\cdot ... \\cdot n & n > 0 \n",
    "\\end{cases} $ \n",
    "\n",
    "Rekursive Definition der Fakultät: \n",
    "\n",
    "$n! =\\begin{cases}\n",
    " 1   & n = 0 \\\\ \n",
    " (n-1)! \\cdot n & n > 0 \n",
    "\\end{cases} $"
   ]
  },
  {
   "cell_type": "code",
   "execution_count": 2,
   "id": "30fc6c72-b4c9-49d2-9591-1d648330bf7f",
   "metadata": {},
   "outputs": [
    {
     "name": "stdout",
     "output_type": "stream",
     "text": [
      "24\n"
     ]
    }
   ],
   "source": [
    "# Iterative Implementation\n",
    "def fakultaet(n):\n",
    "    '''\n",
    "    n: ganze Zahl >= 0\n",
    "    returns: n! (= n Fakultät)\n",
    "    '''\n",
    "    if n == 0: return 1\n",
    "    tmp = 1\n",
    "    for k in range(1,n+1):\n",
    "        tmp *= k\n",
    "    return tmp\n",
    "\n",
    "print(fakultaet(4))"
   ]
  },
  {
   "cell_type": "code",
   "execution_count": 4,
   "id": "83d7262b-8731-4199-a00a-f85bd619dbf0",
   "metadata": {},
   "outputs": [
    {
     "name": "stdout",
     "output_type": "stream",
     "text": [
      "24\n"
     ]
    }
   ],
   "source": [
    "# Rekursive Implementation\n",
    "def fakultaet(n):\n",
    "    '''\n",
    "    n: ganze Zahl >= 0\n",
    "    returns: n! (= n Fakultät)\n",
    "    '''\n",
    "    if n == 0: return 1\n",
    "    return n * fakultaet(n-1)\n",
    "\n",
    "print(fakultaet(4))"
   ]
  },
  {
   "cell_type": "markdown",
   "id": "74a00a37-6c28-42e7-81f5-25757fcbe558",
   "metadata": {},
   "source": [
    "## Beispiel 2: Zweierpotenz\n",
    "\n",
    "Iterative Definition der Zweierpotenz:\n",
    "\n",
    "$2^n =\\begin{cases}\n",
    " 1   &  n = 0 \\\\\n",
    " 2 \\cdot 2 \\cdot 2 \\cdot ... \\cdot 2 \\text{  (n-mal)} & n > 0 \n",
    "\\end{cases} $  \n",
    "\n",
    "Rekursive Definition der Zweierpotenz:\n",
    "\n",
    "$2^n =\\begin{cases}\n",
    " 1,   & n = 0 \\\\\n",
    " 2^{n-1} \\cdot 2 & n > 0 \n",
    "\\end{cases} $"
   ]
  },
  {
   "cell_type": "code",
   "execution_count": 6,
   "id": "1d462f37-ff25-4d14-bd57-47d9764b343a",
   "metadata": {},
   "outputs": [
    {
     "data": {
      "text/plain": [
       "1024"
      ]
     },
     "execution_count": 6,
     "metadata": {},
     "output_type": "execute_result"
    }
   ],
   "source": [
    "# Iterative Implementation\n",
    "def zweihoch(n):\n",
    "    '''\n",
    "    n: ganze Zahl >= 0\n",
    "    returns: 2 hoch n\n",
    "    '''\n",
    "    if n == 0: return 1\n",
    "    tmp = 1\n",
    "    for k in range(n):\n",
    "        tmp *= 2\n",
    "    return tmp\n",
    "\n",
    "zweihoch(10)"
   ]
  },
  {
   "cell_type": "code",
   "execution_count": 7,
   "id": "c4496ca0-d111-4fcd-a4fb-7f9c733708b3",
   "metadata": {},
   "outputs": [
    {
     "data": {
      "text/plain": [
       "1024"
      ]
     },
     "execution_count": 7,
     "metadata": {},
     "output_type": "execute_result"
    }
   ],
   "source": [
    "# Rekursive Implementation\n",
    "def zweihoch(n):\n",
    "    '''\n",
    "    n: ganze Zahl >= 0\n",
    "    returns: 2 hoch n\n",
    "    '''\n",
    "    if n == 0: return 1\n",
    "    return 2 * zweihoch(n-1)\n",
    "\n",
    "zweihoch(10)"
   ]
  },
  {
   "cell_type": "markdown",
   "id": "a0828a35-a752-4da0-afbd-4ffe50b1db31",
   "metadata": {},
   "source": [
    "## Beispiel 3: \n",
    "\n",
    "Mit rekursive Methode *dreheUm(s)* gibt den String s in umgedrehter Reihenfolge zurück"
   ]
  },
  {
   "cell_type": "code",
   "execution_count": 1,
   "id": "c4b23560-43ee-4c23-b104-2f381460f726",
   "metadata": {},
   "outputs": [
    {
     "data": {
      "text/plain": [
       "'suvreS'"
      ]
     },
     "execution_count": 1,
     "metadata": {},
     "output_type": "execute_result"
    }
   ],
   "source": [
    "def dreheUm(s):\n",
    "    '''\n",
    "    s: String\n",
    "    returns: den String s in umgedrehter Reihenfolge\n",
    "    '''\n",
    "    if len(s) == 0: return ''\n",
    "    return s[-1]+dreheUm(s[:-1])\n",
    "\n",
    "dreheUm('Servus')"
   ]
  },
  {
   "cell_type": "markdown",
   "id": "fefe226c-97ce-41b0-ac43-21ba8eb2e419",
   "metadata": {},
   "source": [
    "## Beispiel 4: \n",
    "\n",
    "Mit rekursive Methode *summe(n)* gibt die Summe der natürlichen Zahlen von 1 bis n (einschließlich) zurück."
   ]
  },
  {
   "cell_type": "code",
   "execution_count": 3,
   "id": "3c2e67d7-4586-4f99-b673-c58eb44e81aa",
   "metadata": {},
   "outputs": [
    {
     "data": {
      "text/plain": [
       "5050"
      ]
     },
     "execution_count": 3,
     "metadata": {},
     "output_type": "execute_result"
    }
   ],
   "source": [
    "def summe(n):\n",
    "    '''\n",
    "    n: positive ganze Zahl\n",
    "    returns: Die Summe der Zahlen von 1 bis n\n",
    "    '''\n",
    "    if n == 1: return 1\n",
    "    return n + summe(n-1)\n",
    "\n",
    "summe(100)"
   ]
  },
  {
   "cell_type": "markdown",
   "id": "0fdb7afc-c118-42dc-abf4-ca4cac821800",
   "metadata": {},
   "source": [
    "## Beispiel 5: \n",
    "\n",
    "Klassicher und moderner euklidscher Algorithmus lassen sich auch rekursiv implementieren."
   ]
  },
  {
   "cell_type": "code",
   "execution_count": 27,
   "id": "d22b4cd7-ec76-4ab7-bf00-691e5ad4d1ae",
   "metadata": {},
   "outputs": [
    {
     "data": {
      "text/plain": [
       "6"
      ]
     },
     "execution_count": 27,
     "metadata": {},
     "output_type": "execute_result"
    }
   ],
   "source": [
    "# klassischer Euklidscher Algorithums\n",
    "def euklid(a,b):\n",
    "    '''\n",
    "    a, b: positive ganze Zahlen\n",
    "    returns: größter gemeinsamer Teiler von a und b\n",
    "    '''\n",
    "    if a == b: return a\n",
    "    if a < b:\n",
    "        return euklid(a,b-a)\n",
    "    else:\n",
    "        return euklid(a-b,b)\n",
    "    \n",
    "euklid(84,54)"
   ]
  },
  {
   "cell_type": "code",
   "execution_count": 28,
   "id": "d6f8543b-3164-4d69-82eb-bb118eb48459",
   "metadata": {},
   "outputs": [
    {
     "data": {
      "text/plain": [
       "6"
      ]
     },
     "execution_count": 28,
     "metadata": {},
     "output_type": "execute_result"
    }
   ],
   "source": [
    "# moderner Euklidscher Algorithums\n",
    "def turboEuklid(a,b):\n",
    "    '''\n",
    "    a, b: positive ganze Zahlen\n",
    "    returns: größter gemeinsamer Teiler von a und b\n",
    "    '''\n",
    "    if b == 0: return a\n",
    "    return turboEuklid(b, a % b)\n",
    "\n",
    "turboEuklid(84,54)"
   ]
  },
  {
   "cell_type": "markdown",
   "id": "76fcca63-17cb-448c-be86-d051a75e7b62",
   "metadata": {},
   "source": [
    "## Beispiel 6: Binäre Suche\n",
    "\n",
    "Bei der rekursiven Implementation der binären Suche sehen wir etwas, das uns immer wieder begegnen wird: die rekursive\n",
    "Methode nimmt manchmal mehr Parameter als wir für das Ausgangsproblem benötigen, denn wir müssen in der Parameterliste  alles vorsehen, was wir für die Anwendung auf kleinere Problemgrößen benötigen."
   ]
  },
  {
   "cell_type": "code",
   "execution_count": 29,
   "id": "2713b904-9a49-412b-971b-8c382a7f7a5d",
   "metadata": {},
   "outputs": [
    {
     "name": "stdout",
     "output_type": "stream",
     "text": [
      "True\n",
      "False\n"
     ]
    }
   ],
   "source": [
    "def binaereSuche(a,x,i=0,j=None):\n",
    "    '''\n",
    "    a: sortierte Liste mit Zahlen\n",
    "    x: Zahl\n",
    "    i,j: ints zwischen 0 und len(a)-1\n",
    "    returns: True, wenn x im Bereich zwischen i und j (einschließlich) in\n",
    "       Liste a ist.\n",
    "    '''\n",
    "    if j is None: j = len(a)-1\n",
    "    if i > j: return False\n",
    "    mitte = (i + j) // 2\n",
    "    if a[mitte] == x: return True\n",
    "    if a[mitte] < x:\n",
    "        return binaereSuche(a,x,mitte+1,j)\n",
    "    else:\n",
    "        return binaereSuche(a,x,i,mitte-1)\n",
    "\n",
    "a = [2, 4, 6, 12, 22, 42, 49]\n",
    "print(binaereSuche(a,42))\n",
    "print(binaereSuche(a,13))"
   ]
  },
  {
   "cell_type": "markdown",
   "id": "0ec71d85-2b8d-489c-b705-ad5eeacad2dc",
   "metadata": {},
   "source": [
    "## Türme von Hanoi\n",
    "\n",
    "<img src=\"rekursion_01.png\" width=\"300\"/>"
   ]
  },
  {
   "cell_type": "code",
   "execution_count": 12,
   "id": "1ce09bb5-645d-42b5-84c4-2726988d076a",
   "metadata": {},
   "outputs": [],
   "source": [
    "def hanoi(n, start, ziel, zwischen):\n",
    "    '''\n",
    "    n: ganze Zahl >= 0\n",
    "    start, ziel, zwischen: Strings, die 3 Stapel bezeichnen\n",
    "    returns: None, druckt Anweisungen für die Verlegung von n Scheiben von\n",
    "       Stapel start nach Stapel ziel unter Zuhilfenahme von Stapel zwischen\n",
    "       nach den Regeln der 'Türme von Hanoi'.\n",
    "    '''\n",
    "    if n == 0: return\n",
    "    hanoi(n-1,start,zwischen,ziel)\n",
    "    print(\"Scheibe\",n,\"von\",start,\"nach\",ziel)\n",
    "    hanoi(n-1,zwischen,ziel,start)"
   ]
  },
  {
   "cell_type": "code",
   "execution_count": 13,
   "id": "0d076e90-7b15-4059-9928-10599261bdb6",
   "metadata": {},
   "outputs": [
    {
     "name": "stdout",
     "output_type": "stream",
     "text": [
      "Scheibe 1 von A nach B\n",
      "Scheibe 2 von A nach C\n",
      "Scheibe 1 von B nach C\n",
      "Scheibe 3 von A nach B\n",
      "Scheibe 1 von C nach A\n",
      "Scheibe 2 von C nach B\n",
      "Scheibe 1 von A nach B\n",
      "Scheibe 4 von A nach C\n",
      "Scheibe 1 von B nach C\n",
      "Scheibe 2 von B nach A\n",
      "Scheibe 1 von C nach A\n",
      "Scheibe 3 von B nach C\n",
      "Scheibe 1 von A nach B\n",
      "Scheibe 2 von A nach C\n",
      "Scheibe 1 von B nach C\n"
     ]
    }
   ],
   "source": [
    "hanoi(4,'A','C','B')"
   ]
  },
  {
   "cell_type": "markdown",
   "id": "f4b1b127-ab39-41d4-8b45-f0646b832d5a",
   "metadata": {},
   "source": [
    "<table style=\"width:100%\">\n",
    "  <tr>\n",
    "    <th>Anzahl Scheiben</th>\n",
    "    <td>5</td>\n",
    "    <td>10</td>\n",
    "    <td>20</td>\n",
    "    <td>30</td>\n",
    "    <td>40</td>\n",
    "    <td>60</td>\n",
    " \n",
    "  </tr>\n",
    "  <tr>\n",
    "    <th>Benötigte Zeit</th>\n",
    "    <td>21 Sekunden</td>\n",
    "    <td>17,1 Minuten</td>\n",
    "    <td>12 Tage</td>\n",
    "    <td>34 Jahre</td>\n",
    "    <td>348 Jahrhunderte</td>\n",
    "    <td>36,3 Millarden Jahre</td>\n",
    " \n",
    "  </tr>\n",
    "\n",
    "</table>"
   ]
  },
  {
   "cell_type": "markdown",
   "id": "be75a45b-b584-4f03-adfe-0006606be5b9",
   "metadata": {},
   "source": [
    "## Fibonacci Zahlen\n",
    "\n",
    "Rekursive Definition der Fibonacci-Zahlen:\n",
    "\n",
    "$fib(n) =\\begin{cases}\n",
    " 1   &  n \\le 2 \\\\\n",
    " fib(n-1) + fib(n-2) & n > 2 \n",
    "\\end{cases} $ "
   ]
  },
  {
   "cell_type": "code",
   "execution_count": 14,
   "id": "8cceb400-7f70-4f3d-899b-b90461d68354",
   "metadata": {},
   "outputs": [],
   "source": [
    "def fib(n):\n",
    "    '''\n",
    "    n: positive ganze Zahl\n",
    "    returns: n-te Fibonacci Zahl\n",
    "    '''\n",
    "    if n <= 2: return 1\n",
    "    return fib(n-2) + fib(n-1)"
   ]
  },
  {
   "cell_type": "code",
   "execution_count": 18,
   "id": "ab62f7f4-d61b-4e1b-9927-48224119b8a6",
   "metadata": {},
   "outputs": [
    {
     "name": "stdout",
     "output_type": "stream",
     "text": [
      "1 1 2 3 5 8 13 21 34 55 89 144 233 377 610 987 1597 2584 4181 6765 "
     ]
    }
   ],
   "source": [
    "for k in range(1,21):\n",
    "    print(fib(k),end=' ')"
   ]
  },
  {
   "cell_type": "markdown",
   "id": "ac7c9d5d-67a4-4908-a0bb-3f565fc78ce4",
   "metadata": {},
   "source": [
    "### Memoization"
   ]
  },
  {
   "cell_type": "markdown",
   "id": "adc8fd03-4f92-4dcc-85d1-baf8b8c7ec49",
   "metadata": {},
   "source": [
    "Die rekursive Implementation der Fibonacci-Zahlen ist sehr ineffizient, da viele Berechnungen mehrfach ausgeführt werden.\n",
    "\n",
    "<img src='fib.png' width='500'>"
   ]
  },
  {
   "cell_type": "code",
   "execution_count": 20,
   "id": "8053c86e-f0ee-4d83-9f8b-a9a161001df8",
   "metadata": {},
   "outputs": [
    {
     "name": "stdout",
     "output_type": "stream",
     "text": [
      "9227465\n",
      "14930352\n",
      "24157817\n",
      "39088169\n",
      "CPU times: total: 15.7 s\n",
      "Wall time: 15.7 s\n"
     ]
    }
   ],
   "source": [
    "%%time\n",
    "for i in range(35,39):\n",
    "    print(fib(i))"
   ]
  },
  {
   "cell_type": "markdown",
   "id": "9128c78e-0c9f-4373-bc4d-c1fcf841dc5e",
   "metadata": {},
   "source": [
    "Abhilfe bringt die Technik der **Memoization**. In einem dictionary merken wir uns die bereits berechneten Werte."
   ]
  },
  {
   "cell_type": "code",
   "execution_count": 21,
   "id": "466aa899-6f9e-4e17-bc3b-c731b34b5e9e",
   "metadata": {},
   "outputs": [],
   "source": [
    "def fib(n,memo={}):\n",
    "    if n <= 2: return 1\n",
    "    if n in memo: return memo[n]\n",
    "    tmp = fib(n-2,memo) + fib(n-1,memo)\n",
    "    memo[n] = tmp\n",
    "    return tmp"
   ]
  },
  {
   "cell_type": "code",
   "execution_count": 26,
   "id": "d962c2ec-d4cc-4f1f-9673-7229b27ac7f9",
   "metadata": {},
   "outputs": [
    {
     "name": "stdout",
     "output_type": "stream",
     "text": [
      "9227465\n",
      "14930352\n",
      "24157817\n",
      "39088169\n",
      "CPU times: total: 0 ns\n",
      "Wall time: 0 ns\n"
     ]
    }
   ],
   "source": [
    "%%time\n",
    "for i in range(35,39):\n",
    "    print(fib(i))"
   ]
  },
  {
   "cell_type": "markdown",
   "id": "615b6a45-dd9d-4090-890c-29186a2bfd20",
   "metadata": {},
   "source": [
    "Die rekursive Programmierung der Fibonacci-Zahlen \n",
    "folgt einer **Top-Down** Bewegung. Der iterative Ansatz folgt einer **Bottom-Up** Bewegung.\n",
    "Kleinere Probleminstanzen werden zuerst gelöst. "
   ]
  },
  {
   "cell_type": "code",
   "execution_count": 23,
   "id": "12f312c7-b911-4021-a07d-2dd001eb7493",
   "metadata": {},
   "outputs": [],
   "source": [
    "def fib(n):\n",
    "    '''\n",
    "    n: positive ganze Zahl\n",
    "    returns: n-te Fibonacci Zahl\n",
    "    '''\n",
    "    if n <= 2: return 1\n",
    "    a,b = 1,1\n",
    "    for i in range(n-2):\n",
    "        c = a+b\n",
    "        a,b = b,c\n",
    "    return c"
   ]
  },
  {
   "cell_type": "code",
   "execution_count": 24,
   "id": "3be97e80-4df7-407b-9f0f-80a2f635673b",
   "metadata": {},
   "outputs": [
    {
     "name": "stdout",
     "output_type": "stream",
     "text": [
      "9227465\n",
      "14930352\n",
      "24157817\n",
      "39088169\n",
      "CPU times: total: 0 ns\n",
      "Wall time: 0 ns\n"
     ]
    }
   ],
   "source": [
    "%%time\n",
    "for i in range(35,39):\n",
    "    print(fib(i))"
   ]
  }
 ],
 "metadata": {
  "kernelspec": {
   "display_name": "Python 3 (ipykernel)",
   "language": "python",
   "name": "python3"
  },
  "language_info": {
   "codemirror_mode": {
    "name": "ipython",
    "version": 3
   },
   "file_extension": ".py",
   "mimetype": "text/x-python",
   "name": "python",
   "nbconvert_exporter": "python",
   "pygments_lexer": "ipython3",
   "version": "3.9.12"
  },
  "vscode": {
   "interpreter": {
    "hash": "66cef8b640515d50f1dd36261b6c0429b289e00e05e66082067e4520c88a4539"
   }
  }
 },
 "nbformat": 4,
 "nbformat_minor": 5
}
