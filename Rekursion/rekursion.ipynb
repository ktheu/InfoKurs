{
 "cells": [
  {
   "cell_type": "markdown",
   "id": "f853336c-87ac-42cd-b503-9bf5720f2b3c",
   "metadata": {
    "slideshow": {
     "slide_type": "slide"
    }
   },
   "source": [
    "# Rekursion\n",
    "\n",
    "Eine Funktion darf sich im Rumpf selbst wieder aufrufen. Man nennt das\n",
    "einen **rekursiven Aufruf**. Jede Rekursion braucht eine Bremse, damit es\n",
    "nicht zu unendlich vielen Aufrufen kommt."
   ]
  },
  {
   "cell_type": "markdown",
   "id": "c4b92bd6-1f66-48e2-99ac-ad07c45397bc",
   "metadata": {
    "slideshow": {
     "slide_type": "slide"
    }
   },
   "source": [
    "#### Beispiel 1: Fakultät\n",
    "Iterative Definition der Fakultät:  \n",
    "$n! =\\begin{cases}\n",
    " 1   &  n = 0 \\\\\n",
    " 1 \\cdot 2 \\cdot 3 \\cdot ... \\cdot n & n > 0 \n",
    "\\end{cases} $ \n",
    "\n"
   ]
  },
  {
   "cell_type": "code",
   "execution_count": 25,
   "id": "30fc6c72-b4c9-49d2-9591-1d648330bf7f",
   "metadata": {
    "slideshow": {
     "slide_type": "fragment"
    }
   },
   "outputs": [
    {
     "name": "stdout",
     "output_type": "stream",
     "text": [
      "24\n"
     ]
    }
   ],
   "source": [
    "def fakultaet(n):\n",
    "    if n == 0: return 1\n",
    "    tmp = 1\n",
    "    for k in range(1,n+1):\n",
    "        tmp *= k\n",
    "    return tmp\n",
    "\n",
    "print(fakultaet(4))"
   ]
  },
  {
   "cell_type": "markdown",
   "id": "8d06f988",
   "metadata": {
    "slideshow": {
     "slide_type": "slide"
    }
   },
   "source": [
    "Rekursive Definition der Fakultät: \n",
    "\n",
    "$n! =\\begin{cases}\n",
    " 1   & n = 0 \\\\ \n",
    " n \\cdot (n-1)!  & n > 0 \n",
    "\\end{cases} $"
   ]
  },
  {
   "cell_type": "code",
   "execution_count": 26,
   "id": "83d7262b-8731-4199-a00a-f85bd619dbf0",
   "metadata": {
    "slideshow": {
     "slide_type": "fragment"
    }
   },
   "outputs": [
    {
     "name": "stdout",
     "output_type": "stream",
     "text": [
      "24\n"
     ]
    }
   ],
   "source": [
    "def fakultaet(n):\n",
    "    if n == 0: return 1\n",
    "    return n * fakultaet(n-1)\n",
    "\n",
    "print(fakultaet(4))"
   ]
  },
  {
   "cell_type": "markdown",
   "id": "74a00a37-6c28-42e7-81f5-25757fcbe558",
   "metadata": {
    "slideshow": {
     "slide_type": "slide"
    }
   },
   "source": [
    "#### Beispiel 2: Zweierpotenz\n",
    "\n",
    "Iterative Definition der Zweierpotenz:\n",
    "\n",
    "$2^n =\\begin{cases}\n",
    " 1   &  n = 0 \\\\\n",
    " 2 \\cdot 2 \\cdot 2 \\cdot ... \\cdot 2 \\text{  (n-mal)} & n > 0 \n",
    "\\end{cases} $  \n",
    "\n"
   ]
  },
  {
   "cell_type": "code",
   "execution_count": 27,
   "id": "1d462f37-ff25-4d14-bd57-47d9764b343a",
   "metadata": {
    "slideshow": {
     "slide_type": "fragment"
    }
   },
   "outputs": [
    {
     "data": {
      "text/plain": [
       "1024"
      ]
     },
     "execution_count": 27,
     "metadata": {},
     "output_type": "execute_result"
    }
   ],
   "source": [
    "def zweihoch(n):\n",
    "    if n == 0: return 1\n",
    "    tmp = 1\n",
    "    for k in range(n):\n",
    "        tmp *= 2\n",
    "    return tmp\n",
    "\n",
    "zweihoch(10)"
   ]
  },
  {
   "cell_type": "markdown",
   "id": "89f14c75",
   "metadata": {
    "slideshow": {
     "slide_type": "slide"
    }
   },
   "source": [
    "Rekursive Definition der Zweierpotenz:\n",
    "\n",
    "$2^n =\\begin{cases}\n",
    " 1,   & n = 0 \\\\\n",
    " 2 \\cdot 2^{n-1}  & n > 0 \n",
    "\\end{cases} $"
   ]
  },
  {
   "cell_type": "code",
   "execution_count": null,
   "id": "c4496ca0-d111-4fcd-a4fb-7f9c733708b3",
   "metadata": {
    "slideshow": {
     "slide_type": "fragment"
    }
   },
   "outputs": [],
   "source": [
    "def zweihoch(n):\n",
    "    if n == 0: return 1\n",
    "    return 2 * zweihoch(n-1)\n",
    "\n",
    "zweihoch(10)"
   ]
  },
  {
   "cell_type": "markdown",
   "id": "a0828a35-a752-4da0-afbd-4ffe50b1db31",
   "metadata": {
    "slideshow": {
     "slide_type": "slide"
    }
   },
   "source": [
    "#### Beispiel 3: \n",
    "\n",
    "Mit rekursive Methode *dreheUm(s)* gibt den String s in umgedrehter Reihenfolge zurück"
   ]
  },
  {
   "cell_type": "code",
   "execution_count": 30,
   "id": "c4b23560-43ee-4c23-b104-2f381460f726",
   "metadata": {
    "slideshow": {
     "slide_type": "fragment"
    }
   },
   "outputs": [
    {
     "data": {
      "text/plain": [
       "'suvreS'"
      ]
     },
     "execution_count": 30,
     "metadata": {},
     "output_type": "execute_result"
    }
   ],
   "source": [
    "def dreheUm(s):\n",
    "    if len(s) == 0: return ''\n",
    "    return s[-1]+dreheUm(s[:-1])\n",
    "\n",
    "dreheUm('Servus')"
   ]
  },
  {
   "cell_type": "markdown",
   "id": "fefe226c-97ce-41b0-ac43-21ba8eb2e419",
   "metadata": {
    "slideshow": {
     "slide_type": "slide"
    }
   },
   "source": [
    "#### Beispiel 4: \n",
    "\n",
    "Die rekursive Methode *summe(n)* gibt die Summe der natürlichen Zahlen von 1 bis n (einschließlich) zurück."
   ]
  },
  {
   "cell_type": "code",
   "execution_count": 29,
   "id": "3c2e67d7-4586-4f99-b673-c58eb44e81aa",
   "metadata": {
    "slideshow": {
     "slide_type": "fragment"
    }
   },
   "outputs": [
    {
     "data": {
      "text/plain": [
       "5050"
      ]
     },
     "execution_count": 29,
     "metadata": {},
     "output_type": "execute_result"
    }
   ],
   "source": [
    "def summe(n):\n",
    "    if n == 1: return 1\n",
    "    return n + summe(n-1)\n",
    "\n",
    "summe(100)"
   ]
  },
  {
   "cell_type": "markdown",
   "id": "0fdb7afc-c118-42dc-abf4-ca4cac821800",
   "metadata": {
    "slideshow": {
     "slide_type": "slide"
    }
   },
   "source": [
    "#### Beispiel 5a: \n",
    "\n",
    "Klassischer euklidscher Algorithmus"
   ]
  },
  {
   "cell_type": "code",
   "execution_count": 1,
   "id": "d22b4cd7-ec76-4ab7-bf00-691e5ad4d1ae",
   "metadata": {
    "slideshow": {
     "slide_type": "fragment"
    }
   },
   "outputs": [
    {
     "data": {
      "text/plain": [
       "6"
      ]
     },
     "execution_count": 1,
     "metadata": {},
     "output_type": "execute_result"
    }
   ],
   "source": [
    "def euklid(a,b):\n",
    "    if a == b: return a\n",
    "    if a < b:\n",
    "        return euklid(a,b-a)\n",
    "    else:\n",
    "        return euklid(a-b,b)\n",
    "    \n",
    "euklid(84,54)"
   ]
  },
  {
   "cell_type": "markdown",
   "id": "5ccde54c",
   "metadata": {
    "slideshow": {
     "slide_type": "slide"
    }
   },
   "source": [
    "#### Beispiel 5b:\n",
    "\n",
    "Moderner euklidscher Algorithmus"
   ]
  },
  {
   "cell_type": "code",
   "execution_count": 31,
   "id": "d6f8543b-3164-4d69-82eb-bb118eb48459",
   "metadata": {
    "slideshow": {
     "slide_type": "fragment"
    }
   },
   "outputs": [
    {
     "data": {
      "text/plain": [
       "6"
      ]
     },
     "execution_count": 31,
     "metadata": {},
     "output_type": "execute_result"
    }
   ],
   "source": [
    "def euklid(a,b):\n",
    "    if b == 0: return a\n",
    "    return euklid(b, a % b)\n",
    "\n",
    "euklid(84,54)"
   ]
  },
  {
   "cell_type": "markdown",
   "id": "76fcca63-17cb-448c-be86-d051a75e7b62",
   "metadata": {
    "slideshow": {
     "slide_type": "slide"
    }
   },
   "source": [
    "#### Beispiel 6: Binäre Suche\n",
    "\n",
    "Die rekursive Methode wird manchmal mit mehr Parameter definiert als wir für das Ausgangsproblem benötigen, denn wir müssen in der Parameterliste alles vorsehen, was wir für die Anwendung auf kleinere Problemgrößen benötigen."
   ]
  },
  {
   "cell_type": "code",
   "execution_count": 2,
   "id": "2713b904-9a49-412b-971b-8c382a7f7a5d",
   "metadata": {
    "slideshow": {
     "slide_type": "slide"
    }
   },
   "outputs": [
    {
     "name": "stdout",
     "output_type": "stream",
     "text": [
      "True\n",
      "False\n"
     ]
    }
   ],
   "source": [
    "def binaereSuche(a,x,i=0,j=None):\n",
    "    '''\n",
    "    a: sortierte Liste mit Zahlen\n",
    "    x: Zahl\n",
    "    i,j: ints zwischen 0 und len(a)-1\n",
    "    returns: True, wenn x im Bereich zwischen i und j (einschließlich) in\n",
    "       Liste a ist.\n",
    "    '''\n",
    "    if j is None: j = len(a)-1\n",
    "    if i > j: return False\n",
    "    mitte = (i + j) // 2\n",
    "    if a[mitte] == x: return True\n",
    "    if a[mitte] < x:\n",
    "        return binaereSuche(a,x,mitte+1,j)\n",
    "    else:\n",
    "        return binaereSuche(a,x,i,mitte-1)\n",
    "\n",
    "a = [2, 4, 6, 12, 22, 42, 49]\n",
    "print(binaereSuche(a,42))\n",
    "print(binaereSuche(a,13))"
   ]
  },
  {
   "cell_type": "markdown",
   "id": "0ec71d85-2b8d-489c-b705-ad5eeacad2dc",
   "metadata": {
    "slideshow": {
     "slide_type": "slide"
    }
   },
   "source": [
    "#### Türme von Hanoi\n",
    "\n",
    "<img src=\"rekursion_01.png\" width=\"300\"/>"
   ]
  },
  {
   "cell_type": "markdown",
   "id": "601c8d8a",
   "metadata": {},
   "source": [
    "[Video](https://www.youtube.com/watch?v=w9LgLiW9YHU)"
   ]
  },
  {
   "cell_type": "code",
   "execution_count": 32,
   "id": "1ce09bb5-645d-42b5-84c4-2726988d076a",
   "metadata": {
    "slideshow": {
     "slide_type": "slide"
    }
   },
   "outputs": [],
   "source": [
    "def hanoi(n, start, ziel, zwischen):\n",
    "    '''\n",
    "    n: Anzahl der Scheiben\n",
    "    start, ziel, zwischen: Strings, die 3 Stapel bezeichnen\n",
    "    '''\n",
    "    if n == 0: return\n",
    "    hanoi(n-1,start,zwischen,ziel)\n",
    "    print(\"Scheibe\",n,\"von\",start,\"nach\",ziel)\n",
    "    hanoi(n-1,zwischen,ziel,start)"
   ]
  },
  {
   "cell_type": "code",
   "execution_count": 33,
   "id": "0d076e90-7b15-4059-9928-10599261bdb6",
   "metadata": {
    "scrolled": true,
    "slideshow": {
     "slide_type": "fragment"
    }
   },
   "outputs": [
    {
     "name": "stdout",
     "output_type": "stream",
     "text": [
      "Scheibe 1 von A nach B\n",
      "Scheibe 2 von A nach C\n",
      "Scheibe 1 von B nach C\n",
      "Scheibe 3 von A nach B\n",
      "Scheibe 1 von C nach A\n",
      "Scheibe 2 von C nach B\n",
      "Scheibe 1 von A nach B\n",
      "Scheibe 4 von A nach C\n",
      "Scheibe 1 von B nach C\n",
      "Scheibe 2 von B nach A\n",
      "Scheibe 1 von C nach A\n",
      "Scheibe 3 von B nach C\n",
      "Scheibe 1 von A nach B\n",
      "Scheibe 2 von A nach C\n",
      "Scheibe 1 von B nach C\n"
     ]
    }
   ],
   "source": [
    "hanoi(4,'A','C','B')"
   ]
  },
  {
   "cell_type": "markdown",
   "id": "f4b1b127-ab39-41d4-8b45-f0646b832d5a",
   "metadata": {
    "slideshow": {
     "slide_type": "slide"
    }
   },
   "source": [
    "<table style=\"width:100%\">\n",
    "  <tr>\n",
    "    <th>Anzahl Scheiben</th>\n",
    "    <td>5</td>\n",
    "    <td>10</td>\n",
    "    <td>20</td>\n",
    "    <td>30</td>\n",
    "    <td>40</td>\n",
    "    <td>60</td>\n",
    " \n",
    "  </tr>\n",
    "  <tr>\n",
    "    <th>Benötigte Zeit</th>\n",
    "    <td>21 Sekunden</td>\n",
    "    <td>17,1 Minuten</td>\n",
    "    <td>12 Tage</td>\n",
    "    <td>34 Jahre</td>\n",
    "    <td>348 Jahrhunderte</td>\n",
    "    <td>36,3 Millarden Jahre</td>\n",
    " \n",
    "  </tr>\n",
    "\n",
    "</table>"
   ]
  },
  {
   "cell_type": "markdown",
   "id": "be75a45b-b584-4f03-adfe-0006606be5b9",
   "metadata": {
    "slideshow": {
     "slide_type": "slide"
    }
   },
   "source": [
    "#### Fibonacci Zahlen\n",
    "\n",
    "Rekursive Definition der Fibonacci-Zahlen:\n",
    "\n",
    "$fib(n) =\\begin{cases}\n",
    " 1   &  n \\le 2 \\\\\n",
    " fib(n-1) + fib(n-2) & n > 2 \n",
    "\\end{cases} $ "
   ]
  },
  {
   "cell_type": "code",
   "execution_count": 37,
   "id": "8cceb400-7f70-4f3d-899b-b90461d68354",
   "metadata": {
    "slideshow": {
     "slide_type": "fragment"
    }
   },
   "outputs": [
    {
     "data": {
      "text/plain": [
       "21"
      ]
     },
     "execution_count": 37,
     "metadata": {},
     "output_type": "execute_result"
    }
   ],
   "source": [
    "def fib(n):\n",
    "    if n <= 2: return 1\n",
    "    return fib(n-1) + fib(n-2) \n",
    "\n",
    "fib(8)"
   ]
  },
  {
   "cell_type": "code",
   "execution_count": 38,
   "id": "ab62f7f4-d61b-4e1b-9927-48224119b8a6",
   "metadata": {
    "slideshow": {
     "slide_type": "slide"
    }
   },
   "outputs": [
    {
     "name": "stdout",
     "output_type": "stream",
     "text": [
      "1 1 2 3 5 8 13 21 34 55 89 144 233 377 610 987 1597 2584 4181 6765 10946 17711 28657 46368 "
     ]
    }
   ],
   "source": [
    "for k in range(1,25):\n",
    "    print(fib(k),end=' ')"
   ]
  },
  {
   "cell_type": "code",
   "execution_count": 40,
   "id": "0b3ad311",
   "metadata": {
    "slideshow": {
     "slide_type": "fragment"
    }
   },
   "outputs": [
    {
     "name": "stdout",
     "output_type": "stream",
     "text": [
      "35 9227465\n",
      "36 14930352\n",
      "37 24157817\n",
      "38 39088169\n",
      "CPU times: total: 28.8 s\n",
      "Wall time: 28.8 s\n"
     ]
    }
   ],
   "source": [
    "%%time\n",
    "for i in range(35,39):\n",
    "    print(i,fib(i))"
   ]
  },
  {
   "cell_type": "markdown",
   "id": "ac7c9d5d-67a4-4908-a0bb-3f565fc78ce4",
   "metadata": {
    "slideshow": {
     "slide_type": "slide"
    }
   },
   "source": [
    "### Memoization"
   ]
  },
  {
   "cell_type": "markdown",
   "id": "adc8fd03-4f92-4dcc-85d1-baf8b8c7ec49",
   "metadata": {
    "slideshow": {
     "slide_type": "fragment"
    }
   },
   "source": [
    "Die rekursive Implementation der Fibonacci-Zahlen ist sehr ineffizient, da viele Berechnungen mehrfach ausgeführt werden.\n",
    "\n",
    "<img src='fib.png' width='500'>"
   ]
  },
  {
   "cell_type": "markdown",
   "id": "9128c78e-0c9f-4373-bc4d-c1fcf841dc5e",
   "metadata": {
    "slideshow": {
     "slide_type": "slide"
    }
   },
   "source": [
    "Abhilfe bringt die Technik der **Memoization**. In einem dictionary merken wir uns die bereits berechneten Werte."
   ]
  },
  {
   "cell_type": "code",
   "execution_count": 41,
   "id": "466aa899-6f9e-4e17-bc3b-c731b34b5e9e",
   "metadata": {
    "slideshow": {
     "slide_type": "fragment"
    }
   },
   "outputs": [],
   "source": [
    "def fib(n,memo={}):\n",
    "    if n in memo: return memo[n]\n",
    "    if n <= 2: \n",
    "        result = 1\n",
    "    else:\n",
    "        result = fib(n-2,memo) + fib(n-1,memo)\n",
    "    memo[n] = result\n",
    "    return result"
   ]
  },
  {
   "cell_type": "code",
   "execution_count": 42,
   "id": "d962c2ec-d4cc-4f1f-9673-7229b27ac7f9",
   "metadata": {
    "slideshow": {
     "slide_type": "fragment"
    }
   },
   "outputs": [
    {
     "name": "stdout",
     "output_type": "stream",
     "text": [
      "9227465\n",
      "14930352\n",
      "24157817\n",
      "39088169\n",
      "CPU times: total: 0 ns\n",
      "Wall time: 1 ms\n"
     ]
    }
   ],
   "source": [
    "%%time\n",
    "for i in range(35,39):\n",
    "    print(fib(i))"
   ]
  },
  {
   "cell_type": "markdown",
   "id": "615b6a45-dd9d-4090-890c-29186a2bfd20",
   "metadata": {
    "slideshow": {
     "slide_type": "slide"
    }
   },
   "source": [
    "Die rekursive Programmierung der Fibonacci-Zahlen \n",
    "folgt einer **Top-Down** Bewegung. Der iterative Ansatz folgt einer **Bottom-Up** Bewegung.\n",
    "Kleinere Probleminstanzen werden zuerst gelöst. "
   ]
  },
  {
   "cell_type": "code",
   "execution_count": 3,
   "id": "12f312c7-b911-4021-a07d-2dd001eb7493",
   "metadata": {
    "slideshow": {
     "slide_type": "fragment"
    }
   },
   "outputs": [],
   "source": [
    "def fib(n):\n",
    "    if n <= 2: return 1\n",
    "    a,b = 1,1\n",
    "    for i in range(n-2):\n",
    "        c = a+b\n",
    "        a,b = b,c\n",
    "    return c"
   ]
  },
  {
   "cell_type": "code",
   "execution_count": 4,
   "id": "3be97e80-4df7-407b-9f0f-80a2f635673b",
   "metadata": {
    "slideshow": {
     "slide_type": "fragment"
    }
   },
   "outputs": [
    {
     "name": "stdout",
     "output_type": "stream",
     "text": [
      "9227465\n",
      "14930352\n",
      "24157817\n",
      "39088169\n",
      "CPU times: total: 0 ns\n",
      "Wall time: 0 ns\n"
     ]
    }
   ],
   "source": [
    "%%time\n",
    "for i in range(35,39):\n",
    "    print(fib(i))"
   ]
  },
  {
   "cell_type": "markdown",
   "id": "acf7a58c-9d35-44d3-8038-948700e500b3",
   "metadata": {},
   "source": [
    "### Übungen\n",
    "\n",
    "- Wie heißt der 5. und 6. Aufruf von fib, wenn fib(4) aufgerufen wird?\n",
    "- Wie heißt der 6. und 7. Aufruf von hanoi, wenn hanoi(3,'x','y','z') aufgerufen wird?\n",
    "- Welchen Wert gibt rek(4) zurück (für unten stehende Funktion)?"
   ]
  },
  {
   "cell_type": "code",
   "execution_count": 11,
   "id": "aaf76364-1493-4ff3-b0d5-45467d025e6e",
   "metadata": {},
   "outputs": [],
   "source": [
    "def rek(n):\n",
    "    if n <= 2: return n+2\n",
    "    return 3*rek(n-2)+2*rek(n-1)"
   ]
  }
 ],
 "metadata": {
  "celltoolbar": "Edit Metadata",
  "kernelspec": {
   "display_name": "Python 3 (ipykernel)",
   "language": "python",
   "name": "python3"
  },
  "language_info": {
   "codemirror_mode": {
    "name": "ipython",
    "version": 3
   },
   "file_extension": ".py",
   "mimetype": "text/x-python",
   "name": "python",
   "nbconvert_exporter": "python",
   "pygments_lexer": "ipython3",
   "version": "3.10.6"
  },
  "vscode": {
   "interpreter": {
    "hash": "66cef8b640515d50f1dd36261b6c0429b289e00e05e66082067e4520c88a4539"
   }
  }
 },
 "nbformat": 4,
 "nbformat_minor": 5
}
