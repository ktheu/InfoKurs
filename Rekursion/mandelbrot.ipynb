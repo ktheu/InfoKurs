{
 "cells": [
  {
   "cell_type": "markdown",
   "metadata": {},
   "source": [
    "### Die Mandelbrotmenge"
   ]
  },
  {
   "cell_type": "markdown",
   "metadata": {},
   "source": [
    "Eine komplexe Zahl stellen wir uns vor als Punkt in der Ebene. Statt der Koordinaten $(a|b)$ schreiben wir $a + bi$.\n",
    "Die Zahl $a$ nennen wir den Realteil, $b$ den Imaginärteil der komplexen Zahl.\n",
    "\n",
    "<img src=\"./img/mandel1.png\" width=\"500\">\n",
    "\n",
    "Der Betrag einer komplexen Zahl ist ihr Abstand zum Nullpunkt.\n",
    "\n",
    "<img src=\"./img/mandel1a.png\" width=\"500\">"
   ]
  },
  {
   "cell_type": "code",
   "execution_count": 37,
   "metadata": {},
   "outputs": [
    {
     "data": {
      "text/plain": [
       "3.605551275463989"
      ]
     },
     "execution_count": 37,
     "metadata": {},
     "output_type": "execute_result"
    }
   ],
   "source": [
    "# In Python wird der Imaginärteil durch ein nachgestelltes j gekennzeichnet\n",
    "z = 3 + 2j\n",
    "abs(z)"
   ]
  },
  {
   "cell_type": "markdown",
   "metadata": {},
   "source": [
    "Zwei komplexe Zahlen werden addiert, indem die Realteile und die Imaginärteile addiert werden. Dies entspricht der\n",
    "normalen Vektoraddition.\n",
    "\n",
    "<img src=\"./img/mandel2.png\" width=\"501\">"
   ]
  },
  {
   "cell_type": "code",
   "execution_count": 39,
   "metadata": {},
   "outputs": [
    {
     "data": {
      "text/plain": [
       "(1+3j)"
      ]
     },
     "execution_count": 39,
     "metadata": {},
     "output_type": "execute_result"
    }
   ],
   "source": [
    "z1 = 3 + 2j\n",
    "z2 = -2 + 1j\n",
    "z1 + z2"
   ]
  },
  {
   "cell_type": "markdown",
   "metadata": {},
   "source": [
    "Zwei komplexe Zahlen werden multipliziert, indem die Beträge multipliziert und die Winkel addiert werden. Inbesondere gilt dann: $i^2 = -1$\n",
    "\n",
    "<img src=\"./img/mandel3.png\" width=\"651\">"
   ]
  },
  {
   "cell_type": "code",
   "execution_count": 40,
   "metadata": {},
   "outputs": [
    {
     "data": {
      "text/plain": [
       "(-1+0j)"
      ]
     },
     "execution_count": 40,
     "metadata": {},
     "output_type": "execute_result"
    }
   ],
   "source": [
    "1j ** 2"
   ]
  },
  {
   "cell_type": "code",
   "execution_count": 41,
   "metadata": {},
   "outputs": [
    {
     "data": {
      "text/plain": [
       "(-8-1j)"
      ]
     },
     "execution_count": 41,
     "metadata": {},
     "output_type": "execute_result"
    }
   ],
   "source": [
    "z1 = 3 + 2j\n",
    "z2 = -2 + 1j\n",
    "z1*z2"
   ]
  },
  {
   "cell_type": "markdown",
   "metadata": {},
   "source": [
    "Für das Quadrat einer komplexen Zahl gilt:\n",
    "$(a + bi)^2 = a^2-b^2 + 2abi$"
   ]
  },
  {
   "cell_type": "markdown",
   "metadata": {
    "jupyter": {
     "source_hidden": true
    }
   },
   "source": [
    "#### Übung:\n",
    "\n",
    "$z_1 = 3 - i, z_2 = 3 + 2i$. Berechne\n",
    "\n",
    "- $z_1 + z_2$\n",
    "- $z_1 * z_2$\n",
    "- $z_1^2 + z_2$\n",
    " "
   ]
  },
  {
   "cell_type": "code",
   "execution_count": 42,
   "metadata": {
    "jupyter": {
     "source_hidden": true
    }
   },
   "outputs": [
    {
     "data": {
      "text/plain": [
       "((6+1j), (11+3j), (11-4j))"
      ]
     },
     "execution_count": 42,
     "metadata": {},
     "output_type": "execute_result"
    }
   ],
   "source": [
    "z1 = 3 - 1j\n",
    "z2 = 3 + 2j\n",
    "z1+z2, z1*z2, z1**2+z2"
   ]
  },
  {
   "cell_type": "markdown",
   "metadata": {},
   "source": [
    "Für jede komplexe Zahl c definieren wir rekursiv eine Folge von Zahlen:\n",
    "\n",
    "$$z_n =\\begin{cases}\n",
    " 0   & n = 0 \\\\ \n",
    " z_{n-1}^2 + c & n > 0 \n",
    "\\end{cases} $$\n",
    "\n",
    "Dies führt zur Folge\n",
    "$$0, c , c^2 + c, (c^2 + c)^2 + c, ...$$\n",
    "\n",
    "Wenn ein Mitglied der Folge betragsmäßig größer als 2 wird, führt dies dazu, dass die Beträge der Folgenglieder schließlich gegen unendlich gehen. Eine Zahl c gehört zur Mandelbrotmenge, wenn ihre Folge beschränkt bleibt. \n",
    "\n",
    "Die Punkte in der Ebene, die zu komplexen Zahlen der Mandelbrotmenge gehören, färben wir schwarz, die anderen weiß.\n"
   ]
  },
  {
   "cell_type": "code",
   "execution_count": 17,
   "metadata": {},
   "outputs": [
    {
     "name": "stdout",
     "output_type": "stream",
     "text": [
      "(-0.5+0.2j) 0.5385164807134505\n",
      "(-0.29000000000000004+0j) 0.29000000000000004\n",
      "(-0.4159+0.2j) 0.46148977236770916\n",
      "(-0.36702719+0.03364j) 0.36856560854113357\n",
      "(-0.36642269140070394+0.1753064106568j) 0.4061993677871817\n",
      "(-0.3964667488440351+0.07152750637467661j) 0.4028673070716196\n",
      "(-0.3479303012292202+0.14328344418942196j) 0.3762786731828408\n",
      "(-0.3994746508653273+0.10029469620402852j) 0.41187258074631955\n",
      "(-0.3504790294026833+0.11986962250050329j) 0.3704109561682269\n",
      "(-0.39153317634736623+0.11597642210231514j) 0.40834881983949967\n",
      "(-0.3601523023029966+0.10918276614575534j) 0.3763383547784995\n",
      "(-0.38221119556908967+0.12135515080159309j) 0.40101430229410806\n",
      "(-0.36864167460772446+0.10723340544731187j) 0.3839214600688726\n",
      "(-0.3756023189862402+0.12093859568402775j) 0.39459250620591624\n",
      "(-0.3735490418981834+0.10915036601227977j) 0.38916922938956183\n"
     ]
    }
   ],
   "source": [
    "c = -0.5+0.2j\n",
    "z = 0\n",
    "for i in range(15):\n",
    "    z = z**2 + c\n",
    "    print(z,abs(z))\n"
   ]
  },
  {
   "cell_type": "code",
   "execution_count": 18,
   "metadata": {},
   "outputs": [
    {
     "data": {
      "text/html": [
       "<iframe src=\"./mandel_01.html\" width=\"870\" height=\"450\" ></iframe>\n"
      ],
      "text/plain": [
       "<IPython.core.display.HTML object>"
      ]
     },
     "metadata": {},
     "output_type": "display_data"
    }
   ],
   "source": [
    "%%html\n",
    "<iframe src=\"./mandel_01.html\" width=\"870\" height=\"450\" ></iframe>"
   ]
  },
  {
   "cell_type": "markdown",
   "metadata": {},
   "source": [
    "Wir färben die nicht-schwarzen Punkte mit Farben ein, abhängig davon, bei welcher Iteration der Punkt als nicht zur Mandelbrotmenge\n",
    "gehörig entdeckt wurde.\n",
    "\n",
    "Beispiel: \n",
    "Hat man 5 Farben zur Verfügung und ist der Betrag des Folgenwerts nach der 9-ten Iteration erstmals größer als 2, dann wird der zur Folge gehörende Punkt mit der Farbe Nummer  9 % 5 = 4 gefärbt."
   ]
  },
  {
   "cell_type": "code",
   "execution_count": 19,
   "metadata": {},
   "outputs": [
    {
     "data": {
      "text/html": [
       "<iframe src=\"./mandel_02.html\" width=\"870\" height=\"450\" ></iframe>\n"
      ],
      "text/plain": [
       "<IPython.core.display.HTML object>"
      ]
     },
     "metadata": {},
     "output_type": "display_data"
    }
   ],
   "source": [
    "%%html\n",
    "<iframe src=\"./mandel_02.html\" width=\"870\" height=\"450\" ></iframe>"
   ]
  },
  {
   "cell_type": "markdown",
   "metadata": {},
   "source": [
    "#### Iterative Formulierung \n",
    "\n",
    "Für jede Zahl c definieren wir eine Funktion $f_c(z) = z^2 + c$ und betrachten \n",
    "was passiert, wenn man die 0 in diese Funktion einsetzt und dann das Resultat wieder in die Funktion einsetzt, dann das Resultat wieder in die Funktion einsetzt usw.\n",
    "(\"the behavior of 0 under iteration\"). \n",
    "\n",
    "Dies führt zur Folge $$0, c , c^2 + c, (c^2 + c)^2 + c, ...$$\n",
    "\n",
    "(Anfangswert 0 entsteht durch 0-mal einsetzen der 0 in die Funktion)"
   ]
  },
  {
   "cell_type": "markdown",
   "metadata": {},
   "source": [
    "#### Approximation von pi"
   ]
  },
  {
   "cell_type": "code",
   "execution_count": 36,
   "metadata": {},
   "outputs": [
    {
     "name": "stdout",
     "output_type": "stream",
     "text": [
      "2 0.26 30\n",
      "4 0.2501 312\n",
      "6 0.250001 3140\n",
      "8 0.25000001 31414\n",
      "10 0.2500000001 314157\n",
      "12 0.250000000001 3141625\n",
      "14 0.25000000000001 31430913\n"
     ]
    }
   ],
   "source": [
    "for i in range(2,15,2):\n",
    "    c = 1/4+10**(-i)\n",
    "    zaehl = 0\n",
    "    z = 0\n",
    "    while z < 2:\n",
    "        zaehl+=1\n",
    "        z = z*z + c\n",
    "    print(i,c,zaehl)"
   ]
  },
  {
   "cell_type": "markdown",
   "metadata": {},
   "source": [
    "<hr/>\n",
    "\n",
    "__[Mandelbrot-Generator](http://www.stefanbion.de/fraktal-generator/mandelbrot.htm)__\n",
    "\n",
    "__[Visualisierung Mandel-Iteration](http://www.stefanbion.de/fraktal-generator/mandeliteration.htm)__\n",
    "\n",
    "<hr/>\n",
    "\n",
    "__[Numberphile: The Mandelbrot-Set](https://www.youtube.com/watch?v=NGMRB4O922I&list=PLt5AfwLFPxWJ8GCgpFo5_OSyfl7j0nOiu&index=1)__\n",
    "\n",
    "__[Numberphile: The Filled Julia-Set](https://www.youtube.com/watch?v=oCkQ7WK7vuY&list=PLt5AfwLFPxWJ8GCgpFo5_OSyfl7j0nOiu&index=4)__\n",
    "\n",
    "__[Numberphile: The Mandelbrot-Set and Pi](https://www.youtube.com/watch?v=d0vY0CKYhPY)__\n",
    "\n",
    "__[Numberphile: The Mandelbrot-Set and the Fibonacci-Numbers](https://www.youtube.com/watch?v=4LQvjSf6SSw&index=6&list=PLt5AfwLFPxWJ8GCgpFo5_OSyfl7j0nOiu&t=0s)__\n",
    "\n",
    "\n",
    "\n",
    "\n",
    "<hr/>\n",
    "\n",
    "__[Mandelbrot zoom](https://www.youtube.com/watch?v=yVBrgxzS7JE)__\n",
    "\n",
    "__[Mandelbox trip](https://www.youtube.com/watch?v=bO9ugnn8DbE)__\n",
    "\n",
    "<hr/>\n",
    "\n",
    "__[Xaos](https://xaos-project.github.io/)__ fast interactive fractal zoomer\n",
    "\n",
    "\n"
   ]
  },
  {
   "cell_type": "code",
   "execution_count": null,
   "metadata": {},
   "outputs": [],
   "source": []
  }
 ],
 "metadata": {
  "kernelspec": {
   "display_name": "Python 3 (ipykernel)",
   "language": "python",
   "name": "python3"
  },
  "language_info": {
   "codemirror_mode": {
    "name": "ipython",
    "version": 3
   },
   "file_extension": ".py",
   "mimetype": "text/x-python",
   "name": "python",
   "nbconvert_exporter": "python",
   "pygments_lexer": "ipython3",
   "version": "3.10.6"
  }
 },
 "nbformat": 4,
 "nbformat_minor": 4
}
