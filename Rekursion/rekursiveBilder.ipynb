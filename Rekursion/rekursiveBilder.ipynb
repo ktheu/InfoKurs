{
 "cells": [
  {
   "cell_type": "markdown",
   "metadata": {
    "slideshow": {
     "slide_type": "slide"
    }
   },
   "source": [
    "# Rekursive Zeichnungen mit der Turtle\n",
    "\n"
   ]
  },
  {
   "cell_type": "markdown",
   "metadata": {
    "slideshow": {
     "slide_type": "slide"
    }
   },
   "source": [
    "#### Quadrat\n",
    "\n",
    "<img src=\"quadrat.png\" width=\"500\">"
   ]
  },
  {
   "cell_type": "code",
   "execution_count": null,
   "metadata": {
    "slideshow": {
     "slide_type": "slide"
    }
   },
   "outputs": [],
   "source": [
    "import turtle as t\n",
    "    \n",
    "def zeichne(laenge):\n",
    "    if laenge < 20:\n",
    "        return\n",
    "    t.fd(laenge)\n",
    "    t.left(90)\n",
    "    zeichne(laenge*0.98)\n",
    "\n",
    "t.up()\n",
    "t.goto(-350,-350);\n",
    "t.down()\n",
    "t.pensize(1);\n",
    "t.hideturtle()\n",
    "t.speed(10)\n",
    "zeichne(700)\n",
    "t.mainloop()"
   ]
  },
  {
   "cell_type": "markdown",
   "metadata": {
    "slideshow": {
     "slide_type": "slide"
    },
    "tags": []
   },
   "source": [
    "#### Verzweigung\n",
    "\n",
    "<img src=\"verzweigung.png\" width=\"700\">"
   ]
  },
  {
   "cell_type": "code",
   "execution_count": null,
   "metadata": {
    "slideshow": {
     "slide_type": "slide"
    }
   },
   "outputs": [],
   "source": [
    "import turtle as t\n",
    "    \n",
    "def zeichne(laenge,bremse):\n",
    "    if bremse == 0:\n",
    "        return\n",
    "    \n",
    "    # Ausgangsposition merken\n",
    "    pos = t.position()\n",
    "    winkel = t.heading()\n",
    "    \n",
    "    # 1. Verzweigung\n",
    "    t.right(45)\n",
    "    t.forward(laenge)\n",
    "    zeichne(laenge*0.5,bremse-1)\n",
    "    \n",
    "    # zurück auf Ausgangsposition\n",
    "    t.penup()\n",
    "    t.setpos(pos)\n",
    "    t.setheading(winkel)\n",
    "    t.pendown()\n",
    "    \n",
    "    # 2. Verzweigung\n",
    "    t.left(45)\n",
    "    t.forward(laenge)\n",
    "    zeichne(laenge*0.5,bremse-1)\n",
    "    \n",
    "t.hideturtle()\n",
    "t.left(90)\n",
    "t.pensize(3)\n",
    "t.speed(10)\n",
    "zeichne(200,6)\n",
    "t.mainloop()"
   ]
  },
  {
   "cell_type": "markdown",
   "metadata": {
    "slideshow": {
     "slide_type": "slide"
    }
   },
   "source": [
    "#### Rekursiver Baum mit Äpfel\n",
    "\n",
    "<img src=\"turtle_02.png\" width=\"700\">"
   ]
  },
  {
   "cell_type": "code",
   "execution_count": 1,
   "metadata": {
    "slideshow": {
     "slide_type": "slide"
    }
   },
   "outputs": [],
   "source": [
    "import turtle as t\n",
    "    \n",
    "def zeichne(laenge,bremse):\n",
    "    if bremse == 0: \n",
    "        t.dot(10, \"red\")\n",
    "        return\n",
    "    \n",
    "    # Ausgangsposition merken\n",
    "    pos = t.position()\n",
    "    winkel = t.heading()\n",
    "    \n",
    "    # rechter Ast\n",
    "    t.right(60)\n",
    "    t.forward(laenge)\n",
    "    zeichne(laenge * 0.7, bremse-1)\n",
    "    \n",
    "    # zurück auf Ausgangsposition\n",
    "    t.penup()\n",
    "    t.setpos(pos)\n",
    "    t.setheading(winkel)\n",
    "    t.pendown()\n",
    "    \n",
    "    # linker Ast\n",
    "    t.left(40)\n",
    "    t.forward(laenge * 0.8)\n",
    "    zeichne(laenge * 0.6, bremse-1)\n",
    "\n",
    "\n",
    "t.speed(10)\n",
    "t.hideturtle()\n",
    " \n",
    "t.penup()\n",
    "t.setpos(-50,-300)       # Startposition\n",
    "t.setheading(90)\n",
    "\n",
    "t.pendown()\n",
    "t.forward(200)           # Stamm zeichnen\n",
    "zeichne(200,6)\n",
    "t.mainloop()"
   ]
  },
  {
   "cell_type": "markdown",
   "metadata": {
    "slideshow": {
     "slide_type": "slide"
    }
   },
   "source": [
    "#### Sierpinski-Dreieck\n",
    "\n",
    "<img src=\"turtle_04.png\" width=\"700\">"
   ]
  },
  {
   "cell_type": "code",
   "execution_count": null,
   "metadata": {
    "slideshow": {
     "slide_type": "slide"
    }
   },
   "outputs": [],
   "source": [
    "import turtle as t\n",
    "\n",
    "def leftmouse(x,y):\n",
    "    global bremse\n",
    "    bremse += 1\n",
    "    sierpinski()\n",
    "    \n",
    "def rightmouse(x,y):\n",
    "    global bremse\n",
    "    if bremse > 0:\n",
    "        bremse -= 1\n",
    "    sierpinski()\n",
    "    \n",
    "def zeichne(laenge,bremse):\n",
    "    if bremse == 0: \n",
    "        t.pendown()       \n",
    "        for i in range(3):    # Dreieck zeichnen\n",
    "            t.forward(laenge)\n",
    "            t.left(120)\n",
    "        t.penup()\n",
    "        return\n",
    "    \n",
    "    halb = laenge/2\n",
    "    \n",
    "    zeichne(halb,bremse-1)    # 1. Dreieck links unten\n",
    "    \n",
    "    t.forward(halb)\n",
    "    \n",
    "    zeichne(halb,bremse-1)    # 2. Dreieck rechts unten\n",
    "    \n",
    "    t.left(120)\n",
    "    t.forward(halb)\n",
    "    t.right(120)\n",
    "    \n",
    "    zeichne(halb,bremse-1)    # 3. Dreieck oben\n",
    "    \n",
    "    t.right(120)              # zurück in die Ausgangsposition\n",
    "    t.forward(halb)\n",
    "    t.left(120)\n",
    "\n",
    "def sierpinski():\n",
    "    t.reset()\n",
    "    t.hideturtle()\n",
    "    \n",
    "    t.penup()              # Ausgangsposition\n",
    "    t.setpos(-350,-280)\n",
    "    t.setheading(0)\n",
    "    \n",
    "    zeichne(650,bremse)    # Aufruf der rekursiven Funktion\n",
    "    t.update()             # Bild zeigen\n",
    "\n",
    "\n",
    "t.tracer(0,0) \n",
    "t.onscreenclick(leftmouse,btn=1)\n",
    "t.onscreenclick(rightmouse,btn=3)\n",
    "\n",
    "bremse = 2\n",
    "sierpinski()\n",
    "t.mainloop()"
   ]
  },
  {
   "cell_type": "markdown",
   "metadata": {
    "slideshow": {
     "slide_type": "slide"
    }
   },
   "source": [
    "#### Kochsche Schneeflocke\n",
    "\n",
    "<img src=\"turtle_05.png\" width=\"700\">"
   ]
  },
  {
   "cell_type": "code",
   "execution_count": 3,
   "metadata": {
    "slideshow": {
     "slide_type": "slide"
    }
   },
   "outputs": [],
   "source": [
    "import turtle as t\n",
    "\n",
    "def leftmouse(x,y):\n",
    "    global bremse\n",
    "    bremse += 1\n",
    "    koch()\n",
    "    \n",
    "def rightmouse(x,y):\n",
    "    global bremse\n",
    "    if bremse > 0:\n",
    "        bremse -= 1\n",
    "    koch()\n",
    "    \n",
    "def zeichne(laenge,bremse):\n",
    "    if bremse == 0: \n",
    "        t.pendown()\n",
    "        t.forward(laenge)\n",
    "        t.penup()\n",
    "        return\n",
    "    \n",
    "    drittel = laenge/3   \n",
    "    \n",
    "    zeichne(drittel,bremse-1)\n",
    "    t.left(60)\n",
    "    zeichne(drittel,bremse-1)\n",
    "    t.right(120)\n",
    "    zeichne(drittel,bremse-1)\n",
    "    t.left(60)\n",
    "    zeichne(drittel,bremse-1)\n",
    "    \n",
    "def koch():\n",
    "    t.reset()\n",
    "    t.hideturtle()\n",
    "    \n",
    "    t.penup()             # Ausgangsposition\n",
    "    t.setpos(-380,180)\n",
    "    t.setheading(0)\n",
    "    \n",
    "    for i in range(3):    # 3 Seiten der Schneeflocke\n",
    "        zeichne(650,bremse)\n",
    "        t.right(120)\n",
    "    t.update()\n",
    "    \n",
    "t.tracer(0,0)       \n",
    "t.onscreenclick(leftmouse,btn=1)\n",
    "t.onscreenclick(rightmouse,btn=3)\n",
    "\n",
    "bremse = 2\n",
    "koch()\n",
    "t.mainloop()\n"
   ]
  }
 ],
 "metadata": {
  "celltoolbar": "Slideshow",
  "kernelspec": {
   "display_name": "Python 3 (ipykernel)",
   "language": "python",
   "name": "python3"
  },
  "language_info": {
   "codemirror_mode": {
    "name": "ipython",
    "version": 3
   },
   "file_extension": ".py",
   "mimetype": "text/x-python",
   "name": "python",
   "nbconvert_exporter": "python",
   "pygments_lexer": "ipython3",
   "version": "3.10.6"
  }
 },
 "nbformat": 4,
 "nbformat_minor": 4
}
