{
 "cells": [
  {
   "cell_type": "code",
   "execution_count": 1,
   "id": "2f34b8b9",
   "metadata": {},
   "outputs": [
    {
     "name": "stdout",
     "output_type": "stream",
     "text": [
      "  Gegebene Codierung      : 11101000\n",
      "     Addition von -1      : 11111111\n",
      "----------------------------------------\n",
      "            Ergebnis      : 11100111\n",
      "   bitweise Negation      : 00011000\n",
      "----------------------------------------\n",
      "         Umrechnung       :       24\n",
      "Die gegebene Codierung stellt die Zahl -24 dar.\n"
     ]
    }
   ],
   "source": [
    "s = '11101000'\n",
    "\n",
    "print(\"{:>20s} {:4s} : {:0>8s}\".format(\"Gegebene Codierung\",' ',s))\n",
    "print(\"{:>20s} {:4s} : {:0>8s}\".format(\"Addition von -1\",' ','11111111'))\n",
    "print(\"-\"*40)\n",
    "b = eval('0b'+s)\n",
    "b1 = b-1\n",
    "print(\"{:>20s} {:4s} : {:0>8s}\".format('Ergebnis',' ',bin(b1)[2:]))\n",
    "print(\"{:>20s} {:4s} : {:0>8s}\".format('bitweise Negation',' ',bin(255-b1)[2:]))\n",
    "print(\"-\"*40)\n",
    "print(\"{:>20s} {:4s} : {: >8d}\".format('Umrechnung ',' ',256-b))\n",
    "print(\"Die gegebene Codierung stellt die Zahl {:} dar.\".format(b-256))\n"
   ]
  },
  {
   "cell_type": "code",
   "execution_count": 8,
   "id": "775a4501",
   "metadata": {},
   "outputs": [
    {
     "name": "stdout",
     "output_type": "stream",
     "text": [
      "  Gegebene Codierung      : 10100100\n",
      "     Addition von -1      : 11111111\n",
      "----------------------------------------\n",
      "            Ergebnis      : 10100011\n",
      "   bitweise Negation      : 01011100\n",
      "----------------------------------------\n",
      "         Umrechnung       :       92\n",
      "Die gegebene Codierung stellt die Zahl -92 dar.\n"
     ]
    }
   ],
   "source": [
    "s = '10100100'\n",
    "\n",
    "print(\"{:>20s} {:4s} : {:0>8s}\".format(\"Gegebene Codierung\",' ',s))\n",
    "print(\"{:>20s} {:4s} : {:0>8s}\".format(\"Addition von -1\",' ','11111111'))\n",
    "print(\"-\"*40)\n",
    "b = eval('0b'+s)\n",
    "b1 = b-1\n",
    "print(\"{:>20s} {:4s} : {:0>8s}\".format('Ergebnis',' ',bin(b1)[2:]))\n",
    "print(\"{:>20s} {:4s} : {:0>8s}\".format('bitweise Negation',' ',bin(255-b1)[2:]))\n",
    "print(\"-\"*40)\n",
    "print(\"{:>20s} {:4s} : {: >8d}\".format('Umrechnung ',' ',256-b))\n",
    "print(\"Die gegebene Codierung stellt die Zahl {:} dar.\".format(b-256))"
   ]
  },
  {
   "cell_type": "code",
   "execution_count": null,
   "id": "7d55b5eb",
   "metadata": {},
   "outputs": [],
   "source": []
  }
 ],
 "metadata": {
  "kernelspec": {
   "display_name": "Python 3 (ipykernel)",
   "language": "python",
   "name": "python3"
  },
  "language_info": {
   "codemirror_mode": {
    "name": "ipython",
    "version": 3
   },
   "file_extension": ".py",
   "mimetype": "text/x-python",
   "name": "python",
   "nbconvert_exporter": "python",
   "pygments_lexer": "ipython3",
   "version": "3.10.6"
  }
 },
 "nbformat": 4,
 "nbformat_minor": 5
}
