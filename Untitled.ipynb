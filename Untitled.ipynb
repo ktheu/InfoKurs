{
 "cells": [
  {
   "cell_type": "code",
   "execution_count": 1,
   "id": "08cd119b",
   "metadata": {},
   "outputs": [
    {
     "name": "stdout",
     "output_type": "stream",
     "text": [
      "  Gegebene Codierung      : 11101000\n",
      "     Addition von -1      : 11111111\n",
      "----------------------------------------\n",
      "            Ergebnis      : 11100111\n",
      "   bitweise Negation      : 00011000\n",
      "----------------------------------------\n",
      "         Umrechnung       :       24\n",
      "Die gegebene Codierung stellt die Zahl -24 dar.\n"
     ]
    }
   ],
   "source": [
    "s = '11101000'\n",
    "\n",
    "print(\"{:>20s} {:4s} : {:0>8s}\".format(\"Gegebene Codierung\",' ',s))\n",
    "print(\"{:>20s} {:4s} : {:0>8s}\".format(\"Addition von -1\",' ','11111111'))\n",
    "print(\"-\"*40)\n",
    "b = eval('0b'+s)\n",
    "b1 = b-1\n",
    "print(\"{:>20s} {:4s} : {:0>8s}\".format('Ergebnis',' ',bin(b1)[2:]))\n",
    "print(\"{:>20s} {:4s} : {:0>8s}\".format('bitweise Negation',' ',bin(255-b1)[2:]))\n",
    "print(\"-\"*40)\n",
    "print(\"{:>20s} {:4s} : {: >8d}\".format('Umrechnung ',' ',256-b))\n",
    "print(\"Die gegebene Codierung stellt die Zahl {:} dar.\".format(b-256))\n"
   ]
  },
  {
   "cell_type": "code",
   "execution_count": 8,
   "id": "7e8106d9",
   "metadata": {},
   "outputs": [
    {
     "name": "stdout",
     "output_type": "stream",
     "text": [
      "  Gegebene Codierung      : 10100100\n",
      "     Addition von -1      : 11111111\n",
      "----------------------------------------\n",
      "            Ergebnis      : 10100011\n",
      "   bitweise Negation      : 01011100\n",
      "----------------------------------------\n",
      "         Umrechnung       :       92\n",
      "Die gegebene Codierung stellt die Zahl -92 dar.\n"
     ]
    }
   ],
   "source": [
    "s = '10100100'\n",
    "\n",
    "print(\"{:>20s} {:4s} : {:0>8s}\".format(\"Gegebene Codierung\",' ',s))\n",
    "print(\"{:>20s} {:4s} : {:0>8s}\".format(\"Addition von -1\",' ','11111111'))\n",
    "print(\"-\"*40)\n",
    "b = eval('0b'+s)\n",
    "b1 = b-1\n",
    "print(\"{:>20s} {:4s} : {:0>8s}\".format('Ergebnis',' ',bin(b1)[2:]))\n",
    "print(\"{:>20s} {:4s} : {:0>8s}\".format('bitweise Negation',' ',bin(255-b1)[2:]))\n",
    "print(\"-\"*40)\n",
    "print(\"{:>20s} {:4s} : {: >8d}\".format('Umrechnung ',' ',256-b))\n",
    "print(\"Die gegebene Codierung stellt die Zahl {:} dar.\".format(b-256))"
   ]
  },
  {
   "cell_type": "code",
   "execution_count": 9,
   "id": "5684e763",
   "metadata": {},
   "outputs": [
    {
     "name": "stdout",
     "output_type": "stream",
     "text": [
      "       Codierung von   57 : 00111001\n",
      "----------------------------------------\n",
      "   bitweise Negation      : 11000110\n",
      "              plus 1      : 00000001\n",
      "----------------------------------------\n",
      "       Codierung von  -57 : 11000111\n"
     ]
    }
   ],
   "source": [
    "x = 57\n",
    "\n",
    "print(\"{:>20s} {:4d} : {:0>8s}\".format(\"Codierung von\",x,bin(x)[2:]))\n",
    "print(\"-\"*40)\n",
    "print(\"{:>20s} {:4s} : {:0>8s}\".format('bitweise Negation',' ',bin(255-x)[2:]))\n",
    "print(\"{:>20s} {:4s} : {:0>8s}\".format('plus 1',' ',bin(1)[2:]))\n",
    "print(\"-\"*40)\n",
    "print(\"{:>20s} {:4d} : {:0>8s}\".format('Codierung von',-x,bin(256-x)[2:]))"
   ]
  },
  {
   "cell_type": "code",
   "execution_count": 11,
   "id": "cceb850a",
   "metadata": {},
   "outputs": [
    {
     "name": "stdout",
     "output_type": "stream",
     "text": [
      " 9766 \n",
      "  610 6  \n",
      "   38 2  \n",
      "    2 6  \n",
      "    0 2  \n",
      "Die Hexadezimaldarstellung von 9766 ist 2626\n"
     ]
    }
   ],
   "source": [
    "def dez_hex(x):\n",
    "    zahl = x\n",
    "    print(\"{:5d} \".format(zahl))\n",
    "\n",
    "    s = \"\"\n",
    "    while x != 0:\n",
    "        h = str(hex(x%16))[2].upper()\n",
    "        print(\"{:5d} {:3s}\".format(x//16,h))\n",
    "        s = h + s\n",
    "        x = x // 16\n",
    "    print(\"Die Hexadezimaldarstellung von \" + str(zahl) + \" ist \" + s)\n",
    "\n",
    "\n",
    "dez_hex(9766)"
   ]
  },
  {
   "cell_type": "code",
   "execution_count": 17,
   "id": "2ad857cf",
   "metadata": {},
   "outputs": [
    {
     "data": {
      "text/plain": [
       "3627"
      ]
     },
     "execution_count": 17,
     "metadata": {},
     "output_type": "execute_result"
    }
   ],
   "source": [
    "int('233',16)"
   ]
  },
  {
   "cell_type": "code",
   "execution_count": 21,
   "id": "0375a34c",
   "metadata": {},
   "outputs": [
    {
     "data": {
      "text/plain": [
       "14.125"
      ]
     },
     "execution_count": 21,
     "metadata": {},
     "output_type": "execute_result"
    }
   ],
   "source": [
    "226  / 16"
   ]
  },
  {
   "cell_type": "code",
   "execution_count": 22,
   "id": "62873978",
   "metadata": {},
   "outputs": [
    {
     "data": {
      "text/plain": [
       "224"
      ]
     },
     "execution_count": 22,
     "metadata": {},
     "output_type": "execute_result"
    }
   ],
   "source": [
    "14*16"
   ]
  },
  {
   "cell_type": "code",
   "execution_count": null,
   "id": "ff5b0455",
   "metadata": {},
   "outputs": [],
   "source": []
  }
 ],
 "metadata": {
  "kernelspec": {
   "display_name": "Python 3 (ipykernel)",
   "language": "python",
   "name": "python3"
  },
  "language_info": {
   "codemirror_mode": {
    "name": "ipython",
    "version": 3
   },
   "file_extension": ".py",
   "mimetype": "text/x-python",
   "name": "python",
   "nbconvert_exporter": "python",
   "pygments_lexer": "ipython3",
   "version": "3.10.6"
  }
 },
 "nbformat": 4,
 "nbformat_minor": 5
}
