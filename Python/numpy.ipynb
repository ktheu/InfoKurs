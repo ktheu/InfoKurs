{
 "cells": [
  {
   "cell_type": "markdown",
   "id": "45d9fb38-919b-4528-accc-201365a1ea27",
   "metadata": {},
   "source": [
    "## Numpy\n",
    "\n",
    "Numpy ist ein sehr mächtiges Modul für viele mathematische Berechnungen"
   ]
  },
  {
   "cell_type": "code",
   "execution_count": 37,
   "id": "6b0e2f63-1e55-425b-9a82-b7691e6da0f4",
   "metadata": {},
   "outputs": [],
   "source": [
    "import numpy as np"
   ]
  },
  {
   "cell_type": "markdown",
   "id": "28d2e2b2-2bdf-4dbe-ae3f-ec74a9bfc6e4",
   "metadata": {},
   "source": [
    "### Matrizen\n",
    "\n",
    "Eine Matrix ist eine 2-dimensional Liste. Ohne numpy können wir eine Matrix als Liste von Listen implementieren."
   ]
  },
  {
   "cell_type": "code",
   "execution_count": 38,
   "id": "21640a71-012f-4f04-8595-13a5b42a01a7",
   "metadata": {},
   "outputs": [
    {
     "name": "stdout",
     "output_type": "stream",
     "text": [
      "[0, 1, 2]\n",
      "[3, 4, 5]\n",
      "[6, 7, 8]\n"
     ]
    }
   ],
   "source": [
    "a = [[0,1,2],[3,4,5],[6,7,8]]\n",
    "for zeile in a:\n",
    "    print(zeile)"
   ]
  },
  {
   "cell_type": "markdown",
   "id": "7c586abc-f3de-4462-842a-5274220424e0",
   "metadata": {},
   "source": [
    "Der Zugriff auf die 1.Zeile und 3.Spalte erfolgt durch 2 Indizes, die nacheinander in eckigen Klammern stehen.\n"
   ]
  },
  {
   "cell_type": "code",
   "execution_count": 39,
   "id": "c9ea6e3a-db70-41c6-bac0-c0ce76765fb7",
   "metadata": {},
   "outputs": [
    {
     "name": "stdout",
     "output_type": "stream",
     "text": [
      "2\n"
     ]
    }
   ],
   "source": [
    "x = a[0][2]\n",
    "print(x)"
   ]
  },
  {
   "cell_type": "markdown",
   "id": "1f0a45b3-d42d-4932-a33d-0f0b5336a184",
   "metadata": {},
   "source": [
    "Mit numpy können wir solche Matrizen einfacher erzeugen, einfacher auf die Elemente zugreifen und haben mehr Möglichkeiten mit den Matrizen zu arbeiten."
   ]
  },
  {
   "cell_type": "code",
   "execution_count": 40,
   "id": "e4a9cdfc-393f-4c6f-a005-623a1ee29445",
   "metadata": {},
   "outputs": [
    {
     "name": "stdout",
     "output_type": "stream",
     "text": [
      "[[0 1 2]\n",
      " [3 4 5]\n",
      " [6 7 8]]\n"
     ]
    }
   ],
   "source": [
    "\n",
    "a = np.array(range(9)).reshape(3,3)    # reshape: zeilen, spalten\n",
    "print(a)"
   ]
  },
  {
   "cell_type": "code",
   "execution_count": 41,
   "id": "dd9dc327-1683-4cc5-9584-aa10ae4dbe62",
   "metadata": {},
   "outputs": [
    {
     "name": "stdout",
     "output_type": "stream",
     "text": [
      "2\n"
     ]
    }
   ],
   "source": [
    "x = a[0,2]                  # wir benötigen nur eine eckige Klammer\n",
    "print(x)"
   ]
  },
  {
   "cell_type": "markdown",
   "id": "c4fa917f-3157-49fe-b92d-be16d0470bc7",
   "metadata": {},
   "source": [
    "Eine mit festen Werten erzeugen:"
   ]
  },
  {
   "cell_type": "code",
   "execution_count": 42,
   "id": "f42df74d-d0aa-468d-a572-108f09070dfc",
   "metadata": {},
   "outputs": [
    {
     "name": "stdout",
     "output_type": "stream",
     "text": [
      "[[0. 0. 0. 0. 0.]\n",
      " [0. 0. 0. 0. 0.]\n",
      " [0. 0. 0. 0. 0.]\n",
      " [0. 0. 0. 0. 0.]]\n"
     ]
    }
   ],
   "source": [
    "a = np.zeros((4,5))\n",
    "print(a)"
   ]
  },
  {
   "cell_type": "code",
   "execution_count": 43,
   "id": "4e837649-ee15-419f-a9be-84d6d82d5645",
   "metadata": {},
   "outputs": [
    {
     "name": "stdout",
     "output_type": "stream",
     "text": [
      "[[0 0 0 0 0]\n",
      " [0 0 0 0 0]\n",
      " [0 0 0 0 0]\n",
      " [0 0 0 0 0]]\n"
     ]
    }
   ],
   "source": [
    "a = np.zeros((4,5),dtype = 'uint')\n",
    "print(a)"
   ]
  },
  {
   "cell_type": "code",
   "execution_count": 44,
   "id": "f93e8f77-a432-4205-b375-2345b5e0529f",
   "metadata": {},
   "outputs": [
    {
     "name": "stdout",
     "output_type": "stream",
     "text": [
      "[[2 2 2 2 2]\n",
      " [2 2 2 2 2]\n",
      " [2 2 2 2 2]\n",
      " [2 2 2 2 2]]\n"
     ]
    }
   ],
   "source": [
    "a = np.full((4, 5), 2)\n",
    "print(a)"
   ]
  },
  {
   "cell_type": "markdown",
   "id": "e40a14e4-dfa8-4335-a67c-6a154d99b2f3",
   "metadata": {},
   "source": [
    "#### Slicing mit numpy\n",
    "\n",
    "Wenn wir Teile einer Matrix bearbeiten, machen wir zunächst eine Kopie der Ausgangsmatrix, um Seiteneffekte zu vermeiden."
   ]
  },
  {
   "cell_type": "code",
   "execution_count": 45,
   "id": "4c342b40-fb8a-4724-9cbb-86a287be7c86",
   "metadata": {},
   "outputs": [
    {
     "name": "stdout",
     "output_type": "stream",
     "text": [
      "[[ 0  1  2  3  4  5  6  7  8]\n",
      " [ 9 10 11 12 13 14 15 16 17]\n",
      " [18 19 20 21 22 23 24 25 26]\n",
      " [27 28 29 30 31 32 33 34 35]\n",
      " [36 37 38 39 40 41 42 43 44]\n",
      " [45 46 47 48 49 50 51 52 53]\n",
      " [54 55 56 57 58 59 60 61 62]\n",
      " [63 64 65 66 67 68 69 70 71]\n",
      " [72 73 74 75 76 77 78 79 80]]\n"
     ]
    }
   ],
   "source": [
    "a = np.array(range(81)).reshape(9,9)\n",
    "print(a)"
   ]
  },
  {
   "cell_type": "code",
   "execution_count": 46,
   "id": "b54536e7-5776-4678-b3e0-0e4f85e6edc6",
   "metadata": {},
   "outputs": [
    {
     "name": "stdout",
     "output_type": "stream",
     "text": [
      "[36 37 38 39 40 41 42 43 44]\n"
     ]
    }
   ],
   "source": [
    "# die Zeile mit Index 4\n",
    "b = a.copy()[4,:]\n",
    "print(b)"
   ]
  },
  {
   "cell_type": "code",
   "execution_count": 47,
   "id": "25f89c47-e045-4f30-8a54-4fa5beac5550",
   "metadata": {},
   "outputs": [
    {
     "name": "stdout",
     "output_type": "stream",
     "text": [
      "[[36 37 38 39 40 41 42 43 44]\n",
      " [45 46 47 48 49 50 51 52 53]\n",
      " [54 55 56 57 58 59 60 61 62]]\n"
     ]
    }
   ],
   "source": [
    "# die Zeilen mit Index 4-6\n",
    "b = a.copy()[4:7,:]\n",
    "print(b)"
   ]
  },
  {
   "cell_type": "code",
   "execution_count": 48,
   "id": "b0f7b7a4-7416-438a-a847-7133dde165e6",
   "metadata": {},
   "outputs": [
    {
     "name": "stdout",
     "output_type": "stream",
     "text": [
      "[[ 0  1  2  3  4  5  6  7  8]\n",
      " [18 19 20 21 22 23 24 25 26]\n",
      " [36 37 38 39 40 41 42 43 44]\n",
      " [54 55 56 57 58 59 60 61 62]\n",
      " [72 73 74 75 76 77 78 79 80]]\n"
     ]
    }
   ],
   "source": [
    "# alle Zeilen mit geradem Index\n",
    "b = a.copy()[::2,:]\n",
    "print(b)"
   ]
  },
  {
   "cell_type": "code",
   "execution_count": 49,
   "id": "34a9ec8d-df2d-4238-816a-5628c5ca8557",
   "metadata": {},
   "outputs": [
    {
     "name": "stdout",
     "output_type": "stream",
     "text": [
      "[ 4 13 22 31 40 49 58 67 76]\n"
     ]
    }
   ],
   "source": [
    "# die Spalten mit Index 4\n",
    "b = a.copy()[:,4]\n",
    "print(b)"
   ]
  },
  {
   "cell_type": "code",
   "execution_count": 50,
   "id": "762fab7b-6c55-42a9-b2e1-5c0551312ae6",
   "metadata": {},
   "outputs": [
    {
     "name": "stdout",
     "output_type": "stream",
     "text": [
      "[[ 0  8]\n",
      " [ 9 17]\n",
      " [18 26]\n",
      " [27 35]\n",
      " [36 44]\n",
      " [45 53]\n",
      " [54 62]\n",
      " [63 71]\n",
      " [72 80]]\n"
     ]
    }
   ],
   "source": [
    "# die erste und letzte Spalte\n",
    "b = a.copy()[:,[0,-1]]\n",
    "print(b)"
   ]
  },
  {
   "cell_type": "code",
   "execution_count": 51,
   "id": "59454429-b146-4862-9a20-da45a82815be",
   "metadata": {},
   "outputs": [
    {
     "name": "stdout",
     "output_type": "stream",
     "text": [
      "[[30 31 32]\n",
      " [39 40 41]\n",
      " [48 49 50]]\n"
     ]
    }
   ],
   "source": [
    "# die mittlere 3x3 Matrix\n",
    "a1 = a.copy()\n",
    "a1 = a1[3:6,3:6]\n",
    "print(a1)"
   ]
  },
  {
   "cell_type": "markdown",
   "id": "97db97f3-b795-43a5-ba22-a205e9b554fc",
   "metadata": {},
   "source": [
    "##### Zeilen vertauschen"
   ]
  },
  {
   "cell_type": "code",
   "execution_count": 52,
   "id": "d9ca8b07-dd59-4a6e-a80b-c25ed3ea0e71",
   "metadata": {},
   "outputs": [
    {
     "name": "stdout",
     "output_type": "stream",
     "text": [
      "[[18 19 20 21 22 23 24 25 26]\n",
      " [ 9 10 11 12 13 14 15 16 17]\n",
      " [ 0  1  2  3  4  5  6  7  8]\n",
      " [27 28 29 30 31 32 33 34 35]\n",
      " [36 37 38 39 40 41 42 43 44]\n",
      " [45 46 47 48 49 50 51 52 53]\n",
      " [54 55 56 57 58 59 60 61 62]\n",
      " [63 64 65 66 67 68 69 70 71]\n",
      " [72 73 74 75 76 77 78 79 80]]\n"
     ]
    }
   ],
   "source": [
    "# Vertauschen zweier Zeilen\n",
    "a1 = a.copy()                \n",
    "a1[[0,2],:] = a1[[2,0],:]\n",
    "print(a1)"
   ]
  },
  {
   "cell_type": "code",
   "execution_count": 53,
   "id": "392fac25-0ab5-4d58-a98c-2c1d186882ef",
   "metadata": {},
   "outputs": [
    {
     "name": "stdout",
     "output_type": "stream",
     "text": [
      "[[54 55 56 57 58 59 60 61 62]\n",
      " [63 64 65 66 67 68 69 70 71]\n",
      " [72 73 74 75 76 77 78 79 80]\n",
      " [27 28 29 30 31 32 33 34 35]\n",
      " [36 37 38 39 40 41 42 43 44]\n",
      " [45 46 47 48 49 50 51 52 53]\n",
      " [ 0  1  2  3  4  5  6  7  8]\n",
      " [ 9 10 11 12 13 14 15 16 17]\n",
      " [18 19 20 21 22 23 24 25 26]]\n"
     ]
    }
   ],
   "source": [
    "# Vertauschen des oberen und unteren 3er-Zeilenblocks\n",
    "a1 = a.copy()                \n",
    "a1[[0,1,2,6,7,8],:] = a1[[6,7,8,0,1,2],:]\n",
    "print(a1)"
   ]
  },
  {
   "cell_type": "markdown",
   "id": "a67f510e-6bf7-46f5-b00c-4752244fa859",
   "metadata": {},
   "source": [
    "##### Spalten vertauschen"
   ]
  },
  {
   "cell_type": "code",
   "execution_count": 54,
   "id": "1a14e5f7-7330-48cb-bc14-343aa3676ad3",
   "metadata": {},
   "outputs": [
    {
     "name": "stdout",
     "output_type": "stream",
     "text": [
      "[[ 1  0  2  3  4  5  6  7  8]\n",
      " [10  9 11 12 13 14 15 16 17]\n",
      " [19 18 20 21 22 23 24 25 26]\n",
      " [28 27 29 30 31 32 33 34 35]\n",
      " [37 36 38 39 40 41 42 43 44]\n",
      " [46 45 47 48 49 50 51 52 53]\n",
      " [55 54 56 57 58 59 60 61 62]\n",
      " [64 63 65 66 67 68 69 70 71]\n",
      " [73 72 74 75 76 77 78 79 80]]\n"
     ]
    }
   ],
   "source": [
    "# Vertauschen zweier Spalten\n",
    "a1 = a.copy()                \n",
    "a1[:,[0,1]] = a1[:,[1,0]]\n",
    "print(a1)"
   ]
  },
  {
   "cell_type": "code",
   "execution_count": 55,
   "id": "bebaa219-a7f2-4592-909a-e0028529bb9b",
   "metadata": {},
   "outputs": [
    {
     "name": "stdout",
     "output_type": "stream",
     "text": [
      "[[ 6  7  8  3  4  5  0  1  2]\n",
      " [15 16 17 12 13 14  9 10 11]\n",
      " [24 25 26 21 22 23 18 19 20]\n",
      " [33 34 35 30 31 32 27 28 29]\n",
      " [42 43 44 39 40 41 36 37 38]\n",
      " [51 52 53 48 49 50 45 46 47]\n",
      " [60 61 62 57 58 59 54 55 56]\n",
      " [69 70 71 66 67 68 63 64 65]\n",
      " [78 79 80 75 76 77 72 73 74]]\n"
     ]
    }
   ],
   "source": [
    "# Vertauschen des linken und rechten 3er-Spaltenblocks\n",
    "a1 = a.copy()                \n",
    "a1[:,[0,1,2,6,7,8]] = a1[:,[6,7,8,0,1,2]]\n",
    "print(a1)"
   ]
  },
  {
   "cell_type": "markdown",
   "id": "5a990218-840e-44bc-80d5-abe22d40f306",
   "metadata": {
    "tags": []
   },
   "source": [
    "##### Reihenfolge der Zeilen/Spalten umkehren\n"
   ]
  },
  {
   "cell_type": "code",
   "execution_count": 56,
   "id": "13fafb4b-ef86-4cd2-be55-d82e04868f2f",
   "metadata": {},
   "outputs": [
    {
     "name": "stdout",
     "output_type": "stream",
     "text": [
      "[[72 73 74 75 76 77 78 79 80]\n",
      " [63 64 65 66 67 68 69 70 71]\n",
      " [54 55 56 57 58 59 60 61 62]\n",
      " [45 46 47 48 49 50 51 52 53]\n",
      " [36 37 38 39 40 41 42 43 44]\n",
      " [27 28 29 30 31 32 33 34 35]\n",
      " [18 19 20 21 22 23 24 25 26]\n",
      " [ 9 10 11 12 13 14 15 16 17]\n",
      " [ 0  1  2  3  4  5  6  7  8]]\n"
     ]
    }
   ],
   "source": [
    "# Reihenfolge der Zeilen umkehren\n",
    "a1 = a.copy()                \n",
    "a1  = a1[::-1,:]\n",
    "print(a1)"
   ]
  },
  {
   "cell_type": "code",
   "execution_count": 57,
   "id": "02883019-6bc6-41ba-997c-3899ac775812",
   "metadata": {},
   "outputs": [
    {
     "name": "stdout",
     "output_type": "stream",
     "text": [
      "[[ 8  7  6  5  4  3  2  1  0]\n",
      " [17 16 15 14 13 12 11 10  9]\n",
      " [26 25 24 23 22 21 20 19 18]\n",
      " [35 34 33 32 31 30 29 28 27]\n",
      " [44 43 42 41 40 39 38 37 36]\n",
      " [53 52 51 50 49 48 47 46 45]\n",
      " [62 61 60 59 58 57 56 55 54]\n",
      " [71 70 69 68 67 66 65 64 63]\n",
      " [80 79 78 77 76 75 74 73 72]]\n"
     ]
    }
   ],
   "source": [
    "# Reihenfolge der Spalten umkehren\n",
    "a1 = a.copy()                \n",
    "a1  = a1[:,::-1]\n",
    "print(a1)"
   ]
  },
  {
   "cell_type": "markdown",
   "id": "feee440e-1608-4a79-bd9e-80071cc9d825",
   "metadata": {},
   "source": [
    "##### Transposition\n",
    "\n",
    "Bei der Transposition wird die k-te Zeile zur k-ten Spalte."
   ]
  },
  {
   "cell_type": "code",
   "execution_count": 58,
   "id": "50d7e3b0-0527-43ba-abf9-966f5e0997d1",
   "metadata": {},
   "outputs": [
    {
     "name": "stdout",
     "output_type": "stream",
     "text": [
      "[[ 0  9 18 27 36 45 54 63 72]\n",
      " [ 1 10 19 28 37 46 55 64 73]\n",
      " [ 2 11 20 29 38 47 56 65 74]\n",
      " [ 3 12 21 30 39 48 57 66 75]\n",
      " [ 4 13 22 31 40 49 58 67 76]\n",
      " [ 5 14 23 32 41 50 59 68 77]\n",
      " [ 6 15 24 33 42 51 60 69 78]\n",
      " [ 7 16 25 34 43 52 61 70 79]\n",
      " [ 8 17 26 35 44 53 62 71 80]]\n"
     ]
    }
   ],
   "source": [
    "a1 = a.copy()\n",
    "a1 = a1.T\n",
    "print(a1)"
   ]
  },
  {
   "cell_type": "markdown",
   "id": "b6a0ed87-f004-4224-9393-ab4728d8fd7a",
   "metadata": {},
   "source": [
    "##### Drehen um 90 Grad im Uhrzeigersinn"
   ]
  },
  {
   "cell_type": "code",
   "execution_count": 59,
   "id": "882ec138-b4cd-4f28-b880-a1a0914a8765",
   "metadata": {},
   "outputs": [
    {
     "name": "stdout",
     "output_type": "stream",
     "text": [
      "[[ 0  1  2  3  4  5  6  7  8]\n",
      " [ 9 10 11 12 13 14 15 16 17]\n",
      " [18 19 20 21 22 23 24 25 26]\n",
      " [27 28 29 30 31 32 33 34 35]\n",
      " [36 37 38 39 40 41 42 43 44]\n",
      " [45 46 47 48 49 50 51 52 53]\n",
      " [54 55 56 57 58 59 60 61 62]\n",
      " [63 64 65 66 67 68 69 70 71]\n",
      " [72 73 74 75 76 77 78 79 80]]\n",
      "\n",
      "[[72 63 54 45 36 27 18  9  0]\n",
      " [73 64 55 46 37 28 19 10  1]\n",
      " [74 65 56 47 38 29 20 11  2]\n",
      " [75 66 57 48 39 30 21 12  3]\n",
      " [76 67 58 49 40 31 22 13  4]\n",
      " [77 68 59 50 41 32 23 14  5]\n",
      " [78 69 60 51 42 33 24 15  6]\n",
      " [79 70 61 52 43 34 25 16  7]\n",
      " [80 71 62 53 44 35 26 17  8]]\n"
     ]
    }
   ],
   "source": [
    "a1 = a.copy()\n",
    "a1 = a1[::-1,:].T\n",
    "print(a)\n",
    "print()\n",
    "print(a1)\n",
    " "
   ]
  },
  {
   "cell_type": "markdown",
   "id": "11d463f7-78cf-40d6-be55-7e70389b4786",
   "metadata": {},
   "source": [
    "##### Zuweisungen"
   ]
  },
  {
   "cell_type": "code",
   "execution_count": 60,
   "id": "8a47462c-1401-4c2b-a1e4-5e82812e324a",
   "metadata": {},
   "outputs": [
    {
     "name": "stdout",
     "output_type": "stream",
     "text": [
      "[[ 1  1  1  1  1  1  1  1  1]\n",
      " [ 9 10 11 12 13 14 15 16 17]\n",
      " [18 19 20 21 22 23 24 25 26]\n",
      " [27 28 29 30 31 32 33 34 35]\n",
      " [36 37 38 39 40 41 42 43 44]\n",
      " [45 46 47 48 49 50 51 52 53]\n",
      " [54 55 56 57 58 59 60 61 62]\n",
      " [63 64 65 66 67 68 69 70 71]\n",
      " [72 73 74 75 76 77 78 79 80]]\n"
     ]
    }
   ],
   "source": [
    "a1 = a.copy()\n",
    "a1[0,:] = 1                    # der ersten Zeile 1en zuweisen        \n",
    "print(a1)"
   ]
  },
  {
   "cell_type": "code",
   "execution_count": 61,
   "id": "dcc854ee-b8ce-4106-bdb7-efa1de29981c",
   "metadata": {},
   "outputs": [
    {
     "name": "stdout",
     "output_type": "stream",
     "text": [
      "[[ 1  2  9  6  7  4  2  3  0]\n",
      " [ 9 10 11 12 13 14 15 16 17]\n",
      " [18 19 20 21 22 23 24 25 26]\n",
      " [27 28 29 30 31 32 33 34 35]\n",
      " [36 37 38 39 40 41 42 43 44]\n",
      " [45 46 47 48 49 50 51 52 53]\n",
      " [54 55 56 57 58 59 60 61 62]\n",
      " [63 64 65 66 67 68 69 70 71]\n",
      " [72 73 74 75 76 77 78 79 80]]\n"
     ]
    }
   ],
   "source": [
    "a1 = a.copy()\n",
    "a1[0,:] = [1,2,9,6,7,4,2,3,0]   # der ersten Zeile verschiedene Werte zuweisen\n",
    "print(a1)"
   ]
  },
  {
   "cell_type": "code",
   "execution_count": 62,
   "id": "c0fc1209-0adf-4a01-ad45-f44e729e60ee",
   "metadata": {},
   "outputs": [
    {
     "name": "stdout",
     "output_type": "stream",
     "text": [
      "[[ 0  1  0  3  0  5  0  7  0]\n",
      " [ 9  0 11  0 13  0 15  0 17]\n",
      " [ 0 19  0 21  0 23  0 25  0]\n",
      " [27  0 29  0 31  0 33  0 35]\n",
      " [ 0 37  0 39  0 41  0 43  0]\n",
      " [45  0 47  0 49  0 51  0 53]\n",
      " [ 0 55  0 57  0 59  0 61  0]\n",
      " [63  0 65  0 67  0 69  0 71]\n",
      " [ 0 73  0 75  0 77  0 79  0]]\n"
     ]
    }
   ],
   "source": [
    "a1 = a.copy()\n",
    "a1[ a1%2==0 ] = 0              # alle geraden Zahlen auf 0 setzen\n",
    "print(a1)"
   ]
  },
  {
   "cell_type": "code",
   "execution_count": 63,
   "id": "afed6864-6362-4433-9013-0e497b12f102",
   "metadata": {},
   "outputs": [
    {
     "name": "stdout",
     "output_type": "stream",
     "text": [
      "[[ 0  1  2  3  4  5  6  7  8]\n",
      " [ 9 10 11 -1 -2 -3 15 16 17]\n",
      " [18 19 20 21 22 23 24 25 26]\n",
      " [27 28 29 30 31 32 33 34 35]\n",
      " [36 37 38 39 40 41 42 43 44]\n",
      " [45 46 47 48 49 50 51 52 53]\n",
      " [54 55 56 57 58 59 60 61 62]\n",
      " [63 64 65 66 67 68 69 70 71]\n",
      " [72 73 74 75 76 77 78 79 80]]\n"
     ]
    }
   ],
   "source": [
    "a1 = a.copy()\n",
    "c = ([1,1,1],[3,4,5])\n",
    "a1[c] = [-1,-2,-3]                    # einige Stellen anders setzen\n",
    "print(a1)"
   ]
  },
  {
   "cell_type": "code",
   "execution_count": 64,
   "id": "459c1b86-aab9-4ba3-9da8-b0c4163906ed",
   "metadata": {},
   "outputs": [
    {
     "name": "stdout",
     "output_type": "stream",
     "text": [
      "[[-1  1  2  3  4  5  6  7  8]\n",
      " [ 9 -1 11 12 13 14 15 16 17]\n",
      " [18 19 -1 21 22 23 24 25 26]\n",
      " [27 28 29 -1 31 32 33 34 35]\n",
      " [36 37 38 39 -1 41 42 43 44]\n",
      " [45 46 47 48 49 -1 51 52 53]\n",
      " [54 55 56 57 58 59 -1 61 62]\n",
      " [63 64 65 66 67 68 69 -1 71]\n",
      " [72 73 74 75 76 77 78 79 -1]]\n"
     ]
    }
   ],
   "source": [
    "a1 = a.copy()\n",
    "c = (range(9),range(9))\n",
    "a1[c] = -1              # die Diagonale auf -1 setzen\n",
    "print(a1)"
   ]
  },
  {
   "cell_type": "markdown",
   "id": "505db70e-7aaf-40ab-8b72-b0966375d5fe",
   "metadata": {},
   "source": [
    "#### Worte in ein Buchstaben-Rechteck einfügen"
   ]
  },
  {
   "cell_type": "code",
   "execution_count": 65,
   "id": "cc313b0c-1e94-4d66-874a-ae0792cc68cb",
   "metadata": {},
   "outputs": [
    {
     "data": {
      "text/plain": [
       "array([['.', '.', '.', '.', '.'],\n",
       "       ['.', '.', '.', '.', '.'],\n",
       "       ['.', '.', '.', '.', '.'],\n",
       "       ['.', '.', '.', '.', '.'],\n",
       "       ['.', '.', '.', '.', '.']], dtype='<U1')"
      ]
     },
     "execution_count": 65,
     "metadata": {},
     "output_type": "execute_result"
    }
   ],
   "source": [
    "rows = 5\n",
    "cols = 5\n",
    "a = np.array(list('.'*rows*cols))\n",
    "a = a.reshape(rows,cols)\n",
    "a"
   ]
  },
  {
   "cell_type": "markdown",
   "id": "6231e91d-1394-41ea-83bf-5a8e6288384c",
   "metadata": {},
   "source": [
    "##### waagrecht von links nach rechts (O)"
   ]
  },
  {
   "cell_type": "code",
   "execution_count": 66,
   "id": "ef764ce9-9c35-47f8-b7bd-9cf06007f0ff",
   "metadata": {},
   "outputs": [
    {
     "data": {
      "text/plain": [
       "array([['T', 'A', 'G', '.', '.'],\n",
       "       ['.', '.', '.', '.', '.'],\n",
       "       ['.', '.', '.', '.', '.'],\n",
       "       ['.', '.', '.', '.', '.'],\n",
       "       ['.', '.', '.', '.', '.']], dtype='<U1')"
      ]
     },
     "execution_count": 66,
     "metadata": {},
     "output_type": "execute_result"
    }
   ],
   "source": [
    "# wort an position (i,j) waagrecht\n",
    "i, j = 0, 0\n",
    "wort = list('TAG')\n",
    "a[i,range(j,j+len(wort))] = wort\n",
    "a\n"
   ]
  },
  {
   "cell_type": "markdown",
   "id": "5137497e-411b-45cb-bcb1-75169c1ead93",
   "metadata": {},
   "source": [
    "##### waagrecht von rechts nach links (W)"
   ]
  },
  {
   "cell_type": "code",
   "execution_count": 67,
   "id": "434da3b2-60d6-4f14-9836-b3aebbda900d",
   "metadata": {},
   "outputs": [
    {
     "data": {
      "text/plain": [
       "array([['T', 'A', 'G', '.', '.'],\n",
       "       ['.', '.', '.', '.', '.'],\n",
       "       ['.', '.', '.', '.', '.'],\n",
       "       ['.', 'G', 'A', 'T', '.'],\n",
       "       ['.', '.', '.', '.', '.']], dtype='<U1')"
      ]
     },
     "execution_count": 67,
     "metadata": {},
     "output_type": "execute_result"
    }
   ],
   "source": [
    "i, j = 3, 3\n",
    "a[i,range(j,j-len(wort),-1)] = wort\n",
    "a"
   ]
  },
  {
   "cell_type": "markdown",
   "id": "c96da6d8-38b6-4650-a1fc-7a48d6524221",
   "metadata": {},
   "source": [
    "##### von oben nach unten (S)"
   ]
  },
  {
   "cell_type": "code",
   "execution_count": 68,
   "id": "a246d124-463a-447c-a054-0285d7eb82aa",
   "metadata": {},
   "outputs": [
    {
     "data": {
      "text/plain": [
       "array([['T', 'A', 'G', '.', '.'],\n",
       "       ['.', '.', '.', '.', '.'],\n",
       "       ['.', '.', '.', '.', 'T'],\n",
       "       ['.', 'G', 'A', 'T', 'A'],\n",
       "       ['.', '.', '.', '.', 'G']], dtype='<U1')"
      ]
     },
     "execution_count": 68,
     "metadata": {},
     "output_type": "execute_result"
    }
   ],
   "source": [
    "i, j = 2, 4\n",
    "a[range(i,i+len(wort)),j] = wort\n",
    "a"
   ]
  },
  {
   "cell_type": "markdown",
   "id": "2643a0bf-b85b-4e9f-8bdf-54ccf935c8d4",
   "metadata": {},
   "source": [
    "##### von unten nach oben (N)"
   ]
  },
  {
   "cell_type": "code",
   "execution_count": 69,
   "id": "b468bd0a-0f31-4861-992d-cc4cda2afa8e",
   "metadata": {},
   "outputs": [
    {
     "data": {
      "text/plain": [
       "array([['T', 'A', 'G', '.', '.'],\n",
       "       ['.', '.', '.', '.', '.'],\n",
       "       ['.', '.', '.', 'G', 'T'],\n",
       "       ['.', 'G', 'A', 'A', 'A'],\n",
       "       ['.', '.', '.', 'T', 'G']], dtype='<U1')"
      ]
     },
     "execution_count": 69,
     "metadata": {},
     "output_type": "execute_result"
    }
   ],
   "source": [
    "i, j = 4, 3\n",
    "a[range(i,i-len(wort),-1),j] = wort\n",
    "a"
   ]
  },
  {
   "cell_type": "markdown",
   "id": "90845b01-56d5-4da1-aae9-5492d960fcc4",
   "metadata": {},
   "source": [
    "##### diagonal nach rechts unten (SO)"
   ]
  },
  {
   "cell_type": "code",
   "execution_count": 70,
   "id": "ff6c3d84-da13-4a78-9e5f-3cde2530b00f",
   "metadata": {},
   "outputs": [
    {
     "data": {
      "text/plain": [
       "array([['.', '.', '.', '.', '.'],\n",
       "       ['T', '.', '.', '.', '.'],\n",
       "       ['.', 'A', '.', '.', '.'],\n",
       "       ['.', '.', 'G', '.', '.'],\n",
       "       ['.', '.', '.', '.', '.']], dtype='<U1')"
      ]
     },
     "execution_count": 70,
     "metadata": {},
     "output_type": "execute_result"
    }
   ],
   "source": [
    "a = np.array(list('.'*rows*cols))\n",
    "a = a.reshape(rows,cols)\n",
    "\n",
    "i, j = 1, 0\n",
    "a[range(i,i+len(wort)),range(j,j+len(wort))] = wort\n",
    "a"
   ]
  },
  {
   "cell_type": "markdown",
   "id": "5c40d497-3467-4ed7-b6c3-777f3bed15d5",
   "metadata": {},
   "source": [
    "##### diagonal nach rechts oben (NO)"
   ]
  },
  {
   "cell_type": "code",
   "execution_count": 71,
   "id": "e4f32b31-1698-40f1-90fc-081fe44392bb",
   "metadata": {},
   "outputs": [
    {
     "data": {
      "text/plain": [
       "array([['.', '.', '.', '.', '.'],\n",
       "       ['T', '.', 'G', '.', '.'],\n",
       "       ['.', 'A', '.', '.', '.'],\n",
       "       ['T', '.', 'G', '.', '.'],\n",
       "       ['.', '.', '.', '.', '.']], dtype='<U1')"
      ]
     },
     "execution_count": 71,
     "metadata": {},
     "output_type": "execute_result"
    }
   ],
   "source": [
    "i, j = 3, 0\n",
    "a[range(i,i-len(wort),-1),range(j,j+len(wort))] = wort\n",
    "a"
   ]
  },
  {
   "cell_type": "markdown",
   "id": "d27b09cd-f7a8-4f0d-ac79-866ab20d4a70",
   "metadata": {},
   "source": [
    "##### diagonal nach links oben (NW)"
   ]
  },
  {
   "cell_type": "code",
   "execution_count": 72,
   "id": "c77150e5-ca3b-4f62-b337-33e796e4128a",
   "metadata": {},
   "outputs": [
    {
     "data": {
      "text/plain": [
       "array([['.', '.', 'G', '.', '.'],\n",
       "       ['T', '.', 'G', 'A', '.'],\n",
       "       ['.', 'A', '.', '.', 'T'],\n",
       "       ['T', '.', 'G', '.', '.'],\n",
       "       ['.', '.', '.', '.', '.']], dtype='<U1')"
      ]
     },
     "execution_count": 72,
     "metadata": {},
     "output_type": "execute_result"
    }
   ],
   "source": [
    "i, j = 2, 4\n",
    "a[range(i,i-len(wort),-1),range(j,j-len(wort),-1)] = wort\n",
    "a"
   ]
  },
  {
   "cell_type": "markdown",
   "id": "39b3d430-1e10-4946-b854-349345e17280",
   "metadata": {},
   "source": [
    "##### diagonal nach links unten (SW)"
   ]
  },
  {
   "cell_type": "code",
   "execution_count": 73,
   "id": "aa798083-aa53-4aa8-946c-00fa99744166",
   "metadata": {},
   "outputs": [
    {
     "data": {
      "text/plain": [
       "array([['.', '.', 'G', '.', '.'],\n",
       "       ['T', '.', 'G', 'A', '.'],\n",
       "       ['.', 'A', '.', '.', 'T'],\n",
       "       ['T', '.', 'G', 'A', '.'],\n",
       "       ['.', '.', 'G', '.', '.']], dtype='<U1')"
      ]
     },
     "execution_count": 73,
     "metadata": {},
     "output_type": "execute_result"
    }
   ],
   "source": [
    "i, j = 2, 4\n",
    "a[range(i,i+len(wort)),range(j,j-len(wort),-1)] = wort\n",
    "a"
   ]
  },
  {
   "cell_type": "code",
   "execution_count": null,
   "id": "62e5bdb7-7f3b-4919-8aaf-25b2224a57c2",
   "metadata": {},
   "outputs": [],
   "source": []
  }
 ],
 "metadata": {
  "kernelspec": {
   "display_name": "Python 3 (ipykernel)",
   "language": "python",
   "name": "python3"
  },
  "language_info": {
   "codemirror_mode": {
    "name": "ipython",
    "version": 3
   },
   "file_extension": ".py",
   "mimetype": "text/x-python",
   "name": "python",
   "nbconvert_exporter": "python",
   "pygments_lexer": "ipython3",
   "version": "3.9.12"
  }
 },
 "nbformat": 4,
 "nbformat_minor": 5
}
