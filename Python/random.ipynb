{
 "cells": [
  {
   "cell_type": "markdown",
   "metadata": {},
   "source": [
    "## Random\n",
    "Das Modul random erzeugt Pseudozufallszahlen. Sie sehen zufällig aus, aber nach $2^{19937}-1$ Zahlen wiederholen sie sich.\n",
    "\n",
    "[W3Schools](https://www.w3schools.com/python/module_random.asp)"
   ]
  },
  {
   "cell_type": "code",
   "execution_count": 44,
   "metadata": {},
   "outputs": [
    {
     "name": "stdout",
     "output_type": "stream",
     "text": [
      "0.10902693150000153\n",
      "0\n",
      "20\n"
     ]
    }
   ],
   "source": [
    "import random as r\n",
    "x = r.random()           # float x mit 0 <= x < 1\n",
    "print(x)\n",
    "x = r.randint(0,10)      # int x mit 0 <= x <= 10 \n",
    "print(x)\n",
    "x = r.randrange(10, 50, 2)    #  gerade Zahl x: 10 <= x < 50\n",
    "print(x)"
   ]
  },
  {
   "cell_type": "code",
   "execution_count": 45,
   "metadata": {},
   "outputs": [
    {
     "name": "stdout",
     "output_type": "stream",
     "text": [
      "7.272728216601168\n"
     ]
    }
   ],
   "source": [
    "a = 1\n",
    "b = 10\n",
    "x = a + r.random() * (b-a)     # eine float-Zufallszahl zwischen a und b\n",
    "print(x)"
   ]
  },
  {
   "cell_type": "markdown",
   "metadata": {},
   "source": [
    "Mit der Funktion **seed** lässt sich der Zufallsgenerator initialisieren. Er erzeugt dann, je nach seed, immer die gleiche Zahlenfolge."
   ]
  },
  {
   "cell_type": "code",
   "execution_count": 46,
   "metadata": {},
   "outputs": [
    {
     "name": "stdout",
     "output_type": "stream",
     "text": [
      "0.4745706786885481\n"
     ]
    }
   ],
   "source": [
    "r.seed(12)                     \n",
    "print(r.random())              # bei jeder Ausführung wird diesselbe Zufallszahl erzeugt"
   ]
  },
  {
   "cell_type": "markdown",
   "metadata": {},
   "source": [
    "#### Zufallsoperationen auf Listen und Tupels"
   ]
  },
  {
   "cell_type": "code",
   "execution_count": 47,
   "metadata": {},
   "outputs": [
    {
     "name": "stdout",
     "output_type": "stream",
     "text": [
      "5\n",
      "[3, 2, 4]\n",
      "[1, 24, 31, 18, 42, 30]\n",
      "[4, 1, 3, 2, 5]\n"
     ]
    }
   ],
   "source": [
    "a = [1,2,3,4,5]\n",
    "x = r.choice(a)                  # ein Element wird zufällig gewählt\n",
    "print(x)\n",
    "a1 = r.sample(a, 3)              # 3 zufällig gewählte Elemente aus der Liste a\n",
    "print(a1)\n",
    "a2 = r.sample(range(1,50),6)     # Lotto-Ziehung 6 aus 49\n",
    "print(a2)\n",
    "r.shuffle(a)                     # a wird gemischt (inplace)\n",
    "print(a)\n"
   ]
  }
 ],
 "metadata": {
  "kernelspec": {
   "display_name": "Python 3 (ipykernel)",
   "language": "python",
   "name": "python3"
  },
  "language_info": {
   "codemirror_mode": {
    "name": "ipython",
    "version": 3
   },
   "file_extension": ".py",
   "mimetype": "text/x-python",
   "name": "python",
   "nbconvert_exporter": "python",
   "pygments_lexer": "ipython3",
   "version": "3.9.12"
  }
 },
 "nbformat": 4,
 "nbformat_minor": 4
}
