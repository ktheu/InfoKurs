{
 "cells": [
  {
   "cell_type": "markdown",
   "metadata": {},
   "source": [
    "# Lists\n",
    "* eine angeordnete Sequenz von Elementen, zugreifbar durch Index, unterschiedliche Datentypen sind möglich \n",
    "* mutable, d.h. Elemente können verändert werden. Dadurch können unerwünschte Seiteneffekte entstehen. \n",
    "* repräsentiert durch eckige Klammern [] "
   ]
  },
  {
   "cell_type": "code",
   "execution_count": 125,
   "metadata": {},
   "outputs": [
    {
     "name": "stdout",
     "output_type": "stream",
     "text": [
      "2 5\n",
      "<class 'list'>\n"
     ]
    }
   ],
   "source": [
    "a = []                   # leere Liste\n",
    "a = [2,'hallo',5]        # verschiedene Typen sind möglich\n",
    "print(a[0], a[-1])       # Indexing wie bei Strings\n",
    "print(type(a))"
   ]
  },
  {
   "cell_type": "markdown",
   "metadata": {},
   "source": [
    "#### Slicing wie bei Strings"
   ]
  },
  {
   "cell_type": "code",
   "execution_count": 103,
   "metadata": {},
   "outputs": [
    {
     "name": "stdout",
     "output_type": "stream",
     "text": [
      "[1, 2]\n",
      "[2, 3, 4, 5, 6]\n",
      "[0, 1, 2, 3, 4]\n",
      "[6, 5, 4, 3, 2, 1, 0]\n"
     ]
    }
   ],
   "source": [
    "a = [0, 1, 2, 3, 4, 5, 6]\n",
    "print(a[1:3])\n",
    "print(a[2:])\n",
    "print(a[:-2])\n",
    "print(a[::-1])"
   ]
  },
  {
   "cell_type": "markdown",
   "metadata": {},
   "source": [
    "#### Hinzufügen und Löschen und Ändern von Elementen\n"
   ]
  },
  {
   "cell_type": "code",
   "execution_count": 127,
   "metadata": {},
   "outputs": [
    {
     "name": "stdout",
     "output_type": "stream",
     "text": [
      "[0, 1, 2, 3, 4, 5, 6, 7]\n",
      "[0, 1, 2, 3, 4, 5, 6]\n",
      "[1, 2, 3, 4, 5, 6]\n",
      "[9, 1, 2, 3, 4, 5, 6]\n",
      "[9, 8, 2, 3, 4, 5, 6]\n"
     ]
    }
   ],
   "source": [
    "a = [0, 1, 2, 3, 4, 5, 6]\n",
    "a.append(7)                      # hinzufügen\n",
    "print(a)\n",
    "a.pop()                          # das letzte Element löschen\n",
    "print(a)\n",
    "a.pop(0)                         # Element mit Index 0 löschen\n",
    "print(a)\n",
    "a.insert(0,9)                    # Element an Index 0 hinzufügen\n",
    "print(a)\n",
    "a[1] = 8                         # Update Index 1\n",
    "print(a)"
   ]
  },
  {
   "cell_type": "markdown",
   "metadata": {},
   "source": [
    "#### Suchen von Elementen \n",
    "\n",
    " "
   ]
  },
  {
   "cell_type": "code",
   "execution_count": 105,
   "metadata": {},
   "outputs": [
    {
     "name": "stdout",
     "output_type": "stream",
     "text": [
      "False\n",
      "1\n"
     ]
    }
   ],
   "source": [
    "a = [3, 4, 7, 2, 8]\n",
    "print(9 in a)                         # ist Element in Liste?\n",
    "print(a.index(4))                     # Index des gesuchten Elements, Fehler falls nicht vorhanden"
   ]
  },
  {
   "cell_type": "markdown",
   "metadata": {},
   "source": [
    "#### Sortieren"
   ]
  },
  {
   "cell_type": "code",
   "execution_count": 106,
   "metadata": {},
   "outputs": [
    {
     "name": "stdout",
     "output_type": "stream",
     "text": [
      "[2, 3, 4, 7, 8]\n",
      "[8, 7, 4, 3, 2]\n",
      "[2, 3, 4, 7, 8]\n",
      "[8, 7, 4, 3, 2]\n"
     ]
    }
   ],
   "source": [
    "b1 = sorted(a)                        # eine neue sortierte Liste entsteht, a bleibt unverändert\n",
    "print(b1)\n",
    "b2 = sorted(a, reverse=True)          \n",
    "print(b2)\n",
    "a.sort()                              # a wird sortiert\n",
    "print(a)\n",
    "a.sort(reverse=True)                  \n",
    "print(a)"
   ]
  },
  {
   "cell_type": "markdown",
   "metadata": {},
   "source": [
    "#### Unpacking\n",
    "\n",
    "Mit einer Liste könnnen wir mehrfache Zuweisungen durchführen (unpacking):"
   ]
  },
  {
   "cell_type": "code",
   "execution_count": 2,
   "metadata": {},
   "outputs": [
    {
     "name": "stdout",
     "output_type": "stream",
     "text": [
      "1\n",
      "2\n",
      "3\n"
     ]
    }
   ],
   "source": [
    "a = [1,2,3]\n",
    "x, y, z = a\n",
    "print(x)\n",
    "print(y)\n",
    "print(z)"
   ]
  },
  {
   "cell_type": "markdown",
   "metadata": {
    "tags": []
   },
   "source": [
    "#### Zwei Arten, eine Liste zu durchlaufen"
   ]
  },
  {
   "cell_type": "code",
   "execution_count": 107,
   "metadata": {},
   "outputs": [
    {
     "name": "stdout",
     "output_type": "stream",
     "text": [
      "4\n",
      "3\n",
      "8\n",
      "19\n",
      "6\n"
     ]
    }
   ],
   "source": [
    "a = [4,3,8,19,6]\n",
    "for i in range(len(a)):\n",
    "    print(a[i])"
   ]
  },
  {
   "cell_type": "code",
   "execution_count": 108,
   "metadata": {},
   "outputs": [
    {
     "name": "stdout",
     "output_type": "stream",
     "text": [
      "4\n",
      "3\n",
      "8\n",
      "19\n",
      "6\n"
     ]
    }
   ],
   "source": [
    "for x in a:\n",
    "    print(x)"
   ]
  },
  {
   "cell_type": "markdown",
   "metadata": {},
   "source": [
    "#### Methoden und Funktionen für Listen\n",
    "\n",
    "Ein Übersicht über die wichtigsten Methoden für Listen findet sich [hier](https://www.w3schools.com/python/python_lists_methods.asp)\n",
    "\n",
    " "
   ]
  },
  {
   "cell_type": "code",
   "execution_count": 109,
   "metadata": {},
   "outputs": [
    {
     "name": "stdout",
     "output_type": "stream",
     "text": [
      "5\n",
      "9\n",
      "-5\n"
     ]
    }
   ],
   "source": [
    "a = [4, 7, -5, 9, 3]\n",
    "print(len(a))        # Länge\n",
    "print(max(a))        # Maximum\n",
    "print(min(a))        # Minimum \n",
    " "
   ]
  },
  {
   "cell_type": "code",
   "execution_count": 110,
   "metadata": {},
   "outputs": [
    {
     "name": "stdout",
     "output_type": "stream",
     "text": [
      "[0, 1, 2, 3, 4, 5, 6]\n",
      "['H', 'a', 'l', 'l', 'o']\n"
     ]
    }
   ],
   "source": [
    "a = list(range(7))   # eine Liste aus range erzeugen\n",
    "print(a)\n",
    "a = list('Hallo')    # eine Liste aus einem String erzeugen\n",
    "print(a)"
   ]
  },
  {
   "cell_type": "code",
   "execution_count": 111,
   "metadata": {},
   "outputs": [
    {
     "name": "stdout",
     "output_type": "stream",
     "text": [
      "[1, 2, 7, 8, 9]\n",
      "[1, 2, 1, 2, 1, 2]\n",
      "1 2 1 2 1 2\n",
      "abbccc\n"
     ]
    }
   ],
   "source": [
    "a1 = [1,2]\n",
    "a2 = [7, 8, 9]\n",
    "a3 = a1 + a2           # Liste aneinanderhängen\n",
    "a4 = a1 * 3            # Liste vervielfachen\n",
    "s = ''.join(['a','bb', 'ccc'])    # Liste in String umwandeln\n",
    "print(a3)\n",
    "print(a4)\n",
    "print(*a4)             # unpacking argument list \n",
    "print(s)"
   ]
  },
  {
   "cell_type": "code",
   "execution_count": 112,
   "metadata": {},
   "outputs": [
    {
     "name": "stdout",
     "output_type": "stream",
     "text": [
      "H\n",
      "a\n",
      "l\n",
      "l\n",
      "o\n"
     ]
    }
   ],
   "source": [
    "for x in a:\n",
    "    print(x)"
   ]
  },
  {
   "cell_type": "markdown",
   "metadata": {},
   "source": [
    "### Seiteneffekte"
   ]
  },
  {
   "cell_type": "code",
   "execution_count": 113,
   "metadata": {},
   "outputs": [
    {
     "name": "stdout",
     "output_type": "stream",
     "text": [
      "[1, 4, 3] [1, 4, 3]\n"
     ]
    }
   ],
   "source": [
    "a = [1,2,3]\n",
    "b = a\n",
    "a[1] = 4\n",
    "print(a, b)"
   ]
  },
  {
   "cell_type": "code",
   "execution_count": 114,
   "metadata": {},
   "outputs": [
    {
     "name": "stdout",
     "output_type": "stream",
     "text": [
      "[1, 2, 3, 4] [1, 2, 3, 4]\n"
     ]
    }
   ],
   "source": [
    "a = [1,2,3]\n",
    "b = a\n",
    "a.append(4)\n",
    "print(a, b)"
   ]
  },
  {
   "cell_type": "markdown",
   "metadata": {},
   "source": [
    "Eine Kopie erstellen, um Seiteneffekte zu vermeiden:"
   ]
  },
  {
   "cell_type": "code",
   "execution_count": 115,
   "metadata": {},
   "outputs": [
    {
     "name": "stdout",
     "output_type": "stream",
     "text": [
      "[1, 2, 3, 4] [1, 2, 3]\n"
     ]
    }
   ],
   "source": [
    "a = [1,2,3]\n",
    "b = a[:]            \n",
    "a.append(4)\n",
    "print(a, b)"
   ]
  },
  {
   "cell_type": "markdown",
   "metadata": {},
   "source": [
    "#### Seiteneffekte bei flacher Kopie"
   ]
  },
  {
   "cell_type": "code",
   "execution_count": 116,
   "metadata": {},
   "outputs": [
    {
     "name": "stdout",
     "output_type": "stream",
     "text": [
      "[[1, 2], [3, 4]] [[1, 2], [3, 4]]\n"
     ]
    }
   ],
   "source": [
    "a = [1,2]\n",
    "b = [3,4]\n",
    "x = [a,b]\n",
    "y = x[:]          # flache Kopie\n",
    "print(x, y)"
   ]
  },
  {
   "cell_type": "code",
   "execution_count": 117,
   "metadata": {},
   "outputs": [
    {
     "name": "stdout",
     "output_type": "stream",
     "text": [
      "[[7, 2], [3, 4]] [[7, 2], [3, 4]]\n"
     ]
    }
   ],
   "source": [
    "a[0] = 7\n",
    "print(x, y)       # Seiteneffekt bei y"
   ]
  },
  {
   "cell_type": "code",
   "execution_count": 118,
   "metadata": {},
   "outputs": [
    {
     "name": "stdout",
     "output_type": "stream",
     "text": [
      "[[1, 2], [3, 4]] [[1, 2], [3, 4]]\n"
     ]
    }
   ],
   "source": [
    "from copy import deepcopy\n",
    "a = [1,2]\n",
    "b = [3,4]\n",
    "x = [a,b]\n",
    "y = deepcopy(x)\n",
    "print(x,y)"
   ]
  },
  {
   "cell_type": "code",
   "execution_count": 119,
   "metadata": {},
   "outputs": [
    {
     "name": "stdout",
     "output_type": "stream",
     "text": [
      "[[7, 2], [3, 4]] [[1, 2], [3, 4]]\n"
     ]
    }
   ],
   "source": [
    "a[0] = 7\n",
    "print(x,y)       # kein Seiteneffekt wegen tiefer Kopie"
   ]
  },
  {
   "cell_type": "markdown",
   "metadata": {},
   "source": [
    "#### Seiteneffekt bei Funktionen mit Listen als Parameter"
   ]
  },
  {
   "cell_type": "code",
   "execution_count": 120,
   "metadata": {},
   "outputs": [
    {
     "name": "stdout",
     "output_type": "stream",
     "text": [
      "5\n"
     ]
    }
   ],
   "source": [
    "def setzeNull(k):      # keine Seiteneffekt bei immutable Parameter\n",
    "    k = 0\n",
    "\n",
    "x = 5\n",
    "setzeNull(x)\n",
    "print(x)"
   ]
  },
  {
   "cell_type": "code",
   "execution_count": 121,
   "metadata": {},
   "outputs": [
    {
     "name": "stdout",
     "output_type": "stream",
     "text": [
      "[0]\n"
     ]
    }
   ],
   "source": [
    "def setzeNull(a):      # Seiteneffekt bei mutable Parameter\n",
    "    a[0] = 0\n",
    "\n",
    "x = [5]\n",
    "setzeNull(x)\n",
    "print(x)"
   ]
  },
  {
   "cell_type": "markdown",
   "metadata": {},
   "source": [
    "**Zur Vermeidung von Seiteneffekten in Funktionen machen wir uns von übergebenen Listen vor ihrer Veränderung eine Kopie.**"
   ]
  },
  {
   "cell_type": "code",
   "execution_count": 122,
   "metadata": {},
   "outputs": [
    {
     "data": {
      "text/plain": [
       "([1, 5, 9], [9, 5, 1])"
      ]
     },
     "execution_count": 122,
     "metadata": {},
     "output_type": "execute_result"
    }
   ],
   "source": [
    "def vertausche(a):\n",
    "    '''\n",
    "    a: Liste mit mindetens einem Element\n",
    "    returns: Liste mit erstem und letzten Elemet vertauscht\n",
    "    '''\n",
    "    tmp = a[:]\n",
    "    tmp[0],tmp[-1] = tmp[-1],tmp[0]\n",
    "    return tmp\n",
    "\n",
    "a = [1,5,9]\n",
    "b = vertausche(a)\n",
    "a, b\n"
   ]
  },
  {
   "cell_type": "markdown",
   "metadata": {},
   "source": [
    "#### Seiteneffekte beim Löschen von Listenelemente während eines Listendurchlaufs\n"
   ]
  },
  {
   "cell_type": "code",
   "execution_count": 123,
   "metadata": {},
   "outputs": [
    {
     "data": {
      "text/plain": [
       "[4, 7]"
      ]
     },
     "execution_count": 123,
     "metadata": {},
     "output_type": "execute_result"
    }
   ],
   "source": [
    "a = [2,4,7]                        \n",
    "for x in a:             # schlecht\n",
    "    if x % 2 == 0:\n",
    "        a.remove(x)\n",
    "a"
   ]
  },
  {
   "cell_type": "code",
   "execution_count": 124,
   "metadata": {},
   "outputs": [
    {
     "data": {
      "text/plain": [
       "[7]"
      ]
     },
     "execution_count": 124,
     "metadata": {},
     "output_type": "execute_result"
    }
   ],
   "source": [
    "a = [2,4,7]                   \n",
    "for x in a[:]:          # gut\n",
    "    if x % 2 == 0:\n",
    "        a.remove(x)\n",
    "a"
   ]
  }
 ],
 "metadata": {
  "kernelspec": {
   "display_name": "Python 3 (ipykernel)",
   "language": "python",
   "name": "python3"
  },
  "language_info": {
   "codemirror_mode": {
    "name": "ipython",
    "version": 3
   },
   "file_extension": ".py",
   "mimetype": "text/x-python",
   "name": "python",
   "nbconvert_exporter": "python",
   "pygments_lexer": "ipython3",
   "version": "3.9.12"
  }
 },
 "nbformat": 4,
 "nbformat_minor": 4
}
