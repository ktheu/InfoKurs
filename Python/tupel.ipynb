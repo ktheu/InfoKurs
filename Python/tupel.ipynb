{
 "cells": [
  {
   "cell_type": "markdown",
   "metadata": {},
   "source": [
    "# Tupel\n",
    "\n",
    "* eine angeordnete Sequenz von Elementen, zugreifbar durch Index, unterschiedliche Datentypen sind möglich \n",
    "* immutable, d.h. Elemente können nicht verändert werden \n",
    "* repräsentiert durch runde Klammern \n",
    "\n"
   ]
  },
  {
   "cell_type": "code",
   "execution_count": 5,
   "metadata": {},
   "outputs": [
    {
     "name": "stdout",
     "output_type": "stream",
     "text": [
      "()\n",
      "(3, 6, 1, 10, 42, 8)\n",
      "(1,)\n",
      "<class 'tuple'>\n",
      "1\n"
     ]
    }
   ],
   "source": [
    "t = ()                 # leeres Tupel\n",
    "print(t)\n",
    "t = (3,6,1,10,42,8)    # ein Tupel\n",
    "print(t)\n",
    "t = (1,)               # Tupel mit einem Element\n",
    "print(t)\n",
    "print(type(t))\n",
    "t = (1)                # kein Tupel, nur eine 1 in Klammern\n",
    "print(t)"
   ]
  },
  {
   "cell_type": "markdown",
   "metadata": {},
   "source": [
    "Tupel funktionieren im wesentlichen wie Listen, aber alle Operationen, die ein Tupel verändern würden, sind nicht möglich."
   ]
  },
  {
   "cell_type": "code",
   "execution_count": 1,
   "metadata": {},
   "outputs": [
    {
     "name": "stdout",
     "output_type": "stream",
     "text": [
      "1\n"
     ]
    },
    {
     "ename": "TypeError",
     "evalue": "'tuple' object does not support item assignment",
     "output_type": "error",
     "traceback": [
      "\u001b[1;31m---------------------------------------------------------------------------\u001b[0m",
      "\u001b[1;31mTypeError\u001b[0m                                 Traceback (most recent call last)",
      "Input \u001b[1;32mIn [1]\u001b[0m, in \u001b[0;36m<cell line: 3>\u001b[1;34m()\u001b[0m\n\u001b[0;32m      1\u001b[0m t \u001b[38;5;241m=\u001b[39m (\u001b[38;5;241m1\u001b[39m, \u001b[38;5;241m2\u001b[39m, \u001b[38;5;241m3\u001b[39m)\n\u001b[0;32m      2\u001b[0m \u001b[38;5;28mprint\u001b[39m(t[\u001b[38;5;241m0\u001b[39m])\n\u001b[1;32m----> 3\u001b[0m t[\u001b[38;5;241m0\u001b[39m] \u001b[38;5;241m=\u001b[39m \u001b[38;5;241m4\u001b[39m\n",
      "\u001b[1;31mTypeError\u001b[0m: 'tuple' object does not support item assignment"
     ]
    }
   ],
   "source": [
    "t = (1, 2, 3)\n",
    "print(t[0])\n",
    "t[0] = 4         # erzeugt Fehler"
   ]
  },
  {
   "cell_type": "markdown",
   "metadata": {},
   "source": [
    "#### Rückgabe mehrerer Werte in einer Funktion\n",
    "\n",
    "Gibt eine Funktion mehrere Werte zurück, so gibt sie eigentlich ein Tupel von Werten zurück. Meist werden die Werte durch *unpacking* geeigneten Variablen zugewiesen."
   ]
  },
  {
   "cell_type": "code",
   "execution_count": 5,
   "metadata": {},
   "outputs": [
    {
     "name": "stdout",
     "output_type": "stream",
     "text": [
      "(10, 21)\n",
      "<class 'tuple'>\n",
      "10\n",
      "21\n"
     ]
    }
   ],
   "source": [
    "def calc(a, b):\n",
    "    return a+b, a*b\n",
    "\n",
    "x = calc(3,7)       # ohne unpacking\n",
    "print(x)\n",
    "print(type(x))\n",
    "\n",
    "x, y = calc(3,7)    # mit unpacking\n",
    "print(x)\n",
    "print(y)"
   ]
  },
  {
   "cell_type": "markdown",
   "metadata": {},
   "source": [
    " "
   ]
  }
 ],
 "metadata": {
  "kernelspec": {
   "display_name": "Python 3 (ipykernel)",
   "language": "python",
   "name": "python3"
  },
  "language_info": {
   "codemirror_mode": {
    "name": "ipython",
    "version": 3
   },
   "file_extension": ".py",
   "mimetype": "text/x-python",
   "name": "python",
   "nbconvert_exporter": "python",
   "pygments_lexer": "ipython3",
   "version": "3.9.12"
  }
 },
 "nbformat": 4,
 "nbformat_minor": 4
}
