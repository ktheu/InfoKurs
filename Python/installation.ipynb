{
 "cells": [
  {
   "cell_type": "markdown",
   "id": "bc79d157-6ba8-4952-b978-feb8400f45f7",
   "metadata": {},
   "source": [
    "## Python\n",
    "\n",
    "### Was ist Python?\n",
    "\n",
    "Python ist eine **Sprache**, es ist kein **(Anwendungs)-Programm**. \n",
    "Für diese Sprache ist eine Grammatik definiert und eine Menge von Funktionalität. Dadurch ist aber noch kein ausführbares Programm entstanden."
   ]
  },
  {
   "cell_type": "markdown",
   "id": "c996e9bd-f568-4c02-9168-20b327633564",
   "metadata": {},
   "source": [
    "Es gibt verschiedene Implementationen der Sprache Python, z.B:\n",
    "\n",
    "- CPython (die Standard-Implementation)\n",
    "- PyPy\n",
    "- Jython (eine Implementation der Sprache Python mittels Java)\n",
    "\n",
    "CPython ist die am meisten benutzte Implementation von Python. Es ist in C geschrieben und es ist open-source. https://github.com/python/cpython."
   ]
  },
  {
   "cell_type": "markdown",
   "id": "039142e0-8f37-4a1e-9597-102d59964033",
   "metadata": {
    "tags": []
   },
   "source": [
    "CPython beinhaltet auch eine **standard library** mit Funktionalitäten, die über die Sprache Python hinausgehen. Diese zusätzlichen Funktionalitäten sind entweder in C oder in Python geschrieben.\n",
    "\n",
    "CPython ist das \"offizielle Python\", es ist das, was man auf https://www.python.org/  downloaden kann. Im Folgenden machen wir keinen Unterschied mehr zwischen \"Python\" und \"CPython\"."
   ]
  },
  {
   "cell_type": "markdown",
   "id": "f104a621-afe3-46ef-8564-23ce0b98bb17",
   "metadata": {},
   "source": [
    "### Installation\n",
    "\n",
    "Python besteht aus einer Menge von Files in einem Ordner. Ein File in diesem Ordner ist das ausführbare Programm **python.exe**. Verschiedene Versionen von Python können nebeneinander bestehen, es sind einfach verschiedene Ordner.\n",
    "\n",
    "Es gibt viele Bibliotheken (**3rd party libraries**), die weitere Funktionalitäten liefern, z.B. *numpy* für numerische Berechnungen.\n",
    "Für verschiedene Anwendungsfälle kann es notwendig sein, bestimmte Python-Versionen mit bestimmten Versionen von weiteren Bibliotheken zusammenzufassen. Dazu nutzt man **virtual environments**.\n"
   ]
  },
  {
   "cell_type": "markdown",
   "id": "fa33e094-db8b-445e-a173-6982ee6ef415",
   "metadata": {},
   "source": [
    "#### Installation ohne virtual environments\n",
    "\n",
    "Wir wählen (zunächst) die einfachste Installation ohne virtual environments: wir fügen bei der Installation den Python-Ordner in den Systempfad ein."
   ]
  },
  {
   "cell_type": "markdown",
   "id": "439afe82-95d7-44c8-9fc5-97d7f850d14f",
   "metadata": {},
   "source": [
    "1. Überprüfe, ob Python schon installiert ist. Erstelle mit CMD eine Konsole und gib ein: *python*. Wenn Python nicht installiert ist, kommt eine Fehlermeldung, ansonsten wird Python gestartet (beenden mit der Eingabe von *exit()*).\n",
    "   Es muss nicht die aktuellste Version sein, sollte aber mindestens 3.9 sein.\n",
    "\n",
    "2. Falls Python nicht installiert ist, lade die aktuelle Python-Version auf https://www.python.org/ herunter. **Setze bei der Installation das Häkchen bei: Add python.exe to PATH**.\n",
    "\n",
    "\n",
    "3. Installiere die zusätzlichen Bibliotheken. Gib nacheinander in der Konsole ein:\n",
    "\n",
    "```\n",
    "pip install numpy\n",
    "pip install matplotlib\n",
    "pip install jupyterlab\n",
    "\n",
    "```\n",
    "\n",
    "4. Installiere Visual Studio Code https://code.visualstudio.com/ und die empfohlene Python-Extension."
   ]
  },
  {
   "cell_type": "markdown",
   "id": "8c4a5942-eb54-4de8-b91f-b178b0a1ec06",
   "metadata": {},
   "source": [
    "### Python ausführen\n",
    "\n",
    "Python ist ein Compiler und ein Interpreter.\n",
    "Python-Code ist Text. Der Python-Compiler prüft, ob die Syntax korrekt ist und übersetzt diesen Text in ein Zwischenformat (bytecode). Der ist nicht mehr lesbar, aber auch noch nicht ausführbar. Dann wird dieser bytecode der virtual machine übergeben. Das ist ein weiterer Teil von Python, der abhängig vom Betriebssystem ist. Diese virtual machine interpretiert den bytecode und führt ihn auf dem jeweiligen Betriebssystem aus. \n",
    "\n",
    "Python kann diesen Ablauf in zwei Arten durchführen:\n",
    "\n",
    "1. *interactive mode*: Die eingegebene Codezeile/Codeblock wird sofort kompiliert und ausgeführt. Das Ergebnis kommt unmittelbar zurück. Dann kann weitere Code eingeben werden. Das macht man in der Python-Shell (Python-REPL: read-eval-print-loop).\n",
    "\n",
    "2. *script mode*: Der gesamte Pythoncode wird in einer Datei gesammelt und dann insgesamt dem Python-Compiler und Interpreter übergeben.\n",
    "\n",
    "Für beide Modi nutzen wir Hilfsprogramme, die uns die Arbeit erleichtern: \n",
    "\n",
    "**JupyterLab** für den *interactive mode* und **Visual Studio Code** für den *script mode*. \n"
   ]
  },
  {
   "cell_type": "code",
   "execution_count": null,
   "id": "30d254a6-07c1-4d82-adda-f76ed969c57c",
   "metadata": {},
   "outputs": [],
   "source": []
  }
 ],
 "metadata": {
  "kernelspec": {
   "display_name": "Python 3 (ipykernel)",
   "language": "python",
   "name": "python3"
  },
  "language_info": {
   "codemirror_mode": {
    "name": "ipython",
    "version": 3
   },
   "file_extension": ".py",
   "mimetype": "text/x-python",
   "name": "python",
   "nbconvert_exporter": "python",
   "pygments_lexer": "ipython3",
   "version": "3.11.2"
  }
 },
 "nbformat": 4,
 "nbformat_minor": 5
}
