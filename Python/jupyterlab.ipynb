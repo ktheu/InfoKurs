{
 "cells": [
  {
   "cell_type": "markdown",
   "id": "54d89022-f176-49fa-a2cd-94e6e3bcfce1",
   "metadata": {},
   "source": [
    "### JupyterLab - Grundfunktionen\n",
    "\n",
    "#### Start/Stop\n",
    "*Start*: In VS-Code ein Terminal öffnen und eingeben: ```jupyter lab```.\n",
    "*Stop*: Strg+C im Terminal"
   ]
  },
  {
   "cell_type": "markdown",
   "id": "6a99aecd-cee4-49f5-b402-b3f8911a19fa",
   "metadata": {},
   "source": [
    "#### Neues Notebook erstellen\n",
    "\n",
    "Ggf durch Click auf ```+``` auf der linken Seite ein Launcher-Tab erstellen, dann auf das Python-Symbol unter *Notebook* clicken. Links in der File-Übersicht das entstandene Notebook ```untitled.ipynb``` mit Rechtsclick selektieren und ggf. umbenennen.\n"
   ]
  },
  {
   "cell_type": "markdown",
   "id": "d6b10602-7caf-4f0b-8973-ce6b35f61fc7",
   "metadata": {},
   "source": [
    "#### Neue Zelle erstellen \n",
    "Durch Click auf ```+``` oberhalb der Hauptarbeitsbereichs entsteht eine neue Zelle. Standardmäßig eine Code-Zelle.\n",
    "\n",
    "**Strg + Enter** - Ausführen der Zelle und Sprung zur nächsten Zelle <br>\n",
    "**Shift + Enter** - Ausführen der Zelle ohne Sprung in die nächste Zelle\n"
   ]
  },
  {
   "cell_type": "markdown",
   "id": "06508a13-6365-4206-9357-fb650a9bd4e0",
   "metadata": {},
   "source": [
    "#### Zelle löschen  \n",
    "Mit dem Cursor *neben* die Zelle klicken, dann zweimal Taste ```D```. \n",
    "\n",
    "\n"
   ]
  },
  {
   "cell_type": "markdown",
   "id": "e7027075-a05f-44b0-8017-6db837efed45",
   "metadata": {},
   "source": [
    "#### Umwandeln einer Code-Zelle in eine Markup-Zelle\n",
    "\n",
    "Mit dem Cursor *neben* die Zelle klicken, dann zweimal Taste ```M```. "
   ]
  }
 ],
 "metadata": {
  "kernelspec": {
   "display_name": "Python 3 (ipykernel)",
   "language": "python",
   "name": "python3"
  },
  "language_info": {
   "codemirror_mode": {
    "name": "ipython",
    "version": 3
   },
   "file_extension": ".py",
   "mimetype": "text/x-python",
   "name": "python",
   "nbconvert_exporter": "python",
   "pygments_lexer": "ipython3",
   "version": "3.11.2"
  }
 },
 "nbformat": 4,
 "nbformat_minor": 5
}
