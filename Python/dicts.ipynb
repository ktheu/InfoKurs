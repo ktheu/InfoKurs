{
 "cells": [
  {
   "cell_type": "markdown",
   "metadata": {},
   "source": [
    "## Dictionaries\n",
    "\n",
    "Bei Listen können wir über einen Index auf einen Wert zugreifen. Der Index ist dabei eine nicht-negative ganze Zahl. Bei dictionaries kann der Index auch ein anderer Datentyp sein. \n",
    "\n",
    "Die Bestandteile der Zuordnung nennt man **key** und **value**\n",
    "\n"
   ]
  },
  {
   "cell_type": "code",
   "execution_count": 38,
   "metadata": {},
   "outputs": [
    {
     "name": "stdout",
     "output_type": "stream",
     "text": [
      "<class 'dict'>\n"
     ]
    }
   ],
   "source": [
    "noten = {}             # leeres dict\n",
    "print(type(noten))\n",
    "# keys: Thorben, Soeren, Maike,  values: 2, 3, 2\n",
    "noten = {'Thorben':2, 'Soeren':3, 'Maike':2}"
   ]
  },
  {
   "cell_type": "markdown",
   "metadata": {},
   "source": [
    "##### Zugriff auf die values über die keys"
   ]
  },
  {
   "cell_type": "code",
   "execution_count": 39,
   "metadata": {},
   "outputs": [
    {
     "name": "stdout",
     "output_type": "stream",
     "text": [
      "3\n",
      "3\n",
      "None\n"
     ]
    }
   ],
   "source": [
    "n1 = noten['Soeren']\n",
    "print(n1)\n",
    "n2 = noten.get('Soeren')\n",
    "print(n2)\n",
    "# n3 = noten.get('Lena')      erzeugt Fehler, da key nicht in dict\n",
    "n4 = noten.get('Lena')\n",
    "print(n4)"
   ]
  },
  {
   "cell_type": "markdown",
   "metadata": {},
   "source": [
    "##### Ändern, Hinzufügen und Löschen von key-value Paaren"
   ]
  },
  {
   "cell_type": "code",
   "execution_count": 40,
   "metadata": {},
   "outputs": [
    {
     "name": "stdout",
     "output_type": "stream",
     "text": [
      "{'Thorben': 2, 'Soeren': 3, 'Maike': 2, 'Lena': 3}\n",
      "{'Thorben': 1, 'Soeren': 3, 'Maike': 2, 'Lena': 3}\n",
      "{'Thorben': 1, 'Maike': 2, 'Lena': 3}\n"
     ]
    }
   ],
   "source": [
    "noten = {'Thorben':2, 'Soeren':3, 'Maike':2}\n",
    "noten['Lena'] = 3            # Hinzufügen \n",
    "print(noten)\n",
    "noten['Thorben'] = 1         # Ändern\n",
    "print(noten)\n",
    "del(noten['Soeren'])         # Löschen\n",
    "print(noten)\n"
   ]
  },
  {
   "cell_type": "markdown",
   "metadata": {},
   "source": [
    "##### Weitere Funktionen"
   ]
  },
  {
   "cell_type": "code",
   "execution_count": 41,
   "metadata": {},
   "outputs": [
    {
     "name": "stdout",
     "output_type": "stream",
     "text": [
      "False\n",
      "3\n"
     ]
    }
   ],
   "source": [
    "noten = {'Thorben':2, 'Soeren':3, 'Maike':2}\n",
    "b = 'Meike' in noten                     # key vorhanden?\n",
    "print(b)\n",
    "k = len(noten)                           # anzahl key-value Paare\n",
    "print(k)"
   ]
  },
  {
   "cell_type": "markdown",
   "metadata": {},
   "source": [
    "#### Liste von keys, values, item erzeugen"
   ]
  },
  {
   "cell_type": "code",
   "execution_count": 42,
   "metadata": {},
   "outputs": [
    {
     "name": "stdout",
     "output_type": "stream",
     "text": [
      "['Thorben', 'Soeren', 'Maike']\n",
      "[2, 3, 2]\n",
      "[('Thorben', 2), ('Soeren', 3), ('Maike', 2)]\n"
     ]
    }
   ],
   "source": [
    "a1 = list(noten.keys())\n",
    "print(a1)\n",
    "a2 = list(noten.values())\n",
    "print(a2)\n",
    "a3 = list(noten.items())\n",
    "print(a3)"
   ]
  },
  {
   "cell_type": "markdown",
   "metadata": {},
   "source": [
    "##### Mit einer for-Schleife ein dict durchlaufen"
   ]
  },
  {
   "cell_type": "code",
   "execution_count": 43,
   "metadata": {},
   "outputs": [
    {
     "name": "stdout",
     "output_type": "stream",
     "text": [
      "Thorben\n",
      "Soeren\n",
      "Maike\n",
      "----\n",
      "Thorben\n",
      "Soeren\n",
      "Maike\n",
      "----\n",
      "2\n",
      "3\n",
      "2\n",
      "----\n",
      "('Thorben', 2)\n",
      "('Soeren', 3)\n",
      "('Maike', 2)\n"
     ]
    }
   ],
   "source": [
    "for x in noten:                      # alle keys durchlaufen     \n",
    "    print(x)\n",
    "    \n",
    "print('----')\n",
    "\n",
    "for x in noten.keys():               # alle keys durchlaufen\n",
    "    print(x)\n",
    "    \n",
    "print('----')\n",
    "\n",
    "for x in noten.values():             # alle values durchlaufen\n",
    "    print(x)\n",
    "    \n",
    "print('----')\n",
    "\n",
    "for x in noten.items():              # alle key-value Tupel durchlaufen\n",
    "    print(x)"
   ]
  },
  {
   "cell_type": "code",
   "execution_count": 44,
   "metadata": {},
   "outputs": [
    {
     "name": "stdout",
     "output_type": "stream",
     "text": [
      "Thorben -> 2\n",
      "Soeren -> 3\n",
      "Maike -> 2\n"
     ]
    }
   ],
   "source": [
    "for k,v in noten.items():            # key und value in getrennten Variablen durchlaufen\n",
    "    print(k,'->',v)"
   ]
  },
  {
   "cell_type": "markdown",
   "metadata": {},
   "source": [
    "##### Datentypen für keys und values\n",
    "\n",
    "* values: kann jeder Datentyp sein, auch doppelte Werte ok. <br>\n",
    "* keys: müssen eindeutig sein, wir verwenden zunächst nur die immutable Typen: int, string, tuple (eigentliche Bedingung: die Typen müssen hashable sein). <br>\n",
    "* weder für keys noch für values ist eine Anordnung garantiert."
   ]
  }
 ],
 "metadata": {
  "kernelspec": {
   "display_name": "Python 3 (ipykernel)",
   "language": "python",
   "name": "python3"
  },
  "language_info": {
   "codemirror_mode": {
    "name": "ipython",
    "version": 3
   },
   "file_extension": ".py",
   "mimetype": "text/x-python",
   "name": "python",
   "nbconvert_exporter": "python",
   "pygments_lexer": "ipython3",
   "version": "3.9.12"
  }
 },
 "nbformat": 4,
 "nbformat_minor": 4
}
