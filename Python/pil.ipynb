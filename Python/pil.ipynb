{
 "cells": [
  {
   "cell_type": "markdown",
   "id": "7dbdf07a-7614-4668-b4cd-b388527bbb8d",
   "metadata": {},
   "source": [
    "### PIL\n",
    "\n",
    "PIL ist die Python Image Library. Damit können wir Bilder erstellen und manipulieren. [doc](https://pillow.readthedocs.io/en/stable/handbook/index.html)"
   ]
  },
  {
   "cell_type": "code",
   "execution_count": 121,
   "id": "a4c5f9b7-f004-42b4-8d83-244c7870f3c4",
   "metadata": {},
   "outputs": [
    {
     "data": {
      "image/png": "[encoded data removed]",
      "text/plain": [
       "<PIL.Image.Image image mode=L size=100x100 at 0x2FAA0C1E370>"
      ]
     },
     "metadata": {},
     "output_type": "display_data"
    }
   ],
   "source": [
    "from PIL import Image\n",
    "img = Image.new('L', (100,100), 200)   # mode L = Graustufen 0 - 255\n",
    "display(img)"
   ]
  },
  {
   "cell_type": "code",
   "execution_count": 122,
   "id": "b10db542-34d1-4402-bdf9-ab2a9c4ae14b",
   "metadata": {},
   "outputs": [
    {
     "data": {
      "image/png": "[encoded data removed]",
      "text/plain": [
       "<PIL.Image.Image image mode=L size=100x100 at 0x2FAA0C1E370>"
      ]
     },
     "metadata": {},
     "output_type": "display_data"
    }
   ],
   "source": [
    "# setzen einiger Pixelwerte mittels Koordinaten\n",
    "pixels = img.load()  \n",
    "for i in range(100):\n",
    "    for j in range(70,80):\n",
    "        pixels[i,j] = 60\n",
    "display(img) "
   ]
  },
  {
   "cell_type": "code",
   "execution_count": 126,
   "id": "fad69f13-4bad-49d5-8711-d96834cda00b",
   "metadata": {},
   "outputs": [
    {
     "data": {
      "image/png": "[encoded data removed]",
      "text/plain": [
       "<PIL.Image.Image image mode=L size=100x100 at 0x2FAA0C1EDC0>"
      ]
     },
     "metadata": {},
     "output_type": "display_data"
    }
   ],
   "source": [
    "# setzen von Pixelwerten durch array-Anweisungen\n",
    "import numpy as np\n",
    "b = np.asarray(img)\n",
    "b[range(10,20),:] = 140 \n",
    "b[45:55,45:55] = 255\n",
    "img = Image.fromarray(b,mode='L')\n",
    "display(img)"
   ]
  },
  {
   "cell_type": "markdown",
   "id": "1f83a0c2-7d27-4ed1-8686-df5ab7bf048d",
   "metadata": {},
   "source": [
    "#### PIL in Replit\n",
    "\n",
    "Die Funktion display funktioniert in Jupyter Notebooks. In Replit kann man das erstellte Image speichern und dann anschauen."
   ]
  },
  {
   "cell_type": "code",
   "execution_count": 1,
   "id": "d00d4b4f-e4ee-4717-9090-a04964a1835f",
   "metadata": {},
   "outputs": [],
   "source": [
    "from PIL import Image\n",
    "img = Image.new('L', (100,100), 200)   # mode L = Graustufen 0 - 255\n",
    "img.save('bild.png')"
   ]
  }
 ],
 "metadata": {
  "kernelspec": {
   "display_name": "Python 3 (ipykernel)",
   "language": "python",
   "name": "python3"
  },
  "language_info": {
   "codemirror_mode": {
    "name": "ipython",
    "version": 3
   },
   "file_extension": ".py",
   "mimetype": "text/x-python",
   "name": "python",
   "nbconvert_exporter": "python",
   "pygments_lexer": "ipython3",
   "version": "3.9.12"
  },
  "vscode": {
   "interpreter": {
    "hash": "66cef8b640515d50f1dd36261b6c0429b289e00e05e66082067e4520c88a4539"
   }
  }
 },
 "nbformat": 4,
 "nbformat_minor": 5
}
