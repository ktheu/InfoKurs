{
 "cells": [
  {
   "cell_type": "markdown",
   "id": "d172a221-152d-44c1-8a12-9d064d5f221d",
   "metadata": {},
   "source": [
    "## Itertools\n",
    "\n",
    "Das Modul itertools stellt Funktionen zum Erzeugen von Kombinationen und Permutationen zur Verfügung."
   ]
  },
  {
   "cell_type": "code",
   "execution_count": 1,
   "id": "54a3aa7b-e93a-44cc-a80e-1ba57c6dc614",
   "metadata": {},
   "outputs": [],
   "source": []
  },
  {
   "cell_type": "markdown",
   "id": "de76fdea-c89c-4df3-ae07-736a5e7a3608",
   "metadata": {},
   "source": [
    "#### Kombinationen\n",
    "Bei Kombinationen spielt die Reihenfolge der Elemente keine Rolle, d.h. (1,2) ist dasselbe wie (2,1)."
   ]
  },
  {
   "cell_type": "code",
   "execution_count": 10,
   "id": "56527e2c-b499-4f02-b786-18320141c9eb",
   "metadata": {},
   "outputs": [
    {
     "name": "stdout",
     "output_type": "stream",
     "text": [
      "(1, 2)\n",
      "(1, 3)\n",
      "(1, 4)\n",
      "(1, 5)\n",
      "(2, 3)\n",
      "(2, 4)\n",
      "(2, 5)\n",
      "(3, 4)\n",
      "(3, 5)\n",
      "(4, 5)\n"
     ]
    }
   ],
   "source": [
    "import itertools as it\n",
    "a = [1,2,3,4,5]\n",
    "\n",
    "# alle 2-elementigen Kombinationen als Tupel\n",
    "for x in it.combinations(a,2):\n",
    "    print(x)"
   ]
  },
  {
   "cell_type": "markdown",
   "id": "cb25924e-1d71-47ae-9d63-3491dc577993",
   "metadata": {},
   "source": [
    "#### Permutationen\n",
    "Bei Permutationen spielt die Reihenfolge der Elemente eine Rolle, d.h (1,2) ist verschieden von (2,1)."
   ]
  },
  {
   "cell_type": "code",
   "execution_count": 11,
   "id": "57940cd5-6031-4f7c-98f6-65d387b7589b",
   "metadata": {},
   "outputs": [
    {
     "name": "stdout",
     "output_type": "stream",
     "text": [
      "(1, 2)\n",
      "(1, 3)\n",
      "(1, 4)\n",
      "(1, 5)\n",
      "(2, 1)\n",
      "(2, 3)\n",
      "(2, 4)\n",
      "(2, 5)\n",
      "(3, 1)\n",
      "(3, 2)\n",
      "(3, 4)\n",
      "(3, 5)\n",
      "(4, 1)\n",
      "(4, 2)\n",
      "(4, 3)\n",
      "(4, 5)\n",
      "(5, 1)\n",
      "(5, 2)\n",
      "(5, 3)\n",
      "(5, 4)\n"
     ]
    }
   ],
   "source": [
    "a = [1,2,3,4,5]\n",
    "\n",
    "# alle 2-elementigen Kombinationen als Tupel\n",
    "for x in it.permutations(a,2):\n",
    "    print(x)"
   ]
  },
  {
   "cell_type": "code",
   "execution_count": null,
   "id": "20e89a48-165d-44b0-8fc2-821fcd5b872c",
   "metadata": {},
   "outputs": [],
   "source": []
  }
 ],
 "metadata": {
  "kernelspec": {
   "display_name": "Python 3 (ipykernel)",
   "language": "python",
   "name": "python3"
  },
  "language_info": {
   "codemirror_mode": {
    "name": "ipython",
    "version": 3
   },
   "file_extension": ".py",
   "mimetype": "text/x-python",
   "name": "python",
   "nbconvert_exporter": "python",
   "pygments_lexer": "ipython3",
   "version": "3.9.12"
  }
 },
 "nbformat": 4,
 "nbformat_minor": 5
}
