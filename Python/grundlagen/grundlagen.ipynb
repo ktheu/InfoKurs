{
 "cells": [
  {
   "cell_type": "markdown",
   "metadata": {},
   "source": [
    "## Grundlagen\n"
   ]
  },
  {
   "cell_type": "markdown",
   "metadata": {},
   "source": [
    "### Variablen, Zuweisungen, Datentypen\n",
    "\n",
    "Mit einer Zuweisung ordnen wir einer Variablen einen Wert zu. Wir können unterschiedliche Typen zuweisen."
   ]
  },
  {
   "cell_type": "code",
   "execution_count": 44,
   "metadata": {},
   "outputs": [],
   "source": [
    "k = 8                     # int\n",
    "x = 3.2                   # float\n",
    "s = 'Hello'               # String\n",
    "b = True                  # boolean"
   ]
  },
  {
   "cell_type": "markdown",
   "metadata": {},
   "source": [
    "Den aktuellen Datentyp einer Variablen können wir mit der Funktion *type* ermitteln.\n"
   ]
  },
  {
   "cell_type": "code",
   "execution_count": 45,
   "metadata": {},
   "outputs": [
    {
     "name": "stdout",
     "output_type": "stream",
     "text": [
      "<class 'int'>\n",
      "<class 'float'>\n",
      "<class 'str'>\n",
      "<class 'bool'>\n"
     ]
    }
   ],
   "source": [
    "print(type(k))\n",
    "print(type(x))\n",
    "print(type(s))\n",
    "print(type(b))\n"
   ]
  },
  {
   "cell_type": "markdown",
   "metadata": {},
   "source": [
    "Wir können den Wert von Variablen durch erneute Zuweisung verändern."
   ]
  },
  {
   "cell_type": "code",
   "execution_count": 46,
   "metadata": {},
   "outputs": [
    {
     "name": "stdout",
     "output_type": "stream",
     "text": [
      "6\n"
     ]
    }
   ],
   "source": [
    "x = 5\n",
    "x = x + 1\n",
    "print(x)"
   ]
  },
  {
   "cell_type": "markdown",
   "metadata": {},
   "source": [
    "Für besonders häufig vorkommende Zuweisungen gibt es Kurzformen"
   ]
  },
  {
   "cell_type": "code",
   "execution_count": 47,
   "metadata": {},
   "outputs": [],
   "source": [
    "x += 1    # entspricht  x = x + 1\n",
    "x -= 1    # entspricht  x = x - 1\n",
    "x *= 2    # entspricht  x = x * 2 ... usw."
   ]
  },
  {
   "cell_type": "markdown",
   "metadata": {},
   "source": [
    "### Variablennamen\n",
    "\n",
    "Variablennamen sind case-sensitiv. Nach mindestens einem führenden Buchstaben oder Unterstrich kann so ziemlich\n",
    "jedes Zeichen folgen. Wir schränken uns freiwillig ein und nehmen in der Regel nur Unterstrich, die Buchstaben des englischen Alphabets und\n",
    "die Ziffern.\n",
    "\n",
    "Wenn es der Lesbarkeit des Programms nicht schadet, erlauben wir uns kurze Variablennamen."
   ]
  },
  {
   "cell_type": "code",
   "execution_count": 48,
   "metadata": {},
   "outputs": [],
   "source": [
    "i = 0\n",
    "s = 'Habicht'\n",
    "b = True\n",
    "x = 2.5"
   ]
  },
  {
   "cell_type": "markdown",
   "metadata": {},
   "source": [
    "Ansonsten nehmen wir sprechende Namen, beginnend mit einem kleinen Buchstaben. Zusammengesetze Namen entweder in _camelCase_ oder mit Unterstrich verbunden."
   ]
  },
  {
   "cell_type": "code",
   "execution_count": 49,
   "metadata": {},
   "outputs": [],
   "source": [
    "zaehl = 1\n",
    "radius = 2.2\n",
    "anzahlTreffer = 5            # camelCase\n",
    "entfernungZurWand = 3.2\n",
    "anzahl_treffer = 5           # mit Unterstrich\n",
    "entfernung_zur_wand = 3.2"
   ]
  },
  {
   "cell_type": "markdown",
   "metadata": {},
   "source": [
    "### Strings\n",
    "\n",
    "Strings sind Zeichenketten, sie werden in einfachen oder doppelten Hochkommata eingeschlossen. Mit dem Zeichen + können wir Strings aneinanderpappen (konkatenieren). Wir werden später noch weitere Funktionen und Methoden mit Strings kennenlernen.\n",
    "\n"
   ]
  },
  {
   "cell_type": "code",
   "execution_count": 50,
   "metadata": {},
   "outputs": [
    {
     "name": "stdout",
     "output_type": "stream",
     "text": [
      "Hello world1 - Hello world2\n"
     ]
    }
   ],
   "source": [
    "s1 = 'Hello world1'\n",
    "s2 = \"Hello world2\"\n",
    "s3 = s1 + ' - ' + s2\n",
    "print(s3)"
   ]
  },
  {
   "cell_type": "markdown",
   "metadata": {},
   "source": [
    "### Ausgabe mit f-String\n",
    "\n",
    "Mit der Funktion *print* können wir Werte ausgeben. Für mit Komma getrennte Werte wird standardmäßig ein Leerzeichen ausgegeben. Meist nutzen wir zur Ausgabe einen f-String."
   ]
  },
  {
   "cell_type": "code",
   "execution_count": 51,
   "metadata": {},
   "outputs": [
    {
     "name": "stdout",
     "output_type": "stream",
     "text": [
      "7 mal 8 ergibt 56 .\n",
      "7 mal 8 ergibt 56.\n"
     ]
    }
   ],
   "source": [
    "a = 7\n",
    "b = 8\n",
    "print(a, 'mal', b, 'ergibt', a*b ,'.')  \n",
    "print(f'{a} mal {b} ergibt {a*b}.')\n"
   ]
  },
  {
   "cell_type": "markdown",
   "metadata": {},
   "source": [
    "Die Ausgabe in einem f-String können wir mittels [Formatangaben](https://docs.python.org/3/library/string.html#formatspec) kontrollieren. "
   ]
  },
  {
   "cell_type": "code",
   "execution_count": 52,
   "metadata": {},
   "outputs": [
    {
     "name": "stdout",
     "output_type": "stream",
     "text": [
      "3.3333333333333335\n",
      "3.33\n"
     ]
    }
   ],
   "source": [
    "x = 10 / 3\n",
    "print(x)\n",
    "print(f'{x:.2f}')       # wir wollen nur 2 Nachkommastellen ausgeben"
   ]
  },
  {
   "cell_type": "markdown",
   "metadata": {},
   "source": [
    "### Kommentare\n",
    "\n",
    "Kommentare werden nicht ausgeführt. Sie dienen zur Dokumentation.\n",
    "\n"
   ]
  },
  {
   "cell_type": "code",
   "execution_count": 53,
   "metadata": {},
   "outputs": [],
   "source": [
    "'''\n",
    "Die ist ein\n",
    "mehrzeiliger Kommentar\n",
    "'''\n",
    "x = 1\n",
    "\n",
    "# dies ist ein einzeiliger Kommentar \n",
    "\n",
    "y = 2\n",
    "\n",
    "z = 3   # auch dies ist ein Kommentar"
   ]
  },
  {
   "cell_type": "markdown",
   "metadata": {},
   "source": [
    "### Arithmetische Operatoren"
   ]
  },
  {
   "cell_type": "markdown",
   "metadata": {},
   "source": [
    "Grundrechenarten, Exponentation, Modulo-Operator, ganzzahlige Division"
   ]
  },
  {
   "cell_type": "code",
   "execution_count": 54,
   "metadata": {},
   "outputs": [
    {
     "name": "stdout",
     "output_type": "stream",
     "text": [
      "14 8 33 3.6666666666666665 1331 2 3\n"
     ]
    }
   ],
   "source": [
    "x1 = 11 + 3\n",
    "x2 = 11 - 3\n",
    "x3 = 11 * 3\n",
    "x4 = 11 / 3\n",
    "x5 = 11 ** 3           # 11 hoch 3\n",
    "x6 = 11 % 3            # 11 modulo 3 = Rest bei der Division 11 / 3\n",
    "x7 = 11 // 3           # ganzzahlige Division \n",
    "print(x1, x2, x3, x4, x5, x6, x7)"
   ]
  },
  {
   "cell_type": "markdown",
   "metadata": {},
   "source": [
    "Auswertungsreihenfolge bei arithmetischen Ausdrücken:\n",
    "\n",
    "```\n",
    "Klammern, **, {* / // %},{+ -}\n",
    "```\n",
    "\n",
    "Zuerst die Klammern, dann die Exponentation, dann die Punktrechnung, dann die Strichrechnung.\n",
    "Bei gleichwertigen Operatoren von links nach rechts, außer Exponentiation, die wird ohne\n",
    "Klammerung von rechts nach links ausgewertet."
   ]
  },
  {
   "cell_type": "code",
   "execution_count": 43,
   "metadata": {},
   "outputs": [
    {
     "name": "stdout",
     "output_type": "stream",
     "text": [
      "0 2\n"
     ]
    }
   ],
   "source": [
    "x1 = 2 // 3 // 2\n",
    "x2 = 2 // (3 // 2)\n",
    "print(x1, x2)"
   ]
  },
  {
   "cell_type": "code",
   "execution_count": 39,
   "metadata": {},
   "outputs": [
    {
     "name": "stdout",
     "output_type": "stream",
     "text": [
      "512 64\n"
     ]
    }
   ],
   "source": [
    "x1 = 2 ** 3 ** 2\n",
    "x2 = (2 ** 3) ** 2\n",
    "print(x1, x2)"
   ]
  },
  {
   "cell_type": "markdown",
   "metadata": {},
   "source": [
    "### Mehrdeutigkeit von Operatoren\n",
    "\n",
    "Manche Operatoren haben unterschiedliche Bedeutung, je nachdem welche Typen die beteiligten Objekte haben. Wenn der Operator für die beteiligten Typen nicht definiert ist, kommt es zu einer Fehlermeldung."
   ]
  },
  {
   "cell_type": "code",
   "execution_count": 55,
   "metadata": {},
   "outputs": [
    {
     "name": "stdout",
     "output_type": "stream",
     "text": [
      "7\n",
      "34\n"
     ]
    }
   ],
   "source": [
    "print(3 + 4)\n",
    "print('3' + '4')"
   ]
  },
  {
   "cell_type": "code",
   "execution_count": 56,
   "metadata": {},
   "outputs": [
    {
     "name": "stdout",
     "output_type": "stream",
     "text": [
      "12\n",
      "3333\n"
     ]
    }
   ],
   "source": [
    "print(3 * 4)\n",
    "print('3' * 4)"
   ]
  },
  {
   "cell_type": "code",
   "execution_count": 57,
   "metadata": {},
   "outputs": [
    {
     "ename": "TypeError",
     "evalue": "can't multiply sequence by non-int of type 'str'",
     "output_type": "error",
     "traceback": [
      "\u001b[1;31m---------------------------------------------------------------------------\u001b[0m",
      "\u001b[1;31mTypeError\u001b[0m                                 Traceback (most recent call last)",
      "Input \u001b[1;32mIn [57]\u001b[0m, in \u001b[0;36m<cell line: 1>\u001b[1;34m()\u001b[0m\n\u001b[1;32m----> 1\u001b[0m \u001b[38;5;28mprint\u001b[39m(\u001b[38;5;124;43m'\u001b[39;49m\u001b[38;5;124;43m3\u001b[39;49m\u001b[38;5;124;43m'\u001b[39;49m\u001b[43m \u001b[49m\u001b[38;5;241;43m*\u001b[39;49m\u001b[43m \u001b[49m\u001b[38;5;124;43m'\u001b[39;49m\u001b[38;5;124;43m4\u001b[39;49m\u001b[38;5;124;43m'\u001b[39;49m)\n",
      "\u001b[1;31mTypeError\u001b[0m: can't multiply sequence by non-int of type 'str'"
     ]
    }
   ],
   "source": [
    "print('3' * '4')"
   ]
  },
  {
   "cell_type": "markdown",
   "metadata": {},
   "source": [
    "### Typumwandlung"
   ]
  },
  {
   "cell_type": "markdown",
   "metadata": {},
   "source": [
    "Die Eingabe mit input liefert immer einen String. Will man mit der Eingabe als Zahl rechnen, muss man sie in einen geeigneten Typ (int oder float) umwandeln.\n",
    "\n",
    "##### Die Funktion int()"
   ]
  },
  {
   "cell_type": "code",
   "execution_count": 78,
   "metadata": {},
   "outputs": [
    {
     "name": "stdout",
     "output_type": "stream",
     "text": [
      "Bitte eine Zahl eingeben  4\n",
      "444\n",
      "<class 'str'>\n"
     ]
    }
   ],
   "source": [
    "x1 = input('Bitte eine Zahl eingeben ')\n",
    "print(3 * x1)\n",
    "print(type(x1))"
   ]
  },
  {
   "cell_type": "code",
   "execution_count": 80,
   "metadata": {},
   "outputs": [
    {
     "name": "stdout",
     "output_type": "stream",
     "text": [
      "Bitte eine Zahl eingeben  4\n",
      "12\n",
      "<class 'int'>\n"
     ]
    }
   ],
   "source": [
    "x1 = int(input('Bitte eine Zahl eingeben '))      # String-Eingabe wird in ein int umgewandelt\n",
    "print(3 * x1)\n",
    "print(type(x1))"
   ]
  },
  {
   "cell_type": "markdown",
   "metadata": {},
   "source": [
    "##### Die Funktion str()\n",
    "\n",
    "Eine Zahl kann man nicht mit einem anderen String zusammenpappen. Man muss die Zahl vorher in einen String umwandeln."
   ]
  },
  {
   "cell_type": "code",
   "execution_count": null,
   "metadata": {},
   "outputs": [],
   "source": [
    "s1 = 'Linie'\n",
    "nr = 8\n",
    "print(s1 + ' ' + nr)     # erzeugt Fehler\n"
   ]
  },
  {
   "cell_type": "code",
   "execution_count": 82,
   "metadata": {},
   "outputs": [
    {
     "name": "stdout",
     "output_type": "stream",
     "text": [
      "Linie 8\n"
     ]
    }
   ],
   "source": [
    "s1 = 'Linie'\n",
    "nr = 8\n",
    "print(s1 + ' ' + str(nr))     # Zahl wird vor dem zusammenpappen in einen String umgewandelt"
   ]
  },
  {
   "cell_type": "markdown",
   "metadata": {},
   "source": [
    "### Vergleichsoperatoren für ints und floats.\n",
    "\n",
    "Das Ergebnis eines Vergleichs ist ein boolescher Wert: True oder False"
   ]
  },
  {
   "cell_type": "code",
   "execution_count": 83,
   "metadata": {},
   "outputs": [
    {
     "name": "stdout",
     "output_type": "stream",
     "text": [
      "False False True True False True\n"
     ]
    }
   ],
   "source": [
    "i = 5\n",
    "j = 7\n",
    "print(i > j, i >= j, i < j, i <= j, i == j, i != j)"
   ]
  },
  {
   "cell_type": "markdown",
   "metadata": {},
   "source": [
    "### Logische Operatoren für booleans.\n",
    "\n",
    "Ein boolescher Ausdruck wertet sich immer zu True oder False aus."
   ]
  },
  {
   "cell_type": "code",
   "execution_count": 87,
   "metadata": {},
   "outputs": [
    {
     "name": "stdout",
     "output_type": "stream",
     "text": [
      "False\n",
      "True\n",
      "False True\n"
     ]
    }
   ],
   "source": [
    "a = True\n",
    "b = False\n",
    "print(a and b)      # True wenn beide True\n",
    "print(a or b)       # True wenn mindestens einer True\n",
    "print(not a, not b)"
   ]
  },
  {
   "cell_type": "markdown",
   "metadata": {},
   "source": [
    "##### Beispiel\n",
    "Es seien a und b zwei ganze Zahlen. Gesucht ist ein boolescher Ausdruck, der genau dann wahr ist, wenn a kleiner als b ist und das Doppelte von a größer als b ist."
   ]
  },
  {
   "cell_type": "code",
   "execution_count": 90,
   "metadata": {},
   "outputs": [
    {
     "name": "stdout",
     "output_type": "stream",
     "text": [
      "True\n"
     ]
    }
   ],
   "source": [
    "a = 2\n",
    "b = 3\n",
    "print(a < b and b < 2*a)"
   ]
  },
  {
   "cell_type": "markdown",
   "metadata": {},
   "source": [
    "### Mehrfachanweisung und Vertauschung"
   ]
  },
  {
   "cell_type": "code",
   "execution_count": 91,
   "metadata": {},
   "outputs": [
    {
     "name": "stdout",
     "output_type": "stream",
     "text": [
      "2 7\n"
     ]
    }
   ],
   "source": [
    "x, y = 2, 7                  # zwei Zuweisungen in einer Zeile\n",
    "print(x, y)"
   ]
  },
  {
   "cell_type": "code",
   "execution_count": 93,
   "metadata": {},
   "outputs": [
    {
     "name": "stdout",
     "output_type": "stream",
     "text": [
      "2 7\n"
     ]
    }
   ],
   "source": [
    "x, y = y, x                  # x und y tauschen die Werte\n",
    "print(x, y)"
   ]
  }
 ],
 "metadata": {
  "kernelspec": {
   "display_name": "Python 3 (ipykernel)",
   "language": "python",
   "name": "python3"
  },
  "language_info": {
   "codemirror_mode": {
    "name": "ipython",
    "version": 3
   },
   "file_extension": ".py",
   "mimetype": "text/x-python",
   "name": "python",
   "nbconvert_exporter": "python",
   "pygments_lexer": "ipython3",
   "version": "3.9.12"
  }
 },
 "nbformat": 4,
 "nbformat_minor": 4
}
