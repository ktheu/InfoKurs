{
 "cells": [
  {
   "cell_type": "markdown",
   "id": "3f2fb39f-c2ae-4372-b0b9-459e3121d86a",
   "metadata": {},
   "source": [
    "### Die Königssuche\n",
    "\n",
    "Codingame: \n",
    "* The Descent\n",
    "* Temperatures\n",
    "* Horse"
   ]
  },
  {
   "cell_type": "code",
   "execution_count": null,
   "id": "43d204e6-ac34-42b9-b3c6-29e795966b91",
   "metadata": {},
   "outputs": [],
   "source": []
  }
 ],
 "metadata": {
  "kernelspec": {
   "display_name": "Python 3 (ipykernel)",
   "language": "python",
   "name": "python3"
  },
  "language_info": {
   "codemirror_mode": {
    "name": "ipython",
    "version": 3
   },
   "file_extension": ".py",
   "mimetype": "text/x-python",
   "name": "python",
   "nbconvert_exporter": "python",
   "pygments_lexer": "ipython3",
   "version": "3.9.12"
  }
 },
 "nbformat": 4,
 "nbformat_minor": 5
}
