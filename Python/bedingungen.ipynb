{
 "cells": [
  {
   "cell_type": "markdown",
   "id": "24af56bf-eeb0-46cf-b96d-f8e90abb8708",
   "metadata": {},
   "source": [
    "## Bedingungen, Schleifen, Strings\n",
    "\n",
    "### Bedingungen\n",
    "Mit bedingten Anweisungen können wir Verzweigungen im Programmfluss erreichen. \n",
    "\n",
    "##### if"
   ]
  },
  {
   "cell_type": "code",
   "execution_count": 1,
   "id": "92a8eaa0-ec32-4544-b78a-451b63b0c402",
   "metadata": {},
   "outputs": [
    {
     "name": "stdout",
     "output_type": "stream",
     "text": [
      "A\n",
      "B\n"
     ]
    }
   ],
   "source": [
    "x = 2\n",
    "if x > 1:\n",
    "    print('A')\n",
    "    print('B')"
   ]
  },
  {
   "cell_type": "markdown",
   "id": "9c997abf-b1a4-4c0d-bb58-97b8738eea7d",
   "metadata": {},
   "source": [
    "##### if - else"
   ]
  },
  {
   "cell_type": "code",
   "execution_count": 2,
   "id": "3bd935dc-9b32-400d-91bd-c02cca52a14e",
   "metadata": {},
   "outputs": [
    {
     "name": "stdout",
     "output_type": "stream",
     "text": [
      "B\n"
     ]
    }
   ],
   "source": [
    "x = 0\n",
    "if x > 1:\n",
    "    print('A')\n",
    "else:\n",
    "    print('B')"
   ]
  },
  {
   "cell_type": "markdown",
   "id": "c2db8b70-cfa1-4122-877c-c92b67e54188",
   "metadata": {},
   "source": [
    "##### if - elif - else\n",
    "Diese Konstruktion nutzen wir für eine Fallunterscheidung: Der erste zutreffende Fall wird durchlaufen. \n",
    "Wenn mehrere Bedingungen zutreffen, ist für das Ergebnis die Reihenfolge der codierten Fälle wichtig."
   ]
  },
  {
   "cell_type": "code",
   "execution_count": 3,
   "id": "dd9040a8-3f99-40ac-b8cf-1dcb137365b0",
   "metadata": {},
   "outputs": [
    {
     "name": "stdout",
     "output_type": "stream",
     "text": [
      "B\n"
     ]
    }
   ],
   "source": [
    "x = 2.5\n",
    "if x > 3:\n",
    "    print('A')\n",
    "elif x > 2:\n",
    "    print('B')\n",
    "elif x > 1:\n",
    "    print('C')\n",
    "else:\n",
    "    print('D')"
   ]
  },
  {
   "cell_type": "markdown",
   "id": "e5a7292f-a49c-43db-ac0f-92da778e0f1f",
   "metadata": {},
   "source": [
    "Die folgende Konstruktion macht eigentlich keinen Sinn. Warum?"
   ]
  },
  {
   "cell_type": "code",
   "execution_count": 1,
   "id": "459ca3ad-a407-4f35-8af6-a35229281488",
   "metadata": {},
   "outputs": [
    {
     "name": "stdout",
     "output_type": "stream",
     "text": [
      "C\n"
     ]
    }
   ],
   "source": [
    "x = 2.5\n",
    "if x > 1:\n",
    "    print('C')\n",
    "elif x > 2:\n",
    "    print('B')\n",
    "elif x > 3:\n",
    "    print('A')\n",
    "else:\n",
    "    print('D')"
   ]
  },
  {
   "cell_type": "markdown",
   "id": "18c6e1e0-f4b5-4349-9a00-00a0f45b2656",
   "metadata": {},
   "source": [
    "Beachte den Unterschied zur folgenden Konstruktion"
   ]
  },
  {
   "cell_type": "code",
   "execution_count": 5,
   "id": "0a82f51c-ae46-4631-8eb0-077dcdbbd724",
   "metadata": {},
   "outputs": [
    {
     "name": "stdout",
     "output_type": "stream",
     "text": [
      "B\n",
      "C\n"
     ]
    }
   ],
   "source": [
    "x = 2.5\n",
    "if x > 3:\n",
    "    print('A')\n",
    "if x > 2:\n",
    "    print('B')\n",
    "if x > 1:\n",
    "    print('C')\n",
    "else:\n",
    "    print('D')"
   ]
  },
  {
   "cell_type": "markdown",
   "id": "f82abc22-883f-4dee-a609-019ff0b30894",
   "metadata": {},
   "source": [
    "Wenn wir dafür sorgen, dass in der Fallunterscheidung immer nur eine Bedingung zutrifft, spielt die Reihenfolge der codierten Fälle keine Rolle mehr. Dazu nutzen wir aus, dass wir die Vergleichsoperatoren verketten können."
   ]
  },
  {
   "cell_type": "code",
   "execution_count": 6,
   "id": "80213efb-9df6-4ea5-ac45-a267f4ab510b",
   "metadata": {},
   "outputs": [
    {
     "name": "stdout",
     "output_type": "stream",
     "text": [
      "C\n"
     ]
    }
   ],
   "source": [
    "x = 2.5\n",
    "if x <= 1:\n",
    "    print('A')\n",
    "elif 1 < x <= 2:\n",
    "    print('B')\n",
    "elif 2 < x <= 3:\n",
    "    print('C')\n",
    "else:\n",
    "    print('D')"
   ]
  },
  {
   "cell_type": "markdown",
   "id": "8cb97559-e58f-4a36-968b-bd70409f3576",
   "metadata": {},
   "source": [
    "##### Die while Schleife\n",
    "\n",
    "Der Rumpf der while-Schleife wird solange durchlaufen, bis die while-Bedingung sich zu False auswertet. "
   ]
  },
  {
   "cell_type": "code",
   "execution_count": 7,
   "id": "e1f02449-3c44-4803-86ad-cd13a36c7e11",
   "metadata": {},
   "outputs": [
    {
     "name": "stdout",
     "output_type": "stream",
     "text": [
      "10\n",
      "8\n",
      "6\n",
      "4\n",
      "End\n"
     ]
    }
   ],
   "source": [
    "x = 10\n",
    "while x >= 4:\n",
    "    print(x)\n",
    "    x -= 2\n",
    "print(\"End\")"
   ]
  },
  {
   "cell_type": "code",
   "execution_count": 8,
   "id": "f36cb024-6b2c-41bc-aa37-2251ab005947",
   "metadata": {},
   "outputs": [
    {
     "name": "stdout",
     "output_type": "stream",
     "text": [
      "7\n",
      "14\n",
      "21\n",
      "28\n",
      "35\n",
      "42\n",
      "49\n",
      "56\n",
      "63\n",
      "70\n"
     ]
    }
   ],
   "source": [
    "x = 0\n",
    "d = 7\n",
    "while x < d*10:\n",
    "    x+= d\n",
    "    print(x)"
   ]
  },
  {
   "cell_type": "markdown",
   "id": "e716e148-050d-45df-9bcb-1e7ee83631b1",
   "metadata": {},
   "source": [
    "### Die for-Schleife mit range()\n",
    "\n",
    "Die Funktion range() liefert Aufzählungen von ganzen Zahlen und hat folgende Form:\n",
    "\n",
    "```\n",
    "range(von, bis, step)\n",
    "``` \n",
    "\n",
    "*von* und *step* können fehlen. Der *bis*-Wert ist immer ausgeschlossen."
   ]
  },
  {
   "cell_type": "code",
   "execution_count": 11,
   "id": "692f2b7d-88cc-47c4-b73d-2aa640a2fd35",
   "metadata": {},
   "outputs": [
    {
     "name": "stdout",
     "output_type": "stream",
     "text": [
      "0\n",
      "1\n",
      "2\n",
      "3\n",
      "4\n"
     ]
    }
   ],
   "source": [
    "# der Bereich beginnt bei 0, endet bei 5 (5 ist ausgeschlossen)\n",
    "for i in range(5):\n",
    "    print(i)"
   ]
  },
  {
   "cell_type": "code",
   "execution_count": 12,
   "id": "01833789-61ae-4001-8cd8-9ccdc2e37815",
   "metadata": {},
   "outputs": [
    {
     "name": "stdout",
     "output_type": "stream",
     "text": [
      "2\n",
      "3\n",
      "4\n"
     ]
    }
   ],
   "source": [
    "# der Bereich beginnt bei 2, endet bei 5 (5 ist ausgeschlossen)\n",
    "for i in range(2, 5):\n",
    "    print(i)"
   ]
  },
  {
   "cell_type": "code",
   "execution_count": 11,
   "id": "f2a96708-e733-49a5-9c24-dcd582dd40a7",
   "metadata": {},
   "outputs": [
    {
     "name": "stdout",
     "output_type": "stream",
     "text": [
      "3\n",
      "5\n",
      "7\n"
     ]
    }
   ],
   "source": [
    "# der Bereich beginnt bei 3, endet bei 7 (7 ist ausgeschlossen) mit Schrittweite 2\n",
    "for i in range(3, 9, 2):\n",
    "    print(i)"
   ]
  },
  {
   "cell_type": "code",
   "execution_count": 12,
   "id": "a6b06ee1-da68-4dc5-9489-3d31a1a7f01e",
   "metadata": {},
   "outputs": [
    {
     "name": "stdout",
     "output_type": "stream",
     "text": [
      "5\n",
      "4\n",
      "3\n",
      "2\n",
      "1\n",
      "0\n"
     ]
    }
   ],
   "source": [
    "# der Bereich beginnt bei 5, endet bei -1 (-1 ist ausgeschlossen) mit Schrittweite -1\n",
    "for i in range(5, -1, -1):\n",
    "    print(i)"
   ]
  },
  {
   "cell_type": "markdown",
   "id": "d060ca3d-1fc7-4951-8516-76787b123af6",
   "metadata": {},
   "source": [
    "### break und continue\n",
    "\n",
    "Mit *break* verlassen wir eine Schleife und setzen den Ablauf hinter der Schleife fort. Mit *continue* hören mit dem laufenden Schleifendurchgang auf und beginnen den nächsten Schleifendurchgang."
   ]
  },
  {
   "cell_type": "code",
   "execution_count": 13,
   "id": "a4f93b1c-e61b-4388-9763-fe7f20d94801",
   "metadata": {},
   "outputs": [
    {
     "name": "stdout",
     "output_type": "stream",
     "text": [
      "2\n",
      "3\n",
      "4\n",
      "End\n"
     ]
    }
   ],
   "source": [
    "x = 2\n",
    "while True:\n",
    "    print(x)\n",
    "    if x == 4: break\n",
    "    x+=1\n",
    "print('End')"
   ]
  },
  {
   "cell_type": "code",
   "execution_count": 14,
   "id": "6b36ca39-971e-4ab4-92fe-2eb3c0f64092",
   "metadata": {},
   "outputs": [
    {
     "name": "stdout",
     "output_type": "stream",
     "text": [
      "1\n",
      "3\n",
      "5\n",
      "7\n"
     ]
    }
   ],
   "source": [
    "for i in range(8):\n",
    "    if i % 2 == 0: continue\n",
    "    print(i)"
   ]
  },
  {
   "cell_type": "markdown",
   "id": "b8d1c27a-39ea-4935-9988-bb2d52b276a9",
   "metadata": {},
   "source": [
    "**Faustregel:** For-Schleifen nutzen wir meist dann, wenn die Anzahl der Schleifendurchgänge bekannt ist, andernfalls nutzen wir while-Schleifen.\n",
    "\n"
   ]
  },
  {
   "cell_type": "markdown",
   "id": "4f7746c2-04ca-47c5-a1c0-6da819042eaf",
   "metadata": {},
   "source": [
    "### Strings\n"
   ]
  },
  {
   "cell_type": "code",
   "execution_count": 15,
   "id": "ca163e7c-e6e9-42c5-aa4c-7a2bee079a17",
   "metadata": {},
   "outputs": [
    {
     "name": "stdout",
     "output_type": "stream",
     "text": [
      "HaHaHa\n",
      "6\n"
     ]
    }
   ],
   "source": [
    "s = \"Ha\"\n",
    "s1 = s * 3        # Vervielfachen\n",
    "\n",
    "print(s1)\n",
    "print(len(s1))    # Anzahl Zeichen"
   ]
  },
  {
   "cell_type": "markdown",
   "id": "6ea23e0b-2cbd-48cf-ac47-cbb0229e8a48",
   "metadata": {},
   "source": [
    "##### slicing\n",
    "\n",
    "Jedes Zeichen eines Strings hat zwei Indizes: von vorne gezählt: postiv beginnend bei 0, von hinten gezählt: negativ beginnend bei -1."
   ]
  },
  {
   "cell_type": "code",
   "execution_count": 16,
   "id": "e0b6acb0-fcdf-40e2-a259-bd5dc6331dee",
   "metadata": {},
   "outputs": [
    {
     "name": "stdout",
     "output_type": "stream",
     "text": [
      "H a t t h\n"
     ]
    }
   ],
   "source": [
    "s = \"Habicht\"\n",
    "c1 = s[0]          # erstes Zeichen\n",
    "c2 = s[1]          # zweites Zeichen\n",
    "c3 = s[len(s)-1]   # letztes Zeichen\n",
    "c4 = s[-1]         # letztes Zeichen\n",
    "c5 = s[-2]         # vorletztes Zeichen\n",
    "print(c1, c2, c3, c4, c5) "
   ]
  },
  {
   "cell_type": "code",
   "execution_count": 17,
   "id": "6d2a23e2-18a5-4a0d-80ef-f7fb39125bea",
   "metadata": {},
   "outputs": [
    {
     "name": "stdout",
     "output_type": "stream",
     "text": [
      "Habi bicht abic\n"
     ]
    }
   ],
   "source": [
    "s1 = s[:4]         # vom Anfang bis index 4 (ausschließlich)\n",
    "s2 = s[2:]         # von Index 2 bis zum Ende\n",
    "s3 = s[1:5]        # von Index 1 bis Index 5 (ausschließlich) - die Differenz der Parameter ist die Länge des Resultats\n",
    "print(s1, s2, s3)\n"
   ]
  },
  {
   "cell_type": "markdown",
   "id": "722f858e-f829-4a76-9472-ef65b749c9eb",
   "metadata": {},
   "source": [
    "Mit einem dritten Parameter können wir die Schrittweite beim slicing angeben:"
   ]
  },
  {
   "cell_type": "code",
   "execution_count": 18,
   "id": "7a4a1d59-6127-4dcf-8eab-9f147b302a36",
   "metadata": {},
   "outputs": [
    {
     "name": "stdout",
     "output_type": "stream",
     "text": [
      "ac Hbct\n"
     ]
    }
   ],
   "source": [
    "s1 = s[1:5:3]     # von Index 1 bis Index 5 (ausschließlich) in Schritten von 3\n",
    "s2 = s[::2]       # von Anfang bis Ende in Schritten von 2  (= jedes zweite Zeichen)\n",
    "print(s1, s2)\n",
    " "
   ]
  },
  {
   "cell_type": "markdown",
   "id": "77cf3986-9e0d-425d-986e-0d2d6c796db4",
   "metadata": {},
   "source": [
    "Ist der dritte Parameter negativ, dann gehen wir von hinten nach vorne"
   ]
  },
  {
   "cell_type": "code",
   "execution_count": 19,
   "id": "2cb7d963-0abf-42b1-9b53-4949e137b872",
   "metadata": {},
   "outputs": [
    {
     "name": "stdout",
     "output_type": "stream",
     "text": [
      "thcibaH hi\n"
     ]
    }
   ],
   "source": [
    "s1 = s[::-1 ]     # von hinten nach vorne\n",
    "s2 = s[-2:1:-2]   # vom vorletzten bis zu Index 1 (ausschließlich) in Schritten von -2\n",
    "print(s1, s2)"
   ]
  },
  {
   "cell_type": "markdown",
   "id": "fbc68b5a-500d-4d23-8ccb-5fcddb1fb193",
   "metadata": {},
   "source": [
    "Wir können auf einfache Weise überprüfen, ob ein Wort ein Palindrom ist, d.h. von hinten gelesen dasselbe ergibt wie von vorne."
   ]
  },
  {
   "cell_type": "code",
   "execution_count": 20,
   "id": "7f5d76e1-46b2-400e-93d8-c61a0a9eb343",
   "metadata": {},
   "outputs": [
    {
     "data": {
      "text/plain": [
       "True"
      ]
     },
     "execution_count": 20,
     "metadata": {},
     "output_type": "execute_result"
    }
   ],
   "source": [
    "# ein Palindrom erkennen\n",
    "s = 'reliefpfeiler'\n",
    "s == s[::-1]"
   ]
  },
  {
   "cell_type": "markdown",
   "id": "71baeeeb-8874-474b-9b25-144a607aa3e3",
   "metadata": {},
   "source": [
    "##### String-Methoden\n",
    "Eine Übersicht über die wichtigsten String-Methoden findet sich [hier](https://www.w3schools.com/python/python_ref_string.asp)\n",
    "\n",
    "Beispiele:"
   ]
  },
  {
   "cell_type": "code",
   "execution_count": 21,
   "id": "2bdca9ff-e5ef-425f-8e66-2eb025b6e1f2",
   "metadata": {},
   "outputs": [
    {
     "name": "stdout",
     "output_type": "stream",
     "text": [
      "ABIABIABI abiabiabi Abiohaoha 2\n"
     ]
    }
   ],
   "source": [
    "s = 'Abiabiabi'      \n",
    "s1 = s.upper()                 # alles in Großbuchstaben\n",
    "s2 = s.lower()                 # alles in Kleinbuchstaben\n",
    "s3 = s.replace('abi','oha')    # Ersetzen eines Teilstrings\n",
    "k = s.count('abi')             # Anzahl Vorkommen eines Teilstrings\n",
    "print(s1, s2, s3, k)"
   ]
  },
  {
   "cell_type": "code",
   "execution_count": 22,
   "id": "83509023-c02d-4050-be33-f9ffb3e791f4",
   "metadata": {},
   "outputs": [
    {
     "name": "stdout",
     "output_type": "stream",
     "text": [
      "3 -1 True False\n"
     ]
    }
   ],
   "source": [
    "s = 'Abiabiabi'  \n",
    "k1 = s.find('abi')             # Index des ersten Vorkommens eines Teilstrings\n",
    "k2 = s.find('no')              # Teilstring kommt nicht vor\n",
    "b1 = 'abi' in s                # Abfrage, ob Teilstring vorkommt\n",
    "b2 = 'abi' not in s            # Abfrage, ob Teilstring nicht vorkommt\n",
    "\n",
    "print(k1,k2, b1, b2)"
   ]
  },
  {
   "cell_type": "markdown",
   "id": "7a88b9b0-4973-4875-af69-528e3a924337",
   "metadata": {},
   "source": [
    "##### Alle Zeichen eines Strings durchlaufen\n",
    "\n",
    "Zwei Arten, mit einer Schleife alle Zeichen eines Strings zu durchlaufen."
   ]
  },
  {
   "cell_type": "code",
   "execution_count": 23,
   "id": "ed59499b-c357-4913-a86e-152d072899e3",
   "metadata": {},
   "outputs": [
    {
     "name": "stdout",
     "output_type": "stream",
     "text": [
      "H\n",
      "a\n",
      "b\n",
      "i\n",
      "c\n",
      "h\n",
      "t\n"
     ]
    }
   ],
   "source": [
    "s = 'Habicht'\n",
    "for i in range(len(s)):\n",
    "    print(s[i])"
   ]
  },
  {
   "cell_type": "code",
   "execution_count": 24,
   "id": "6fa61a52-b69c-4791-8c96-f818ff097380",
   "metadata": {},
   "outputs": [
    {
     "name": "stdout",
     "output_type": "stream",
     "text": [
      "H\n",
      "a\n",
      "b\n",
      "i\n",
      "c\n",
      "h\n",
      "t\n"
     ]
    }
   ],
   "source": [
    "s = 'Habicht'\n",
    "for c in s:\n",
    "    print(c)"
   ]
  },
  {
   "cell_type": "code",
   "execution_count": null,
   "id": "01f7cc05-8bdc-4f19-8fbb-65c72f3ac226",
   "metadata": {},
   "outputs": [],
   "source": []
  }
 ],
 "metadata": {
  "kernelspec": {
   "display_name": "Python 3 (ipykernel)",
   "language": "python",
   "name": "python3"
  },
  "language_info": {
   "codemirror_mode": {
    "name": "ipython",
    "version": 3
   },
   "file_extension": ".py",
   "mimetype": "text/x-python",
   "name": "python",
   "nbconvert_exporter": "python",
   "pygments_lexer": "ipython3",
   "version": "3.9.12"
  },
  "vscode": {
   "interpreter": {
    "hash": "66cef8b640515d50f1dd36261b6c0429b289e00e05e66082067e4520c88a4539"
   }
  }
 },
 "nbformat": 4,
 "nbformat_minor": 5
}
