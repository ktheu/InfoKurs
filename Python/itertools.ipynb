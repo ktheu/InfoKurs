{
 "cells": [
  {
   "cell_type": "markdown",
   "id": "d172a221-152d-44c1-8a12-9d064d5f221d",
   "metadata": {},
   "source": [
    "## Itertools\n",
    "\n",
    "Das Modul itertools stellt Funktionen zum Erzeugen von Kombinationen und Permutationen zur Verfügung."
   ]
  },
  {
   "cell_type": "markdown",
   "id": "de76fdea-c89c-4df3-ae07-736a5e7a3608",
   "metadata": {},
   "source": [
    "#### Kombinationen\n",
    "Bei Kombinationen spielt die Reihenfolge der Elemente keine Rolle, d.h. (1,2) ist dasselbe wie (2,1)."
   ]
  },
  {
   "cell_type": "code",
   "execution_count": 2,
   "id": "56527e2c-b499-4f02-b786-18320141c9eb",
   "metadata": {},
   "outputs": [
    {
     "name": "stdout",
     "output_type": "stream",
     "text": [
      "(1, 2)\n",
      "(1, 3)\n",
      "(1, 4)\n",
      "(1, 5)\n",
      "(2, 3)\n",
      "(2, 4)\n",
      "(2, 5)\n",
      "(3, 4)\n",
      "(3, 5)\n",
      "(4, 5)\n"
     ]
    }
   ],
   "source": [
    "import itertools as it\n",
    "a = [1,2,3,4,5]\n",
    "\n",
    "# alle 2-elementigen Kombinationen als Tupel\n",
    "for x in it.combinations(a,2):\n",
    "    print(x)"
   ]
  },
  {
   "cell_type": "markdown",
   "id": "cb25924e-1d71-47ae-9d63-3491dc577993",
   "metadata": {},
   "source": [
    "#### Permutationen\n",
    "Bei Permutationen spielt die Reihenfolge der Elemente eine Rolle, d.h (1,2) ist verschieden von (2,1)."
   ]
  },
  {
   "cell_type": "code",
   "execution_count": 11,
   "id": "57940cd5-6031-4f7c-98f6-65d387b7589b",
   "metadata": {},
   "outputs": [
    {
     "name": "stdout",
     "output_type": "stream",
     "text": [
      "(1, 2)\n",
      "(1, 3)\n",
      "(1, 4)\n",
      "(1, 5)\n",
      "(2, 1)\n",
      "(2, 3)\n",
      "(2, 4)\n",
      "(2, 5)\n",
      "(3, 1)\n",
      "(3, 2)\n",
      "(3, 4)\n",
      "(3, 5)\n",
      "(4, 1)\n",
      "(4, 2)\n",
      "(4, 3)\n",
      "(4, 5)\n",
      "(5, 1)\n",
      "(5, 2)\n",
      "(5, 3)\n",
      "(5, 4)\n"
     ]
    }
   ],
   "source": [
    "a = [1,2,3,4,5]\n",
    "\n",
    "# alle 2-elementigen Kombinationen als Tupel\n",
    "for x in it.permutations(a,2):\n",
    "    print(x)"
   ]
  },
  {
   "cell_type": "markdown",
   "id": "eda6f53d-a69c-4f40-a424-872d7bccdba0",
   "metadata": {},
   "source": [
    "#### Produkt\n",
    "\n",
    "Das cartesische Produkt mehrerer Listen.\n",
    "\n"
   ]
  },
  {
   "cell_type": "code",
   "execution_count": 31,
   "id": "19d16bda-4020-4efd-9f6e-30a7d3f4e27d",
   "metadata": {},
   "outputs": [
    {
     "name": "stdout",
     "output_type": "stream",
     "text": [
      "('A', 1)\n",
      "('A', 2)\n",
      "('A', 3)\n",
      "('A', 4)\n",
      "('B', 1)\n",
      "('B', 2)\n",
      "('B', 3)\n",
      "('B', 4)\n",
      "('C', 1)\n",
      "('C', 2)\n",
      "('C', 3)\n",
      "('C', 4)\n"
     ]
    }
   ],
   "source": [
    "a = ['A', 'B', 'C']\n",
    "b = [1,2,3,4]\n",
    "\n",
    "for x in it.product(a,b):\n",
    "    print(x)"
   ]
  },
  {
   "cell_type": "code",
   "execution_count": 37,
   "id": "618a14da-abdc-4683-9a12-835373c59e09",
   "metadata": {},
   "outputs": [
    {
     "name": "stdout",
     "output_type": "stream",
     "text": [
      "(0, 0, 0, 0)\n",
      "(0, 0, 0, 1)\n",
      "(0, 0, 1, 0)\n",
      "(0, 0, 1, 1)\n",
      "(0, 1, 0, 0)\n",
      "(0, 1, 0, 1)\n",
      "(0, 1, 1, 0)\n",
      "(0, 1, 1, 1)\n",
      "(1, 0, 0, 0)\n",
      "(1, 0, 0, 1)\n",
      "(1, 0, 1, 0)\n",
      "(1, 0, 1, 1)\n",
      "(1, 1, 0, 0)\n",
      "(1, 1, 0, 1)\n",
      "(1, 1, 1, 0)\n",
      "(1, 1, 1, 1)\n"
     ]
    }
   ],
   "source": [
    "a = [0,1]\n",
    "for x in it.product(a,repeat = 4):\n",
    "    print(x)"
   ]
  },
  {
   "cell_type": "markdown",
   "id": "1f059a56-d6b4-4b6f-9715-8b03323ce606",
   "metadata": {},
   "source": [
    "#### Beispiele"
   ]
  },
  {
   "cell_type": "code",
   "execution_count": 41,
   "id": "1a691e4f-1d1f-4b23-aa98-af46e0453c5c",
   "metadata": {},
   "outputs": [
    {
     "name": "stdout",
     "output_type": "stream",
     "text": [
      "[1, 1, 0, 0, 0]\n",
      "[1, 0, 1, 0, 0]\n",
      "[1, 0, 0, 1, 0]\n",
      "[1, 0, 0, 0, 1]\n",
      "[0, 1, 1, 0, 0]\n",
      "[0, 1, 0, 1, 0]\n",
      "[0, 1, 0, 0, 1]\n",
      "[0, 0, 1, 1, 0]\n",
      "[0, 0, 1, 0, 1]\n",
      "[0, 0, 0, 1, 1]\n"
     ]
    }
   ],
   "source": [
    "# Beipiel1: Erzeuge alle n-elementigen Listen, die an genau k Stellen einen 1 haben, sonst 0.\n",
    "n = 5\n",
    "k = 2\n",
    "\n",
    "for x in it.combinations(range(n),k):\n",
    "    print([int(k in x) for k in range(n)])\n",
    " "
   ]
  },
  {
   "cell_type": "code",
   "execution_count": 47,
   "id": "5011d8cc-6f0d-4170-a4d1-373c09cef1de",
   "metadata": {},
   "outputs": [
    {
     "name": "stdout",
     "output_type": "stream",
     "text": [
      "(((1, 2, 3), (1, 2, 3)), True)\n",
      "(((1, 2, 3), (1, 2, 3)), False)\n",
      "(((1, 2, 3), (1, 3, 2)), True)\n",
      "(((1, 2, 3), (1, 3, 2)), False)\n",
      "(((1, 2, 3), (2, 1, 3)), True)\n",
      "(((1, 2, 3), (2, 1, 3)), False)\n",
      "(((1, 2, 3), (2, 3, 1)), True)\n",
      "(((1, 2, 3), (2, 3, 1)), False)\n",
      "(((1, 2, 3), (3, 1, 2)), True)\n",
      "(((1, 2, 3), (3, 1, 2)), False)\n",
      "(((1, 2, 3), (3, 2, 1)), True)\n",
      "(((1, 2, 3), (3, 2, 1)), False)\n",
      "(((1, 3, 2), (1, 2, 3)), True)\n",
      "(((1, 3, 2), (1, 2, 3)), False)\n",
      "(((1, 3, 2), (1, 3, 2)), True)\n",
      "(((1, 3, 2), (1, 3, 2)), False)\n",
      "(((1, 3, 2), (2, 1, 3)), True)\n",
      "(((1, 3, 2), (2, 1, 3)), False)\n",
      "(((1, 3, 2), (2, 3, 1)), True)\n",
      "(((1, 3, 2), (2, 3, 1)), False)\n",
      "(((1, 3, 2), (3, 1, 2)), True)\n",
      "(((1, 3, 2), (3, 1, 2)), False)\n",
      "(((1, 3, 2), (3, 2, 1)), True)\n",
      "(((1, 3, 2), (3, 2, 1)), False)\n",
      "(((2, 1, 3), (1, 2, 3)), True)\n",
      "(((2, 1, 3), (1, 2, 3)), False)\n",
      "(((2, 1, 3), (1, 3, 2)), True)\n",
      "(((2, 1, 3), (1, 3, 2)), False)\n",
      "(((2, 1, 3), (2, 1, 3)), True)\n",
      "(((2, 1, 3), (2, 1, 3)), False)\n",
      "(((2, 1, 3), (2, 3, 1)), True)\n",
      "(((2, 1, 3), (2, 3, 1)), False)\n",
      "(((2, 1, 3), (3, 1, 2)), True)\n",
      "(((2, 1, 3), (3, 1, 2)), False)\n",
      "(((2, 1, 3), (3, 2, 1)), True)\n",
      "(((2, 1, 3), (3, 2, 1)), False)\n",
      "(((2, 3, 1), (1, 2, 3)), True)\n",
      "(((2, 3, 1), (1, 2, 3)), False)\n",
      "(((2, 3, 1), (1, 3, 2)), True)\n",
      "(((2, 3, 1), (1, 3, 2)), False)\n",
      "(((2, 3, 1), (2, 1, 3)), True)\n",
      "(((2, 3, 1), (2, 1, 3)), False)\n",
      "(((2, 3, 1), (2, 3, 1)), True)\n",
      "(((2, 3, 1), (2, 3, 1)), False)\n",
      "(((2, 3, 1), (3, 1, 2)), True)\n",
      "(((2, 3, 1), (3, 1, 2)), False)\n",
      "(((2, 3, 1), (3, 2, 1)), True)\n",
      "(((2, 3, 1), (3, 2, 1)), False)\n",
      "(((3, 1, 2), (1, 2, 3)), True)\n",
      "(((3, 1, 2), (1, 2, 3)), False)\n",
      "(((3, 1, 2), (1, 3, 2)), True)\n",
      "(((3, 1, 2), (1, 3, 2)), False)\n",
      "(((3, 1, 2), (2, 1, 3)), True)\n",
      "(((3, 1, 2), (2, 1, 3)), False)\n",
      "(((3, 1, 2), (2, 3, 1)), True)\n",
      "(((3, 1, 2), (2, 3, 1)), False)\n",
      "(((3, 1, 2), (3, 1, 2)), True)\n",
      "(((3, 1, 2), (3, 1, 2)), False)\n",
      "(((3, 1, 2), (3, 2, 1)), True)\n",
      "(((3, 1, 2), (3, 2, 1)), False)\n",
      "(((3, 2, 1), (1, 2, 3)), True)\n",
      "(((3, 2, 1), (1, 2, 3)), False)\n",
      "(((3, 2, 1), (1, 3, 2)), True)\n",
      "(((3, 2, 1), (1, 3, 2)), False)\n",
      "(((3, 2, 1), (2, 1, 3)), True)\n",
      "(((3, 2, 1), (2, 1, 3)), False)\n",
      "(((3, 2, 1), (2, 3, 1)), True)\n",
      "(((3, 2, 1), (2, 3, 1)), False)\n",
      "(((3, 2, 1), (3, 1, 2)), True)\n",
      "(((3, 2, 1), (3, 1, 2)), False)\n",
      "(((3, 2, 1), (3, 2, 1)), True)\n",
      "(((3, 2, 1), (3, 2, 1)), False)\n"
     ]
    }
   ],
   "source": [
    "# Beipiel2: Wir wollen alle Möglichkeiten aufzählen der Form:\n",
    "# 2 mal eine Permutation der Liste [1,2,3] + einmal True oder False\n",
    "p = list(it.permutations([1,2,3]))\n",
    "iter = it.product(it.product(p,repeat=2) ,[True,False])\n",
    "\n",
    "for x in iter:\n",
    "    print(x)"
   ]
  },
  {
   "cell_type": "code",
   "execution_count": 4,
   "id": "fd3fe401-8eaa-4575-a1a3-faf25c065674",
   "metadata": {},
   "outputs": [
    {
     "name": "stdout",
     "output_type": "stream",
     "text": [
      "[]\n",
      "[5]\n",
      "[2]\n",
      "[2, 5]\n",
      "[9]\n",
      "[9, 5]\n",
      "[9, 2]\n",
      "[9, 2, 5]\n",
      "[10]\n",
      "[10, 5]\n",
      "[10, 2]\n",
      "[10, 2, 5]\n",
      "[10, 9]\n",
      "[10, 9, 5]\n",
      "[10, 9, 2]\n",
      "[10, 9, 2, 5]\n"
     ]
    }
   ],
   "source": [
    "# Beispiel3: Alle Teillisten einer Liste aufzählen\n",
    "# Jedes Element kann entweder genommen werden oder nicht, also 2^n Möglichkeiten\n",
    "a = [10, 9, 2, 5]\n",
    "iter = it.product([0,1],repeat=4)\n",
    "for selector in iter:\n",
    "    print([d for d, s in zip(a, selector) if s])"
   ]
  },
  {
   "cell_type": "code",
   "execution_count": null,
   "id": "087a77e0-75bb-494f-8bb8-78a936a63c80",
   "metadata": {},
   "outputs": [],
   "source": []
  }
 ],
 "metadata": {
  "kernelspec": {
   "display_name": "Python 3 (ipykernel)",
   "language": "python",
   "name": "python3"
  },
  "language_info": {
   "codemirror_mode": {
    "name": "ipython",
    "version": 3
   },
   "file_extension": ".py",
   "mimetype": "text/x-python",
   "name": "python",
   "nbconvert_exporter": "python",
   "pygments_lexer": "ipython3",
   "version": "3.9.12"
  }
 },
 "nbformat": 4,
 "nbformat_minor": 5
}
