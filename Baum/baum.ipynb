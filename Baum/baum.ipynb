{
 "cells": [
  {
   "cell_type": "markdown",
   "id": "c7b996ea-606f-4e30-a657-17887f153ef3",
   "metadata": {},
   "source": [
    "### Binärer Baum\n",
    "\n",
    "Bei einem *binären Baum* kann ein Knoten maximal 2 Kinder haben. \n",
    "\n",
    "<img src='bild1.png' width=400>\n",
    "\n",
    "In den Knoten eines Baums können beliebige Objekte gespeichert werden. \n",
    "\n",
    "<img src='bild2.png'>\n",
    "\n",
    "Dies entspricht dem arithmetischen Ausdruck:  $a \\cdot (b + c)$"
   ]
  },
  {
   "cell_type": "markdown",
   "id": "27aa57ce-ae90-4b44-b508-7853a2ba02bf",
   "metadata": {},
   "source": [
    "#### Implementation mittels verzeigerter Knoten \n",
    "<img src='bild4.png' width='300'>\n"
   ]
  },
  {
   "cell_type": "code",
   "execution_count": 1,
   "id": "032e8b52-e8ee-48e0-a0c1-11e1d1a0eb6a",
   "metadata": {},
   "outputs": [],
   "source": [
    "class Node:\n",
    "    def __init__(self, val, left=None, right=None):\n",
    "        self.val = val\n",
    "        self.left = left\n",
    "        self.right = right "
   ]
  },
  {
   "cell_type": "markdown",
   "id": "6ae9147a-1bec-4898-99f1-8b6fd8e1cab9",
   "metadata": {},
   "source": [
    "<img src='Node.png' width='300'>"
   ]
  },
  {
   "cell_type": "markdown",
   "id": "460ed0e6-111e-4988-805c-76d91ff966e2",
   "metadata": {},
   "source": [
    "##### Beispiele:\n",
    "\n",
    "Erzeuge folgenden Baum:\n",
    "\n",
    "<img src='bild8a.png' width='200'>"
   ]
  },
  {
   "cell_type": "code",
   "execution_count": 2,
   "id": "3d4da8ec-d113-4c1d-b290-8d746c09a073",
   "metadata": {},
   "outputs": [],
   "source": [
    "b = Node('b',Node('d'),Node('e'))\n",
    "c = Node('c',Node('f'),None)\n",
    "a = Node('a',b,c)"
   ]
  },
  {
   "cell_type": "markdown",
   "id": "0359d11a-a6ff-41da-8446-20aadca81ebe",
   "metadata": {},
   "source": [
    "#### Tiefensuche (depth first search, dfs)\n",
    "\n",
    "Einen Baum *traversieren* bedeutet, jeden seiner Knoten besuchen. Der Baum ist eine rekursive Datenstruktur. Wir können mit einer rekursiven Tiefensuche alle Knoten des Baums durchsuchen."
   ]
  },
  {
   "cell_type": "code",
   "execution_count": 14,
   "id": "893ffd9d-f358-4b15-beac-72a793a09925",
   "metadata": {},
   "outputs": [],
   "source": [
    "def dfs(node):\n",
    "    if node is None: return   # Rekursionsbremse\n",
    "    # do something\n",
    "    dfs(node.left)\n",
    "    dfs(node.right)\n",
    "    return"
   ]
  },
  {
   "cell_type": "markdown",
   "id": "293022d7-dad3-4b50-9a2c-f9865bfd3ce7",
   "metadata": {},
   "source": [
    "Die Reihenfolge des *do something* und der Rekursionsaufrufe kann je nach Anwendungsfall variieren.\n",
    "Für das Ausdrucken der Inhalte des Baums ergeben sich verschiedene Reihenfolgen:\n",
    "\n",
    "    preorder  - Elternknoten, linkes Kind, rechtes Kind\n",
    "    inorder   - linkes Kind, Elternknoten, rechtes Kind\n",
    "    postorder - linkes Kind, rechtes Kind, Elternknoten"
   ]
  },
  {
   "cell_type": "markdown",
   "id": "153012e7-cd31-4661-8260-84559d820c0a",
   "metadata": {},
   "source": [
    "<img src='bild9.png'>\n",
    "\n",
    "    preorder:  - + a * b c / e f\n",
    "    inorder:   a + b * c - e / f\n",
    "    postorder: a b c * + e f / -\n",
    "    \n",
    "   "
   ]
  },
  {
   "cell_type": "code",
   "execution_count": 3,
   "id": "14f52075-ec04-4b2d-bec2-0877818eeddc",
   "metadata": {},
   "outputs": [],
   "source": [
    "def preorder(node):\n",
    "    if node is None: return\n",
    "    print(node.val,end=' ')\n",
    "    preorder(node.left)\n",
    "    preorder(node.right)\n",
    "    return\n",
    "\n",
    "def inorder(node):\n",
    "    if node is None: return\n",
    "    inorder(node.left)\n",
    "    print(node.val,end=' ')\n",
    "    inorder(node.right)\n",
    "    return\n",
    "\n",
    "def postorder(node):\n",
    "    if node is None: return\n",
    "    postorder(node.left)\n",
    "    postorder(node.right)\n",
    "    print(node.val,end=' ')\n",
    "    return"
   ]
  },
  {
   "cell_type": "markdown",
   "id": "be0a4981-7598-421e-a472-cc418365523c",
   "metadata": {},
   "source": [
    "Für das Beispiel oben ergibt sich:"
   ]
  },
  {
   "cell_type": "code",
   "execution_count": 4,
   "id": "30829c80-37ff-4986-b864-ed760716450b",
   "metadata": {},
   "outputs": [],
   "source": [
    "n1 = Node('*',Node('b'),Node('c'))\n",
    "n2 = Node('+',Node('a'),n1)\n",
    "n3 = Node('/',Node('e'),Node('f'))\n",
    "baum1 = Node('-',n2,n3)"
   ]
  },
  {
   "cell_type": "code",
   "execution_count": 5,
   "id": "f181878d-2382-4df6-8c76-8f46a03fe67d",
   "metadata": {},
   "outputs": [
    {
     "name": "stdout",
     "output_type": "stream",
     "text": [
      "- + a * b c / e f "
     ]
    }
   ],
   "source": [
    "preorder(baum1)"
   ]
  },
  {
   "cell_type": "code",
   "execution_count": 6,
   "id": "58865ad1-6709-414d-9bf7-3cdc12bcb340",
   "metadata": {},
   "outputs": [
    {
     "name": "stdout",
     "output_type": "stream",
     "text": [
      "a + b * c - e / f "
     ]
    }
   ],
   "source": [
    "inorder(baum1)"
   ]
  },
  {
   "cell_type": "code",
   "execution_count": 7,
   "id": "1d70cdb9-a6f4-4ef9-af35-87839754849e",
   "metadata": {},
   "outputs": [
    {
     "name": "stdout",
     "output_type": "stream",
     "text": [
      "a b c * + e f / - "
     ]
    }
   ],
   "source": [
    "postorder(baum1)"
   ]
  },
  {
   "cell_type": "markdown",
   "id": "9832af40-cc75-47bf-80a5-5617d5d573fb",
   "metadata": {},
   "source": [
    "##### Übung\n",
    "\n",
    "Zeichne den Baum und traversiere ihn in preorder, inorder und postorder.\n"
   ]
  },
  {
   "cell_type": "code",
   "execution_count": 8,
   "id": "8e977e17-374c-4e2e-9a25-8b6959591bab",
   "metadata": {},
   "outputs": [],
   "source": [
    "b3 = Node(3,Node(11),Node(12))\n",
    "b7 = Node(7,Node(13),None)\n",
    "b14 = Node(14,b3,b7)\n",
    "b9 = Node(9,None,Node(23))\n",
    "b10 = Node(10,Node(12),Node(16))\n",
    "b6 = Node(6,b9,b10)\n",
    "baum2 = Node(1,b14,b6)"
   ]
  },
  {
   "cell_type": "markdown",
   "id": "6d7a5108-b550-437a-9e5a-732889c51e7e",
   "metadata": {},
   "source": [
    "Zur einfachen Visualisierung nutzen wir die Funktion *baumString*. Sie zeigt die Struktur des Baums, wenn man ihn um 90 Grad gegen den Uhrzeigersinn dreht."
   ]
  },
  {
   "cell_type": "code",
   "execution_count": 13,
   "id": "387a131d-f800-4079-9558-d748a29a4b71",
   "metadata": {},
   "outputs": [],
   "source": [
    "def baumString(node):\n",
    "    def dfs(node,tiefe=0):\n",
    "        s = \"\"\n",
    "        punkte = \".\" * tiefe\n",
    "        if node.right:\n",
    "            s = s + dfs(node.right,tiefe + 1)\n",
    "        s = s + punkte + str(node.val) + \"\\n\"\n",
    "        if node.left:\n",
    "            s = s + dfs(node.left,tiefe + 1)\n",
    "        return s\n",
    "  \n",
    "    s = dfs(node)\n",
    "    if len(s) > 0:\n",
    "        s = s[:-1]\n",
    "    return s\n"
   ]
  },
  {
   "cell_type": "code",
   "execution_count": 14,
   "id": "ac9e198f-2f26-4077-ab42-4980d008beee",
   "metadata": {},
   "outputs": [
    {
     "name": "stdout",
     "output_type": "stream",
     "text": [
      "...16\n",
      "..10\n",
      "...12\n",
      ".6\n",
      "...23\n",
      "..9\n",
      "1\n",
      "..7\n",
      "...13\n",
      ".14\n",
      "...12\n",
      "..3\n",
      "...11\n"
     ]
    }
   ],
   "source": [
    "print(baumString(baum2))"
   ]
  },
  {
   "cell_type": "markdown",
   "id": "dda0b2e8-6728-4862-a868-0554da22b5f9",
   "metadata": {},
   "source": [
    "#### Iterative Tiefensuche  \n",
    "\n",
    "Die iterative Tiefensuche (preorder) wird mit einem stack organisiert.  \n",
    "Wir laufen nach links unten und legen die rechten Bäume, die uns unterwegs begegnen, in den stack.  "
   ]
  },
  {
   "cell_type": "code",
   "execution_count": 9,
   "id": "2236f20f-3ae5-4406-a1ae-5f77b1235ca5",
   "metadata": {},
   "outputs": [],
   "source": [
    "def dfs_iterativ(node):\n",
    "    if node is None: return 0\n",
    "    stack = [node]\n",
    "    while stack:\n",
    "        node = stack.pop()\n",
    "        while node:\n",
    "            print(node.val,end=' ')\n",
    "            stack.append(node.right)\n",
    "            node = node.left\n"
   ]
  },
  {
   "cell_type": "code",
   "execution_count": 10,
   "id": "c18d4d6a-9011-4865-90df-fa11ed96afd2",
   "metadata": {},
   "outputs": [
    {
     "name": "stdout",
     "output_type": "stream",
     "text": [
      "- + a * b c / e f "
     ]
    }
   ],
   "source": [
    "dfs_iterativ(baum1)"
   ]
  },
  {
   "cell_type": "markdown",
   "id": "e81f7143-459c-4da5-ae6c-61513822e75d",
   "metadata": {},
   "source": [
    "##### Übung\n",
    "Für den Baum baum2 wird eine iterative Tiefensuche durchgeführt.\n",
    "Notiere zeilenweise die print-Ausgabe und den Inhalt des Stacks nachdem das rechte Kind (falls vorhanden) nach\n",
    "der print-Ausgabe in den stack getan wurde. Es reicht die Inhalte der Wurzelknoten im stack zu notieren.\n",
    "Notiere den stack horizontal mit dem top-Element auf der linken Seite.\n",
    "\n",
    "<img src='uebung.png' width='700'>"
   ]
  },
  {
   "cell_type": "markdown",
   "id": "0a3bedcf-8e16-43f3-b309-d1468655443e",
   "metadata": {},
   "source": [
    "#### Breitensuche (breadth first search, bfs)\n",
    "\n",
    "Bei der Breitensuche werden die Inhalte der Knoten ebenenweise ausgegeben. Wir reihen die linken und rechten Kinder in eine Schlange ein."
   ]
  },
  {
   "cell_type": "code",
   "execution_count": 11,
   "id": "4d6d97a6-ffad-466b-a933-85454839fd7e",
   "metadata": {},
   "outputs": [],
   "source": [
    "from collections import deque\n",
    "def bfs(node):\n",
    "    if node is None: return 0\n",
    "    Q = deque([node])\n",
    "    while Q:\n",
    "        node = Q.popleft()\n",
    "        print(node.val,end=' ')\n",
    "        if node.left:\n",
    "            Q.append(node.left)\n",
    "        if node.right:\n",
    "            Q.append(node.right)"
   ]
  },
  {
   "cell_type": "code",
   "execution_count": 12,
   "id": "4d893d9b-80b8-4696-a707-0b0ef122e4a2",
   "metadata": {},
   "outputs": [
    {
     "name": "stdout",
     "output_type": "stream",
     "text": [
      "1 14 6 3 7 9 10 11 12 13 23 12 16 "
     ]
    }
   ],
   "source": [
    "bfs(baum2)"
   ]
  },
  {
   "cell_type": "markdown",
   "id": "de2c5f28-b65e-4cf3-8512-509b9b3f5fd0",
   "metadata": {},
   "source": [
    "##### Übung\n",
    "Für den Baum baum2 wird eine Breitensuche durchgeführt.\n",
    "Notiere zeilenweise die print-Ausgabe und den Inhalt der Queue nachdem die Kinder (falls vorhanden) nach\n",
    "der print-Ausgabe in die Queue eingefügt wurden. Es reicht die Inhalte der Wurzelknoten in der Queue zu notieren.\n",
    "Notiere die Queue horizontal mit dem Kopf der Schlange auf der linken Seite.\n",
    "\n",
    "<img src='breitensuche.png' width='700'>"
   ]
  }
 ],
 "metadata": {
  "kernelspec": {
   "display_name": "Python 3 (ipykernel)",
   "language": "python",
   "name": "python3"
  },
  "language_info": {
   "codemirror_mode": {
    "name": "ipython",
    "version": 3
   },
   "file_extension": ".py",
   "mimetype": "text/x-python",
   "name": "python",
   "nbconvert_exporter": "python",
   "pygments_lexer": "ipython3",
   "version": "3.11.2"
  }
 },
 "nbformat": 4,
 "nbformat_minor": 5
}
