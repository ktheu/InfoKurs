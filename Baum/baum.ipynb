{
 "cells": [
  {
   "cell_type": "markdown",
   "id": "c7b996ea-606f-4e30-a657-17887f153ef3",
   "metadata": {},
   "source": [
    "### ADT Baum\n",
    "\n",
    "Ein *binärer Baum* ist entweder leer oder besteht aus einem Knoten, dem zwei binäre Bäume zugeordnet sind. \n",
    "\n",
    "<img src='bild1.png' width=400>\n",
    "\n",
    "In den Knoten eines Baums können beliebige Objekte gespeichert werden. \n",
    "\n",
    "<img src='bild2.png'>\n",
    "\n",
    "Dies entspricht dem arithmetischen Ausdruck:  $a \\cdot (b + c)$"
   ]
  },
  {
   "cell_type": "markdown",
   "id": "9a70d1c2-68fa-4df8-b5f2-b9e6d204148b",
   "metadata": {},
   "source": [
    "#### Schnittstelle des ADT Baum:\n",
    "    \n",
    "    empty:   liefert true falls Baum leer \n",
    "    left:    liefert linken Teilbaum\n",
    "    right:   liefert rechten Teilbaum \n",
    "    value:   liefert Wurzelelement \n",
    "\n",
    "In der Schnittstelle sind keine Methoden für das Wachstum des Baumes vorgesehen.  Wir nutzen dazu den Konstruktor."
   ]
  },
  {
   "cell_type": "markdown",
   "id": "27aa57ce-ae90-4b44-b508-7853a2ba02bf",
   "metadata": {},
   "source": [
    "#### Implementation mittels verzeigerter Knoten \n",
    "<img src='bild4.png' width='300'>\n"
   ]
  },
  {
   "cell_type": "code",
   "execution_count": null,
   "id": "032e8b52-e8ee-48e0-a0c1-11e1d1a0eb6a",
   "metadata": {},
   "outputs": [],
   "source": [
    "class Knoten:  \n",
    "    def __init__(self, x = None):\n",
    "        self.inhalt = x\n",
    "        self.links = None\n",
    "        self.rechts = None"
   ]
  },
  {
   "cell_type": "markdown",
   "id": "6ae9147a-1bec-4898-99f1-8b6fd8e1cab9",
   "metadata": {},
   "source": [
    "Der Baum hat zur internen Verwaltung nur einen Zeiger auf die wurzel.\n",
    "\n",
    "<img src='bild5a.png' width='300'>"
   ]
  },
  {
   "cell_type": "markdown",
   "id": "328eb3df-abb8-4140-b408-2a83ed9ed091",
   "metadata": {},
   "source": [
    "Drei Arten, einen Baum zu erzeugen:\n",
    "\n",
    "<img src='constructor.png'>"
   ]
  },
  {
   "cell_type": "code",
   "execution_count": null,
   "id": "b1aa1804-649e-4fac-8222-3a2fb0d81a56",
   "metadata": {},
   "outputs": [],
   "source": [
    "b = Baum()          # ein leerer Baum\n",
    "b = Baum(x)         # der Baum besteht aus dem Wurzelknoten, in dem x gespeichert ist.\n",
    "b = Baum(x, l, r)   # l,r sind die linken und rechten Teilbäume von b, in der Wurzel ist x gespeichert."
   ]
  },
  {
   "cell_type": "code",
   "execution_count": null,
   "id": "388dbe22-517f-4476-81a4-62a8a5b8021f",
   "metadata": {},
   "outputs": [],
   "source": [
    "class Baum:\n",
    "    def __init__(self,x = None,l = None,r = None):\n",
    "        self.wurzel = None\n",
    "        if x is not None:\n",
    "           self.wurzel = Knoten(x)\n",
    "        if l is not None:\n",
    "            self.wurzel.links = l.wurzel\n",
    "        if r is not None:\n",
    "            self.wurzel.rechts = r.wurzel\n",
    "        \n",
    "    def empty(self):   \n",
    "        return self.wurzel is None\n",
    "\n",
    "    def value(self):   \n",
    "        if self.empty(): raise RuntimeError(\"Fehler: Baum ist leer\")\n",
    "        return self.wurzel.inhalt\n",
    "\n",
    "    def left(self):   \n",
    "        if self.empty(): raise RuntimeError(\"Fehler: Baum ist leer\")\n",
    "        temp = Baum()\n",
    "        temp.wurzel = self.wurzel.links\n",
    "        return temp\n",
    "\n",
    "    def right(self):    \n",
    "        if self.empty(): raise RuntimeError(\"Fehler: Baum ist leer\")\n",
    "        temp = Baum()\n",
    "        temp.wurzel = self.wurzel.rechts\n",
    "        return temp\n",
    "\n",
    "    # ---- zur Visualisierung, kein Prüfungsstoff -----\n",
    "    def __str__(self):\n",
    "        if self.empty(): return \"leer\"\n",
    "        s = self.baumString(0)\n",
    "        if len(s) > 0:\n",
    "            s = s[:-1]\n",
    "        return s\n",
    "\n",
    "    def baumString(self,tiefe):\n",
    "        s = \"\"\n",
    "        punkte = \".\" * tiefe\n",
    "        if not self.right().empty():\n",
    "            s = s + self.right().baumString(tiefe + 1)\n",
    "        s = s + punkte + str(self.value()) + \"\\n\"\n",
    "        if not self.left().empty():\n",
    "            s = s + self.left().baumString(tiefe + 1)\n",
    "        return s"
   ]
  },
  {
   "cell_type": "markdown",
   "id": "460ed0e6-111e-4988-805c-76d91ff966e2",
   "metadata": {},
   "source": [
    "##### Beispiele:\n",
    "\n",
    "Erzeuge folgenden Baum:\n",
    "\n",
    "<img src='bild8a.png' width='200'>"
   ]
  },
  {
   "cell_type": "code",
   "execution_count": null,
   "id": "00c464a7-22ac-4719-8baf-2c0f0457d37f",
   "metadata": {},
   "outputs": [],
   "source": [
    "b = Baum('b',Baum('d'), Baum('e'))\n",
    "c = Baum('c',Baum('f'),None)\n",
    "a = Baum('a',b,c)\n",
    "print(a)              # der Ausdruck um 90 Grad im Uhrzeigersinn gedreht ergibt den Baum"
   ]
  },
  {
   "cell_type": "markdown",
   "id": "c0a74ae5-e2cf-483e-bcc8-16526a2ed1ba",
   "metadata": {},
   "source": [
    "#### Traversierungen\n",
    "\n",
    "Einen Baum *traversieren* bedeutet, jeden seiner Knoten besuchen.  \n",
    "\n",
    "Verschiedene Reihenfolgen: \n",
    "\n",
    "    preorder  - Elternknoten, linkes Kind, rechtes Kind\n",
    "    inorder   - linkes Kind, Elternknoten, rechtes Kind\n",
    "    postorder - linkes Kind, rechtes Kind, Elternknoten\n",
    "    "
   ]
  },
  {
   "cell_type": "markdown",
   "id": "153012e7-cd31-4661-8260-84559d820c0a",
   "metadata": {},
   "source": [
    "<img src='bild9.png'>\n",
    "\n",
    "    preorder:  - + a * b c / e f\n",
    "    inorder:   a + b * c - e / f\n",
    "    postorder: a b c * + e f / -\n",
    "    \n",
    "   "
   ]
  },
  {
   "cell_type": "markdown",
   "id": "9832af40-cc75-47bf-80a5-5617d5d573fb",
   "metadata": {},
   "source": [
    "##### Übung\n",
    "\n",
    "Zeichne den Baum und traversiere in in preorder, inorder und postorder.\n"
   ]
  },
  {
   "cell_type": "code",
   "execution_count": null,
   "id": "8e977e17-374c-4e2e-9a25-8b6959591bab",
   "metadata": {},
   "outputs": [],
   "source": [
    "b3 = Baum(3,Baum(11),Baum(12))\n",
    "b7 = Baum(7,Baum(13),None)\n",
    "b14 = Baum(14,b3,b7)\n",
    "b9 = Baum(9,None,Baum(23))\n",
    "b10 = Baum(10,Baum(12),Baum(16))\n",
    "b6 = Baum(6,b9,b10)\n",
    "b1 = Baum(1,b14,b6)\n",
    "print(b1)"
   ]
  },
  {
   "cell_type": "markdown",
   "id": "9a2116f0-1b9a-49bd-ac57-ab4c9323e421",
   "metadata": {},
   "source": [
    "Ein Baum lässt sich mittels rekursiver Methoden traversieren.  "
   ]
  },
  {
   "cell_type": "code",
   "execution_count": null,
   "id": "14f52075-ec04-4b2d-bec2-0877818eeddc",
   "metadata": {},
   "outputs": [],
   "source": [
    "def inorder(b):\n",
    "    if b.empty(): return\n",
    "    inorder(b.left())\n",
    "    print(b.value(),end=\" \")\n",
    "    inorder(b.right())\n",
    "\n",
    "def preorder(b):\n",
    "    if b.empty(): return\n",
    "    print(b.value(),end=\" \")\n",
    "    preorder(b.left())\n",
    "    preorder(b.right())\n",
    "\n",
    "def postorder(b):\n",
    "    if b.empty(): return\n",
    "    postorder(b.left())\n",
    "    postorder(b.right())\n",
    "    print(b.value(),end=\" \") "
   ]
  },
  {
   "cell_type": "code",
   "execution_count": null,
   "id": "b791b8c2-2876-468c-98c7-c2f7ae0e430e",
   "metadata": {},
   "outputs": [],
   "source": [
    "preorder(b1)"
   ]
  },
  {
   "cell_type": "code",
   "execution_count": null,
   "id": "fc43d6b2-1e7f-4861-af8f-bfacf0ca31a0",
   "metadata": {},
   "outputs": [],
   "source": [
    "inorder(b1)"
   ]
  },
  {
   "cell_type": "code",
   "execution_count": null,
   "id": "e34107f4-7a97-463e-a779-1f30a9ab18ba",
   "metadata": {},
   "outputs": [],
   "source": [
    "postorder(b1)"
   ]
  },
  {
   "cell_type": "markdown",
   "id": "dda0b2e8-6728-4862-a868-0554da22b5f9",
   "metadata": {},
   "source": [
    "#### Tiefensuche\n",
    "\n",
    "Die iterative Tiefensuche (preorder) wird mit einem stack organisiert.  \n",
    "Wir laufen nach links unten und legen die rechten Bäume, die uns unterwegs begegnen, in den stack.  "
   ]
  },
  {
   "cell_type": "code",
   "execution_count": null,
   "id": "b8906369-f8b3-4b90-98b5-2376e4bc0bf9",
   "metadata": {},
   "outputs": [],
   "source": [
    "def tiefenSuche(baum):   \n",
    "    if baum.empty():\n",
    "        print('Baum ist leer')\n",
    "        return\n",
    "    stack = [baum]             # stack\n",
    "    while stack:               # solange der stack nicht leer\n",
    "        b = stack.pop()        # hole das erste Element aus dem Stack\n",
    "        while not b.empty():   # und kümmere dich drum\n",
    "            print(b.value(),end=' ')     # wir geben das Element aus\n",
    "            if not b.right().empty():    # die rechten Bäume kommen in den stack\n",
    "                stack.append(b.right())\n",
    "            b = b.left()       # wir laufen nach links unten\n",
    "    print()\n",
    "\n",
    "tiefenSuche(b1)"
   ]
  },
  {
   "cell_type": "markdown",
   "id": "e81f7143-459c-4da5-ae6c-61513822e75d",
   "metadata": {},
   "source": [
    "##### Übung\n",
    "Für den Baum b1 wird eine iterative Tiefensuche durchgeführt.\n",
    "Notiere zeilenweise die print-Ausgabe und den Inhalt des Stacks nachdem der rechte Baum (falls vorhanden) nach\n",
    "der print-Ausgabe in den stack getan wurde. Es reicht den Inhalt des Wurzelelements der Bäume im stack zu notieren.\n",
    "Notiere den stack horizontal mit dem top-Element auf der linken Seite.\n",
    "\n",
    "<img src='uebung.png' width='700'>"
   ]
  },
  {
   "cell_type": "markdown",
   "id": "cce99b2d-95a6-4790-bb79-8b79dbac9583",
   "metadata": {},
   "source": [
    "#### Breitensuche\n",
    "\n",
    "Bei der Breitensuche werden die Inhalte der Knoten ebenenweise ausgegeben. Sie wird mit einer Schlange organisiert. \r\n",
    "Wir reihen die linken und rechten Teilbäume in eine Schlange ein.  "
   ]
  },
  {
   "cell_type": "code",
   "execution_count": null,
   "id": "4d6d97a6-ffad-466b-a933-85454839fd7e",
   "metadata": {},
   "outputs": [],
   "source": [
    "from collections import deque\n",
    "def breitensuche(baum):\n",
    "    if baum.empty():\n",
    "        print('Baum ist leer')\n",
    "        return\n",
    "    Q = deque([baum])\n",
    "    while Q:\n",
    "        b = Q.popleft()\n",
    "        print(b.value(),end=' ')\n",
    "        if not b.left().empty():\n",
    "            Q.append(b.left())\n",
    "        if not b.right().empty():\n",
    "            Q.append(b.right())"
   ]
  },
  {
   "cell_type": "code",
   "execution_count": null,
   "id": "4d893d9b-80b8-4696-a707-0b0ef122e4a2",
   "metadata": {},
   "outputs": [],
   "source": [
    "breitensuche(b1)"
   ]
  },
  {
   "cell_type": "markdown",
   "id": "de2c5f28-b65e-4cf3-8512-509b9b3f5fd0",
   "metadata": {},
   "source": [
    "##### Übung\n",
    "Für den Baum b1 wird eine Breitensuche durchgeführt.\n",
    "Notiere zeilenweise die print-Ausgabe und den Inhalt der Queue nachdem die Teilbäume (falls vorhanden) nach\n",
    "der print-Ausgabe in die Queue eingefügt wurden. Es reicht den Inhalt des Wurzelelements der Bäume in der Queue zu notieren.\n",
    "Notiere die Queue horizontal mit dem Kopf der Schlange auf der linken Seite.\n",
    "\n",
    "<img src='breitensuche.png' width='700'>"
   ]
  }
 ],
 "metadata": {
  "kernelspec": {
   "display_name": "Python 3 (ipykernel)",
   "language": "python",
   "name": "python3"
  },
  "language_info": {
   "codemirror_mode": {
    "name": "ipython",
    "version": 3
   },
   "file_extension": ".py",
   "mimetype": "text/x-python",
   "name": "python",
   "nbconvert_exporter": "python",
   "pygments_lexer": "ipython3",
   "version": "3.11.2"
  }
 },
 "nbformat": 4,
 "nbformat_minor": 5
}
