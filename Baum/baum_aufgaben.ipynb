{
 "cells": [
  {
   "cell_type": "code",
   "execution_count": null,
   "id": "ae11d174-2e62-4b7e-bc11-0180a61a143c",
   "metadata": {},
   "outputs": [],
   "source": [
    "def dfs_iterativ(node):\n",
    "    if node is None: return 0\n",
    "    stack = [node]\n",
    "    while stack:\n",
    "        node = stack.pop()\n",
    "        while node:\n",
    "            stack.append(node.right)\n",
    "            print(node.val,[x.val for x in stack if x][::-1])\n",
    "            node = node.left\n",
    "\n",
    "dfs_iterativ(baum2)"
   ]
  }
 ],
 "metadata": {
  "kernelspec": {
   "display_name": "Python 3 (ipykernel)",
   "language": "python",
   "name": "python3"
  },
  "language_info": {
   "codemirror_mode": {
    "name": "ipython",
    "version": 3
   },
   "file_extension": ".py",
   "mimetype": "text/x-python",
   "name": "python",
   "nbconvert_exporter": "python",
   "pygments_lexer": "ipython3",
   "version": "3.11.2"
  }
 },
 "nbformat": 4,
 "nbformat_minor": 5
}
