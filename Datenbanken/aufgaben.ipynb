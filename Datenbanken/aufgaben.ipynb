{
 "cells": [
  {
   "cell_type": "markdown",
   "id": "90d4299c-953a-4a01-80ec-5c07b5e1cdfa",
   "metadata": {},
   "source": [
    "### Aufgaben zu Datenbanken\n",
    "\n",
    "Hinweis: Zur vereinfachten Darstellung werden in einem Datenbankschema die Primärschlüssel manchmal **fett** und die Fremdschlüssel *kursiv* gedruckt."
   ]
  },
  {
   "cell_type": "markdown",
   "id": "bac8fbb2-64e0-416e-9756-cf7e6a480ff1",
   "metadata": {},
   "source": [
    "#### A1\n",
    "Ein Fahrradhaus speichert Daten über zu verkaufende Fahrräder und deren Hersteller in einer Tabelle.\n",
    "\n",
    "<img src='fahrraddb.png'>\n",
    "\n",
    "a. Erläutere anhand der Tabelle den Begriff Redundanz. Beschreibe ein Problem, das als Folge einer redundanten Datenspeicherung auftreten kann.\n",
    "\n",
    "b. Entwirf für die vorhandenen Daten ein relationales Datenbankschema, das dieses Problem vermeidet und dessen Attribute atomar sind."
   ]
  },
  {
   "cell_type": "markdown",
   "id": "29c33fa1-ed38-4685-aaa1-08ef3ebe53f1",
   "metadata": {},
   "source": [
    "#### A2\n",
    "Gegeben ist die folgende Tabelle einer Datenbank, mit der ein Elektronik-Händler seine\n",
    "verkauften Smartphones verwaltet\n",
    "\n",
    "<img src='electronic.png' width='600'>\n",
    "\n",
    "a. Erläutere, welche Probleme sich bei der Verwendung der Datenbank ergeben könnnen. Gehe dabei insbesondere auf die Begriffe *Redundanz* und *Dateninkonsistenz* ein.\n",
    "\n",
    "b. Entwirf für die Datenbank ein optimiertes relationales Datenbankschema, das diese Probleme vermeidet."
   ]
  },
  {
   "cell_type": "markdown",
   "id": "34f40214-a642-4d8d-8f2e-b918cdba621a",
   "metadata": {},
   "source": [
    "#### A3\n",
    "\n",
    "Die Mitgliederverwaltung eines Sportvereins wird mithilfe einer Datenbank durchgeführt.\n",
    "Dabei liegt das folgende relationale Datenbankschema zugrunde.\n",
    "\n",
    "Mitglied(**MID**, Name, Vorname, Geburtsjahr, Geschlecht, Straße, *PLZ*) <br>\n",
    "Ort(**PLZ**, Ortsname) <br>\n",
    "Sportart(**SpID**, Bezeichnung, *TID*) <br>\n",
    "Trainer(**TID**,*MID*, Verguetung) <br>\n",
    "betreibt_Sportart(***MID***,***SpID***)\n",
    "\n",
    "Gib die SQL-Abfragen an für:\n",
    "\n",
    "a. Wieviele Mitglieder hat der Sportverein? <br>\n",
    "b. Welche Mitglieder wohnen in einem Ort, dessen Postleitzahl mit \"67\" oder \"68\" beginnt?. Gib die Namen des Mitglieds und des Ortes aus, aufsteigend sortiert nach dem Namen der Mitglieder.  <br>\n",
    "c. In welchen Sportarten bekommt ein Trainer mindestens 80 Euro? Liste den Namen des Trainers, der Sportart und die Vergütung<br>\n",
    "d. Erläutere, welche Daten werden mit der folgenden Anweisung ausgegeben werden\n",
    "```\n",
    "SELECT Name, Vorname\n",
    "FROM Mitglied\n",
    "WHERE Geburtsjahr > (\n",
    "SELECT AVG (Geburtsjahr)\n",
    "FROM Mitglied\n",
    ")\n",
    "```\n",
    "\n"
   ]
  },
  {
   "attachments": {},
   "cell_type": "markdown",
   "id": "c58aa819-9081-4205-9ec0-a57096bc4440",
   "metadata": {},
   "source": [
    "#### A4\n",
    "Das Verkaufsportal Paybay verkauft DVDs und speichert Datensätze in den Tabellen *Kunden*, *Filme* und *bestellt*.\n",
    "\n",
    "<img src='paybay.png' width='600'>\n",
    "\n",
    "a. Gib eine SQL-Abfrage an, um alle Filme samt Verkaufspreis aufzulisten, die nach dem Jahr 2000 erschienen sind.\n",
    "\n",
    "b. Gib die Ergebnistabelle der SQL-Abfrage an:\n",
    "```\n",
    "SELECT Land, COUNT(*) AS Anzahl\n",
    "FROM Filme\n",
    "GROUP BY Land\n",
    "```\n",
    "\n",
    "c. Gib eine SQL-Abfrage an, die auflistet, welche Filme der Kunde mit der Nummer 3767 im Jahr 2014 bestellt hat.\n",
    "\n",
    "d. Der Manager von Paybay benötigt eine Liste mit dem Gesamtumsatz seines Unternehmens in jedem Land. Gib hierfür eine SQL-Abfrage an.\n",
    "\n",
    "e. Welche Attribute der Tabelle *bestellt* bilden den Primärschlüssel? Begründe deine Antwort"
   ]
  },
  {
   "cell_type": "markdown",
   "id": "620d2944-89b6-43fe-97f0-236c7789f34f",
   "metadata": {},
   "source": [
    "#### A5\n",
    "\n",
    "Gegeben ist folgendes Entity-Relationship-Diagramm:\n",
    "\n",
    "<img src='erdiagram.png'>\n",
    "\n",
    "\n",
    "a. Gib alle Beziehungskardinalitäten an und begründe deine Wahl. <br>\n",
    "\n",
    "Gib jeweils die passenden SQL-Abfragen an:\n",
    "\n",
    "b. Welche Filme aus dem Jahr 2012 sind Action-Film? <br>\n",
    "c. Welche Filme haben eine Länge zwischen 90 und 120 Minuten? <br>\n",
    "d. Welche Filme wurden im Jahr 2013 produziert? <br>\n",
    "e. In welchen Filmen wirkt der Schauspieler \"Harrison Ford\" mit? Gib nur die \n",
    "Filmtitel absteigend geordnet nach Produktionsjahr aus.\n",
    "\n",
    "\n"
   ]
  },
  {
   "cell_type": "markdown",
   "id": "b86616e8-cdc0-4411-8071-bf26bdb42dfc",
   "metadata": {},
   "source": [
    "#### A6\n",
    "\n",
    "Die Privatbahn HHR plant ein Zugauskunftssystem. Dabei sollen Daten über die Züge,\n",
    "die Ankunfts- und Abfahrtszeiten, die Bahnhöfe und ihre Standorte sinnvoll gespeichert\n",
    "werden.\n",
    "Es ist Folgendes zu beachten:\n",
    "\n",
    "* Jeder Bahnhof hat eine gewisse Anzahl von Gleisen und liegt in einer Stadt. Dabei können\n",
    "in einer Stadt auch mehrere Bahnhöfe liegen.\n",
    "* Bei Städten soll außer dem Namen auch die\n",
    "Region gespeichert sein.\n",
    "* Jeder Zug hat eine Bezeichnung und eine Anzahl von Wagen.\n",
    "* Für einen Zug sollen an jedem Bahnhof die Ankunfts- und Abfahrtszeit und das Gleis\n",
    "gespeichert werden.\n",
    "\n",
    "\n",
    "\n",
    "a. Modelliere nach dem oben beschriebenen Sachverhalt ein ER-Diagramm. \n",
    "Trage die Kardinalitäten ein und begründe diese. Gib für jede Entität\n",
    "die Attribute und Primärschlüssel an.\n",
    "\n",
    "b. Überführe das ER-Diagramm in ein optimiertes relationales Datenbankschema.\n",
    "Kennzeichne dabei Primär- und Fremdschlüssel.\n",
    "\n"
   ]
  },
  {
   "cell_type": "markdown",
   "id": "3d991c3e-4fba-4c14-a854-13a4a5c8fd21",
   "metadata": {},
   "source": [
    "#### A7\n",
    "\n",
    "Für einen Baumarkt soll eine Datenbank entworfen werden, die sowohl den Artikelbestand als auch die Artikelverkäufe erfasst.\n",
    "Folgende Anforderungen werden an die Datenbank gestellt:\n",
    "\n",
    "* Zu jedem Artikel werden der Name, der Preis pro Einheit und wie viele Einheiten im Regal sind gespeichert.\n",
    "* Viele Kunden haben mindestens eine Kundenkarte des Baumarkts.\n",
    "Für jeden Kunden sind die jeweilige Kartennummer sowie der Name und\n",
    "die Adresse des Kunden gespeichert.\n",
    "* Kommt ein Kunde nach dem Einkauf an die Kasse, werden alle Artikel eingescannt\n",
    "und über ihren Barcode erfasst.\n",
    "* Der Kunde erhält einen Kassenbon, auf dem alle Artikel und die Anzahl der\n",
    "erworbenen Einheiten aufgelistet sind. Diese Daten werden mit der eindeutigen\n",
    "Kassenbon-Nummer des Einkaufs gespeichert.\n",
    "* Zu jedem Einkauf werden auch Datum und Uhrzeit erfasst.\n",
    "* Bezahlt der Kunde mit EC-Karte oder bar, werden keine weiteren Daten gespeichert,\n",
    "bezahlt er mit seiner Kundenkarte, wird die Nummer der entsprechenden Karte\n",
    "gespeichert.\n",
    "\n",
    "a. Entwickle ein Entity-Relationship-Diagramm für die Datenbank. <br>\n",
    "b. Kennzeichne die Schlüsselattribute und gib die Beziehungskardinalitäten an."
   ]
  },
  {
   "cell_type": "markdown",
   "id": "082e3d8a-83e7-465b-9d9e-2ae2aee5b16b",
   "metadata": {},
   "source": [
    "#### A8\n",
    "\n",
    "Ein Wahlforschungsinstitut möchte die Ergebnisse, die politische Parteien bei Landtagswahlen erzielt haben, in einer relationalen Datenbank speichern.\n",
    "\n",
    "* Für jedes Land ist der Name, die Einwohnerzahl, die Anzahl der Sitze im Landesparlament und der Regierungssitz zu speichern. Weiterhin nehmen wir an, dass die Länder durch ihre Namen eindeutig identifiziert sind.\n",
    "\n",
    "* Jede Partei hat einen voll ausgeschriebenen und einen abgekürzten Namen.\n",
    "\n",
    "* Folgende bei Landtagswahlen erzielten Ergebnisse werden gespeichert:\n",
    "  - das Jahr, in dem die Wahl stattfand.\n",
    "  - der Stimmenanteil je Partei\n",
    "  - die Anzahl Sitze, welche eine Partei erringen konnte\n",
    " \n",
    "Entwirf ein geeignetes ER-Modell mit den passenden Relationen, das die Attribute, die Schlüssel und die Kardinalitäten enthält. <br>\n",
    "\n"
   ]
  },
  {
   "cell_type": "code",
   "execution_count": null,
   "id": "e8a260ec-806d-49b7-9b31-e664b2a4ae1b",
   "metadata": {},
   "outputs": [],
   "source": []
  }
 ],
 "metadata": {
  "kernelspec": {
   "display_name": "Python 3 (ipykernel)",
   "language": "python",
   "name": "python3"
  },
  "language_info": {
   "codemirror_mode": {
    "name": "ipython",
    "version": 3
   },
   "file_extension": ".py",
   "mimetype": "text/x-python",
   "name": "python",
   "nbconvert_exporter": "python",
   "pygments_lexer": "ipython3",
   "version": "3.11.2"
  }
 },
 "nbformat": 4,
 "nbformat_minor": 5
}
