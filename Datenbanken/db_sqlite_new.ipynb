{
 "cells": [
  {
   "cell_type": "markdown",
   "metadata": {
    "editable": true,
    "slideshow": {
     "slide_type": ""
    },
    "tags": []
   },
   "source": [
    "# Datenbanken mit SQLite\n",
    "\n",
    "[SQLite-Docu](https://www.sqlite.org/lang.html) <br>\n",
    "Web-Client: [Sqlite Browser](https://sqliteonline.com/)    <br>\n",
    "Beispieldatenbank: [Sportverein](sportverein.db)\n",
    "\n",
    "Downloade die Sportverein-Datenbank, lade die Datenbank dann in den Web-Client mit File-OpenDB."
   ]
  },
  {
   "cell_type": "markdown",
   "metadata": {
    "editable": true,
    "slideshow": {
     "slide_type": ""
    },
    "tags": []
   },
   "source": [
    "#### SQL-Abfragen "
   ]
  },
  {
   "cell_type": "markdown",
   "metadata": {},
   "source": [
    "#### Sportverein\n",
    "Ein Sportverein hat Mitglieder, die eine oder mehrere Sportarten üben wollen. Dazu sind Übungsgruppen eingerichtet worden, die einen Leiter haben, der auch Mitglied im Sportverein ist. Für jede Übungsgruppe gibt es eine oder mehrere Trainingszeiten pro Woche, zu denen die Gruppe an eventuell verschiedenen Trainingsorten übt. Die Dauer einer Trainingszeit beträgt eine Stunde. Hausmeister betreuen einen oder mehrere Trainingsorte. Die Mitglieder zahlen einen bestimmten Betrag und haben deshalb ihr Bankverbindung angegeben.\n",
    "\n",
    "<img src='sportverein.png'>"
   ]
  },
  {
   "cell_type": "code",
   "execution_count": 26,
   "metadata": {
    "editable": true,
    "slideshow": {
     "slide_type": ""
    },
    "tags": []
   },
   "outputs": [],
   "source": [
    "import sqlite3 as sq\n",
    "import sportverein\n",
    "sportverein.createDB()\n",
    "\n",
    "def abfrage(sql):\n",
    "    '''\n",
    "    sql: String mit SQL-Anweisung\n",
    "    returns: None, printed die Ergebniszeilen\n",
    "    '''\n",
    "    connection = sq.connect(\"sportverein.db\")  \n",
    "    cursor = connection.cursor()\n",
    "    \n",
    "    cursor.execute(sql)\n",
    "    connection.commit()\n",
    "    if sql.strip().startswith(\"SELECT\"):      # die namen der felder ausgeben\n",
    "        cols =  [x[0] for x in cursor.description]\n",
    "        n = sum([len(x) for x in cols])+len(cols)\n",
    "        print(*cols)\n",
    "        print('-'*n)\n",
    "\n",
    "    for zeile in cursor:\n",
    "        print(*zeile)\n",
    "    connection.close()"
   ]
  },
  {
   "cell_type": "code",
   "execution_count": 5,
   "metadata": {
    "editable": true,
    "slideshow": {
     "slide_type": ""
    },
    "tags": []
   },
   "outputs": [
    {
     "name": "stdout",
     "output_type": "stream",
     "text": [
      "uid sportart mid\n",
      "-----------------\n",
      "1 Schwimmen 1990\n",
      "2 Fußball 2010\n",
      "3 Tennis 2229\n",
      "4 Volleyball 2832\n",
      "5 Wasserball 1990\n",
      "6 Tauchen 2595\n",
      "7 Basketball 2577\n",
      "8 Turnen 2643\n",
      "9 Langlauf 2349\n",
      "10 Fußball 1977\n",
      "11 Volleyball 1993\n",
      "12 Schwimmen 2173\n",
      "13 Fußball 2010\n",
      "14 Volleyball 1993\n",
      "15 Fußball 2189\n",
      "16 Schwimmen 2638\n",
      "17 Fußball 2632\n"
     ]
    }
   ],
   "source": [
    "sql = \"SELECT * FROM uebungsgruppe\"\n",
    "abfrage(sql)"
   ]
  },
  {
   "cell_type": "code",
   "execution_count": 45,
   "metadata": {},
   "outputs": [
    {
     "name": "stdout",
     "output_type": "stream",
     "text": [
      "sportart\n",
      "---------\n",
      "Schwimmen\n",
      "Fußball\n",
      "Tennis\n",
      "Volleyball\n",
      "Wasserball\n",
      "Tauchen\n",
      "Basketball\n",
      "Turnen\n",
      "Langlauf\n"
     ]
    }
   ],
   "source": [
    "sql = \"SELECT DISTINCT sportart FROM uebungsgruppe\"\n",
    "abfrage(sql)"
   ]
  },
  {
   "cell_type": "code",
   "execution_count": 6,
   "metadata": {},
   "outputs": [
    {
     "name": "stdout",
     "output_type": "stream",
     "text": [
      "COUNT(DISTINCT sportart)\n",
      "-------------------------\n",
      "9\n"
     ]
    }
   ],
   "source": [
    "sql = \"SELECT COUNT(DISTINCT sportart) FROM uebungsgruppe\"\n",
    "abfrage(sql)"
   ]
  },
  {
   "cell_type": "markdown",
   "metadata": {},
   "source": [
    "Mit der **WHERE**-Klausel können wir Bedingungen formulieren."
   ]
  },
  {
   "cell_type": "code",
   "execution_count": 7,
   "metadata": {},
   "outputs": [
    {
     "name": "stdout",
     "output_type": "stream",
     "text": [
      "uid sportart mid\n",
      "-----------------\n",
      "2 Fußball 2010\n",
      "10 Fußball 1977\n",
      "13 Fußball 2010\n",
      "15 Fußball 2189\n",
      "17 Fußball 2632\n"
     ]
    }
   ],
   "source": [
    "sql = \"SELECT * FROM uebungsgruppe  WHERE sportart = 'Fußball'\"\n",
    "abfrage(sql)"
   ]
  },
  {
   "cell_type": "code",
   "execution_count": 7,
   "metadata": {},
   "outputs": [
    {
     "name": "stdout",
     "output_type": "stream",
     "text": [
      "mid name\n",
      "---------\n",
      "1963 Giek\n",
      "1964 Kiefer\n",
      "1965 Voss\n",
      "1966 Matthies\n",
      "1967 Krey\n",
      "1968 Rehbock\n",
      "1969 Siebert\n"
     ]
    }
   ],
   "source": [
    "# Vergleichsoperator \n",
    "sql = \"SELECT mid, name FROM mitglied  WHERE mid < 1970\"\n",
    "abfrage(sql)"
   ]
  },
  {
   "cell_type": "code",
   "execution_count": 8,
   "metadata": {},
   "outputs": [
    {
     "name": "stdout",
     "output_type": "stream",
     "text": [
      "mid name\n",
      "---------\n",
      "1964 Kiefer\n",
      "1965 Voss\n",
      "1966 Matthies\n",
      "1967 Krey\n"
     ]
    }
   ],
   "source": [
    "# Between\n",
    "sql = \"SELECT mid, name FROM mitglied WHERE mid BETWEEN 1964 AND 1967\"\n",
    "abfrage(sql)"
   ]
  },
  {
   "cell_type": "code",
   "execution_count": 9,
   "metadata": {},
   "outputs": [
    {
     "name": "stdout",
     "output_type": "stream",
     "text": [
      "mid name\n",
      "---------\n",
      "1964 Kiefer\n",
      "1975 Kinner\n",
      "2001 Kirchner\n",
      "2568 Kilian\n",
      "2638 Kistner\n",
      "2897 Kistner\n"
     ]
    }
   ],
   "source": [
    "# Like mit wildcard %\n",
    "sql = \"SELECT mid, name FROM mitglied WHERE name LIKE 'Ki%'\"\n",
    "abfrage(sql)"
   ]
  },
  {
   "cell_type": "code",
   "execution_count": 10,
   "metadata": {},
   "outputs": [
    {
     "name": "stdout",
     "output_type": "stream",
     "text": [
      "mid name\n",
      "---------\n",
      "2232 Braun\n",
      "2339 Kraus\n",
      "2481 Kraft\n",
      "2736 Staps\n",
      "2872 Kraft\n"
     ]
    }
   ],
   "source": [
    "# Like mit wildcard _\n",
    "sql = \"SELECT mid, name FROM mitglied WHERE name LIKE '__a__'\"\n",
    "abfrage(sql)"
   ]
  },
  {
   "cell_type": "code",
   "execution_count": 11,
   "metadata": {},
   "outputs": [
    {
     "name": "stdout",
     "output_type": "stream",
     "text": [
      "mid name\n",
      "---------\n",
      "1970 Auffarth\n",
      "2823 Aebersold\n",
      "2859 Adolphy\n",
      "2873 Alt\n",
      "2921 Autenrieth\n",
      "2940 Andres\n"
     ]
    }
   ],
   "source": [
    "# logische Operatoren\n",
    "sql = \"SELECT mid, name FROM mitglied WHERE name LIKE 'A%' AND (mid < 2000 OR mid > 2800)\"\n",
    "abfrage(sql)"
   ]
  },
  {
   "cell_type": "code",
   "execution_count": 12,
   "metadata": {},
   "outputs": [
    {
     "name": "stdout",
     "output_type": "stream",
     "text": [
      "uid sportart mid\n",
      "-----------------\n",
      "7 Basketball 2577\n",
      "2 Fußball 2010\n",
      "10 Fußball 1977\n",
      "13 Fußball 2010\n",
      "15 Fußball 2189\n",
      "17 Fußball 2632\n",
      "9 Langlauf 2349\n",
      "1 Schwimmen 1990\n",
      "12 Schwimmen 2173\n",
      "16 Schwimmen 2638\n",
      "6 Tauchen 2595\n",
      "3 Tennis 2229\n",
      "8 Turnen 2643\n",
      "4 Volleyball 2832\n",
      "11 Volleyball 1993\n",
      "14 Volleyball 1993\n",
      "5 Wasserball 1990\n"
     ]
    }
   ],
   "source": [
    "# order by\n",
    "sql = \"SELECT * FROM uebungsgruppe ORDER BY sportart\"\n",
    "abfrage(sql)"
   ]
  },
  {
   "cell_type": "code",
   "execution_count": 13,
   "metadata": {},
   "outputs": [
    {
     "name": "stdout",
     "output_type": "stream",
     "text": [
      "uid sportart mid\n",
      "-----------------\n",
      "4 Volleyball 2832\n",
      "8 Turnen 2643\n",
      "6 Tauchen 2595\n",
      "16 Schwimmen 2638\n",
      "17 Fußball 2632\n",
      "7 Basketball 2577\n"
     ]
    }
   ],
   "source": [
    "# order by ... desc\n",
    "sql = \"SELECT * FROM uebungsgruppe WHERE mid > 2500 ORDER BY sportart DESC\"\n",
    "abfrage(sql)"
   ]
  },
  {
   "cell_type": "code",
   "execution_count": 14,
   "metadata": {},
   "outputs": [
    {
     "name": "stdout",
     "output_type": "stream",
     "text": [
      "mid name vorname telefon konto blz beitrag\n",
      "-------------------------------------------\n",
      "2502 Tramski Werner 0041-31-8293110 31277895 18750023 52.0\n",
      "2503 Bäz Peter 09324-693 87592808 75000092 34.0\n",
      "2504 Hämmerle Jo  72328166 37500046 17.0\n",
      "2505 Messner Klaus P. 0421-36116776 19491420 18750023 52.0\n",
      "2506 Kunze Michael 06132-99510 92310756 37500046 34.0\n",
      "2507 Friebe Herr 0611-317210 66889770 18750023 52.0\n",
      "2508 Wolff Werner  16379051 37500046 17.0\n",
      "2509 Lohr Claudia 07274-1060 82726781 37500046 17.0\n",
      "2510 Welte Eckhard 02351-95930 89010877 56250069 34.0\n",
      "2511 Frankerl Wolfgang 07131-562452 5817857 56250069 52.0\n"
     ]
    }
   ],
   "source": [
    "# limit\n",
    "sql = \"SELECT * FROM mitglied WHERE mid > 2500 LIMIT 10\"\n",
    "abfrage(sql)"
   ]
  },
  {
   "cell_type": "code",
   "execution_count": 15,
   "metadata": {},
   "outputs": [
    {
     "name": "stdout",
     "output_type": "stream",
     "text": [
      "MIN(mid) MAX(mid) MAX(mid)-MIN(mid) COUNT(mid)\n",
      "-----------------------------------------------\n",
      "1963 2943 980 930\n"
     ]
    }
   ],
   "source": [
    "# sql functions min, max, count\n",
    "sql = \"SELECT MIN(mid), MAX(mid), MAX(mid)-MIN(mid), COUNT(mid) FROM mitglied\"\n",
    "abfrage(sql)"
   ]
  },
  {
   "cell_type": "code",
   "execution_count": 16,
   "metadata": {},
   "outputs": [
    {
     "name": "stdout",
     "output_type": "stream",
     "text": [
      "AVG(beitrag) SUM(beitrag)\n",
      "--------------------------\n",
      "34.11827956989247 31730.0\n"
     ]
    }
   ],
   "source": [
    "# sql functions avg, sum\n",
    "sql = \"SELECT AVG(beitrag), SUM(beitrag) FROM mitglied\"\n",
    "abfrage(sql)"
   ]
  },
  {
   "cell_type": "code",
   "execution_count": 17,
   "metadata": {},
   "outputs": [
    {
     "name": "stdout",
     "output_type": "stream",
     "text": [
      "uid sportart mid\n",
      "-----------------\n",
      "1 Schwimmen 1990\n",
      "2 Fußball 2010\n",
      "10 Fußball 1977\n",
      "12 Schwimmen 2173\n",
      "13 Fußball 2010\n",
      "15 Fußball 2189\n",
      "16 Schwimmen 2638\n",
      "17 Fußball 2632\n"
     ]
    }
   ],
   "source": [
    "# In\n",
    "sql = \"SELECT * FROM uebungsgruppe WHERE sportart IN ('Fußball','Schwimmen')\"\n",
    "abfrage(sql)"
   ]
  },
  {
   "cell_type": "code",
   "execution_count": 18,
   "metadata": {},
   "outputs": [
    {
     "name": "stdout",
     "output_type": "stream",
     "text": [
      "name\n",
      "-----\n",
      "Schinkmann\n",
      "Rienhöfer\n",
      "Ellerbusch\n",
      "Böttcher\n",
      "Weinert\n",
      "Roth\n",
      "Rudolph\n",
      "Zwick\n",
      "Müller\n",
      "Liesch\n",
      "Freyer\n",
      "Kistner\n",
      "Arndt\n",
      "Wolf\n"
     ]
    }
   ],
   "source": [
    "# subquery - die Namen der Übungsgruppenleiter\n",
    "sql = \"SELECT name FROM mitglied WHERE mid IN (SELECT mid FROM uebungsgruppe)\"\n",
    "abfrage(sql)"
   ]
  },
  {
   "cell_type": "code",
   "execution_count": 19,
   "metadata": {
    "editable": true,
    "slideshow": {
     "slide_type": ""
    },
    "tags": []
   },
   "outputs": [
    {
     "name": "stdout",
     "output_type": "stream",
     "text": [
      "n m\n",
      "----\n",
      "Anlauf 2579\n",
      "Arndt 2643\n",
      "Aluttis 2700\n",
      "Aluttis 2734\n",
      "Aebersold 2823\n",
      "Adolphy 2859\n",
      "Alt 2873\n",
      "Autenrieth 2921\n",
      "Andres 2940\n"
     ]
    }
   ],
   "source": [
    "# Aliasse für Spalten\n",
    "sql = \"SELECT name n, mid m FROM mitglied WHERE n LIKE 'A%' and m > 2500\"\n",
    "abfrage(sql)"
   ]
  },
  {
   "cell_type": "code",
   "execution_count": 15,
   "metadata": {},
   "outputs": [
    {
     "name": "stdout",
     "output_type": "stream",
     "text": [
      "name ort\n",
      "---------\n",
      "Krause Bad1\n",
      "Krause Bad2\n",
      "Krause Bad3\n",
      "Krause Halle1\n",
      "Krause Halle2\n",
      "Krause Halle3\n",
      "Krause Platz1\n",
      "Krause Platz2\n",
      "Koschulte Bad1\n",
      "Koschulte Bad2\n",
      "Koschulte Bad3\n",
      "Koschulte Halle1\n",
      "Koschulte Halle2\n",
      "Koschulte Halle3\n",
      "Koschulte Platz1\n",
      "Koschulte Platz2\n",
      "Kacmarek Bad1\n",
      "Kacmarek Bad2\n",
      "Kacmarek Bad3\n",
      "Kacmarek Halle1\n",
      "Kacmarek Halle2\n",
      "Kacmarek Halle3\n",
      "Kacmarek Platz1\n",
      "Kacmarek Platz2\n"
     ]
    }
   ],
   "source": [
    "# Kreuzprodukt\n",
    "sql = \"SELECT name, ort FROM hausmeister, trainingsort\"\n",
    "abfrage(sql)"
   ]
  },
  {
   "cell_type": "code",
   "execution_count": 19,
   "metadata": {},
   "outputs": [
    {
     "name": "stdout",
     "output_type": "stream",
     "text": [
      "name name\n",
      "----------\n",
      "Krause Giek\n",
      "Krause Kiefer\n",
      "Krause Voss\n",
      "Krause Matthies\n",
      "Krause Krey\n",
      "Krause Rehbock\n",
      "Krause Siebert\n",
      "Krause Auffarth\n",
      "Krause Klein\n",
      "Krause Bartussek\n"
     ]
    }
   ],
   "source": [
    "# Aliasse für Tabellen\n",
    "sql = \"SELECT a.name, b.name FROM hausmeister a, mitglied b LIMIT(10)\"\n",
    "abfrage(sql)"
   ]
  },
  {
   "cell_type": "code",
   "execution_count": 20,
   "metadata": {
    "editable": true,
    "slideshow": {
     "slide_type": ""
    },
    "tags": []
   },
   "outputs": [
    {
     "name": "stdout",
     "output_type": "stream",
     "text": [
      "name ort\n",
      "---------\n",
      "Krause Bad1\n",
      "Koschulte Bad2\n",
      "Koschulte Bad3\n",
      "Koschulte Halle1\n",
      "Koschulte Halle2\n",
      "Kacmarek Halle3\n",
      "Kacmarek Platz1\n",
      "Krause Platz2\n"
     ]
    }
   ],
   "source": [
    "# die Verbindung über die WHERE-Klausel\n",
    "sql = \"SELECT a.name, b.ort FROM hausmeister a, trainingsort b WHERE a.hid = b.hid\"\n",
    "abfrage(sql)"
   ]
  },
  {
   "cell_type": "code",
   "execution_count": 23,
   "metadata": {},
   "outputs": [
    {
     "name": "stdout",
     "output_type": "stream",
     "text": [
      "name ort\n",
      "---------\n",
      "Krause Bad1\n",
      "Koschulte Bad2\n",
      "Koschulte Bad3\n",
      "Koschulte Halle1\n",
      "Koschulte Halle2\n",
      "Kacmarek Halle3\n",
      "Kacmarek Platz1\n",
      "Krause Platz2\n"
     ]
    }
   ],
   "source": [
    "# besser: die Verbindung über JOIN\n",
    "sql = \"\"\"\n",
    "SELECT a.name, b.ort FROM hausmeister a \n",
    "JOIN trainingsort b ON b.hid = a.hid\n",
    "\"\"\"\n",
    "abfrage(sql)"
   ]
  },
  {
   "cell_type": "code",
   "execution_count": 27,
   "metadata": {
    "editable": true,
    "slideshow": {
     "slide_type": ""
    },
    "tags": []
   },
   "outputs": [
    {
     "name": "stdout",
     "output_type": "stream",
     "text": [
      "name\n",
      "-----\n",
      "Müller\n",
      "Ellerbusch\n"
     ]
    }
   ],
   "source": [
    "# Join - liste die Namen aller Übungsleiter in Halle1\n",
    "sql = \"\"\"\n",
    "SELECT a.name FROM mitglied a \n",
    "JOIN uebungsgruppe b ON b.mid = a.mid\n",
    "JOIN trainingseinheit c ON c.uid = b.uid\n",
    "JOIN trainingsort d ON d.ort = c.ort\n",
    "WHERE d.ort = \"Halle1\"\n",
    "\"\"\"\n",
    "abfrage(sql)"
   ]
  },
  {
   "cell_type": "code",
   "execution_count": 54,
   "metadata": {
    "editable": true,
    "slideshow": {
     "slide_type": ""
    },
    "tags": []
   },
   "outputs": [
    {
     "name": "stdout",
     "output_type": "stream",
     "text": [
      "blz COUNT(blz)\n",
      "---------------\n",
      "18750023 186\n",
      "37500046 166\n",
      "56250069 196\n",
      "75000092 201\n",
      "93750115 181\n"
     ]
    }
   ],
   "source": [
    "# GROUP BY wird oft mit den Aggregatfunktionen (COUNT, MAX, MIN, SUM, AVG) benutzt\n",
    "sql = \"SELECT blz, COUNT(blz) FROM mitglied GROUP BY blz\"\n",
    "abfrage(sql) "
   ]
  },
  {
   "cell_type": "code",
   "execution_count": 56,
   "metadata": {},
   "outputs": [
    {
     "name": "stdout",
     "output_type": "stream",
     "text": [
      "zaehl bezeichnung\n",
      "------------------\n",
      "201 Sparkasse Rhynern\n",
      "196 Volksbank Unna\n",
      "186 Volksbank Mawicke\n",
      "181 Deutsche Bank Soest\n",
      "166 Sparkasse Echthausen\n"
     ]
    }
   ],
   "source": [
    "# Absteigend sortiert: Wieviele Mitglieder sind bei welcher Bank\n",
    "sql = \"\"\"\n",
    "SELECT COUNT(a.blz) zaehl, b.bezeichnung FROM mitglied a\n",
    "JOIN bank b ON b.blz = a.blz\n",
    "GROUP BY a.blz ORDER BY zaehl DESC\n",
    "\"\"\"\n",
    "abfrage(sql) "
   ]
  },
  {
   "cell_type": "code",
   "execution_count": 28,
   "metadata": {
    "editable": true,
    "slideshow": {
     "slide_type": ""
    },
    "tags": []
   },
   "outputs": [
    {
     "name": "stdout",
     "output_type": "stream",
     "text": [
      "COUNT(mid) sportart\n",
      "--------------------\n",
      "5 Fußball\n",
      "3 Schwimmen\n",
      "3 Volleyball\n"
     ]
    }
   ],
   "source": [
    "# HAVING ersetzt das WHERE bei Aggregatfunktionen.\n",
    "# Liste alle sportarten, die mehr als einen Übungsleiter haben\n",
    "sql = \"SELECT COUNT(mid), sportart FROM uebungsgruppe GROUP BY sportart HAVING count(mid) > 1\"\n",
    "abfrage(sql)"
   ]
  },
  {
   "cell_type": "code",
   "execution_count": null,
   "metadata": {},
   "outputs": [],
   "source": []
  }
 ],
 "metadata": {
  "kernelspec": {
   "display_name": "Python 3 (ipykernel)",
   "language": "python",
   "name": "python3"
  },
  "language_info": {
   "codemirror_mode": {
    "name": "ipython",
    "version": 3
   },
   "file_extension": ".py",
   "mimetype": "text/x-python",
   "name": "python",
   "nbconvert_exporter": "python",
   "pygments_lexer": "ipython3",
   "version": "3.11.2"
  }
 },
 "nbformat": 4,
 "nbformat_minor": 4
}
