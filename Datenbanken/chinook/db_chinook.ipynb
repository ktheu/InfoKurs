{
 "cells": [
  {
   "cell_type": "code",
   "execution_count": 3,
   "id": "442b214d-a025-4b16-9fc4-d05eee5a4fe1",
   "metadata": {},
   "outputs": [],
   "source": [
    "import sqlite3 as sq\n",
    "\n",
    "def abfrage(sql):\n",
    "    '''\n",
    "    sql: String mit SQL-Anweisung\n",
    "    returns: None, printed die Ergebniszeilen\n",
    "    '''\n",
    "    connection = sq.connect(\"chinook.db\")  \n",
    "    cursor = connection.cursor()\n",
    "    \n",
    "    cursor.execute(sql)\n",
    "    connection.commit()\n",
    "    if sql.upper().strip().startswith(\"SELECT\"):      # die namen der felder ausgeben\n",
    "        cols =  [x[0] for x in cursor.description]\n",
    "        n = sum([len(x) for x in cols])+len(cols)\n",
    "        print(*cols)\n",
    "        print('-'*n)\n",
    "\n",
    "    for zeile in cursor:\n",
    "        print(*zeile)\n",
    "    connection.close()"
   ]
  },
  {
   "cell_type": "markdown",
   "id": "30f7e831-8749-4a01-8561-11dc8a0a0aa9",
   "metadata": {},
   "source": [
    "<img src=\"chinook.png\">\n",
    "\n",
    "<img src='cardinality.png' width=\"400\">"
   ]
  },
  {
   "cell_type": "code",
   "execution_count": 4,
   "id": "accb51c7-a048-4033-b21f-52c2e79b35d0",
   "metadata": {},
   "outputs": [
    {
     "name": "stdout",
     "output_type": "stream",
     "text": [
      "FirstName LastName\n",
      "-------------------\n",
      "Margaret Park\n",
      "Nancy Edwards\n",
      "Andrew Adams\n",
      "Steve Johnson\n",
      "Laura Callahan\n",
      "Robert King\n",
      "Michael Mitchell\n",
      "Jane Peacock\n"
     ]
    }
   ],
   "source": [
    "# Liste Vorname und Name der Angestellten, absteigend nach Alter sortiert\n",
    "query = \"\"\"\n",
    "SELECT firstname, lastname FROM employees\n",
    "ORDER BY birthdate\n",
    "\"\"\"\n",
    "abfrage(query)"
   ]
  },
  {
   "cell_type": "raw",
   "id": "eaa55bba-77ec-4599-b77f-9a942bc1b310",
   "metadata": {},
   "source": [
    "Which countries have the most Invoices? Use the Invoice table to determine the countries that have the most invoices. Provide a table of BillingCountry and Invoices ordered by the number of invoices for each country. The country with the most invoices should appear first.r"
   ]
  },
  {
   "cell_type": "code",
   "execution_count": 7,
   "id": "aacfbb9d-6fe1-4fd4-be6b-0f4c2a6cb251",
   "metadata": {},
   "outputs": [
    {
     "name": "stdout",
     "output_type": "stream",
     "text": [
      "BillingCountry count(invoiceid)\n",
      "--------------------------------\n",
      "USA 91\n",
      "Canada 56\n",
      "France 35\n",
      "Brazil 35\n",
      "Germany 28\n",
      "United Kingdom 21\n",
      "Portugal 14\n",
      "Czech Republic 14\n",
      "India 13\n",
      "Sweden 7\n",
      "Spain 7\n",
      "Poland 7\n",
      "Norway 7\n",
      "Netherlands 7\n",
      "Italy 7\n",
      "Ireland 7\n",
      "Hungary 7\n",
      "Finland 7\n",
      "Denmark 7\n",
      "Chile 7\n",
      "Belgium 7\n",
      "Austria 7\n",
      "Australia 7\n",
      "Argentina 7\n"
     ]
    }
   ],
   "source": [
    "# Liste die Länder mit der Anzahl ihrer Rechnungen, absteigend sortiert nach Anzahl Rechnungen\n",
    "query = \"\"\"\n",
    "SELECT billingcountry, count(invoiceid) FROM invoices\n",
    "GROUP BY 1 ORDER BY 2 DESC\n",
    "\"\"\"\n",
    "abfrage(query)"
   ]
  },
  {
   "cell_type": "raw",
   "id": "b49dd958-8621-4ae7-875e-bc95837082e4",
   "metadata": {},
   "source": [
    "Which city has the best customers? We would like to throw a promotional Music Festival in the city we made the most money. Write a query that returns the 1 city that has the highest sum of invoice totals. Return both the city name and the sum of all invoice totals."
   ]
  },
  {
   "cell_type": "code",
   "execution_count": 12,
   "id": "9396ab1d-c56e-4f88-a0dc-38f84676f3b6",
   "metadata": {},
   "outputs": [
    {
     "name": "stdout",
     "output_type": "stream",
     "text": [
      "BillingCity SUM(total)\n",
      "-----------------------\n",
      "Prague 90.24000000000001\n"
     ]
    }
   ],
   "source": [
    "# Welche Stadt hat in der die besten Kunden? Gib die Stadt aus und die Summe der Rechnungen aller Kunden dieser Stadt.\n",
    "query = \"\"\"\n",
    "SELECT billingcity,\n",
    "SUM(total)\n",
    "FROM invoices\n",
    "GROUP BY 1\n",
    "ORDER BY 2 DESC LIMIT 1\n",
    "\"\"\"\n",
    "abfrage(query)"
   ]
  },
  {
   "cell_type": "raw",
   "id": "59a85e81-5192-45a4-a825-dd13cc237fe8",
   "metadata": {},
   "source": [
    "Who is the best customer? The customer who has spent the most money will be declared the best customer. Build a query that returns the person who has spent the most money. I found the solution by linking the following three: Invoice, InvoiceLine, and Customer tables to retrieve this information, but you can probably do it with fewer!"
   ]
  },
  {
   "cell_type": "code",
   "execution_count": 18,
   "id": "4eb63976-3e84-489f-aa4a-734d1423fa88",
   "metadata": {},
   "outputs": [
    {
     "name": "stdout",
     "output_type": "stream",
     "text": [
      "FirstName LastName SUM(i.total)\n",
      "--------------------------------\n",
      "Fynn Zimmermann 43.62\n"
     ]
    }
   ],
   "source": [
    "# Wie heißt der beste Kunde (= der mit der höchsten Rechnungssumme)?\n",
    "query = \"\"\"\n",
    "SELECT c.firstname, c.lastname,\n",
    "SUM(i.total)\n",
    "FROM customers c\n",
    "JOIN invoices i ON c.customerid = i.customerid\n",
    "GROUP BY 1\n",
    "ORDER BY 2 DESC LIMIT 1\n",
    "\"\"\"\n",
    "abfrage(query)"
   ]
  },
  {
   "cell_type": "code",
   "execution_count": 29,
   "id": "ae34f383-8fd5-445a-a1f6-73edef484217",
   "metadata": {},
   "outputs": [
    {
     "name": "stdout",
     "output_type": "stream",
     "text": [
      "Email FirstName LastName Name\n",
      "------------------------------\n",
      "aaronmitchell@yahoo.ca Aaron Mitchell Rock\n",
      "alero@uol.com.br Alexandre Rocha Rock\n",
      "astrid.gruber@apple.at Astrid Gruber Rock\n",
      "bjorn.hansen@yahoo.no Bjørn Hansen Rock\n",
      "camille.bernard@yahoo.fr Camille Bernard Rock\n",
      "daan_peeters@apple.be Daan Peeters Rock\n",
      "diego.gutierrez@yahoo.ar Diego Gutiérrez Rock\n",
      "dmiller@comcast.com Dan Miller Rock\n",
      "dominiquelefebvre@gmail.com Dominique Lefebvre Rock\n",
      "edfrancis@yachoo.ca Edward Francis Rock\n",
      "eduardo@woodstock.com.br Eduardo Martins Rock\n",
      "ellie.sullivan@shaw.ca Ellie Sullivan Rock\n",
      "emma_jones@hotmail.com Emma Jones Rock\n",
      "enrique_munoz@yahoo.es Enrique Muñoz Rock\n",
      "fernadaramos4@uol.com.br Fernanda Ramos Rock\n",
      "fharris@google.com Frank Harris Rock\n",
      "fralston@gmail.com Frank Ralston Rock\n",
      "frantisekw@jetbrains.com František Wichterlová Rock\n",
      "ftremblay@gmail.com François Tremblay Rock\n",
      "fzimmermann@yahoo.de Fynn Zimmermann Rock\n",
      "hannah.schneider@yahoo.de Hannah Schneider Rock\n",
      "hholy@gmail.com Helena Holý Rock\n",
      "hleacock@gmail.com Heather Leacock Rock\n",
      "hughoreilly@apple.ie Hugh O'Reilly Rock\n",
      "isabelle_mercier@apple.fr Isabelle Mercier Rock\n",
      "jacksmith@microsoft.com Jack Smith Rock\n",
      "jenniferp@rogers.ca Jennifer Peterson Rock\n",
      "jfernandes@yahoo.pt João Fernandes Rock\n",
      "joakim.johansson@yahoo.se Joakim Johansson Rock\n",
      "johavanderberg@yahoo.nl Johannes Van der Berg Rock\n",
      "johngordon22@yahoo.com John Gordon Rock\n",
      "jubarnett@gmail.com Julia Barnett Rock\n",
      "kachase@hotmail.com Kathy Chase Rock\n",
      "kara.nielsen@jubii.dk Kara Nielsen Rock\n",
      "ladislav_kovacs@apple.hu Ladislav Kovács Rock\n",
      "leonekohler@surfeu.de Leonie Köhler Rock\n",
      "lucas.mancini@yahoo.it Lucas Mancini Rock\n",
      "luisg@embraer.com.br Luís Gonçalves Rock\n",
      "luisrojas@yahoo.cl Luis Rojas Rock\n",
      "manoj.pareek@rediff.com Manoj Pareek Rock\n",
      "marc.dubois@hotmail.com Marc Dubois Rock\n",
      "mark.taylor@yahoo.au Mark Taylor Rock\n",
      "marthasilk@gmail.com Martha Silk Rock\n",
      "masampaio@sapo.pt Madalena Sampaio Rock\n",
      "michelleb@aol.com Michelle Brooks Rock\n",
      "mphilips12@shaw.ca Mark Philips Rock\n",
      "nschroder@surfeu.de Niklas Schröder Rock\n",
      "patrick.gray@aol.com Patrick Gray Rock\n",
      "phil.hughes@gmail.com Phil Hughes Rock\n",
      "puja_srivastava@yahoo.in Puja Srivastava Rock\n",
      "ricunningham@hotmail.com Richard Cunningham Rock\n",
      "robbrown@shaw.ca Robert Brown Rock\n",
      "roberto.almeida@riotur.gov.br Roberto Almeida Rock\n",
      "stanisław.wójcik@wp.pl Stanisław Wójcik Rock\n",
      "steve.murray@yahoo.uk Steve Murray Rock\n",
      "terhi.hamalainen@apple.fi Terhi Hämäläinen Rock\n",
      "tgoyer@apple.com Tim Goyer Rock\n",
      "vstevens@yahoo.com Victor Stevens Rock\n",
      "wyatt.girard@yahoo.fr Wyatt Girard Rock\n"
     ]
    }
   ],
   "source": [
    "# Liste email, name und genre aller Kunden, die Rock-Musik hören, alphabetisch nach der email-Adresse sortiert.\n",
    "query = \"\"\"\n",
    "SELECT DISTINCT c.email,\n",
    "    c.firstname,\n",
    "    c.lastname,\n",
    "    g.name\n",
    "    FROM customers c\n",
    "    JOIN invoices i ON c.customerid = i.customerid\n",
    "    JOIN invoice_items ii ON ii.invoiceitemid = i.invoiceid\n",
    "    JOIN tracks t ON ii.trackid = t.trackid\n",
    "    JOIN genres g ON t.genreid = g.genreid\n",
    "    WHERE g.name = 'Rock'\n",
    "    ORDER BY 1;\n",
    "\"\"\"\n",
    "abfrage(query)"
   ]
  },
  {
   "cell_type": "code",
   "execution_count": 35,
   "id": "f5e08aa6-24ac-4005-b44f-3df529e6e4a2",
   "metadata": {},
   "outputs": [
    {
     "name": "stdout",
     "output_type": "stream",
     "text": [
      "Name COUNT(t.name)\n",
      "-------------------\n",
      "Led Zeppelin 114\n",
      "U2 112\n",
      "Deep Purple 92\n",
      "Iron Maiden 81\n",
      "Pearl Jam 54\n",
      "Van Halen 52\n",
      "Queen 45\n",
      "The Rolling Stones 41\n",
      "Creedence Clearwater Revival 40\n",
      "Kiss 35\n",
      "Foo Fighters 33\n",
      "Red Hot Chili Peppers 31\n",
      "The Cult 30\n",
      "Lenny Kravitz 30\n",
      "Nirvana 29\n",
      "Guns N' Roses 28\n",
      "Santana 27\n",
      "Skank 23\n",
      "The Who 20\n",
      "Ozzy Osbourne 18\n",
      "AC/DC 18\n",
      "Soundgarden 17\n",
      "Jimi Hendrix 17\n",
      "Def Leppard 16\n",
      "O Terço 15\n",
      "Faith No More 15\n",
      "Aerosmith 15\n",
      "The Police 14\n",
      "Rush 14\n",
      "Raul Seixas 14\n",
      "R.E.M. 14\n",
      "Audioslave 14\n",
      "Velvet Revolver 13\n",
      "Alanis Morissette 13\n",
      "Stone Temple Pilots 12\n",
      "Scorpions 12\n",
      "Page & Plant 12\n",
      "David Coverdale 12\n",
      "Alice In Chains 12\n",
      "The Doors 11\n",
      "Paul D'Ianno 10\n",
      "Men At Work 10\n",
      "Marillion 10\n",
      "Joe Satriani 10\n",
      "Jamiroquai 10\n",
      "Pink Floyd 9\n",
      "Frank Zappa & Captain Beefheart 9\n",
      "Terry Bozzio, Tony Levin & Steve Stevens 7\n",
      "Accept 4\n",
      "The Posies 2\n",
      "Dread Zeppelin 1\n"
     ]
    }
   ],
   "source": [
    "# Liste die Namen aller Künstler zusammen mit Anzahl der verfügbaren tracks\n",
    "query = \"\"\"\n",
    "SELECT ar.name, COUNT(t.name)\n",
    "    FROM tracks t\n",
    "    JOIN genres g ON t.genreid = g.genreid\n",
    "    JOIN albums al ON al.albumid = t.albumid\n",
    "    JOIN artists ar ON ar.artistid = al.artistid\n",
    "    WHERE g.name = 'Rock'\n",
    "    GROUP BY 1\n",
    "    ORDER BY 2 DESC\n",
    "\"\"\"\n",
    "abfrage(query)"
   ]
  },
  {
   "cell_type": "code",
   "execution_count": null,
   "id": "7583b748-12be-4bda-95b9-27bdf3c72816",
   "metadata": {},
   "outputs": [],
   "source": [
    "query = \"\"\"\n",
    "SELECT t.name \n",
    "FROM tracks t\n",
    "\n",
    "\n",
    "\n",
    "\n",
    "WHERE ar.name = 'Led Zeppelin'\n",
    "\"\"\"\n",
    "abfrage(query)"
   ]
  },
  {
   "cell_type": "code",
   "execution_count": 42,
   "id": "4e6ea5a3-2138-4563-948c-eba9ed398ba8",
   "metadata": {},
   "outputs": [
    {
     "name": "stdout",
     "output_type": "stream",
     "text": [
      "Name\n",
      "-----\n",
      "MPEG audio file\n",
      "Protected AAC audio file\n",
      "Protected MPEG-4 video file\n",
      "Purchased AAC audio file\n",
      "AAC audio file\n"
     ]
    }
   ],
   "source": [
    "# Welche Medientypen gibt es?\n",
    "query = \"\"\"\n",
    "SELECT DISTINCT name FROM media_types\n",
    "\"\"\"\n",
    "abfrage(query)"
   ]
  },
  {
   "cell_type": "code",
   "execution_count": 45,
   "id": "e293ab7a-57c2-4691-82d6-d14df7a4643c",
   "metadata": {},
   "outputs": [
    {
     "name": "stdout",
     "output_type": "stream",
     "text": [
      "count(composer)\n",
      "----------------\n",
      "2525\n"
     ]
    }
   ],
   "source": [
    "# Wieviele verschiedene Komponisten gibt es?\n",
    "query = \"\"\"\n",
    "SELECT DISTINCT count(composer) FROM tracks\n",
    "\"\"\"\n",
    "abfrage(query)"
   ]
  },
  {
   "cell_type": "code",
   "execution_count": 48,
   "id": "9ad4d249-cbec-4637-a30d-215286fe4677",
   "metadata": {},
   "outputs": [
    {
     "name": "stdout",
     "output_type": "stream",
     "text": [
      "Name\n",
      "-----\n",
      "Alternative\n",
      "Alternative & Punk\n",
      "Blues\n",
      "Bossa Nova\n",
      "Classical\n",
      "Comedy\n",
      "Drama\n",
      "Easy Listening\n",
      "Electronica/Dance\n",
      "Heavy Metal\n",
      "Hip Hop/Rap\n",
      "Jazz\n",
      "Latin\n",
      "Metal\n",
      "Opera\n",
      "Pop\n",
      "R&B/Soul\n",
      "Reggae\n",
      "Rock\n",
      "Rock And Roll\n",
      "Sci Fi & Fantasy\n",
      "Science Fiction\n",
      "Soundtrack\n",
      "TV Shows\n",
      "World\n"
     ]
    }
   ],
   "source": [
    "# Welche Genre gibt es, alphabetisch sortiert?\n",
    "query = \"\"\"\n",
    "SELECT name FROM genres ORDER BY name\n",
    "\"\"\"\n",
    "abfrage(query)"
   ]
  },
  {
   "cell_type": "code",
   "execution_count": 55,
   "id": "d97202a4-5585-4475-88e6-cc4156dc21a9",
   "metadata": {},
   "outputs": [
    {
     "name": "stdout",
     "output_type": "stream",
     "text": [
      "Name count(g.name)\n",
      "-------------------\n",
      "Rock 1297\n",
      "Latin 579\n",
      "Metal 374\n",
      "Alternative & Punk 332\n",
      "Jazz 130\n",
      "TV Shows 93\n",
      "Blues 81\n",
      "Classical 74\n",
      "Drama 64\n",
      "R&B/Soul 61\n",
      "Reggae 58\n",
      "Pop 48\n",
      "Soundtrack 43\n",
      "Alternative 40\n",
      "Hip Hop/Rap 35\n",
      "Electronica/Dance 30\n",
      "World 28\n",
      "Heavy Metal 28\n",
      "Sci Fi & Fantasy 26\n",
      "Easy Listening 24\n",
      "Comedy 17\n",
      "Bossa Nova 15\n",
      "Science Fiction 13\n",
      "Rock And Roll 12\n",
      "Opera 1\n"
     ]
    }
   ],
   "source": [
    "# Wieviele tracks gibt es pro genre, absteigend sortiert nach der anzahl der tracks\n",
    "query = \"\"\"\n",
    "SELECT g.name, count(g.name)\n",
    "FROM genres g\n",
    "JOIN tracks t ON g.genreid = t.genreid\n",
    "GROUP BY g.name ORDER BY count(g.name) DESC\n",
    "\"\"\"\n",
    "abfrage(query)"
   ]
  },
  {
   "cell_type": "code",
   "execution_count": 73,
   "id": "0c54d57b-3f3e-4880-971f-6b67b5ab48d7",
   "metadata": {},
   "outputs": [
    {
     "name": "stdout",
     "output_type": "stream",
     "text": [
      "Title\n",
      "------\n",
      "Mozart: Wind Concertos\n",
      "Mozart: Symphonies Nos. 40 & 41\n",
      "Mozart: Chamber Music\n"
     ]
    }
   ],
   "source": [
    "# Liste alle Alben mit klassischer Musik, die 'Mozart' im Titel haben\n",
    "query = \"\"\"\n",
    "SELECT DISTINCT al.title\n",
    "FROM albums al\n",
    "JOIN tracks t ON al.albumid = t.albumid\n",
    "JOIN genres g ON g.genreid = t.genreid\n",
    "WHERE g.name = 'Classical' and al.title LIKE '%Mozart%'\n",
    "\"\"\"\n",
    "abfrage(query)"
   ]
  },
  {
   "cell_type": "code",
   "execution_count": 81,
   "id": "6b2e3751-b32b-469d-a41e-b6a60dd32be9",
   "metadata": {},
   "outputs": [
    {
     "name": "stdout",
     "output_type": "stream",
     "text": [
      "Title\n",
      "------\n",
      "BBC Sessions [Disc 1] [Live]\n",
      "BBC Sessions [Disc 2] [Live]\n",
      "Coda\n",
      "Houses Of The Holy\n",
      "IV\n",
      "In Through The Out Door\n",
      "Led Zeppelin I\n",
      "Led Zeppelin II\n",
      "Led Zeppelin III\n",
      "Physical Graffiti [Disc 1]\n",
      "Physical Graffiti [Disc 2]\n",
      "Presence\n",
      "The Song Remains The Same (Disc 1)\n",
      "The Song Remains The Same (Disc 2)\n"
     ]
    }
   ],
   "source": [
    "# Liste alle Alben von Led-Zeppelin, alphabetisch sortiert\n",
    "query = \"\"\"\n",
    "SELECT al.title \n",
    "FROM albums al\n",
    "JOIN artists ar ON al.artistid = ar.artistid  \n",
    "WHERE ar.name = 'Led Zeppelin'\n",
    "ORDER BY al.title\n",
    "\"\"\"\n",
    "abfrage(query)"
   ]
  },
  {
   "cell_type": "code",
   "execution_count": 104,
   "id": "8c620e71-c46a-4e1a-88ea-1f656fe259af",
   "metadata": {},
   "outputs": [
    {
     "name": "stdout",
     "output_type": "stream",
     "text": [
      "Title\n",
      "------\n",
      "LOST, Season 4\n",
      "Lost, Season 1\n",
      "Lost, Season 2\n",
      "Lost, Season 3\n"
     ]
    }
   ],
   "source": [
    "# Liste alle verfügbaren Staffeln der Serie 'Lost' \n",
    "query = \"\"\"\n",
    "SELECT DISTINCT al.title \n",
    "FROM tracks t\n",
    "JOIN media_types m ON m.mediatypeid = t.mediatypeid\n",
    "JOIN albums al ON al.albumid = t.albumid\n",
    "WHERE m.name = 'Protected MPEG-4 video file'  and al.title LIKE 'Lost%'\n",
    "ORDER BY al.title\n",
    "\"\"\"\n",
    "abfrage(query)"
   ]
  },
  {
   "cell_type": "code",
   "execution_count": 41,
   "id": "c09ec48e-47ea-47be-8c81-3f848bf31c8f",
   "metadata": {},
   "outputs": [
    {
     "name": "stdout",
     "output_type": "stream",
     "text": [
      "FirstName LastName Email Name\n",
      "------------------------------\n",
      "Aaron Mitchell aaronmitchell@yahoo.ca Rock\n",
      "Alexandre Rocha alero@uol.com.br Rock\n",
      "Astrid Gruber astrid.gruber@apple.at Rock\n",
      "Bjørn Hansen bjorn.hansen@yahoo.no Rock\n",
      "Camille Bernard camille.bernard@yahoo.fr Rock\n",
      "Daan Peeters daan_peeters@apple.be Rock\n",
      "Diego Gutiérrez diego.gutierrez@yahoo.ar Rock\n",
      "Dan Miller dmiller@comcast.com Rock\n",
      "Dominique Lefebvre dominiquelefebvre@gmail.com Rock\n",
      "Edward Francis edfrancis@yachoo.ca Rock\n",
      "Eduardo Martins eduardo@woodstock.com.br Rock\n",
      "Ellie Sullivan ellie.sullivan@shaw.ca Rock\n",
      "Emma Jones emma_jones@hotmail.com Rock\n",
      "Enrique Muñoz enrique_munoz@yahoo.es Rock\n",
      "Fernanda Ramos fernadaramos4@uol.com.br Rock\n",
      "Frank Harris fharris@google.com Rock\n",
      "Frank Ralston fralston@gmail.com Rock\n",
      "František Wichterlová frantisekw@jetbrains.com Rock\n",
      "François Tremblay ftremblay@gmail.com Rock\n",
      "Fynn Zimmermann fzimmermann@yahoo.de Rock\n",
      "Hannah Schneider hannah.schneider@yahoo.de Rock\n",
      "Helena Holý hholy@gmail.com Rock\n",
      "Heather Leacock hleacock@gmail.com Rock\n",
      "Hugh O'Reilly hughoreilly@apple.ie Rock\n",
      "Isabelle Mercier isabelle_mercier@apple.fr Rock\n",
      "Jack Smith jacksmith@microsoft.com Rock\n",
      "Jennifer Peterson jenniferp@rogers.ca Rock\n",
      "João Fernandes jfernandes@yahoo.pt Rock\n",
      "Joakim Johansson joakim.johansson@yahoo.se Rock\n",
      "Johannes Van der Berg johavanderberg@yahoo.nl Rock\n",
      "John Gordon johngordon22@yahoo.com Rock\n",
      "Julia Barnett jubarnett@gmail.com Rock\n",
      "Kathy Chase kachase@hotmail.com Rock\n",
      "Kara Nielsen kara.nielsen@jubii.dk Rock\n",
      "Ladislav Kovács ladislav_kovacs@apple.hu Rock\n",
      "Leonie Köhler leonekohler@surfeu.de Rock\n",
      "Lucas Mancini lucas.mancini@yahoo.it Rock\n",
      "Luís Gonçalves luisg@embraer.com.br Rock\n",
      "Luis Rojas luisrojas@yahoo.cl Rock\n",
      "Manoj Pareek manoj.pareek@rediff.com Rock\n",
      "Marc Dubois marc.dubois@hotmail.com Rock\n",
      "Mark Taylor mark.taylor@yahoo.au Rock\n",
      "Martha Silk marthasilk@gmail.com Rock\n",
      "Madalena Sampaio masampaio@sapo.pt Rock\n",
      "Michelle Brooks michelleb@aol.com Rock\n",
      "Mark Philips mphilips12@shaw.ca Rock\n",
      "Niklas Schröder nschroder@surfeu.de Rock\n",
      "Patrick Gray patrick.gray@aol.com Rock\n",
      "Phil Hughes phil.hughes@gmail.com Rock\n",
      "Puja Srivastava puja_srivastava@yahoo.in Rock\n",
      "Richard Cunningham ricunningham@hotmail.com Rock\n",
      "Robert Brown robbrown@shaw.ca Rock\n",
      "Roberto Almeida roberto.almeida@riotur.gov.br Rock\n",
      "Stanisław Wójcik stanisław.wójcik@wp.pl Rock\n",
      "Steve Murray steve.murray@yahoo.uk Rock\n",
      "Terhi Hämäläinen terhi.hamalainen@apple.fi Rock\n",
      "Tim Goyer tgoyer@apple.com Rock\n",
      "Victor Stevens vstevens@yahoo.com Rock\n",
      "Wyatt Girard wyatt.girard@yahoo.fr Rock\n"
     ]
    }
   ],
   "source": [
    "query = \"\"\"\n",
    "SELECT DISTINCT c.firstname, c.lastname, c.email, g.name FROM customers c\n",
    "JOIN invoices i ON c.customerid = i.customerid\n",
    "JOIN invoice_items ii ON i.invoiceid = ii.invoiceid\n",
    "JOIN tracks t ON ii.trackid = t.trackid\n",
    "JOIN genres g ON t.genreid = g.genreid\n",
    "WHERE g.name = 'Rock' ORDER BY c.email\n",
    "\"\"\"\n",
    "abfrage(query)"
   ]
  },
  {
   "cell_type": "code",
   "execution_count": 106,
   "id": "ad27229a-78e0-41ee-885f-0983b18bbe36",
   "metadata": {},
   "outputs": [
    {
     "name": "stdout",
     "output_type": "stream",
     "text": [
      "count(invoiceid)\n",
      "-----------------\n",
      "412\n"
     ]
    }
   ],
   "source": [
    "# Wieviele Rechnungen wurden bisher ausgestellt?\n",
    "query = \"\"\"\n",
    "SELECT count(invoiceid) FROM invoices \n",
    "\"\"\"\n",
    "abfrage(query)"
   ]
  },
  {
   "cell_type": "code",
   "execution_count": 116,
   "id": "b8feff3f-a262-41d8-8612-7180a42741d6",
   "metadata": {},
   "outputs": [
    {
     "name": "stdout",
     "output_type": "stream",
     "text": [
      "sum(i.total) count(i.total) min(i.total) max(i.total) avg(i.total)\n",
      "-------------------------------------------------------------------\n",
      "37.620000000000005 7 0.99 13.86 5.3742857142857146\n"
     ]
    }
   ],
   "source": [
    "# Liste alle Rechnungen an 'Emma Jones'\n",
    "query = \"\"\"\n",
    "SELECT sum(i.total), count(i.total), min(i.total), max(i.total), avg(i.total)\n",
    "FROM invoices i\n",
    "JOIN customers c ON c.customerid = i.customerid\n",
    "WHERE c.firstname = 'Emma' and c.lastname = 'Jones'\n",
    "\"\"\"\n",
    "abfrage(query)"
   ]
  }
 ],
 "metadata": {
  "kernelspec": {
   "display_name": "Python 3 (ipykernel)",
   "language": "python",
   "name": "python3"
  },
  "language_info": {
   "codemirror_mode": {
    "name": "ipython",
    "version": 3
   },
   "file_extension": ".py",
   "mimetype": "text/x-python",
   "name": "python",
   "nbconvert_exporter": "python",
   "pygments_lexer": "ipython3",
   "version": "3.11.2"
  }
 },
 "nbformat": 4,
 "nbformat_minor": 5
}
