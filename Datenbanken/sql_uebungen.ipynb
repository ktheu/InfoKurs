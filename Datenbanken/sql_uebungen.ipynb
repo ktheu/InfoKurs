{
 "cells": [
  {
   "cell_type": "markdown",
   "metadata": {
    "editable": true,
    "slideshow": {
     "slide_type": ""
    },
    "tags": []
   },
   "source": [
    "# Datenbanken   \n",
    "## Aufgabe Sportverein\n",
    "\n",
    "<img src='sportverein.png'>"
   ]
  },
  {
   "cell_type": "markdown",
   "metadata": {},
   "source": [
    "[SQLite-Docu](https://www.sqlite.org/lang.html)  - Web-Client: [Sqlite Browser](https://sqliteonline.com/)  - Beispieldatenbank: [Sportverein](sportverein.db) <br>\n",
    "Downloade die Sportverein-Datenbank, lade die Datenbank dann in den Web-Client mit File-OpenDB."
   ]
  },
  {
   "cell_type": "markdown",
   "metadata": {},
   "source": [
    "#### Aufgaben\n",
    "\n",
    "Erstelle passende SQL-Abfragen. Die erwartete Ausgabe ist zur Kontrolle mitgegeben."
   ]
  },
  {
   "cell_type": "code",
   "execution_count": 4,
   "metadata": {},
   "outputs": [],
   "source": [
    "# 1. Wieviele Trainingsorte gibt es ?\n",
    "8"
   ]
  },
  {
   "cell_type": "code",
   "execution_count": 5,
   "metadata": {
    "editable": true,
    "slideshow": {
     "slide_type": ""
    },
    "tags": []
   },
   "outputs": [],
   "source": [
    "# 2. Welche Sportarten werden angeboten (in alphabetischer Reihenfolge)\n",
    "Basketball\n",
    "Fußball\n",
    "Langlauf\n",
    "Schwimmen\n",
    "Tauchen\n",
    "Tennis\n",
    "Turnen\n",
    "Volleyball\n",
    "Wasserball"
   ]
  },
  {
   "cell_type": "code",
   "execution_count": null,
   "metadata": {},
   "outputs": [],
   "source": [
    "# 3. Wieviele Mitglieder hat der Sportverein?\n",
    "930"
   ]
  },
  {
   "cell_type": "code",
   "execution_count": 1,
   "metadata": {
    "editable": true,
    "slideshow": {
     "slide_type": ""
    },
    "tags": []
   },
   "outputs": [],
   "source": [
    "# 4. Gib die Häufigkeit der Vornamen der Mitglieder nach Häufigkeit absteigend geordnet aus\n",
    "Werner 313\n",
    "Wolfgang 18\n",
    "Klaus 17\n",
    "Peter 16\n",
    "Carsten 16\n",
    "Heinz 15\n",
    "Bernd 15\n",
    "Ulrich 14\n",
    "Hans 14\n",
    "Michael 12"
   ]
  },
  {
   "cell_type": "code",
   "execution_count": 2,
   "metadata": {},
   "outputs": [],
   "source": [
    "# 5. Wieviele Mitglieder haben ein Konto bei welcher Bank?\n",
    "181 Deutsche Bank Soest\n",
    "166 Sparkasse Echthausen\n",
    "201 Sparkasse Rhynern\n",
    "186 Volksbank Mawicke\n",
    "196 Volksbank Unna"
   ]
  },
  {
   "cell_type": "code",
   "execution_count": 3,
   "metadata": {},
   "outputs": [],
   "source": [
    "# 6. Wieviele Fussballer haben ein Konto bei der Sparkasse Rhynern?\n",
    "106"
   ]
  },
  {
   "cell_type": "code",
   "execution_count": 4,
   "metadata": {},
   "outputs": [],
   "source": [
    "# 7. Wie hoch ist die Summe der Mitgliedsbeiträge?\n",
    "31730.0"
   ]
  },
  {
   "cell_type": "code",
   "execution_count": 5,
   "metadata": {},
   "outputs": [],
   "source": [
    "# 8. Welche Sportart(en) übt Mitglied Zwick aus?\n",
    "Schwimmen\n",
    "Langlauf"
   ]
  },
  {
   "cell_type": "code",
   "execution_count": null,
   "metadata": {},
   "outputs": [],
   "source": [
    "# 9. Für welche Sportart ist Mitglied Zwick Übungsgruppenleiter\n",
    "Langlauf"
   ]
  },
  {
   "cell_type": "code",
   "execution_count": null,
   "metadata": {},
   "outputs": [],
   "source": [
    "# 10. Wieviele Mitglieder üben pro Woche in Bad1?\n",
    "94"
   ]
  },
  {
   "cell_type": "code",
   "execution_count": null,
   "metadata": {},
   "outputs": [],
   "source": [
    "# 11. Gibt es Übungsgruppenleiter, die in der gleichen Sportart Teilnehmer sind?\n",
    "Werner Zwick Langlauf\n",
    "Dietrich Ellerbusch Volleyball"
   ]
  },
  {
   "cell_type": "code",
   "execution_count": 6,
   "metadata": {},
   "outputs": [],
   "source": [
    "# 12. Ordne die Sportarten nach Beliebtheit. Gib dabei die Teilnehmerzahl an. \n",
    "Fußball 442\n",
    "Volleyball 318\n",
    "Schwimmen 297\n",
    "Wasserball 107\n",
    "Basketball 107\n",
    "Tennis 106\n",
    "Tauchen 98\n",
    "Langlauf 86\n",
    "Turnen 84"
   ]
  },
  {
   "cell_type": "code",
   "execution_count": 7,
   "metadata": {},
   "outputs": [],
   "source": [
    "# 13. Wie hoch ist der durchschnittliche Mitgliedsbeitrag?\n",
    "34.11827956989247"
   ]
  },
  {
   "cell_type": "code",
   "execution_count": 6,
   "metadata": {},
   "outputs": [],
   "source": [
    "# 14. Wieviele Mitglieder betreuen die verschiedenen Hausmeister.\n",
    "782 Kacmarek\n",
    "1260 Koschulte\n",
    "306 Krause"
   ]
  }
 ],
 "metadata": {
  "kernelspec": {
   "display_name": "Python 3 (ipykernel)",
   "language": "python",
   "name": "python3"
  },
  "language_info": {
   "codemirror_mode": {
    "name": "ipython",
    "version": 3
   },
   "file_extension": ".py",
   "mimetype": "text/x-python",
   "name": "python",
   "nbconvert_exporter": "python",
   "pygments_lexer": "ipython3",
   "version": "3.11.2"
  }
 },
 "nbformat": 4,
 "nbformat_minor": 4
}
