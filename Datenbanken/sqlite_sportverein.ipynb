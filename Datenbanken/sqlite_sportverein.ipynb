{
 "cells": [
  {
   "cell_type": "markdown",
   "id": "83727522-11a5-429f-9b5d-075aca0dcdee",
   "metadata": {},
   "source": [
    "# Datenbanken mit SQLite\n",
    "\n",
    "[SQLite-Docu](https://www.sqlite.org/lang.html) <br>\n",
    "Web-Client: [Sqlite Browser](https://sqliteonline.com/)    <br>\n",
    "Beispieldatenbank: [Sportverein](sportverein.db)\n",
    "\n",
    "Downloade die Sportverein-Datenbank, lade die Datenbank dann in den Web-Client mit File-OpenDB."
   ]
  },
  {
   "cell_type": "code",
   "execution_count": null,
   "id": "b41b44f9-cff2-4aea-8089-f571f60b56ac",
   "metadata": {},
   "outputs": [],
   "source": []
  }
 ],
 "metadata": {
  "kernelspec": {
   "display_name": "Python 3 (ipykernel)",
   "language": "python",
   "name": "python3"
  },
  "language_info": {
   "codemirror_mode": {
    "name": "ipython",
    "version": 3
   },
   "file_extension": ".py",
   "mimetype": "text/x-python",
   "name": "python",
   "nbconvert_exporter": "python",
   "pygments_lexer": "ipython3",
   "version": "3.11.2"
  }
 },
 "nbformat": 4,
 "nbformat_minor": 5
}
