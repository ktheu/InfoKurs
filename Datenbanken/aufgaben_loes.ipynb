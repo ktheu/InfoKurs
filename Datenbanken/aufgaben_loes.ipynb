{
 "cells": [
  {
   "cell_type": "markdown",
   "id": "90d4299c-953a-4a01-80ec-5c07b5e1cdfa",
   "metadata": {},
   "source": [
    "### Aufgaben zu Datenbanken\n",
    "\n",
    "Hinweis: Zur vereinfachten Darstellung werden in einem Datenbankschema die Primärschlüssel **fett** und die Fremdschlüssel *kursiv* gedruckt."
   ]
  },
  {
   "cell_type": "markdown",
   "id": "e0c6be8d-e5fe-4d5c-a86d-191ffde400ba",
   "metadata": {},
   "source": [
    "**A1 Lösung:**\n",
    "\n",
    "a. Unter Redundanz versteht man das mehrmalige Speichern von gleichen Daten. Dies ist in\r\n",
    "der vorgegebenen Tabelle zu erkennen, da z.B. ein Hersteller mehrere Modelle herstellt\r\n",
    "und somit Name und Ort mehrfach gespeichert sind.\r\n",
    "Bei der Änderung mehrfach gespeicherter Daten kann es zu Fehlern kommen, z.B. bei\r\n",
    "einem falschem Eintrag des Herstellernamens oder des Ortes.\r\n",
    "Die Daten sind dann inkonsistent."
   ]
  },
  {
   "cell_type": "markdown",
   "id": "22c22a0a-937e-4561-9017-a92d28709471",
   "metadata": {},
   "source": [
    "b. Ausgangspunkt ist die Tabelle\n",
    "\n",
    "Fahrrad(**FID**, Modell, Gewicht, Preis, Hersteller, Ort)\n",
    "\n",
    "Das vorgeschlagene Datenbankschema: \n",
    "\r",
    "Fahrrad(**FID**, Modell, Gewicht, Preis, *HID­*) <br>\n",
    "Hersteller(**HID**, Herstellername, *PLZ*) <br>\n",
    "Ort(**PLZ**,Ortsname)\n",
    "\n",
    "Es gilt:\n",
    "\n",
    "Alle Attribute sind atomar (1NF). <br>\n",
    "Jedes Nichtschlüsselattribut ist eindeutig bestimmt durch den Primärschlüssel (2NF). <br>\n",
    "Es gibt keine Abhängigkeiten zwischen Nichtschlüsselattributen (3NF).\n",
    " "
   ]
  },
  {
   "cell_type": "markdown",
   "id": "765b5ec2-e060-4957-a7c6-a14575e93c32",
   "metadata": {},
   "source": [
    "**A2 Lösung**\n",
    "\n",
    "a. Dass das Smartphones Sun5 den Hersteller Samson hat, ist mehrfach eingetragen. Die Daten sind redundant. Das Gleiche gilt für die Kundendaten. Dass Maria Lustig in Freiburg wohnt, ist mehrfach eingetragen. Wird nur eine dieser Stellen aktualisiert (z.B bei Umzug), sind die Daten inkonsistent.\n",
    "Der Name ist nicht atomar, die Kunden lassen sich dadurch z.B. nur schwer nach Nachnamen sortieren.\n",
    "\n",
    "\n",
    "b.\n",
    "\n",
    "Zwischen den Entitäten Smartphone und Kunde besteht eine n:m-Beziehung. Diese wird aufgelöst durch die Tabelle *erwirbt*.\n",
    "\n",
    "Smartphone(**SID**, Hersteller, Bezeichnung) <br>\n",
    "Kunde(**KID**,Vorname, Nachname, Ort) <br>\n",
    "erwirbt(*KID*,*SID*, Preis, Kaufdatum)\n"
   ]
  },
  {
   "cell_type": "markdown",
   "id": "0f984ef4-e1b5-403b-9559-c214610616ea",
   "metadata": {},
   "source": [
    "**A3 Lösung:**\n",
    "\n",
    "a. \n",
    "```\n",
    "SELECT count(*) FROM Mitglied\n",
    "```\n",
    "\n",
    "b.\n",
    "```\n",
    "SELECT m.Name, m.Vorname, o.ortsname FROM Mitglied m\n",
    "JOIN Ort o ON m.plz = o.plz\n",
    "WHERE o.plz LIKE '68%' OR o.PLZ LIKE '67%'\n",
    "```\n",
    "\n",
    "\n",
    "c.\n",
    "```\n",
    "SELECT m.Name, m.Vorname, s.Bezeichnung, t.Verguetung FROM Mitglied m\n",
    "JOIN Trainer t ON t.mid = m.mid\n",
    "JOIN Sportart s ON s.tid = t.tid\n",
    "WHERE t.Verguetung >= 80\n",
    "```\n",
    "\n",
    "d.\n",
    "\n",
    "Unterabfrage: Hier wird der Mittelwert des Geburtsjahres aller Mitglieder berechnet.\n",
    "Hauptabfrage: Nun werden die Namen der Mitglieder ausgegeben, die jünger als der\n",
    "Mittelwert des Geburtsjahres sind."
   ]
  },
  {
   "cell_type": "markdown",
   "id": "dfa5b1ae-e412-42ba-befe-4f41c182e2a6",
   "metadata": {},
   "source": [
    "**A4 Lösung:**\n",
    "\n",
    "a. \n",
    "\n",
    "```\n",
    "SELECT Film, Preis\n",
    "FROM Filme\n",
    "WHERE Jahr > 2000\n",
    "```\n",
    "\n",
    "b. \n",
    "\n",
    "<img src='anzahl.png' width='200'>\n",
    "\n",
    "(Hinweis: die Reihenfolge ist beliebig)\n",
    "\n",
    "c.\n",
    "\n",
    "```\n",
    "SELECT f.Film \n",
    "FROM Film f\n",
    "JOIN bestellt b ON f.FID = b.FID\n",
    "JOIN Kunde k on k.KID = b.KID\n",
    "WHERE Zeitpunkt = '2014'\n",
    "```\n",
    "\n",
    "d.\n",
    "\n",
    "```\n",
    "SELECT k.Land, SUM(b.Anzahl * f.Preis) AS Umsatz\n",
    "FROM Kunden k\n",
    "JOIN bestellt b ON k.kid = b.kid\n",
    "JOIN Film f on f.fid = b.fid\n",
    "GROUP BY k.Land\n",
    "```\n",
    "\n",
    "e. \n",
    "\n",
    "Die Spalten FID, KID und Zeitpunkt eignen sich als Primärschlüssel, da diese jeden Datensatz eindeutig identifizieren. Zeitpunkt ist als Schlüsselattribut notwendig, um Mehrfachbestellungen des gleichen Films durch denselben Kunden abzubilden."
   ]
  },
  {
   "cell_type": "markdown",
   "id": "3a31e9f2-e278-4554-a753-4b34b7d3176a",
   "metadata": {},
   "source": [
    "**A5 Lösung:**\n",
    "\n",
    "a. Schauspieler *spielt_in* Film: Ein Schauspieler spielt in mehreren Filmen mit. In einem Film spielen mehrere Schauspieler mit, also Kardinalität n:m. <br>\n",
    "Firma *produziert* Film: Eine Firma produziert mehrere Filme, aber ein Film wird von einer Firma produziert, also Kardinalität 1:n.\n",
    "\n",
    "b.\n",
    "```\n",
    "SELECT * FROM Film\n",
    "WHERE Jahr = 2012 AND Genre = \"Action\"\n",
    "```\n",
    "\n",
    "c.\n",
    "```\n",
    "SELECT * FROM Film\n",
    "WHERE Laenge BETWEEN 90 AND 120\n",
    "```\n",
    "\n",
    "d.\n",
    "```\n",
    "SELECT COUNT(*) AS Anzahl\n",
    "FROM Film\n",
    "WHERE Jahr = 2013\n",
    "```\n",
    "\n",
    "e. \n",
    "```\n",
    "SELECT f.Titel\n",
    "FROM Film f\n",
    "JOIN spielt_in sp ON f.FID = sp.FID\n",
    "JOIN Schauspieler s ON s.SID = sp.SID\n",
    "WHERE s.SNachname = \"Ford\" AND s.SVorname = \"Harrison\"\n",
    "ORDER BY f.Jahr DESC\n",
    "```\n"
   ]
  },
  {
   "cell_type": "markdown",
   "id": "f2321872-e89f-4973-9fad-336685480e39",
   "metadata": {},
   "source": [
    "**A6 Lösung:**\n",
    "\n",
    "<img src='loesungA3.png' width='600'>"
   ]
  },
  {
   "cell_type": "markdown",
   "id": "7c072fab-5d20-46fc-9ce4-1eae1c04cd09",
   "metadata": {},
   "source": [
    "**A7 Lösung**\n",
    "(zur vereinfachte Ausgabe sind die Attribute eingerückt notiert, nicht mit Ellipsen)\n",
    "\n",
    "a.\n",
    "\n",
    "<img src='baumarktER2.png'>\n",
    "\n",
    "b.\n",
    "\n",
    "Erläuterung der Kardinalitäten an den Beziehungen: <br>\n",
    "*besitzt*: Ein Kunde kann mehrere Karten besitzen, aber jede Karte kann nur von einem Kunden besessen werden, also 1:n Beziehung. <br>\n",
    "*verwendet für*: Eine Karte kann für mehrere Einkäufe verwendet werden, aber jeder Einkauf verwendet nur Eine Kaurte, also 1:n Beziehung <br>\n",
    "*besteht aus*: Ein Einkauf kann aus mehreren Artikeln bestehen und ein Artikel an in mehreren Einkaufen vorkommen, also n:m Beziehung.\n",
    "\n",
    "Erläuterung zu den Einheiten: Ich verstehe die Aufgabe so, dass jeder Artikel sich aus ggf. mehreren Einheiten zusammensetzt, z.B. Schraube ist Einheit und Schraubenset ist ein Artikel."
   ]
  },
  {
   "cell_type": "markdown",
   "id": "165bad00-f64e-447e-905f-76637e6bba4d",
   "metadata": {},
   "source": [
    "**A8 Lösung** \n",
    "(zur vereinfachte Ausgabe sind die Attribute eingerückt notiert, nicht mit Ellipsen)\n",
    "\n",
    "<img src='landtagswahl.png'>"
   ]
  }
 ],
 "metadata": {
  "kernelspec": {
   "display_name": "Python 3 (ipykernel)",
   "language": "python",
   "name": "python3"
  },
  "language_info": {
   "codemirror_mode": {
    "name": "ipython",
    "version": 3
   },
   "file_extension": ".py",
   "mimetype": "text/x-python",
   "name": "python",
   "nbconvert_exporter": "python",
   "pygments_lexer": "ipython3",
   "version": "3.11.2"
  }
 },
 "nbformat": 4,
 "nbformat_minor": 5
}
