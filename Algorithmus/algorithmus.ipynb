{
 "cells": [
  {
   "cell_type": "markdown",
   "id": "ad4620ef-16c8-4f43-a385-997d8dd10272",
   "metadata": {},
   "source": [
    "## Algorithmus und Programm\n",
    "\n",
    "**Informatik** ist die Wissenschaft von der systematischen Verarbeitung von\n",
    "Informationen, insbesondere der automatischen Verarbeitung mit Hilfe von\n",
    "Rechenanlagen (Wikipedia).\n",
    "\n",
    "Wir beschäftigen uns zu Beginn mit Algorithmen und deren Programmierung in\n",
    "Python.\n",
    "Ein **Algorithmus** ist eine endlich lange Vorschrift, bestehend aus\n",
    "Einzelanweisungen.\n",
    "\n",
    "Ein in einer Computersprache formulierter Algorithmus heißt **Programm**.\n",
    "Eine umgangssprachliche Formulierung, die die Struktur des Algorithmus deutlich\n",
    "macht, nennen wir **Pseudocode**."
   ]
  },
  {
   "cell_type": "markdown",
   "id": "eba7fa5a-5761-4c61-88a0-304863ef5862",
   "metadata": {},
   "source": [
    "### Der Collatz-Algorithmus\n",
    "\n",
    "Der Collatz-Algorithmus in Pseudocode: "
   ]
  },
  {
   "cell_type": "code",
   "execution_count": null,
   "id": "30d9e62b-17bc-46ea-8319-c719f1857441",
   "metadata": {},
   "outputs": [],
   "source": [
    "# Collatz-Algorithmus\n",
    "lies x ein\n",
    "setze z auf 0\n",
    "solange x nicht gleich 1 tue:\n",
    "    wenn x gerade, dann halbiere x\n",
    "    sonst verdreifache x und erhöhe um 1\n",
    "    erhöhe z um 1\n",
    "\n",
    "gib z aus"
   ]
  },
  {
   "cell_type": "markdown",
   "id": "97e621be-bd8c-47f4-a4e6-e88e36072d4b",
   "metadata": {},
   "source": [
    "Um zu prüfen, was ein Algorithmus macht, ist es manchmal hilfreich, ein **Ablaufprotokoll** zu erstellen. Dabei werden die Werte der (wichtigsten) beteiligten Variablen schrittweise mitverfolgt. Beim Collatz-Algorithmus reicht es, den Wert der eingegebenen Zahl zu verfolgen und anschließend die Anzahl der Durchgänge zu zählen:\n",
    "```\n",
    "Eingabe: 17\n",
    "52 26 13 40 20 10 5 16 8 4 2 1\n",
    "Ausgabe: 12\n",
    "```"
   ]
  },
  {
   "cell_type": "markdown",
   "id": "823b7b7b-8b06-464f-aeaf-4dcd16cf47e2",
   "metadata": {},
   "source": [
    "Der Algorithmus wurde 1937 von Lothar Collatz formuliert. Es ist ein bis heute\n",
    "ungelöstes mathematisches Problem, ob dieser Algorithmus fur jede Eingabe zu \n",
    "einem Ende kommt."
   ]
  },
  {
   "cell_type": "code",
   "execution_count": 6,
   "id": "ee0ffeb4-ef4d-426d-9f6a-9bd53b9ed7b2",
   "metadata": {},
   "outputs": [],
   "source": [
    "def collatz(x):\n",
    "    z = 0\n",
    "    while x != 1:\n",
    "        if x % 2 == 0:\n",
    "            x = x//2\n",
    "        else:\n",
    "            x = 3*x + 1\n",
    "        z += 1\n",
    "    return z"
   ]
  },
  {
   "cell_type": "code",
   "execution_count": 7,
   "id": "dd2c6f5c-91d3-491d-9bd5-8e096c2e6530",
   "metadata": {},
   "outputs": [
    {
     "name": "stdin",
     "output_type": "stream",
     "text": [
      "Bitte eine positive ganze Zahl eingeben:  17\n"
     ]
    },
    {
     "name": "stdout",
     "output_type": "stream",
     "text": [
      "Das Ergebnis des Collatz-Algorithmus für 17 ist 12.\n"
     ]
    }
   ],
   "source": [
    "x = int(input('Bitte eine positive ganze Zahl eingeben: '))\n",
    "print(f'Das Ergebnis des Collatz-Algorithmus für {x} ist {collatz(x)}.')"
   ]
  },
  {
   "cell_type": "markdown",
   "id": "6fd712df-4e27-4a21-82c9-4aba38977a9e",
   "metadata": {},
   "source": [
    "### Der Pledge-Algorithmus\n",
    "\n",
    "Der Pledge-Algorithmus wurde von dem 12-jährigen John Pledge erfunden. Er ist in der folgenden Aufgabe des Informatik-Bibers beschrieben.\n",
    "\n",
    "<img src='pledge.png' width='600'>\n"
   ]
  },
  {
   "cell_type": "markdown",
   "id": "4b8b1876-579f-439a-91d1-3c87316710f9",
   "metadata": {},
   "source": [
    "### Euklidscher Algorithmus\n",
    "\n",
    "Der euklidsche Algorithmus findet den ggT (größten gemeinsamen Teiler) zweier positiver ganzer Zahlen.\n",
    "\n",
    "Ein naiver (brute-force) Ansatz zur Bestimmung des ggT:"
   ]
  },
  {
   "cell_type": "code",
   "execution_count": null,
   "id": "f940cd25-d950-4dfd-b17d-358cf36b6a6a",
   "metadata": {},
   "outputs": [],
   "source": [
    "# brute-force Algorithmus zur Bestimmung des ggT\n",
    "x = erste Zahl\n",
    "solange x nicht Teiler der beiden Zahlen:\n",
    "    erniedrige x um 1\n",
    "gib x als ggT aus. "
   ]
  },
  {
   "cell_type": "code",
   "execution_count": 12,
   "id": "f1edbfc0-19ee-40b1-a582-86dad502d1aa",
   "metadata": {},
   "outputs": [],
   "source": [
    "def ggtBrute(a, b):\n",
    "    '''\n",
    "    a, b: positive ganze Zahlen\n",
    "    returns: größten gemeinsamen Teiler von a und b\n",
    "    '''\n",
    "    x = a\n",
    "    while a % x != 0 or b % x != 0:\n",
    "        x-=1\n",
    "        \n",
    "    return x"
   ]
  },
  {
   "cell_type": "code",
   "execution_count": 34,
   "id": "1e11c1a5-8b69-4966-a5ed-ecb20ee44382",
   "metadata": {},
   "outputs": [
    {
     "name": "stdout",
     "output_type": "stream",
     "text": [
      "Bitte zwei positive ganze Zahlen eingeben:  555333111  111222333\n",
      "Der ggT von 555333111 und 111222333 ist 333.\n",
      "CPU times: total: 43 s\n",
      "Wall time: 50.1 s\n"
     ]
    }
   ],
   "source": [
    "%%time\n",
    "# 555333111  111222333\n",
    "data = input('Bitte zwei positive ganze Zahlen eingeben: ')\n",
    "x, y = [int(k) for k in data.split()]\n",
    "print(f'Der ggT von {x} und {y} ist {ggtBrute(x,y)}.')"
   ]
  },
  {
   "cell_type": "markdown",
   "id": "71e4de40-9d36-42a2-8914-a0d1a118ea50",
   "metadata": {},
   "source": [
    "Beobachtung von Euklid: Wenn $t$ Teiler von $a$ und $b$ ist und $a > b$, dann ist $t$ auch Teiler von $a-b$. Daraus ergibt sich der **klassische Euklidsche Algorithmus**:"
   ]
  },
  {
   "cell_type": "code",
   "execution_count": null,
   "id": "cf8ca1dc-e29d-4b22-8559-1f43366b3d08",
   "metadata": {},
   "outputs": [],
   "source": [
    "# klassischer Euklidscher Algorithmus \n",
    "Ziehe von der größeren die kleinere Zahl ab, solange bis beide Zahlen gleich sind."
   ]
  },
  {
   "cell_type": "code",
   "execution_count": 29,
   "id": "817bde8a-6e4e-4bfb-9532-dea76b5fbb2e",
   "metadata": {},
   "outputs": [],
   "source": [
    "def ggt(a,b):\n",
    "    '''\n",
    "    a, b: positive ganze Zahlen\n",
    "    returns: größten gemeinsamen Teiler von a und b\n",
    "    '''\n",
    "    while a != b:\n",
    "        if (a > b):\n",
    "            a = a - b\n",
    "        else:\n",
    "            b = b - a\n",
    "    return a"
   ]
  },
  {
   "cell_type": "code",
   "execution_count": 43,
   "id": "59b1eaaa-2db3-4944-9d6c-a53d3a6cddba",
   "metadata": {},
   "outputs": [
    {
     "name": "stdout",
     "output_type": "stream",
     "text": [
      "Bitte zwei positive ganze Zahlen eingeben:  55333111  111222333\n",
      "Der ggT von 55333111 und 111222333 ist 19.\n",
      "CPU times: total: 0 ns\n",
      "Wall time: 2.32 s\n"
     ]
    }
   ],
   "source": [
    "%%time\n",
    "data = input('Bitte zwei positive ganze Zahlen eingeben: ')\n",
    "x, y = [int(k) for k in data.split()]\n",
    "print(f'Der ggT von {x} und {y} ist {ggt(x,y)}.')"
   ]
  },
  {
   "cell_type": "markdown",
   "id": "abfff74c-8aaf-490f-a2c6-6b75b481d339",
   "metadata": {},
   "source": [
    "Wir schreiben die beiden Zahlen a und b beim Ablauf des eukldischen Algorithmus untereinander und beobachten:\n",
    "Immer wenn die größere Zahl die Seiten wechselt, können wir die neue Zahl aus den beiden oberen berechnen.\n",
    "\n",
    "<img src='modernerEuklid.png'>"
   ]
  },
  {
   "cell_type": "markdown",
   "id": "86322a1e-b657-4d6e-bab3-be989d04200a",
   "metadata": {},
   "source": [
    "Daraus ergibt sich der **moderne euklidsche Algorithmus**:"
   ]
  },
  {
   "cell_type": "code",
   "execution_count": null,
   "id": "b93e31ab-09e6-4ce4-b671-d68fa38dacda",
   "metadata": {},
   "outputs": [],
   "source": [
    "# moderner Euklidscher Algorithmus\n",
    "Schreibe beide Zahlen nebeneinander\n",
    "Tue solange bis die rechte Zahl gleich 0:\n",
    "    Die neue linke Zahl wird die alte rechte Zahl\n",
    "    die neue rechte Zahl wird die alte linke Zahl modulo der alten rechten Zahl"
   ]
  },
  {
   "cell_type": "code",
   "execution_count": 38,
   "id": "100555ab-25cf-4208-915f-87fab7b9fd91",
   "metadata": {},
   "outputs": [],
   "source": [
    "def ggtTurbo(a,b):\n",
    "    '''\n",
    "    a, b: positive ganze Zahlen\n",
    "    returns: größten gemeinsamen Teiler von a und b\n",
    "    '''\n",
    "    while b != 0:\n",
    "        a, b = b, a % b\n",
    "    return a\n",
    "    "
   ]
  },
  {
   "cell_type": "code",
   "execution_count": 44,
   "id": "1fc969db-43dd-426b-975f-016543158f60",
   "metadata": {},
   "outputs": [
    {
     "name": "stdout",
     "output_type": "stream",
     "text": [
      "Bitte zwei positive ganze Zahlen eingeben:  55333111  33\n",
      "Der ggT von 55333111 und 33 ist 1.\n",
      "CPU times: total: 0 ns\n",
      "Wall time: 8.7 s\n"
     ]
    }
   ],
   "source": [
    "%%time\n",
    "data = input('Bitte zwei positive ganze Zahlen eingeben: ')\n",
    "x, y = [int(k) for k in data.split()]\n",
    "print(f'Der ggT von {x} und {y} ist {ggtTurbo(x,y)}.')"
   ]
  },
  {
   "cell_type": "markdown",
   "id": "d214735b-afc0-4978-a286-13bff5237528",
   "metadata": {},
   "source": [
    "### Das Sieb des Eratosthenes\n",
    "\n",
    "Es gibt keine einfache Formel für die k-te Primzahl. Das Sieb des Eratosthenes ist ein Algorithmus, um alle Primzahlen unterhalb einer gewissen Schranke n zu finden. \n"
   ]
  },
  {
   "cell_type": "code",
   "execution_count": 53,
   "id": "66564806-fcac-48ae-8ab8-32a739547a3a",
   "metadata": {},
   "outputs": [],
   "source": [
    "def eratosthenes(n):\n",
    "    '''\n",
    "    n: positive ganze Zahl\n",
    "    returns: Liste mit allen Primzahlen <= n\n",
    "    '''\n",
    "    tmp = []\n",
    "    prim = [True] * (n+1)\n",
    "    for i in range(2,n+1):\n",
    "        if prim[i]:\n",
    "            tmp.append(i)\n",
    "            for j in range(i+i,n+1,i):\n",
    "                prim[j] = False\n",
    "    return tmp"
   ]
  },
  {
   "cell_type": "code",
   "execution_count": 52,
   "id": "92d4071f-6e86-4aec-a472-7f94b4d3d28e",
   "metadata": {},
   "outputs": [
    {
     "name": "stdout",
     "output_type": "stream",
     "text": [
      "Bitte eine positive Zahl eingeben:  19\n",
      "Liste aller Primzahlen kleiner als 19:\n",
      " [2, 3, 5, 7, 11, 13, 17, 19]\n",
      "CPU times: total: 0 ns\n",
      "Wall time: 2.91 s\n"
     ]
    }
   ],
   "source": [
    "%%time\n",
    "n = int(input('Bitte eine positive Zahl eingeben: '))\n",
    "print(f'Liste aller Primzahlen kleiner als {n}:\\n {eratosthenes(n)}')"
   ]
  },
  {
   "cell_type": "markdown",
   "id": "e3558af0-2b01-4447-9eb3-fc48c2a8bede",
   "metadata": {},
   "source": [
    "## Lineare Suche\n",
    "\n",
    "Die lineare Suche sucht in einer Liste oder einer Folge von Eingaben ein ausgezeichnetes Element. \n",
    "In der Regel benötigen wir zwei Variablen *best* und *best_val* für die Suche. Wenn wir Zugriff auf das erste Element haben, initialisieren wir diese Variablen mit den Werten des ersten Elements."
   ]
  },
  {
   "cell_type": "markdown",
   "id": "d05f6719-8788-4d4b-b786-e3ab1b3b1bea",
   "metadata": {},
   "source": [
    "### Beispiel 1:\n",
    "Wir suchen in einer Liste die Zahl mit dem größten Rest bei Division durch 7"
   ]
  },
  {
   "cell_type": "code",
   "execution_count": 103,
   "id": "b9b84135-b5c5-49b2-8615-1d2b7492bd2d",
   "metadata": {},
   "outputs": [],
   "source": [
    "def lineareSuche1(a):\n",
    "    '''\n",
    "    a: Liste mit positiven ganzen Zahlen\n",
    "    returns: Zahl in a mit dem größten Rest bei Divison durch 7\n",
    "    '''\n",
    "    best = a[0]\n",
    "    best_val = a[0] % 7            # das Erste ist das Beste - vorläufig!\n",
    "    for i in range(1,len(a)):\n",
    "        val = a[i] % 7\n",
    "        if val > best_val:\n",
    "            best_val = val         # was besseres gefunden\n",
    "            best = a[i]\n",
    "    return best"
   ]
  },
  {
   "cell_type": "code",
   "execution_count": 104,
   "id": "41517fe8-3b08-4c9c-ad1b-33eb43cf3d5b",
   "metadata": {},
   "outputs": [
    {
     "name": "stdout",
     "output_type": "stream",
     "text": [
      "20\n"
     ]
    }
   ],
   "source": [
    "a = [3, 5, 3, 8, 12, 20, 35, 17, 35]\n",
    "print(lineareSuche1(a))\n",
    " "
   ]
  },
  {
   "cell_type": "markdown",
   "id": "9485df2b-ecf7-446f-9f9e-dfecc8aa2ff6",
   "metadata": {},
   "source": [
    "Wenn die Zahlen nicht durch eine Liste gegeben sind, sondern durch eine Folge von Eingaben, dann müssen wir *best_val* mit einem Wert initialisieren, der garantiert vom ersten Element übertroffen wird. Dieses Verfahren können wir natürlich auch bei Listen anwenden. Wenn für die gestellte Aufgabe der Index unwichtig ist, können wir einfacher durch die Liste laufen."
   ]
  },
  {
   "cell_type": "markdown",
   "id": "e9777a2f-f737-43c1-bde8-c7c10ce57689",
   "metadata": {},
   "source": [
    "### Beispiel 2\n",
    "Wir suchen in einer Liste die Zahl mit dem kleinsten Abstand zur 42. Bei gleichem Abstand wird die größere Zahl genommen."
   ]
  },
  {
   "cell_type": "code",
   "execution_count": 105,
   "id": "ed02b8a3-fa54-40d5-9cac-1c701bfd8dbc",
   "metadata": {},
   "outputs": [],
   "source": [
    "def lineareSuche2(a):\n",
    "    '''\n",
    "    a: Liste mit positiven ganzen Zahlen\n",
    "    returns: Zahl in a mit dem kleinsten Abstand zur 42,\n",
    "         bei gleichem Abstand wird die größere Zahl genommen.\n",
    "        \n",
    "    '''\n",
    "    best = None\n",
    "    best_val = float('inf')        # best hat unendlichen Abstand\n",
    "    for x in a:\n",
    "        val = abs(x-42)\n",
    "        if val < best_val or (val == best_val and x > best):\n",
    "            best_val = val         # was besseres gefunden\n",
    "            best = x\n",
    "    return best"
   ]
  },
  {
   "cell_type": "code",
   "execution_count": 106,
   "id": "ed62ad17-be8a-47a2-a735-1768ff211b14",
   "metadata": {},
   "outputs": [
    {
     "name": "stdout",
     "output_type": "stream",
     "text": [
      "46\n"
     ]
    }
   ],
   "source": [
    "a = [87, 38, 104, 71, 46, 33]  \n",
    "print(lineareSuche2(a))"
   ]
  },
  {
   "cell_type": "markdown",
   "id": "978c6ed6-e767-409a-ae82-dabe1774c9c4",
   "metadata": {},
   "source": [
    "Manchmal ist nicht klar, ob es überhaupt ein Element in der Liste gibt, das die Bedingung erfüllt. Das müssen wir bei der Rückgabe des Resultats berücksichtigen."
   ]
  },
  {
   "cell_type": "markdown",
   "id": "7bde9ff2-691e-401c-804f-a7da8a9a1bde",
   "metadata": {},
   "source": [
    "**Beispiel 3:** Wir suchen in einer Liste die gerade Zahl mit dem kleinsten Abstand zu 42, falls keine gerade Zahl vorhanden, wird -1 zurückgegeben."
   ]
  },
  {
   "cell_type": "code",
   "execution_count": 107,
   "id": "bcf2406b-7990-453a-a82e-8f75dda2dd37",
   "metadata": {},
   "outputs": [],
   "source": [
    "def lineareSuche3(a):\n",
    "    '''\n",
    "    a: Liste mit positiven ganzen Zahlen\n",
    "    returns: die gerade Zahl, die den kleinsten Abstand zu 42 hat,\n",
    "        bei gleichem Abstand wird die größere Zahl genommen.\n",
    "        Falls keine gerade Zahl vorhanden ist, wird -1 zurückgegeben.\n",
    "\n",
    "    '''\n",
    "    best = None\n",
    "    best_val = float('inf')        # best hat unendlichen Abstand\n",
    "    for x in a:\n",
    "        val = abs(x-42)\n",
    "        if x % 2 == 0 and val < best_val or (x % 2 == 0 and val == best_val and x < best):\n",
    "            best_val = val         # was besseres gefunden\n",
    "            best = x\n",
    "    if best is None:\n",
    "        return -1\n",
    "    else:\n",
    "        return best"
   ]
  },
  {
   "cell_type": "code",
   "execution_count": 108,
   "id": "a26c9336-9c08-4a4e-bc44-ad901c2662b2",
   "metadata": {},
   "outputs": [
    {
     "name": "stdout",
     "output_type": "stream",
     "text": [
      "-1\n",
      "22\n"
     ]
    }
   ],
   "source": [
    "a = [87, 55, 33, 11]  \n",
    "b = [87, 55, 22, 33, 11, 62] \n",
    "print(lineareSuche3(a))\n",
    "print(lineareSuche3(b))"
   ]
  },
  {
   "cell_type": "markdown",
   "id": "969e88b8-48ed-4420-a92d-8da980889520",
   "metadata": {},
   "source": [
    "Bei manchen Fragestellungen ist der Index wichtig.\n",
    "\n",
    "**Beispiel 4:** Wir suchen in einer Liste die Zahl mit der größten Nachbarsumme. Zahlen mit nur einem Nachbarn werden\n",
    "nicht berücksichtigt."
   ]
  },
  {
   "cell_type": "code",
   "execution_count": 109,
   "id": "0369bc39-9c92-4fd3-9b0e-1cf0c850b7f6",
   "metadata": {},
   "outputs": [],
   "source": [
    "def lineareSuche4(a):\n",
    "    '''\n",
    "    a: Liste mit ganzen Zahlen\n",
    "    returns:  die Zahl, deren Nachbarn die größte Summe ergeben.\n",
    "        Zahlen mit nur einem Nachbarn werden nicht berücksichtigt.\n",
    "    '''\n",
    "    best = None\n",
    "    best_val = -float('inf')        \n",
    "    for i in range(1,len(a)-1):\n",
    "        val = a[i-1]+a[i+1]\n",
    "        if val > best_val:\n",
    "            best_val = val\n",
    "            best = a[i]\n",
    "    return best     "
   ]
  },
  {
   "cell_type": "code",
   "execution_count": 110,
   "id": "11a24d11-c949-4c47-8296-f96c0a67cd6c",
   "metadata": {},
   "outputs": [
    {
     "name": "stdout",
     "output_type": "stream",
     "text": [
      "-3\n"
     ]
    }
   ],
   "source": [
    "a = [3, 4, 12, -3, 10 , 20]\n",
    "print(lineareSuche4(a))"
   ]
  },
  {
   "cell_type": "markdown",
   "id": "13972149-b4fe-4059-b087-3dd34bb4949d",
   "metadata": {},
   "source": [
    "Manchmal muss man die Liste vorher noch bearbeiten, um die Fragestellung zu beantworten. Wenn nur der *beste Wert* interessiert, braucht man die Variable *best* nicht.\n",
    "\n",
    "**Beispiel 5:** Wir suchen in einer Liste den kleinsten Abstand zweier vorkommender Zahlen."
   ]
  },
  {
   "cell_type": "code",
   "execution_count": 2,
   "id": "c2954c7a-1649-433b-841d-95e9edeb0789",
   "metadata": {},
   "outputs": [],
   "source": [
    "def lineareSuche5(a):\n",
    "    '''\n",
    "    a: Liste mit mindestens 2 ganzen Zahlen \n",
    "    returns:  den kleinsten Abstand zwischen 2 Zahlen in der Liste a\n",
    "    '''\n",
    "    b = sorted(a)\n",
    "    best_val = float('inf')        \n",
    "    for i in range(len(b)-1):\n",
    "        val = abs(b[i+1]-b[i])\n",
    "        if val < best_val:\n",
    "            best_val = val\n",
    "    return best_val     "
   ]
  },
  {
   "cell_type": "code",
   "execution_count": 102,
   "id": "738d3aa6-bb5b-4978-9324-b51c0ea4d8c1",
   "metadata": {},
   "outputs": [
    {
     "name": "stdout",
     "output_type": "stream",
     "text": [
      "2\n"
     ]
    }
   ],
   "source": [
    "a = [13, 1, 5, 88, -1]\n",
    "print(lineareSuche5(a))"
   ]
  },
  {
   "cell_type": "markdown",
   "id": "548a9e04-c342-444f-aeb3-78ddc2397660",
   "metadata": {},
   "source": [
    "Beispiele in Codingame:\n",
    "\n",
    "- [The Descent](https://www.codingame.com/training/easy/the-descent)\n",
    "- [Horse-Racing Duals](https://www.codingame.com/training/easy/horse-racing-duals)\n",
    "- [Temperatures](https://www.codingame.com/training/easy/temperatures)\n",
    "\n",
    "\n"
   ]
  },
  {
   "cell_type": "markdown",
   "id": "1c68bb75-0fbe-4013-9db0-8ec47b09e79e",
   "metadata": {},
   "source": [
    "### Binäre Suche"
   ]
  },
  {
   "cell_type": "code",
   "execution_count": 2,
   "id": "89ef1d9c-5c7a-489b-97dd-090da7dcd3fb",
   "metadata": {},
   "outputs": [],
   "source": [
    "def binaereSuche(a, x):\n",
    "    '''\n",
    "    a: sortierte Liste mit Zahlen\n",
    "    x: Zahl\n",
    "    returns: Index von x in a, falls x in a\n",
    "             -1              , falls x nicht in a\n",
    "    '''\n",
    "    links = 0\n",
    "    rechts = len(a)-1\n",
    "    mitte = (links + rechts)//2\n",
    "    while links <= rechts and a[mitte] != x:\n",
    "        if a[mitte] < x:\n",
    "            links = mitte + 1\n",
    "        else:\n",
    "            rechts = mitte - 1\n",
    "        mitte = (links + rechts)//2\n",
    "\n",
    "    if links > rechts:\n",
    "        return -1\n",
    "    else:\n",
    "        return mitte"
   ]
  },
  {
   "cell_type": "markdown",
   "id": "cf917026-5be8-407e-a26f-51b7f2b3e2fd",
   "metadata": {},
   "source": [
    "Die lineare Suche durchsucht die Liste von Anfang bis Ende"
   ]
  },
  {
   "cell_type": "code",
   "execution_count": 3,
   "id": "7a7db226-86c3-4c55-b906-b9498385744c",
   "metadata": {},
   "outputs": [],
   "source": [
    "def lineareSuche(a,x):\n",
    "    for i in range(len(a)):\n",
    "        if x == a[i]:\n",
    "            return i\n",
    "    return -1\n",
    "    "
   ]
  },
  {
   "cell_type": "code",
   "execution_count": 6,
   "id": "8387e4ed-a403-4a82-bca4-9fee60458405",
   "metadata": {},
   "outputs": [
    {
     "name": "stdout",
     "output_type": "stream",
     "text": [
      "556111667\n"
     ]
    }
   ],
   "source": [
    "# Wir erzeugen eine lange sortierte Liste \n",
    "a = list(range(0,1112223333,2))\n",
    "print(len(a))"
   ]
  },
  {
   "cell_type": "code",
   "execution_count": 7,
   "id": "b428abf5-2870-4a88-b03c-cba2bffe9ef3",
   "metadata": {},
   "outputs": [
    {
     "name": "stdout",
     "output_type": "stream",
     "text": [
      "CPU times: total: 19.8 s\n",
      "Wall time: 19.8 s\n"
     ]
    },
    {
     "data": {
      "text/plain": [
       "556111665"
      ]
     },
     "execution_count": 7,
     "metadata": {},
     "output_type": "execute_result"
    }
   ],
   "source": [
    "%%time\n",
    "lineareSuche(a,1112223330)"
   ]
  },
  {
   "cell_type": "code",
   "execution_count": 8,
   "id": "35f91d4d-f2fb-4de1-8690-f24bb77dcc68",
   "metadata": {},
   "outputs": [
    {
     "name": "stdout",
     "output_type": "stream",
     "text": [
      "CPU times: total: 0 ns\n",
      "Wall time: 0 ns\n"
     ]
    },
    {
     "data": {
      "text/plain": [
       "556111665"
      ]
     },
     "execution_count": 8,
     "metadata": {},
     "output_type": "execute_result"
    }
   ],
   "source": [
    "%%time \n",
    "binaereSuche(a,1112223330)"
   ]
  }
 ],
 "metadata": {
  "kernelspec": {
   "display_name": "Python 3 (ipykernel)",
   "language": "python",
   "name": "python3"
  },
  "language_info": {
   "codemirror_mode": {
    "name": "ipython",
    "version": 3
   },
   "file_extension": ".py",
   "mimetype": "text/x-python",
   "name": "python",
   "nbconvert_exporter": "python",
   "pygments_lexer": "ipython3",
   "version": "3.9.12"
  },
  "vscode": {
   "interpreter": {
    "hash": "66cef8b640515d50f1dd36261b6c0429b289e00e05e66082067e4520c88a4539"
   }
  }
 },
 "nbformat": 4,
 "nbformat_minor": 5
}
