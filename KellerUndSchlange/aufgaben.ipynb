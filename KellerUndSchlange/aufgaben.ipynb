{
 "cells": [
  {
   "cell_type": "markdown",
   "id": "dba0c7a4-046c-455f-92d3-31d60e3ab698",
   "metadata": {},
   "source": [
    "#### Aufgaben zu Schlange und Keller"
   ]
  },
  {
   "cell_type": "markdown",
   "id": "aafd992d-4f48-4646-9f55-889b88f9f35e",
   "metadata": {},
   "source": [
    "**A1**:\n",
    "\n",
    "Die Schlange wurde auf Basis des folgenden UML-Diagramms implementiert:\n",
    "\n",
    "<img src='schlange_uml.png'>\n",
    "\n",
    "a. Beschreibe die grundlegenden Eigenschaften einer Schlange.\n",
    "\n",
    "b. Welche Operationen müssen ausgeführt werden, um Daten aus der Schlange zu holen und um Daten in die Schlange zu speichern?\n",
    "Wie ist der Laufzeit?\n",
    "\n",
    "c. Beschreibe den Zustand der beteiligten *Eintrag*-Objekte nach Ablauf des folgenden Codes. Markiere die Attribute der Schlange. \n",
    "\n",
    " \n",
    "    q = Schlange()\n",
    "    q.enq(42)\n",
    "    q.enq(12)\n",
    "    q.enq(3)\n",
    "\n",
    "d. Erläutere die Beziehung der im UML-Diagramm dargestellten Klassen. Gehe insbesondere auf die Beziehung einer Klasse mit sich selbst ein.\n",
    "\n",
    "e. Implementiere die Methode *enq*.\n",
    "\n",
    "f. Neben der Schlange (Queue) gibt es auch die Datenstruktur Priority-Queue. Erläutere den Unterschiede zwischen einer Schlange und einer Priority-Queue. \n",
    "\n",
    "g. Wie ist die Priority-Queue in Python implementiert und wie sind die Laufzeiten der wesentlichen Operationen?\n",
    " "
   ]
  },
  {
   "cell_type": "markdown",
   "id": "ad2b279a-ccbc-4a03-acc3-89c258bd4287",
   "metadata": {},
   "source": [
    "**Lösung A1**:\n",
    "\n",
    "a. Eine Schlange arbeitet nach dem FIFO-Prinzip (First In First Out), d.h. die zuerst gespeicherten Daten werden zuerst aus der Schlange entnommen. \n",
    "\n",
    "b. Mit der Methode *front()* kann der Inhalt des vordersten Elements ausgelesen werden, das Element kann mit der Methode *deq()* aus der Schlange entfernt werden. Mit der Methode *enq(x)* wird das Objekt *x* in die Schlange eingefügt.\n",
    "Alle Methoden haben eine Laufzeit O(1), d.h. die Laufzeit ist nicht abhängig von der Größe der Schlange.\n",
    "\n",
    "c. \n",
    "\n",
    "<img src='a1.png'>\n",
    "\n",
    "d. Die Schlange verwaltet ihre Daten in einer linearen Abfolge von Objekten vom Typ Eintrag. Die Schlange muss das erste Element (*head*) und letzte Element (*tail*) kennen, um Daten aus der Schlange zu holen oder einzufügen. Diese Elemente sind vom Typ Eintrag, daher geht ein Assoziationspfeil von der Klasse Schlange zur Klasse Eintrag. Der Assoziationspfeil der Klasse Eintrag auf sich selbst ist dadurch begründet, dass das Attribut *next* der Klasse Eintrag selbst vom Typ Eintrag ist. Die Schlange wird dadurch zu einer rekursiven Datenstruktur.\n",
    "\n",
    "\n",
    "e.\n",
    "\n",
    "    def enq(self, x):\n",
    "        if self.empty():\n",
    "            self.head = Eintrag()\n",
    "            self.tail = self.head\n",
    "        else:\n",
    "            self.tail.next = Eintrag()\n",
    "            self.tail = self.tail.next\n",
    "        self.tail.inhalt = x\n",
    "        self.tail.next = None\n",
    "\n",
    "f. \n",
    "\n",
    "Bei einer Priority-Queue werden die Elemente der Schlange zusammen mit einer Priorität verwaltet. Ein Element mit höherer Priorität kommt dadurch früher aus der Schlange heraus als ein anderes mit niedriger Priorität, auch wenn dies früher eingefügt wurde.\n",
    "\n",
    "\n",
    "g. In Python ist die Priority-queue durch einen Heap implementiert. Ein Objekt kann als Tupel (k,x) in den Heap eingefügt werden, wobei k die Priorität ist. Da der Heap in Python ein min-Heap ist, werden die Tupel mit dem niedrigsten k zuerst aus dem Heap geholt.\n",
    "Mit *heappush(Q,(k,x))* wird das Objekt x mit Priorität k in den Heap Q eingefügt. Mit *k,x = heappop(Q)* wird das Objekt x mit seiner Priorität k aus dem Heap Q geholt. Beide Operationen haben die Laufzeit O(log(n)), wobei n die Anzahl der im Heap verwalteten Objekte ist.  "
   ]
  },
  {
   "cell_type": "code",
   "execution_count": null,
   "id": "510083b6-2c58-45e2-b6ae-89e7ce5381fe",
   "metadata": {},
   "outputs": [],
   "source": []
  }
 ],
 "metadata": {
  "kernelspec": {
   "display_name": "Python 3 (ipykernel)",
   "language": "python",
   "name": "python3"
  },
  "language_info": {
   "codemirror_mode": {
    "name": "ipython",
    "version": 3
   },
   "file_extension": ".py",
   "mimetype": "text/x-python",
   "name": "python",
   "nbconvert_exporter": "python",
   "pygments_lexer": "ipython3",
   "version": "3.11.2"
  }
 },
 "nbformat": 4,
 "nbformat_minor": 5
}
