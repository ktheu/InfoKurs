{
 "cells": [
  {
   "cell_type": "markdown",
   "id": "468289c7-dd71-4ad0-9671-296300c0b7fb",
   "metadata": {},
   "source": [
    "### Abstrakte Datentypen - Keller und Schlange \n",
    "\n",
    "#### ADT Keller (= Stapel, stack) \n",
    "\n",
    "Prinzip LIFO: Last in, First Out\n",
    "Ein *Keller* ist eine (ggf. leere) Folge von Elementen zusammen mit einem so genannten\n",
    "    (ggf. undefinierten) *Top-Element*. \n",
    "\n",
    "Schnittstelle des ADT Keller:\n",
    "\n",
    "<pre>\n",
    "empty :  liefert true, falls Keller leer  \n",
    "push  :  legt Element auf Keller  \n",
    "top   :  liefert oberstes Kellerelement \n",
    "pop   :  entfernt oberstes Kellerelement \n",
    "</pre>"
   ]
  },
  {
   "cell_type": "markdown",
   "id": "2b7a5b6f-5174-4e28-a715-8234425638b0",
   "metadata": {},
   "source": [
    "##### Implementationsidee \n",
    "Wir spendieren uns zur Verwaltung der Datenstruktur eine Variable *top*. \n",
    "\n",
    "<img src=\"./keller1.png\" width=\"200\">\n",
    "\n",
    "Wie sollen wir verzeigern?\n",
    "\n",
    "<img src=\"./keller2.png\" width=\"200\">\n",
    "     "
   ]
  },
  {
   "cell_type": "code",
   "execution_count": null,
   "id": "2cb8d9fb-2926-460c-b939-7672ab5b4798",
   "metadata": {},
   "outputs": [],
   "source": [
    "class Keller:\n",
    "    def __init__(self):\n",
    "        self.tp = None\n",
    "\n",
    "    def empty(self):\n",
    "        return self.tp is None\n",
    "\n",
    "    def push(self, x):\n",
    "        hilf = Eintrag()\n",
    "        hilf.inhalt = x\n",
    "        hilf.next = self.tp\n",
    "        self.tp = hilf\n",
    "\n",
    "    def top(self):\n",
    "        if self.empty(): raise RuntimeError(\"Fehler: Keller ist leer\")\n",
    "        return self.tp.inhalt\n",
    "\n",
    "    def pop(self):\n",
    "        if self.empty(): raise RuntimeError(\"Fehler: Keller ist leer\")\n",
    "        self.tp = self.tp.next "
   ]
  },
  {
   "cell_type": "markdown",
   "id": "6a89eb4d-2d7e-44a7-9df2-12af496fa005",
   "metadata": {},
   "source": [
    "##### Das UML-Diagramm zum Keller\n",
    "\n",
    "<img src='keller_uml.png'>"
   ]
  },
  {
   "cell_type": "markdown",
   "id": "b2fd1b61-ed7f-4da9-bcb8-11b50e872b9a",
   "metadata": {},
   "source": [
    "#####  Anwendungsbeispiel     \n",
    "Korrektheit der Klammerung mittels Keller bestimmen."
   ]
  },
  {
   "cell_type": "code",
   "execution_count": null,
   "id": "a58e9d70-6d7b-4305-a6e3-b9799a1290e8",
   "metadata": {},
   "outputs": [],
   "source": [
    "(((a+b)*c+(a+c)*2)-3)*5      # korrekt\n",
    "(((a+b)*c+(a+c)*2))-3)*5     # nicht korrekt"
   ]
  },
  {
   "cell_type": "markdown",
   "id": "c09a3661-ad2b-47d7-924e-f225af5252cd",
   "metadata": {},
   "source": [
    "[Codingame: Brackets](https://www.codingame.com/ide/puzzle/brackets-extreme-edition)"
   ]
  },
  {
   "cell_type": "markdown",
   "id": "fdfa3f2d-9f66-4a1c-9dc4-7980b1eba44e",
   "metadata": {},
   "source": [
    "#### ADT Schlange (Queue)\n",
    "\n",
    "Eine Schlange ist eine ggf. leere Folge von Elementen zusammen mit einem so genannten\n",
    "ggf. undefinierten FrontElement. \n",
    "\n",
    "Prinzip FIFO First in, First Out\n",
    "\n",
    "Schnittstelle des ADT Schlange\n",
    "\n",
    "    empty    liefert true, falls Schlange leer\n",
    "    enq      fügt Element hinten ein\n",
    "    front    liefert vorderstes Element\n",
    "    deq      entfernt vorderstes Element"
   ]
  },
  {
   "cell_type": "markdown",
   "id": "6dea9629-c027-4301-9b89-ec8da0192538",
   "metadata": {},
   "source": [
    "##### Implementationsidee\n",
    "Wir spendieren uns zur Verwaltung der Datenstruktur zwei Variablen *head* und *tail*.\n",
    "\n",
    "<img src=\"./schlange1.png\" width=\"400\">\n",
    "\n",
    "Wie sollen wir verkabeln?\n",
    "\n",
    "<img src=\"./schlange2.png\" width=\"400\">"
   ]
  },
  {
   "cell_type": "code",
   "execution_count": 2,
   "id": "d9a2f0c3-0498-41d3-87ed-842a48f1596f",
   "metadata": {},
   "outputs": [],
   "source": [
    "class Schlange:\n",
    "    def __init__(self):\n",
    "        self.head = None\n",
    "        self.tail = None\n",
    "\n",
    "    def empty(self):\n",
    "        return self.head is None\n",
    "\n",
    "    def enq(self, x):\n",
    "        tmp = Eintrag()\n",
    "        tmp.inhalt = x\n",
    "        if self.empty():\n",
    "            self.head = tmp\n",
    "            self.tail = tmp\n",
    "        else:\n",
    "            self.tail.next = tmp\n",
    "            self.tail = tmp\n",
    "\n",
    "    def deq(self):\n",
    "        if self.empty(): raise RuntimeError(\"Fehler: Schlange ist leer\")\n",
    "        self.head = self.head.next\n",
    "        if self.head is None:\n",
    "            self.tail = None\n",
    "\n",
    "    def front(self):\n",
    "        if self.empty(): raise RuntimeError(\"Fehler: Schlange ist leer\")\n",
    "        return self.head.inhalt"
   ]
  },
  {
   "cell_type": "markdown",
   "id": "f13db5ce-c773-4ce5-a1d1-c04cdc9376de",
   "metadata": {},
   "source": [
    "##### Das UML-Diagramm zur Schlange\n",
    "\n",
    "<img src='schlange_uml.png'>"
   ]
  },
  {
   "cell_type": "markdown",
   "id": "8c71b295-d49e-4b03-904c-a4844228b216",
   "metadata": {},
   "source": [
    "#### Keller und Schlange in Python\n",
    "\n",
    "Für den Keller nutzen wir die Python-List mit den Methoden *append* und *pop*"
   ]
  },
  {
   "cell_type": "code",
   "execution_count": null,
   "id": "63b51a44-3437-47a7-89a0-b23bf8c3bb4c",
   "metadata": {},
   "outputs": [],
   "source": [
    "a = []\n",
    "a.append(4)\n",
    "a.append(5)\n",
    "x = a.pop()"
   ]
  },
  {
   "cell_type": "markdown",
   "id": "4773df6f-b8d3-4fac-b65a-2f1b13d34a31",
   "metadata": {},
   "source": [
    "Für die Schlange nutzen wir die Funktion *deque* aus dem Modul *collections* mit den Methoden *append* und *popleft*"
   ]
  },
  {
   "cell_type": "code",
   "execution_count": null,
   "id": "b2fd803d-8690-422b-bfe5-1ce2b5ea189c",
   "metadata": {},
   "outputs": [],
   "source": [
    "from collections import deque\n",
    "a = [5, 4, 6]\n",
    "q = deque(a)    #  macht aus der Liste eine Schlange\n",
    "q.append(7)\n",
    "x = q.popleft()"
   ]
  }
 ],
 "metadata": {
  "kernelspec": {
   "display_name": "Python 3 (ipykernel)",
   "language": "python",
   "name": "python3"
  },
  "language_info": {
   "codemirror_mode": {
    "name": "ipython",
    "version": 3
   },
   "file_extension": ".py",
   "mimetype": "text/x-python",
   "name": "python",
   "nbconvert_exporter": "python",
   "pygments_lexer": "ipython3",
   "version": "3.11.2"
  }
 },
 "nbformat": 4,
 "nbformat_minor": 5
}
