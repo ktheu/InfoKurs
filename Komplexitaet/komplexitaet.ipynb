{
 "cells": [
  {
   "cell_type": "markdown",
   "id": "c70ca520-00c0-41e5-b6bc-140a83109c99",
   "metadata": {},
   "source": [
    "## Komplexität\n",
    "\n",
    "Die Komplexität eines Algorithmus bezieht sich auf die Frage, wieviel Zeit er für seine Arbeit benötigt.  \n",
    "\n",
    "Nicht: absolute CPU-Zeit angeben <br>\n",
    "Nicht: Anzahl der Maschinenbefehle zählen  \n",
    "\n",
    "Sondern:  Wachstum der Laufzeit in Abhängigkeit\n",
    " von der Größe der Eingabe\n",
    "\n",
    "Größe der Eingabe kann z.B. sein: Zahl der Daten,  Wert der Eingabezahl,   Länge der Codierung. "
   ]
  },
  {
   "cell_type": "code",
   "execution_count": null,
   "id": "cd0342f7-df99-4b7b-8e30-8272c6345e9c",
   "metadata": {},
   "outputs": [],
   "source": []
  }
 ],
 "metadata": {
  "kernelspec": {
   "display_name": "Python 3 (ipykernel)",
   "language": "python",
   "name": "python3"
  },
  "language_info": {
   "codemirror_mode": {
    "name": "ipython",
    "version": 3
   },
   "file_extension": ".py",
   "mimetype": "text/x-python",
   "name": "python",
   "nbconvert_exporter": "python",
   "pygments_lexer": "ipython3",
   "version": "3.9.12"
  }
 },
 "nbformat": 4,
 "nbformat_minor": 5
}
