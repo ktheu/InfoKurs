{
 "cells": [
  {
   "cell_type": "markdown",
   "id": "f328ae39-accb-42f7-a3b1-0687ff3c49f8",
   "metadata": {},
   "source": [
    "## ADT - Liste\n",
    "\n",
    "#### Abstrakte Datentypen\n",
    "\n",
    "Abstrakter Datentyp (ADT) = Datenstruktur + (abstrakte) Operationen.\n",
    "\n",
    "Abstrakt = nicht implementiert, nur Vorgaben.  \n",
    "\n",
    "Die Datenstrukturen werden unabhängig von ihrer späteren Implementierung in einer Programmiersprache beschrieben. <br>\n",
    "ADTs bilden eine Spezifikation der Schnittstelle nach außen, indem sie Operationen und ihre Funktionalität festlegen.\n",
    "\n",
    "#### ADT Liste\n",
    "\n",
    "Eine *Liste* ist eine (ggf. leere) Folge von Elementen zusammen mit einem so genannten \n",
    "(ggf. undefinierten) *aktuellen Element*. \n",
    "\n",
    "<img src=\"./bild1.png\" width=\"600\">\n",
    "\n",
    "#### Schnittstelle der ADT Liste\n",
    "\n",
    "```\n",
    " empty   :  liefert true, falls Liste leer     \n",
    " endpos  :  liefert true, wenn Liste abgearbeitet   \n",
    " reset   :  das erste Listenelement wird zum aktuellen Element   \n",
    " advance :  der Nachfolger des akt. wird akt. Element  \n",
    " elem    :  liefert das aktuelle Element  \n",
    " insert  :  fügt vor das aktuelle Element ein Element ein, das neue wird zum aktuellen Element \n",
    " delete  :  löscht das aktuelle Element, der Nachfolger wird zum aktuellen Element.\n",
    "```\n",
    "\n",
    "#### Umsetzung der Schnittstelle in eine Klasse.\n",
    "Die Methoden sind noch nicht implementiert."
   ]
  },
  {
   "cell_type": "code",
   "execution_count": null,
   "id": "1851b342-57bf-4188-a840-9d6d8b355702",
   "metadata": {},
   "outputs": [],
   "source": [
    "class Liste:\n",
    "    '''  Eine Liste ist eine (ggf. leere) Folge von Elementen zusammen mit einem\n",
    "    (ggf. undefinierten) aktuellen Element  '''\n",
    "    \n",
    "    def empty(self):\n",
    "        ''' liefert true, falls Liste leer '''\n",
    "        pass\n",
    "        \n",
    "    def endpos(self):\n",
    "        ''' liefert true, wenn die Liste abgearbeitet ist '''\n",
    "        pass\n",
    "\n",
    "    def reset(self):\n",
    "        ''' das erste Listenelement wird aktuelles Element '''\n",
    "        pass\n",
    "    \n",
    "    def advance(self):\n",
    "        '''  der Nachfolger des aktuellen Elements wird aktuelles Element '''\n",
    "        pass\n",
    "\n",
    "    def elem(self):\n",
    "        ''' liefert das aktuelle Element '''\n",
    "        pass\n",
    "  \n",
    "    def insert(self, x):\n",
    "        ''' Fügt x vor dem aktuellen Element ein, x wird zum neuen aktuellen Element. '''\n",
    "        pass\n",
    "\n",
    "    def delete(self):\n",
    "        ''' löscht das aktuelle Element. Der Nachfolger wird neues aktuelles Element. '''\n",
    "        pass"
   ]
  },
  {
   "cell_type": "markdown",
   "id": "6360da19-5452-4ab1-b8dd-30dc5a1960f7",
   "metadata": {},
   "source": [
    "Welche dieser Methoden wären bei einer Implementation mittels einer normalen Python-Liste problematisch?"
   ]
  },
  {
   "cell_type": "markdown",
   "id": "0c60e569-e93b-4f5e-aa24-5db891f7695c",
   "metadata": {},
   "source": [
    "#### Implementation durch verkettete Einträge\n",
    "\n",
    "<img src='bild2.png'>"
   ]
  },
  {
   "cell_type": "code",
   "execution_count": null,
   "id": "c1aa31b8-c348-4428-96d2-af7a630abe57",
   "metadata": {},
   "outputs": [],
   "source": [
    "class Eintrag:  \n",
    "    def __init__(self):\n",
    "        self.inhalt = None\n",
    "        self.next = None"
   ]
  },
  {
   "cell_type": "markdown",
   "id": "20413fb4-de1c-4ccf-b1a5-74716c962638",
   "metadata": {},
   "source": [
    "Problem bei Insert: Auf welches Element brauchen wir Zugriff, damit wir ein neues Element vor dem aktuellen Element (roter Pfeil) einfügen können?\n",
    "\n",
    "<img src='bild4.png'>"
   ]
  },
  {
   "cell_type": "markdown",
   "id": "1b3fd75a-a7e5-4ac0-aa8e-148f09521fa9",
   "metadata": {},
   "source": [
    "Lösung für das insert-Problem:\n",
    "\n",
    "<img src=\"./bild5.png\" width=\"600\">\n",
    "\n",
    "`pos` zeigt auf den Listen-Eintrag vor dem aktuellen Element.   \n",
    "\n",
    "`anf` zeigt auf einen Dummy-Eintrag vor dem ersten Element.\n",
    "\n",
    "Ein Beispielablauf:\n",
    "\n",
    "<img src='bild6.png' width='900'>"
   ]
  },
  {
   "cell_type": "markdown",
   "id": "988008fb-cf4f-4d86-bd19-4103ead13491",
   "metadata": {},
   "source": [
    "#### Übung\n",
    "\n",
    "Welche Zahlenfolge wird in der while-Schleife ausgegeben?\n",
    "\n",
    " "
   ]
  },
  {
   "cell_type": "code",
   "execution_count": null,
   "id": "6a9fbd84-b2e1-46a3-9795-b4470e9abab6",
   "metadata": {},
   "outputs": [],
   "source": [
    "a = Liste()\n",
    "a.insert(1)\n",
    "a.insert(2)\n",
    "a.reset()\n",
    "a.advance()\n",
    "a.insert(3)\n",
    "a.advance()\n",
    "a.delete()\n",
    "a.insert(4)\n",
    "a.reset()\n",
    "a.insert(6)\n",
    "a.reset()\n",
    "while not a.endpos():\n",
    "    print(a.elem(),end=' ')\n",
    "    a.advance()\n",
    "\n"
   ]
  },
  {
   "cell_type": "markdown",
   "id": "09783289-4935-4d60-94b5-c8a5e2a71aa1",
   "metadata": {},
   "source": [
    "### Implementation der Liste"
   ]
  },
  {
   "cell_type": "code",
   "execution_count": null,
   "id": "78b71cd1-c888-449c-832a-6d00a5fb2c9b",
   "metadata": {},
   "outputs": [],
   "source": [
    "class Liste:\n",
    "    def __init__(self):   \n",
    "        self.anf = Eintrag()\n",
    "        self.pos = self.anf\n",
    "       \n",
    "    def empty(self):   \n",
    "        return self.anf.next is None\n",
    "    \n",
    "    def endpos(self):  \n",
    "        return self.pos.next is None\n",
    "\n",
    "    def reset(self): \n",
    "        self.pos = self.anf\n",
    "\n",
    "    def advance(self):  \n",
    "        if self.endpos(): raise RuntimeError(\"Fehler: Liste am Ende\")\n",
    "        self.pos = self.pos.next\n",
    "\n",
    "    def elem(self):  \n",
    "        if self.endpos(): raise RuntimeError(\"Fehler: Liste am Ende\")\n",
    "        return self.pos.next.inhalt\n",
    "\n",
    "    def insert(self, x):  \n",
    "        hilf = Eintrag()\n",
    "        hilf.inhalt = x\n",
    "        hilf.next = self.pos.next\n",
    "        self.pos.next = hilf\n",
    "\n",
    "    def delete(self):  \n",
    "        if self.endpos(): raise RuntimeError(\"Fehler: Liste am Ende\")\n",
    "        self.pos.next = self.pos.next.next"
   ]
  },
  {
   "cell_type": "markdown",
   "id": "b768dfec-84ff-4e9b-a22c-03c0eb5fc36b",
   "metadata": {},
   "source": [
    "#### Das UML-Diagramm zur Liste\n",
    "\n",
    "Die Assoziation bei der Klasse Eintrag verweist auf sich selbst. Dies macht die Liste zu einer *rekursiven Datenstruktur*.\n",
    "\n",
    "<img src='liste_uml.png'>"
   ]
  },
  {
   "cell_type": "markdown",
   "id": "17eded98-f400-42b0-80b8-e8995468319a",
   "metadata": {},
   "source": [
    "#### Übung zu den Verweisbox-Aufgaben\n",
    "\n",
    "Die Veweisbox kann wie ein Eintrag eine Nutzlast (inhalt) tragen. Hat aber zwei Verweise auf andere Verweisboxen, die wir oben und unten nennen. Wenn dem Konstruktor Verweisboxen übergeben werden, nimmt er Verkabelungen vor.\n",
    "\n",
    "a. Gib für die beteiligten Verweisboxen die Attributwerte nach Ablauf der untenstehenden Anweisungen an.\n",
    "(Angabe in der Form: Verweisbox e: inhalt = 'e', oben = a, unten = b)\n",
    "\n",
    "b. Was wird ausgedruckt?"
   ]
  },
  {
   "cell_type": "code",
   "execution_count": 2,
   "id": "8188d269-f5f8-439b-b00d-daf9c8a1bf5f",
   "metadata": {},
   "outputs": [
    {
     "name": "stdout",
     "output_type": "stream",
     "text": [
      "None\n",
      "c\n",
      "e\n"
     ]
    }
   ],
   "source": [
    "class VerweisBox:\n",
    "    def __init__(self, inhalt, unten=None, oben=None):\n",
    "       self.inhalt = inhalt\n",
    "       self.unten = unten\n",
    "       self.oben = oben\n",
    "       if unten is not None: self.unten.oben = self\n",
    "       if oben  is not None: self.oben.unten = self\n",
    "\n",
    "    def __str__(self):\n",
    "       return self.inhalt\n",
    "\n",
    "a = VerweisBox('a')\n",
    "b = VerweisBox('b')\n",
    "c = VerweisBox('c',b,b)\n",
    "e = VerweisBox('e',c,a)\n",
    "print(a.oben)\n",
    "print(c.oben.unten)\n",
    "print(e.oben.unten.unten.oben)"
   ]
  },
  {
   "cell_type": "code",
   "execution_count": null,
   "id": "801d5a66-f03d-4341-8490-2390b7ed64ff",
   "metadata": {},
   "outputs": [],
   "source": []
  }
 ],
 "metadata": {
  "kernelspec": {
   "display_name": "Python 3 (ipykernel)",
   "language": "python",
   "name": "python3"
  },
  "language_info": {
   "codemirror_mode": {
    "name": "ipython",
    "version": 3
   },
   "file_extension": ".py",
   "mimetype": "text/x-python",
   "name": "python",
   "nbconvert_exporter": "python",
   "pygments_lexer": "ipython3",
   "version": "3.11.2"
  }
 },
 "nbformat": 4,
 "nbformat_minor": 5
}
