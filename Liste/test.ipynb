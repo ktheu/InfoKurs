{
 "cells": [
  {
   "cell_type": "code",
   "execution_count": 1,
   "id": "52242e2c-544d-472c-82bf-adefb0901e46",
   "metadata": {},
   "outputs": [],
   "source": [
    "class Eintrag:  \n",
    "    def __init__(self):\n",
    "        self.inhalt = None\n",
    "        self.next = None\n",
    "\n",
    "class Liste:\n",
    "    def __init__(self):   \n",
    "        self.anf = Eintrag()\n",
    "        self.pos = self.anf\n",
    "       \n",
    "    def empty(self):   \n",
    "        return self.anf.next is None\n",
    "    \n",
    "    def endpos(self):  \n",
    "        return self.pos.next is None\n",
    "\n",
    "    def reset(self): \n",
    "        self.pos = self.anf\n",
    "\n",
    "    def advance(self):  \n",
    "        if self.endpos(): raise RuntimeError(\"Fehler: Liste am Ende\")\n",
    "        self.pos = self.pos.next\n",
    "\n",
    "    def elem(self):  \n",
    "        if self.endpos(): raise RuntimeError(\"Fehler: Liste am Ende\")\n",
    "        return self.pos.next.inhalt\n",
    "\n",
    "    def insert(self, x):  \n",
    "        hilf = Eintrag()\n",
    "        hilf.inhalt = x\n",
    "        hilf.next = self.pos.next\n",
    "        self.pos.next = hilf\n",
    "\n",
    "    def delete(self):  \n",
    "        if self.endpos(): raise RuntimeError(\"Fehler: Liste am Ende\")\n",
    "        self.pos.next = self.pos.next.next"
   ]
  },
  {
   "cell_type": "code",
   "execution_count": 29,
   "id": "375fc9fc-6f7f-4b8b-aaa1-175b46289c68",
   "metadata": {},
   "outputs": [
    {
     "name": "stdout",
     "output_type": "stream",
     "text": [
      "558\n",
      "14\n",
      "-759\n",
      "-478\n",
      "-871\n",
      "564\n",
      "643\n",
      "735\n",
      "165\n",
      "-725\n",
      "CPU times: total: 0 ns\n",
      "Wall time: 0 ns\n"
     ]
    }
   ],
   "source": [
    "%%time\n",
    "import random\n",
    "random.seed(1)\n",
    "\n",
    "a = Liste()\n",
    "for i in range(10):\n",
    "    a.insert(random.randint(-1000,1000))\n",
    "\n",
    "a.reset()\n",
    "while not a.endpos():\n",
    "    print(a.elem())\n",
    "    a.advance()\n",
    "    "
   ]
  },
  {
   "cell_type": "code",
   "execution_count": 28,
   "id": "149f73fc-b08d-479c-b1e0-cafe05948183",
   "metadata": {},
   "outputs": [
    {
     "name": "stdout",
     "output_type": "stream",
     "text": [
      "558\n",
      "14\n",
      "-759\n",
      "-478\n",
      "-871\n",
      "564\n",
      "643\n",
      "735\n",
      "165\n",
      "-725\n",
      "CPU times: total: 0 ns\n",
      "Wall time: 2.99 ms\n"
     ]
    }
   ],
   "source": [
    "%%time\n",
    "import random\n",
    "random.seed(1)\n",
    "\n",
    "a = []\n",
    "for i in range(10):\n",
    "    a.insert(0,random.randint(-1000,1000))\n",
    "\n",
    "for x in a[:10]:\n",
    "    print(x)\n",
    "    "
   ]
  },
  {
   "cell_type": "code",
   "execution_count": null,
   "id": "e4773eba-7cea-40d8-94cf-1ea69f4b9012",
   "metadata": {},
   "outputs": [],
   "source": []
  }
 ],
 "metadata": {
  "kernelspec": {
   "display_name": "Python 3 (ipykernel)",
   "language": "python",
   "name": "python3"
  },
  "language_info": {
   "codemirror_mode": {
    "name": "ipython",
    "version": 3
   },
   "file_extension": ".py",
   "mimetype": "text/x-python",
   "name": "python",
   "nbconvert_exporter": "python",
   "pygments_lexer": "ipython3",
   "version": "3.11.2"
  }
 },
 "nbformat": 4,
 "nbformat_minor": 5
}
