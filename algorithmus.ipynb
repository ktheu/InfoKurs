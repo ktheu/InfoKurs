{
 "cells": [
  {
   "cell_type": "markdown",
   "id": "ad4620ef-16c8-4f43-a385-997d8dd10272",
   "metadata": {},
   "source": [
    "## Algorithmus und Programm\n",
    "\n",
    "**Informatik** ist die Wissenschaft von der systematischen Verarbeitung von\n",
    "Informationen, insbesondere der automatischen Verarbeitung mit Hilfe von\n",
    "Rechenanlagen (Wikipedia).\n",
    "\n",
    "Wir beschäftigen uns zu Beginn mit Algorithmen und deren Programmierung in\n",
    "Python.\n",
    "Ein **Algorithmus** ist eine endlich lange Vorschrift, bestehend aus\n",
    "Einzelanweisungen.\n",
    "\n",
    "Ein in einer Computersprache formulierter Algorithmus heißt **Programm**.\n",
    "Eine umgangssprachliche Formulierung, die die Struktur des Algorithmus deutlich\n",
    "macht, nennen wir **Pseudocode**."
   ]
  },
  {
   "cell_type": "markdown",
   "id": "eba7fa5a-5761-4c61-88a0-304863ef5862",
   "metadata": {},
   "source": [
    "### Der Collatz-Algorithmus\n",
    "\n",
    "Der Collatz-Algorithmus in Pseudocode: \n",
    "\n",
    "<pre>\n",
    "lies x ein\n",
    "setze z auf 0\n",
    "solange x nicht gleich 1 tue:\n",
    "    wenn x gerade, dann halbiere x\n",
    "    sonst verdreifache x und erhöhe um 1\n",
    "gib z aus\n",
    "</pre>"
   ]
  },
  {
   "cell_type": "markdown",
   "id": "97e621be-bd8c-47f4-a4e6-e88e36072d4b",
   "metadata": {},
   "source": [
    "Um zu prüfen, was ein Algorithmus macht, ist es manchmal hilfreich, ein **Ablaufprotokoll** zu erstellen. Dabei werden die Werte der (wichtigsten) beteiligten Variablen schrittweise mitverfolgt. Beim Collatz-Algorithmus reicht es, den Wert der eingegebenen Zahl zu verfolgen und anschließend die Anzahl der Durchgänge zu zählen:"
   ]
  },
  {
   "cell_type": "raw",
   "id": "c11b1d89-3dfd-4d74-8e65-7ddb4769abfa",
   "metadata": {},
   "source": [
    "Eingabe: 14\n",
    "14 - 7 - 22 - 11 - 34 - 17 - 52 - 26 - 13 - 40 - 20 - 10 - 5 - 16 - 8 - 4 - 2 - 1\n",
    "Ausgabe: 17"
   ]
  },
  {
   "cell_type": "markdown",
   "id": "823b7b7b-8b06-464f-aeaf-4dcd16cf47e2",
   "metadata": {},
   "source": [
    "Der Algorithmus wurde 1937 von Lothar Collatz formuliert. Es ist ein bis heute\n",
    "ungelöstes mathematisches Problem, ob dieser Algorithmus fur jede Eingabe zu \n",
    "einem Ende kommt."
   ]
  },
  {
   "cell_type": "code",
   "execution_count": 3,
   "id": "ee0ffeb4-ef4d-426d-9f6a-9bd53b9ed7b2",
   "metadata": {},
   "outputs": [],
   "source": [
    "def collatz(x):\n",
    "    z = 0\n",
    "    while x != 1:\n",
    "        if x % 2 == 0:\n",
    "            x = x//2\n",
    "        else:\n",
    "            x = 3*x + 1\n",
    "        z += 1\n",
    "    return z"
   ]
  },
  {
   "cell_type": "code",
   "execution_count": 7,
   "id": "dd2c6f5c-91d3-491d-9bd5-8e096c2e6530",
   "metadata": {},
   "outputs": [
    {
     "name": "stdout",
     "output_type": "stream",
     "text": [
      "Bitte eine positive ganze Zahl eingeben:  14\n",
      "Das Ergebnis des Collatz-Algorithmus für 14 ist 17.\n"
     ]
    }
   ],
   "source": [
    "x = int(input('Bitte eine positive ganze Zahl eingeben: '))\n",
    "print(f'Das Ergebnis des Collatz-Algorithmus für {x} ist {collatz(x)}.')"
   ]
  },
  {
   "cell_type": "markdown",
   "id": "6fd712df-4e27-4a21-82c9-4aba38977a9e",
   "metadata": {},
   "source": [
    "### Der Pledge-Algorithmus\n",
    "\n",
    "Der Pledge-Algorithmus wurde von dem 12-jährigen John Pledge erfunden. Er ist in der folgenden Aufgabe des Informatik-Bibers beschrieben.\n",
    "\n",
    "<img src='./assets/pledge.png' width='600'>\n"
   ]
  },
  {
   "cell_type": "markdown",
   "id": "f538ec63-e046-4502-b84f-a89e94886d0c",
   "metadata": {},
   "source": [
    "### Euklidscher Algorithmus\n",
    "\n",
    "Der euklidsche Algorithmus findet den ggT (größten gemeinsamen Teiler) zweier positiver ganzer Zahlen.\n",
    "\n",
    "Ein naiver (brute-force) Ansatz zur Bestimmung des ggT:\n",
    "\n",
    "<pre>\n",
    "x = erste Zahl\n",
    "solange x nicht Teiler der beiden Zahlen:\n",
    "    erniedrige x um 1\n",
    "gib x als ggT aus.\n",
    "</pre>"
   ]
  },
  {
   "cell_type": "code",
   "execution_count": 30,
   "id": "f1edbfc0-19ee-40b1-a582-86dad502d1aa",
   "metadata": {},
   "outputs": [
    {
     "name": "stdout",
     "output_type": "stream",
     "text": [
      "CPU times: total: 0 ns\n",
      "Wall time: 0 ns\n"
     ]
    }
   ],
   "source": [
    "def ggtBrute(a, b):\n",
    "    '''\n",
    "    a, b: positive ganze Zahlen\n",
    "    returns: größten gemeinsamen Teiler von a und b\n",
    "    '''\n",
    "    x = a\n",
    "    while a % x != 0 or b % x != 0:\n",
    "        x-=1\n",
    "        \n",
    "    return x"
   ]
  },
  {
   "cell_type": "code",
   "execution_count": 34,
   "id": "1e11c1a5-8b69-4966-a5ed-ecb20ee44382",
   "metadata": {},
   "outputs": [
    {
     "name": "stdout",
     "output_type": "stream",
     "text": [
      "Bitte zwei positive ganze Zahlen eingeben:  555333111  111222333\n",
      "Der ggT von 555333111 und 111222333 ist 333.\n",
      "CPU times: total: 43 s\n",
      "Wall time: 50.1 s\n"
     ]
    }
   ],
   "source": [
    "%%time\n",
    "# 555333111  111222333\n",
    "data = input('Bitte zwei positive ganze Zahlen eingeben: ')\n",
    "x, y = [int(k) for k in data.split()]\n",
    "print(f'Der ggT von {x} und {y} ist {ggtBrute(x,y)}.')"
   ]
  },
  {
   "cell_type": "markdown",
   "id": "346ec57b-6f5c-4874-b019-bcd4f9cb9a54",
   "metadata": {},
   "source": [
    "Beobachtung von Euklid: Wenn $t$ Teiler von $a$ und $b$ ist und $a > b$, dann ist $t$ auch Teiler von $a-b$. Daraus ergibt sich der **klassische Euklidsche Algorithmus**:\n",
    "\n",
    "<pre>\n",
    "Ziehe von der größeren die kleinere Zahl ab, solange bis beide Zahlen gleich sind.\n",
    "</pre>\n",
    "\n",
    " "
   ]
  },
  {
   "cell_type": "code",
   "execution_count": 29,
   "id": "817bde8a-6e4e-4bfb-9532-dea76b5fbb2e",
   "metadata": {},
   "outputs": [],
   "source": [
    "def ggt(a,b):\n",
    "    '''\n",
    "    a, b: positive ganze Zahlen\n",
    "    returns: größten gemeinsamen Teiler von a und b\n",
    "    '''\n",
    "    while a != b:\n",
    "        if (a > b):\n",
    "            a = a - b\n",
    "        else:\n",
    "            b = b - a\n",
    "    return a"
   ]
  },
  {
   "cell_type": "code",
   "execution_count": 43,
   "id": "59b1eaaa-2db3-4944-9d6c-a53d3a6cddba",
   "metadata": {},
   "outputs": [
    {
     "name": "stdout",
     "output_type": "stream",
     "text": [
      "Bitte zwei positive ganze Zahlen eingeben:  55333111  111222333\n",
      "Der ggT von 55333111 und 111222333 ist 19.\n",
      "CPU times: total: 0 ns\n",
      "Wall time: 2.32 s\n"
     ]
    }
   ],
   "source": [
    "%%time\n",
    "data = input('Bitte zwei positive ganze Zahlen eingeben: ')\n",
    "x, y = [int(k) for k in data.split()]\n",
    "print(f'Der ggT von {x} und {y} ist {ggt(x,y)}.')"
   ]
  },
  {
   "cell_type": "markdown",
   "id": "abfff74c-8aaf-490f-a2c6-6b75b481d339",
   "metadata": {},
   "source": [
    "Wir schreiben die beiden Zahlen a und b beim Ablauf des eukldischen Algorithmus untereinander und beobachten:\n",
    "Immer wenn die größere Zahl die Seiten wechselt, können wir die neue Zahl aus den beiden oberen berechnen.\n",
    "\n",
    "<img src='./assets/modernerEuklid.png'>"
   ]
  },
  {
   "cell_type": "markdown",
   "id": "fbb7fc8d-fbe8-470b-90f0-aaa7c945cba1",
   "metadata": {},
   "source": [
    "Daraus ergibt sich der **moderne euklidsche Algorithmus**:\n",
    "<pre>\n",
    "Schreibe beide Zahlen nebeneinander\n",
    "Tue solange bis die rechte Zahl nicht gleich 0:\n",
    "    Die neue linke Zahl wird die alte rechte Zahl\n",
    "    die neue rechte Zahl wird die alte linke Zahl modulo der alten rechten Zahl\n",
    "</pre>"
   ]
  },
  {
   "cell_type": "code",
   "execution_count": 38,
   "id": "100555ab-25cf-4208-915f-87fab7b9fd91",
   "metadata": {},
   "outputs": [],
   "source": [
    "def ggtTurbo(a,b):\n",
    "    '''\n",
    "    a, b: positive ganze Zahlen\n",
    "    returns: größten gemeinsamen Teiler von a und b\n",
    "    '''\n",
    "    while b != 0:\n",
    "        a, b = b, a % b\n",
    "    return a\n",
    "    "
   ]
  },
  {
   "cell_type": "code",
   "execution_count": 44,
   "id": "1fc969db-43dd-426b-975f-016543158f60",
   "metadata": {},
   "outputs": [
    {
     "name": "stdout",
     "output_type": "stream",
     "text": [
      "Bitte zwei positive ganze Zahlen eingeben:  55333111  33\n",
      "Der ggT von 55333111 und 33 ist 1.\n",
      "CPU times: total: 0 ns\n",
      "Wall time: 8.7 s\n"
     ]
    }
   ],
   "source": [
    "%%time\n",
    "data = input('Bitte zwei positive ganze Zahlen eingeben: ')\n",
    "x, y = [int(k) for k in data.split()]\n",
    "print(f'Der ggT von {x} und {y} ist {ggtTurbo(x,y)}.')"
   ]
  },
  {
   "cell_type": "markdown",
   "id": "d214735b-afc0-4978-a286-13bff5237528",
   "metadata": {},
   "source": [
    "### Das Sieb des Eratosthenes\n",
    "\n",
    "Es gibt keine einfache Formel für die k-te Primzahl. Das Sieb des Eratosthenes ist ein Algorithmus, um alle Primzahlen unterhalb einer gewissen Schranke n zu finden. \n"
   ]
  },
  {
   "cell_type": "code",
   "execution_count": 53,
   "id": "66564806-fcac-48ae-8ab8-32a739547a3a",
   "metadata": {},
   "outputs": [],
   "source": [
    "def eratosthenes(n):\n",
    "    '''\n",
    "    n: positive ganze Zahl\n",
    "    returns: Liste mit allen Primzahlen <= n\n",
    "    '''\n",
    "    tmp = []\n",
    "    prim = [True] * (n+1)\n",
    "    for i in range(2,n+1):\n",
    "        if prim[i]:\n",
    "            tmp.append(i)\n",
    "            for j in range(i+i,n+1,i):\n",
    "                prim[j] = False\n",
    "    return tmp"
   ]
  },
  {
   "cell_type": "code",
   "execution_count": 52,
   "id": "92d4071f-6e86-4aec-a472-7f94b4d3d28e",
   "metadata": {},
   "outputs": [
    {
     "name": "stdout",
     "output_type": "stream",
     "text": [
      "Bitte eine positive Zahl eingeben:  19\n",
      "Liste aller Primzahlen kleiner als 19:\n",
      " [2, 3, 5, 7, 11, 13, 17, 19]\n",
      "CPU times: total: 0 ns\n",
      "Wall time: 2.91 s\n"
     ]
    }
   ],
   "source": [
    "%%time\n",
    "n = int(input('Bitte eine positive Zahl eingeben: '))\n",
    "print(f'Liste aller Primzahlen kleiner als {n}:\\n {eratosthenes(n)}')"
   ]
  },
  {
   "cell_type": "markdown",
   "id": "1c68bb75-0fbe-4013-9db0-8ec47b09e79e",
   "metadata": {},
   "source": [
    "### Binäre Suche"
   ]
  },
  {
   "cell_type": "code",
   "execution_count": 2,
   "id": "89ef1d9c-5c7a-489b-97dd-090da7dcd3fb",
   "metadata": {},
   "outputs": [],
   "source": [
    "def binaereSuche(a, x):\n",
    "    '''\n",
    "    a: sortierte Liste mit Zahlen\n",
    "    x: Zahl\n",
    "    returns: Index von x in a, falls x in a\n",
    "             -1              , falls x nicht in a\n",
    "    '''\n",
    "    links = 0\n",
    "    rechts = len(a)-1\n",
    "    mitte = (links + rechts)//2\n",
    "    while links <= rechts and a[mitte] != x:\n",
    "        if a[mitte] < x:\n",
    "            links = mitte + 1\n",
    "        else:\n",
    "            rechts = mitte - 1\n",
    "        mitte = (links + rechts)//2\n",
    "\n",
    "    if links > rechts:\n",
    "        return -1\n",
    "    else:\n",
    "        return mitte"
   ]
  },
  {
   "cell_type": "markdown",
   "id": "cf917026-5be8-407e-a26f-51b7f2b3e2fd",
   "metadata": {},
   "source": [
    "Die lineare Suche durchsucht die Liste von Anfang bis Ende"
   ]
  },
  {
   "cell_type": "code",
   "execution_count": 3,
   "id": "7a7db226-86c3-4c55-b906-b9498385744c",
   "metadata": {},
   "outputs": [],
   "source": [
    "def lineareSuche(a,x):\n",
    "    for i in range(len(a)):\n",
    "        if x == a[i]:\n",
    "            return i\n",
    "    return -1\n",
    "    "
   ]
  },
  {
   "cell_type": "code",
   "execution_count": 6,
   "id": "8387e4ed-a403-4a82-bca4-9fee60458405",
   "metadata": {},
   "outputs": [
    {
     "name": "stdout",
     "output_type": "stream",
     "text": [
      "556111667\n"
     ]
    }
   ],
   "source": [
    "# Wir erzeugen eine lange sortierte Liste \n",
    "a = list(range(0,1112223333,2))\n",
    "print(len(a))"
   ]
  },
  {
   "cell_type": "code",
   "execution_count": 7,
   "id": "b428abf5-2870-4a88-b03c-cba2bffe9ef3",
   "metadata": {},
   "outputs": [
    {
     "name": "stdout",
     "output_type": "stream",
     "text": [
      "CPU times: total: 19.8 s\n",
      "Wall time: 19.8 s\n"
     ]
    },
    {
     "data": {
      "text/plain": [
       "556111665"
      ]
     },
     "execution_count": 7,
     "metadata": {},
     "output_type": "execute_result"
    }
   ],
   "source": [
    "%%time\n",
    "lineareSuche(a,1112223330)"
   ]
  },
  {
   "cell_type": "code",
   "execution_count": 8,
   "id": "35f91d4d-f2fb-4de1-8690-f24bb77dcc68",
   "metadata": {},
   "outputs": [
    {
     "name": "stdout",
     "output_type": "stream",
     "text": [
      "CPU times: total: 0 ns\n",
      "Wall time: 0 ns\n"
     ]
    },
    {
     "data": {
      "text/plain": [
       "556111665"
      ]
     },
     "execution_count": 8,
     "metadata": {},
     "output_type": "execute_result"
    }
   ],
   "source": [
    "%%time \n",
    "binaereSuche(a,1112223330)"
   ]
  }
 ],
 "metadata": {
  "kernelspec": {
   "display_name": "Python 3 (ipykernel)",
   "language": "python",
   "name": "python3"
  },
  "language_info": {
   "codemirror_mode": {
    "name": "ipython",
    "version": 3
   },
   "file_extension": ".py",
   "mimetype": "text/x-python",
   "name": "python",
   "nbconvert_exporter": "python",
   "pygments_lexer": "ipython3",
   "version": "3.9.12"
  }
 },
 "nbformat": 4,
 "nbformat_minor": 5
}
