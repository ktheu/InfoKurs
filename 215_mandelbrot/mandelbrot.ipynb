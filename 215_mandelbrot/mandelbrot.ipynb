{
 "cells": [
  {
   "cell_type": "markdown",
   "metadata": {},
   "source": [
    "### Die Mandelbrotmenge"
   ]
  },
  {
   "cell_type": "markdown",
   "metadata": {},
   "source": [
    "Für jede Zahl c definieren wir rekursiv eine Folge von Zahlen wie folgt:\n",
    "\n",
    "$$z_n =\\begin{cases}\n",
    " 0   & n = 0 \\\\ \n",
    " z_{n-1}^2 + c & n > 0 \n",
    "\\end{cases} $$"
   ]
  },
  {
   "cell_type": "code",
   "execution_count": 2,
   "metadata": {},
   "outputs": [],
   "source": [
    "def mandel(c,n):\n",
    "    if n == 0: return 0\n",
    "    return mandel(c,n-1)**2 + c"
   ]
  },
  {
   "cell_type": "markdown",
   "metadata": {},
   "source": [
    "Für manche c wächst die Folge ins Unendliche (mal früher, mal später), für andere c scheint die Folge beschränkt zu bleiben. "
   ]
  },
  {
   "cell_type": "code",
   "execution_count": null,
   "metadata": {},
   "outputs": [],
   "source": [
    "c = 0.25\n",
    "#c = 0.26\n",
    "#c = 0.27\n",
    "#c = 0.28\n",
    "\n",
    "for n in range(100):\n",
    "    print(mandel(c,n))"
   ]
  },
  {
   "cell_type": "markdown",
   "metadata": {},
   "source": [
    "Es gilt: Wenn ein Folgenglied betragsmäßig größer als 2 wird, dann explodiert die Folge.\n",
    "\n",
    "Um zu entscheiden, ob eine Zahl c zur Mandelbrotmenge gehört, gehen wir wie folgt vor.\n",
    " -  Wir legen eine Rekursionstiefe fest, z.B. 17.\n",
    " -  Wir bilden die zu c gehörende Folge bis zum Index n=17.\n",
    " -  Wenn keines der Folgenelemente $z_n$ den Betrag > 2 hat, dann gehört c zur Mandelbrotmenge, sonst nicht.\n",
    " "
   ]
  },
  {
   "cell_type": "code",
   "execution_count": 34,
   "metadata": {},
   "outputs": [
    {
     "name": "stdout",
     "output_type": "stream",
     "text": [
      "0.27 True\n",
      "0.271 True\n",
      "0.272 True\n",
      "0.273 True\n",
      "0.274 True\n",
      "0.275 True\n",
      "0.276 True\n",
      "0.277 False\n",
      "0.278 False\n",
      "0.279 False\n"
     ]
    }
   ],
   "source": [
    "c = 0.27\n",
    "def inMandel(c):\n",
    "    for i in range(18):\n",
    "        if abs(mandel(c,i)) > 2:\n",
    "            return False\n",
    "    return True\n",
    "\n",
    "for i in range(10):\n",
    "    print(c,inMandel(c))\n",
    "    c += 0.001"
   ]
  },
  {
   "cell_type": "markdown",
   "metadata": {},
   "source": [
    "Je höher wir die Rekursionstiefe wählen, desto kleiner wird die Mandelbrotmenge.\n",
    "\n",
    "Wir färben die Punkte auf der Zahlengerade, die zur Mandelbrotmenge gehören schwarz, die anderen weiß.\n",
    "\n",
    "#### Färbung von Punkten in der Ebene"
   ]
  },
  {
   "cell_type": "markdown",
   "metadata": {},
   "source": [
    "Wir interpretieren die Punkte in der Ebene als komplexe Zahlen. Dadurch ergibt sich:\n",
    "\n",
    "- Die Addition zweier Punkte ergibt sich durch Vektoraddition\n",
    "- Wird ein Punkt quadriert, so wird sein Betrag (= Abstand zum Ursprung) quadriert und der Winkel verdoppelt. \n",
    "\n"
   ]
  },
  {
   "cell_type": "code",
   "execution_count": 5,
   "metadata": {},
   "outputs": [
    {
     "name": "stdout",
     "output_type": "stream",
     "text": [
      "0 0\n",
      "(-0.2+0.5j) 0.5385164807134505\n",
      "(-0.41000000000000003+0.3j) 0.5080354318352215\n",
      "(-0.12189999999999998+0.254j) 0.28173677431247773\n",
      "(-0.24965639+0.4380748j) 0.504220034769417\n",
      "(-0.3295812173272079+0.28126365376405604j) 0.4332816886779212\n",
      "(-0.17048546411382257+0.3146015652050882j) 0.3578259888599441\n",
      "(-0.2699088513553859+0.39273001229015103j) 0.4765371450300658\n",
      "(-0.2813860745134384+0.28799738697995747j) 0.4026420467827046\n",
      "(-0.2037643719772011+0.33792309161516426j) 0.3946035163730981\n",
      "(-0.27267209655948754+0.36228662692088376j) 0.4534332059828196\n",
      "(-0.2569015278035651+0.3024290917640355j) 0.396814503934805\n",
      "(-0.22546496055741344+0.3446110085471494j) 0.4118145160761571\n",
      "(-0.26792229877272744+0.344604585100533j) 0.4365027814939707\n",
      "(-0.24696996189264786+0.3153454947844865j) 0.4005458065666504\n",
      "(-0.23844861900361666+0.34423827034011434j) 0.41875736491611176\n",
      "(-0.2616422428620217+0.33583371965841213j) 0.4257240309278701\n"
     ]
    }
   ],
   "source": [
    "c = -0.2 + 0.5j\n",
    "for n in range(17):\n",
    "    z = mandel(c,n)\n",
    "    print(z,abs(z))"
   ]
  },
  {
   "cell_type": "code",
   "execution_count": 6,
   "metadata": {},
   "outputs": [
    {
     "name": "stderr",
     "output_type": "stream",
     "text": [
      "C:\\Users\\khthe\\Anaconda3\\lib\\site-packages\\ipykernel_launcher.py:5: DeprecationWarning: object of type <class 'float'> cannot be safely interpreted as an integer.\n",
      "  \"\"\"\n",
      "C:\\Users\\khthe\\Anaconda3\\lib\\site-packages\\ipykernel_launcher.py:6: DeprecationWarning: object of type <class 'float'> cannot be safely interpreted as an integer.\n",
      "  \n"
     ]
    }
   ],
   "source": [
    "import numpy as np\n",
    "matplotlib inline\n",
    "\n",
    "\n",
    "def mandelbrot_set(xmin, xmax, ymin, ymax, xn, yn, maxiter, horizon=2.0):\n",
    "    X = np.linspace(xmin, xmax, xn, dtype=np.float32)\n",
    "    Y = np.linspace(ymin, ymax, yn, dtype=np.float32)\n",
    "    C = X + Y[:, None]*1j\n",
    "    N = np.zeros(C.shape, dtype=int)\n",
    "    Z = np.zeros(C.shape, np.complex64)\n",
    "    for n in range(maxiter):\n",
    "        I = np.less(abs(Z), horizon)\n",
    "        N[I] = n\n",
    "        Z[I] = Z[I]**2 + C[I]\n",
    "    N[N == maxiter-1] = 0\n",
    "    return Z, N\n",
    "\n",
    "\n",
    "if __name__ == '__main__':\n",
    "    import time\n",
    "    import matplotlib\n",
    "    from matplotlib import colors\n",
    "    import matplotlib.pyplot as plt\n",
    "\n",
    "    xmin, xmax, xn = -2.25, +0.75, 3000/2\n",
    "    ymin, ymax, yn = -1.25, +1.25, 2500/2\n",
    "    maxiter = 200\n",
    "    horizon = 2.0 ** 40\n",
    "    log_horizon = np.log(np.log(horizon))/np.log(2)\n",
    "    Z, N = mandelbrot_set(xmin, xmax, ymin, ymax, xn, yn, maxiter, horizon)\n",
    "\n",
    "    # Normalized recount as explained in:\n",
    "    # https://linas.org/art-gallery/escape/smooth.html\n",
    "    # https://www.ibm.com/developerworks/community/blogs/jfp/entry/My_Christmas_Gift\n",
    "\n",
    "    # This line will generate warnings for null values but it is faster to\n",
    "    # process them afterwards using the nan_to_num\n",
    "    with np.errstate(invalid='ignore'):\n",
    "        M = np.nan_to_num(N + 1 -\n",
    "                          np.log(np.log(abs(Z)))/np.log(2) +\n",
    "                          log_horizon)\n",
    "\n",
    "    dpi = 72\n",
    "    width = 10\n",
    "    height = 10*yn/xn\n",
    "    fig = plt.figure(figsize=(width, height), dpi=dpi)\n",
    "    ax = fig.add_axes([0.0, 0.0, 1.0, 1.0], frameon=False, aspect=1)\n",
    "\n",
    "    # Shaded rendering\n",
    "    light = colors.LightSource(azdeg=315, altdeg=10)\n",
    "    M = light.shade(M, cmap=plt.cm.hot, vert_exag=1.5,\n",
    "                    norm=colors.PowerNorm(0.3), blend_mode='hsv')\n",
    "    plt.imshow(M, extent=[xmin, xmax, ymin, ymax], interpolation=\"bicubic\")\n",
    "    ax.set_xticks([])\n",
    "    ax.set_yticks([])\n",
    "\n",
    "    # Some advertisement for matplotlib\n",
    "    year = time.strftime(\"%Y\")\n",
    "    major, minor, micro = matplotlib.__version__.split('.', 2)\n",
    "    text = (\"The Mandelbrot fractal set\\n\"\n",
    "            \"Rendered with matplotlib %s.%s, %s - http://matplotlib.org\"\n",
    "            % (major, minor, year))\n",
    "    ax.text(xmin+.025, ymin+.025, text, color=\"white\", fontsize=12, alpha=0.5)\n"
   ]
  },
  {
   "cell_type": "code",
   "execution_count": null,
   "metadata": {},
   "outputs": [],
   "source": []
  }
 ],
 "metadata": {
  "kernelspec": {
   "display_name": "Python 3",
   "language": "python",
   "name": "python3"
  },
  "language_info": {
   "codemirror_mode": {
    "name": "ipython",
    "version": 3
   },
   "file_extension": ".py",
   "mimetype": "text/x-python",
   "name": "python",
   "nbconvert_exporter": "python",
   "pygments_lexer": "ipython3",
   "version": "3.6.5"
  }
 },
 "nbformat": 4,
 "nbformat_minor": 2
}
