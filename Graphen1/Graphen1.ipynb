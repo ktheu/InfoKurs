{
 "cells": [
  {
   "cell_type": "markdown",
   "metadata": {},
   "source": [
    "# Graphen - Teil 1\n",
    "\n",
    "Ein **Graph** besteht aus **Knoten** und **Kanten**. Er kann gerichtet oder ungerichtet sein. Die Kanten \n",
    "können **gewichtet** sein (Kosten).  \n",
    "\n",
    "<img src='graphen_01.png'>\n",
    "<img src='graphen_02.png'>\n",
    "\n",
    "\n",
    "Mit Graphen können binäre Beziehungen zwischen Objekten modelliert werden. Die Objekte werden\n",
    "durch die Knoten, die Beziehungen durch die Kanten modelliert.  \n",
    "\n",
    "* Orte: Entfernungen, Dauer\n",
    "* Personen: ist befreundet, verheiratet mit\n",
    "* Ereignisse: a muss vor b geschehen"
   ]
  },
  {
   "cell_type": "markdown",
   "metadata": {},
   "source": [
    "#### Begriffe\n",
    "\n",
    "<img src='graphen_03.png'>\n",
    "<img src='graphen_04.png'>\n",
    "\n",
    "* x ist zu y adjazent, x und y sind Nachbarn\n",
    "* der Grad von y ist 2\n",
    "* a ist Vorgänger von b, b ist Nachfolger von a\n",
    "* der Eingangsgrad von b ist 2, der Ausgangsgrad ist 1\n",
    "* Ein **Weg** ist eine Folge von adjazenten Knoten\n",
    "* Ein **Kreis** ist ein Weg, der zurück zum Startknoten führt.\n",
    " "
   ]
  },
  {
   "cell_type": "markdown",
   "metadata": {},
   "source": [
    "### Implementation von Graphen\n",
    "\n",
    "Eine Implementation sollte zwei Dinge zügig können:\n",
    "* Die Frage klären, ob es eine Kante von Knoten a nach Knoten b gibt,\n",
    "* Alle Nachbarn von a durchlaufen.\n",
    "\n",
    "\n"
   ]
  },
  {
   "cell_type": "markdown",
   "metadata": {},
   "source": [
    "#### Implementation eines Graphen durch Adjazenzlisten\n",
    "\n",
    "Jedem Knoten wird eine Liste seiner Nachbarn zugeordnet. Wir werden statt Listen *sets* oder *dictionaries* verwenden.\n",
    "\n",
    "Ein ungewichteter Graph wird durch ein dictionary implementiert, mit den Knoten als key und der Nachbarmenge als value.\n",
    "\n",
    "\n",
    "<img src='graphen_10.png'>"
   ]
  },
  {
   "cell_type": "code",
   "execution_count": 1,
   "metadata": {},
   "outputs": [],
   "source": [
    "G = {'a':set('bc'),\n",
    "     'b':set('d'), \n",
    "     'c':set('bd'),\n",
    "     'd':set('b')}"
   ]
  },
  {
   "cell_type": "code",
   "execution_count": 2,
   "metadata": {},
   "outputs": [
    {
     "name": "stdout",
     "output_type": "stream",
     "text": [
      "c\n",
      "b\n"
     ]
    }
   ],
   "source": [
    "# alle Nachbarn von a durchlaufen: \n",
    "for v in G['a']:\n",
    "    print(v)"
   ]
  },
  {
   "cell_type": "code",
   "execution_count": 3,
   "metadata": {},
   "outputs": [
    {
     "data": {
      "text/plain": [
       "True"
      ]
     },
     "execution_count": 3,
     "metadata": {},
     "output_type": "execute_result"
    }
   ],
   "source": [
    "# gibt es Kante von a nach b ? \n",
    "'b' in G['a']"
   ]
  },
  {
   "cell_type": "code",
   "execution_count": 4,
   "metadata": {},
   "outputs": [
    {
     "name": "stdout",
     "output_type": "stream",
     "text": [
      "a\n",
      "b\n",
      "c\n",
      "d\n"
     ]
    }
   ],
   "source": [
    "# alle Knoten von G durchlaufen:\n",
    "for v in G:\n",
    "    print(v)"
   ]
  },
  {
   "cell_type": "markdown",
   "metadata": {},
   "source": [
    "Für einen ungerichteten Graphen implementieren wir Pfeile in beide Richtungen.\n",
    "\n",
    "\n",
    "Ein **gewichteter Graph** wird durch ein dictionary implementiert, mit den Knoten als key und einem dictionary, in dem die Kosten zu den Nachbarn verzeichnet sind, als value.\n",
    "\n",
    "<img src='graphen_11.png'>"
   ]
  },
  {
   "cell_type": "code",
   "execution_count": 8,
   "metadata": {},
   "outputs": [],
   "source": [
    "G = {'a': {'b':8, 'c':2},          \n",
    "     'b': {'d':4},               \n",
    "     'c': {'b':1, 'd':6},          \n",
    "     'd': {'b':2}}"
   ]
  },
  {
   "cell_type": "code",
   "execution_count": 9,
   "metadata": {},
   "outputs": [
    {
     "name": "stdout",
     "output_type": "stream",
     "text": [
      "b\n",
      "c\n"
     ]
    }
   ],
   "source": [
    "# alle Nachbarn von a durchlaufen\n",
    "for v in G['a']:\n",
    "    print(v)"
   ]
  },
  {
   "cell_type": "code",
   "execution_count": 10,
   "metadata": {},
   "outputs": [
    {
     "data": {
      "text/plain": [
       "True"
      ]
     },
     "execution_count": 10,
     "metadata": {},
     "output_type": "execute_result"
    }
   ],
   "source": [
    "# gibt es Kante von a nach b ?\n",
    "'b' in G['a']  "
   ]
  },
  {
   "cell_type": "code",
   "execution_count": 11,
   "metadata": {},
   "outputs": [
    {
     "data": {
      "text/plain": [
       "8"
      ]
     },
     "execution_count": 11,
     "metadata": {},
     "output_type": "execute_result"
    }
   ],
   "source": [
    "# die Kosten der Kante von a nach b:  \n",
    "G['a']['b']     "
   ]
  },
  {
   "cell_type": "code",
   "execution_count": 38,
   "metadata": {},
   "outputs": [
    {
     "name": "stdout",
     "output_type": "stream",
     "text": [
      "a\n",
      "b\n",
      "c\n",
      "d\n"
     ]
    }
   ],
   "source": [
    "# alle Knoten von G durchlaufen:   \n",
    "for v in G:   \n",
    "    print(v)"
   ]
  },
  {
   "cell_type": "markdown",
   "metadata": {},
   "source": [
    "### Erreichbarkeit (dfs)\n",
    "\n",
    "<img src='graphen_10.png'>\n",
    "\n",
    "Gegeben ein Graph G und ein Startknoten s. Welche Knoten sind von s erreichbar?\n"
   ]
  },
  {
   "cell_type": "code",
   "execution_count": 2,
   "metadata": {},
   "outputs": [],
   "source": [
    "G = {'a':set('bc'),\n",
    "     'b':set('d'), \n",
    "     'c':set('bd'),\n",
    "     'd':set('b')}"
   ]
  },
  {
   "cell_type": "markdown",
   "metadata": {},
   "source": [
    " \n",
    "    Setze alle Knoten auf nicht besucht\n",
    "    dfs(s)\n",
    "    Gib alle Knoten aus, die besucht wurden\n",
    "    \n",
    "    def dfs(v): \n",
    "        merke v als besucht\n",
    "        für alle Nachbarn w von v:\n",
    "            wenn w nicht besucht:\n",
    "                dfs(w)\n",
    "     "
   ]
  },
  {
   "cell_type": "code",
   "execution_count": 17,
   "metadata": {},
   "outputs": [
    {
     "name": "stdout",
     "output_type": "stream",
     "text": [
      "a b c d\n"
     ]
    }
   ],
   "source": [
    "visited =  {v : False for v in G}       \n",
    "def dfs(v):  \n",
    "    visited[v] = True\n",
    "    for w in G[v]:\n",
    "        if not visited[w]:\n",
    "            dfs(w) \n",
    "            \n",
    "s = 'a' \n",
    "dfs(s)\n",
    "result = [v for v in G if visited[v]]            \n",
    "print(*result)"
   ]
  },
  {
   "cell_type": "markdown",
   "metadata": {},
   "source": [
    "Die Funktion **dfs** realisiert eine rekursive Tiefensuche (depth first search). <br>\n",
    "Laufzeit: Jeder Knoten wird höchstens einmal besucht $O(|V|)$, jeder Knoten prüft seine Nachbarn. Die Zahl der Nachbarn liegt in $O(|E|)$, also insgesamt $O(|V|) + O(|E|)$"
   ]
  },
  {
   "cell_type": "markdown",
   "metadata": {},
   "source": [
    "### Den Graph mit Tiefensuche traversieren\n",
    "\n",
    "Traversieren heißt: alle Knoten einmal besuchen\n",
    "\n",
    "<img src='reihenfolge_01.png'>"
   ]
  },
  {
   "cell_type": "code",
   "execution_count": 10,
   "metadata": {},
   "outputs": [
    {
     "name": "stdout",
     "output_type": "stream",
     "text": [
      "a b e f h d c g i "
     ]
    }
   ],
   "source": [
    "G = {\n",
    "'a': set('bde'),\n",
    "'b': set('ae'),\n",
    "'c': set('gi'),\n",
    "'d': set('ah'),\n",
    "'e': set('abf'),\n",
    "'f': set('eh'),\n",
    "'g': set('ci'),\n",
    "'h': set('df'),\n",
    "'i': set('cg'),\n",
    "}\n",
    "\n",
    "visited =  {v : False for v in G}       \n",
    "def dfs(v):  \n",
    "    print(v, end=' ')\n",
    "    visited[v] = True\n",
    "    for w in sorted(G[v]):   # für alphabetische Reihenfolge der Nachbarn\n",
    "        if not visited[w]:\n",
    "            dfs(w) \n",
    "            \n",
    "for v in sorted(G):          # für alphabetische Reihenfolge der Knoten\n",
    "    if not visited[v]:\n",
    "        dfs(v)\n",
    "           \n",
    " "
   ]
  },
  {
   "cell_type": "markdown",
   "metadata": {},
   "source": [
    "### Kürzester Weg in einem ungewichteten Graphen (bfs)\n",
    "\n",
    "Die Länge eines Pfades in einem ungewichteten Graphen ist die Anzahl seiner Kanten. Die Entfernung zweier Knoten \n",
    "in einem ungewichteten Graphen ist die Länge des kürzesten Pfades zwischen ihnen.\n",
    "\n",
    "<img src='graphen_24.png'>\n",
    "\n",
    "Die Entfernung zwischen S und H ist 3."
   ]
  },
  {
   "cell_type": "markdown",
   "metadata": {},
   "source": [
    "Die **Breitensuche (breadth first search, bfs)** traversiert den Graphen in Schichten nach der Entfernung zum Ausgangsknoten.\n",
    "Zu jedem Knoten merkt man sich seinen Vorgänger (prev), dadurch entsteht ein **shortest-path Baum**.\n",
    "(Ein Baum ist ein zusammenhängender Graph, der keine Kreise enthält). Daraus lässt sich der kürzeste\n",
    "Weg vom Ausgangsknoten zu jedem anderen Knoten rekonstruieren.\n",
    "\n",
    "<img src='graphen_25.png'>"
   ]
  },
  {
   "cell_type": "markdown",
   "metadata": {},
   "source": [
    "Als Datenstruktur für die Knoten, die wir noch untersuchen wollen, verwenden wir eine Schlange. Eine Schlange realisiert das FIFO-Prinzip (First-In, First-Out)."
   ]
  },
  {
   "cell_type": "markdown",
   "metadata": {},
   "source": [
    "    # Breitensuche mit Ausgangsknoten s:\n",
    "    Für jeden Knoten u in G: \n",
    "        dist(u) = unendlich \n",
    "        prev(u) = None\n",
    "    \n",
    "    Füge s in eine Schlange Q ein \n",
    "    dist(s) = 0\n",
    "    \n",
    "    Solange Q nicht leer:\n",
    "        hole Knoten u aus der Schlange\n",
    "            für alle Nachbarn v von u:\n",
    "                falls dist(v) unendlich:\n",
    "                    Füge v in die Schlange Q ein\n",
    "                    dist(v) = dist(u) + 1\n",
    "                    prev(v) = u"
   ]
  },
  {
   "cell_type": "code",
   "execution_count": 12,
   "metadata": {},
   "outputs": [
    {
     "name": "stdout",
     "output_type": "stream",
     "text": [
      "{'a': 's', 'b': 'a', 'c': 's', 'd': 's', 'e': 's', 'f': 'd', 'g': 'b', 'h': 'b', 's': None}\n",
      "{'a': 1, 'b': 2, 'c': 1, 'd': 1, 'e': 1, 'f': 2, 'g': 3, 'h': 3, 's': 0}\n"
     ]
    }
   ],
   "source": [
    "from collections import deque\n",
    "\n",
    "G = {\n",
    "'a': set('sb'),\n",
    "'b': set('acgh'),\n",
    "'c': set('bs'),\n",
    "'d': set('sef'),\n",
    "'e': set('sd'),\n",
    "'f': set('dg'),\n",
    "'g': set('bfh'),\n",
    "'h': set('bg'),\n",
    "'s': set('acde')\n",
    "}\n",
    "\n",
    "inf = float('inf')\n",
    "dist = {v:inf for v in G}\n",
    "prev = {v:None for v in G}\n",
    "\n",
    "s = 's'         # Startknoten\n",
    "dist[s] = 0\n",
    "Q = deque([s])          \n",
    "while Q:\n",
    "    u = Q.popleft()\n",
    "    #for v in G[u]:\n",
    "    for v in sorted(G[u]):       #  für alphabetische Reihenfolge  \n",
    "        if dist[v] == inf:\n",
    "            Q.append(v)\n",
    "            dist[v] = dist[u]+1\n",
    "            prev[v] = u\n",
    "\n",
    "print(prev)\n",
    "print(dist)"
   ]
  },
  {
   "cell_type": "markdown",
   "metadata": {},
   "source": [
    "Das dictionary *prev* codiert den shortest-path Baum. Das dictionary *dist* enthält die kürzesten Entfernungen zum Startknoten. Einen Pfad erhalten wir, indem wir den Baum vom Ziel bist zum Startknoten rückwärts gehen."
   ]
  },
  {
   "cell_type": "code",
   "execution_count": 13,
   "metadata": {},
   "outputs": [
    {
     "name": "stdout",
     "output_type": "stream",
     "text": [
      "Pfad von s nach h : s a b h\n",
      "Länge = 3\n"
     ]
    }
   ],
   "source": [
    "def reconstructPath(s,u,prev):\n",
    "    result = []\n",
    "    while u != s:\n",
    "        result.append(u)\n",
    "        u = prev[u]\n",
    "    result.append(s)\n",
    "    result.reverse()\n",
    "    return result\n",
    "    \n",
    "ziel = 'h'\n",
    "print('Pfad von',s,'nach',ziel,':',*reconstructPath(s,ziel,prev))\n",
    "print('Länge =',dist[ziel])"
   ]
  },
  {
   "cell_type": "markdown",
   "metadata": {},
   "source": [
    "### Kürzester Weg: Der Algorithmus von Dijkstra\n",
    "\n",
    "Der Algorithmus von Dijkstra findet  in einem gerichteten, mit nichtnegativen Kosten gewichteten\n",
    "Graphen die kürzesten Wege von einem Startknoten zu allen anderen Knoten. Er löst das\n",
    "**single source shortest paths**-Problem.\n",
    "\n",
    "<img src='graphen_26.png'>"
   ]
  },
  {
   "cell_type": "markdown",
   "metadata": {},
   "source": [
    "    # Algorithmus von Dijkstra\n",
    "    Setze dist des Startknotens s vorläufig auf 0,\n",
    "        alle anderen vorläufig auf unendlich. \n",
    "    Setze prev aller Knoten auf None\n",
    "    Solange es noch vorläufige Knoten gibt\n",
    "        setze dist des billigsten vorläufigen Knoten auf endgültig\n",
    "        Für jeden Nachbarn v von u:   \n",
    "            dist(v) = min(dist(v),dist(u) + Kosten von u nach v)   # Relaxieren\n",
    "            prev(v) = letzter Knoten auf dem Weg zu den minimalen Kosten"
   ]
  },
  {
   "cell_type": "code",
   "execution_count": 1,
   "metadata": {},
   "outputs": [
    {
     "name": "stdout",
     "output_type": "stream",
     "text": [
      "Pfad von a nach f : a b c d e f\n",
      "Distanz: 16\n"
     ]
    }
   ],
   "source": [
    "G = {\n",
    "'a': {'b':2, 'c':9},\n",
    "'b': {'c':5, 'd':13},\n",
    "'c': {'d':6, 'e':9},\n",
    "'d': {'e':1, 'f':5},\n",
    "'e': {'f':2},\n",
    "'f': {}\n",
    "}\n",
    "\n",
    "from heapq import  heappop, heappush\n",
    "\n",
    "def reconstructPath(s,u,prev):\n",
    "    temp = []\n",
    "    while u != s:\n",
    "        temp.append(u)\n",
    "        u = prev[u]\n",
    "    temp.append(s)\n",
    "    temp.reverse()\n",
    "    return temp\n",
    "\n",
    "inf = float('inf')\n",
    "dist = {v:inf for v in G}\n",
    "prev = {v:None for v in G}\n",
    "\n",
    "s = 'a'         # startknoten\n",
    "dist[s] = 0\n",
    "endgueltig = set()    \n",
    "\n",
    "vorlaeufig = [(dist[v],v) for v in G]\n",
    "\n",
    "while vorlaeufig:\n",
    "    _, u = heappop(vorlaeufig)\n",
    "    if u in endgueltig: continue\n",
    "    endgueltig.add(u)\n",
    "    for v in G[u]:\n",
    "        if dist[v] > dist[u] + G[u][v]:\n",
    "            dist[v] = dist[u] + G[u][v]\n",
    "            prev[v] = u\n",
    "            heappush(vorlaeufig,(dist[v],v))\n",
    "ziel = 'f'\n",
    "print('Pfad von',s,'nach',ziel,':',*reconstructPath('a','f',prev))\n",
    "print('Distanz:',dist[ziel])"
   ]
  },
  {
   "cell_type": "markdown",
   "metadata": {},
   "source": [
    "Während des Algorithmus müssen wir uns aus den vorläufig markierten Knoten laufend einen billigsten suchen. \n",
    "Dazu nutzen wir einen Heap. \n",
    "Die Laufzeit hängt ab vom Aufwand der Operationen zur Entnahme der Knoten aus dem Heap.\n",
    "Bei einen Fibonacci-Heap ist dies $O(1)$ und der Aufwand also $O(\\left|V\\right|+\\left|E\\right|)$.\n",
    "Aufwand bei einem Min-Heap: $O((\\left|V\\right|+\\left|E\\right|)\\cdot\\log\\left|V\\right|)$."
   ]
  }
 ],
 "metadata": {
  "kernelspec": {
   "display_name": "Python 3 (ipykernel)",
   "language": "python",
   "name": "python3"
  },
  "language_info": {
   "codemirror_mode": {
    "name": "ipython",
    "version": 3
   },
   "file_extension": ".py",
   "mimetype": "text/x-python",
   "name": "python",
   "nbconvert_exporter": "python",
   "pygments_lexer": "ipython3",
   "version": "3.11.2"
  }
 },
 "nbformat": 4,
 "nbformat_minor": 4
}
