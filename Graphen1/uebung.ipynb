{
 "cells": [
  {
   "cell_type": "markdown",
   "id": "ec2ee52b-cabf-4021-9cf2-e0b31142c50a",
   "metadata": {},
   "source": [
    "### Übungen\n",
    "\n",
    "#### Einlesen der Daten\n",
    "\n",
    "Einlesen der Daten in eine Datenstruktur, auf die wir mit Koordinaten zugreifen können."
   ]
  },
  {
   "cell_type": "code",
   "execution_count": 4,
   "id": "c9435fcb-40f3-4226-bd9b-b311f1553b3b",
   "metadata": {},
   "outputs": [
    {
     "name": "stdout",
     "output_type": "stream",
     "text": [
      "Overwriting input.txt\n"
     ]
    }
   ],
   "source": [
    "%%writefile input.txt\n",
    "4 8\n",
    "######## \n",
    "#   #  #\n",
    "#  ##  #\n",
    "########\n"
   ]
  },
  {
   "cell_type": "code",
   "execution_count": 5,
   "id": "d691ac03-cf1e-4ce1-84a7-74cc2dd545e1",
   "metadata": {},
   "outputs": [
    {
     "name": "stdout",
     "output_type": "stream",
     "text": [
      "hoehe=4, breite=8\n",
      "########\n",
      "#   #  #\n",
      "#  ##  #\n",
      "########\n"
     ]
    }
   ],
   "source": [
    "def show(grid):\n",
    "    for zeile in grid:\n",
    "        print(*zeile,sep='')\n",
    "\n",
    "f = open('input.txt')\n",
    "hoehe, breite = [int(x) for x in f.readline().split()]   # unpacking\n",
    "print(f'hoehe={hoehe}, breite={breite}')\n",
    "grid = []\n",
    "for k in range(hoehe):\n",
    "    grid.append(list(f.readline().strip()))\n",
    "f.close()\n",
    "\n",
    "show(grid)\n",
    "\n"
   ]
  },
  {
   "cell_type": "code",
   "execution_count": 8,
   "id": "9b7c481c-fce3-4c3c-af81-502129529001",
   "metadata": {},
   "outputs": [
    {
     "data": {
      "text/plain": [
       "[4, 8]"
      ]
     },
     "execution_count": 8,
     "metadata": {},
     "output_type": "execute_result"
    }
   ],
   "source": [
    "# Syntax-Übung\n",
    "a = [1,2,3,4]\n",
    "b = [2*x for x in a if x%2 == 0]    # list-comprehension\n",
    "b"
   ]
  },
  {
   "cell_type": "markdown",
   "id": "eed9da59-983c-455d-b53a-5ee246bcbfb6",
   "metadata": {},
   "source": [
    "#### Aufbau des Graphen"
   ]
  },
  {
   "cell_type": "markdown",
   "id": "2a40a3cf-52f1-4e94-bfbd-d85a9bea7948",
   "metadata": {},
   "source": [
    "Jeder begehbare Punkt ist ein Knoten. Die Koordinate ist der Name des Knoten"
   ]
  },
  {
   "cell_type": "code",
   "execution_count": 12,
   "id": "798c4c1c-8a8c-4b2c-80dd-f4e70914a09f",
   "metadata": {},
   "outputs": [
    {
     "data": {
      "text/plain": [
       "[(1, 1), (1, 2), (1, 3), (1, 5), (1, 6), (2, 1), (2, 2), (2, 5), (2, 6)]"
      ]
     },
     "execution_count": 12,
     "metadata": {},
     "output_type": "execute_result"
    }
   ],
   "source": [
    "V = []\n",
    "for x in range(hoehe):\n",
    "    for y in range(breite):\n",
    "        if grid[x][y] != '#':\n",
    "            V.append((x,y))\n",
    "V"
   ]
  },
  {
   "cell_type": "code",
   "execution_count": 15,
   "id": "a66b9faf-e84b-4835-815f-f368474ae13c",
   "metadata": {},
   "outputs": [
    {
     "data": {
      "text/plain": [
       "[(1, 1), (1, 2), (1, 3), (1, 5), (1, 6), (2, 1), (2, 2), (2, 5), (2, 6)]"
      ]
     },
     "execution_count": 15,
     "metadata": {},
     "output_type": "execute_result"
    }
   ],
   "source": [
    "# dasselbe wie oben mit einer list-comprehension\n",
    "V = [(x,y) for x in range(hoehe) for y in range(breite) if grid[x][y] != '#']   # Liste mit Knoten\n",
    "V"
   ]
  },
  {
   "cell_type": "code",
   "execution_count": 16,
   "id": "a13697dc-62f2-423e-b3bf-340e2e539f12",
   "metadata": {},
   "outputs": [
    {
     "data": {
      "text/plain": [
       "{(1, 1): {(1, 2), (2, 1)},\n",
       " (1, 2): {(1, 1), (1, 3), (2, 2)},\n",
       " (1, 3): {(1, 2)},\n",
       " (1, 5): {(1, 6), (2, 5)},\n",
       " (1, 6): {(1, 5), (2, 6)},\n",
       " (2, 1): {(1, 1), (2, 2)},\n",
       " (2, 2): {(1, 2), (2, 1)},\n",
       " (2, 5): {(1, 5), (2, 6)},\n",
       " (2, 6): {(1, 6), (2, 5)}}"
      ]
     },
     "execution_count": 16,
     "metadata": {},
     "output_type": "execute_result"
    }
   ],
   "source": [
    "G = {v:set() for v in V}              # noch haben die Knoten keine Nachbarn\n",
    "dirs = [(0,1),(1,0),(0,-1),(-1,0)]    # Richtungen O,S,W,N\n",
    "\n",
    "for v in G:\n",
    "    x, y = v\n",
    "    for (xd,yd) in dirs:\n",
    "        xn, yn = x+xd, y+yd\n",
    "        if 0 <= xn < hoehe and 0 <= yn < breite and grid[xn][yn] != '#':\n",
    "            G[v].add((xn,yn))\n",
    "G"
   ]
  },
  {
   "cell_type": "markdown",
   "id": "9bfba9e9-e8f8-416c-9abc-347c3683c7bf",
   "metadata": {},
   "source": [
    "#### Erreichbarkeit (dfs)"
   ]
  },
  {
   "cell_type": "code",
   "execution_count": 23,
   "id": "a9530dfd-e63f-48d9-9ff8-b2a1e1be1a40",
   "metadata": {},
   "outputs": [
    {
     "data": {
      "text/plain": [
       "[(1, 5), (1, 6), (2, 5), (2, 6)]"
      ]
     },
     "execution_count": 23,
     "metadata": {},
     "output_type": "execute_result"
    }
   ],
   "source": [
    "def dfs(v):  \n",
    "    visited[v] = True\n",
    "    for w in G[v]:\n",
    "        if not visited[w]:\n",
    "            dfs(w) \n",
    "\n",
    "visited =  {v : False for v in G}    \n",
    "dfs((1,6))\n",
    "erreichbar = [v for v in G if visited[v]]\n",
    "erreichbar"
   ]
  },
  {
   "cell_type": "markdown",
   "id": "b896dd76-5199-4c5e-af76-fbd32a95d6d3",
   "metadata": {},
   "source": [
    "#### Zusammenhangskomponenten (connected components)\n",
    "\n",
    "Wir zählen die getrennten Räume im grid, indem wir von jedem noch nicht besuchten Knoten ein dfs starten."
   ]
  },
  {
   "cell_type": "code",
   "execution_count": 26,
   "id": "6cd82f74-88f2-4d1b-812a-3153f5518c97",
   "metadata": {},
   "outputs": [
    {
     "name": "stdout",
     "output_type": "stream",
     "text": [
      "Es gibt 2 Räume.\n"
     ]
    }
   ],
   "source": [
    "def dfs(v):  \n",
    "    visited[v] = True\n",
    "    for w in G[v]:\n",
    "        if not visited[w]:\n",
    "            dfs(w) \n",
    "            \n",
    "visited =  {v : False for v in G}   \n",
    "zaehl = 0\n",
    "for v in G:\n",
    "    if not visited[v]:\n",
    "        zaehl+=1\n",
    "        dfs(v)\n",
    "\n",
    "print(f'Es gibt {zaehl} Räume.')"
   ]
  },
  {
   "cell_type": "markdown",
   "id": "b62da4a0-519f-49bd-a7e5-8b8a471c9e60",
   "metadata": {},
   "source": [
    "#### Kürzeste Wege mit Breitensuche (bfs)"
   ]
  },
  {
   "cell_type": "code",
   "execution_count": 32,
   "id": "45c2d2ac-dddb-4ddf-8813-c38626d4e5cd",
   "metadata": {},
   "outputs": [
    {
     "name": "stdout",
     "output_type": "stream",
     "text": [
      "Overwriting input.txt\n"
     ]
    }
   ],
   "source": []
  },
  {
   "cell_type": "code",
   "execution_count": 82,
   "id": "9bc7a48e-20f5-497a-88e0-1196bb5f2cee",
   "metadata": {},
   "outputs": [
    {
     "name": "stdout",
     "output_type": "stream",
     "text": [
      "Overwriting input.txt\n"
     ]
    }
   ],
   "source": [
    "%%writefile input.txt\n",
    "5 6\n",
    "######\n",
    "#A   #\n",
    "#### #\n",
    "#B   #\n",
    "######"
   ]
  },
  {
   "cell_type": "markdown",
   "id": "021a3500-d627-488d-97a2-3d71c278bf78",
   "metadata": {},
   "source": [
    "Einlesen der Daten"
   ]
  },
  {
   "cell_type": "code",
   "execution_count": 83,
   "id": "3e1be1f1-4172-44d3-93fb-b2330940a9f9",
   "metadata": {},
   "outputs": [
    {
     "name": "stdout",
     "output_type": "stream",
     "text": [
      "hoehe=5, breite=6\n",
      "######\n",
      "#A   #\n",
      "#### #\n",
      "#B   #\n",
      "######\n"
     ]
    }
   ],
   "source": [
    "f = open('input.txt')\n",
    "hoehe, breite = [int(x) for x in f.readline().split()]   # unpacking\n",
    "print(f'hoehe={hoehe}, breite={breite}')\n",
    "grid = []\n",
    "for k in range(hoehe):\n",
    "    grid.append(list(f.readline().strip()))\n",
    "f.close()\n",
    "show(grid)"
   ]
  },
  {
   "cell_type": "markdown",
   "id": "dfae13b6-d206-4014-bfc6-6f52efaa4e51",
   "metadata": {},
   "source": [
    "Aufbau des Graphen"
   ]
  },
  {
   "cell_type": "code",
   "execution_count": 84,
   "id": "acfd2f82-ab3f-4d0e-b100-0aabbd24e639",
   "metadata": {},
   "outputs": [],
   "source": [
    "V = [(x,y) for x in range(hoehe) for y in range(breite) if grid[x][y] != '#']\n",
    "G = {v:set() for v in V}\n",
    "dirs = [(0,1),(1,0),(0,-1),(-1,0)]    # Richtungen O,S,W,N\n",
    "\n",
    "for v in G:\n",
    "    x, y = v\n",
    "    for (xd,yd) in dirs:\n",
    "        xn, yn = x+xd, y+yd\n",
    "        if 0 <= xn < hoehe and 0 <= yn < breite and grid[xn][yn] != '#':\n",
    "            G[v].add((xn,yn))"
   ]
  },
  {
   "cell_type": "markdown",
   "id": "23930787-ed80-482b-bf8f-9cb31497a4b7",
   "metadata": {},
   "source": [
    "Bestimmung von Start- und Zielkoordinaten"
   ]
  },
  {
   "cell_type": "code",
   "execution_count": 85,
   "id": "fc22f1ec-8d04-4ca3-9e0c-04f0b68aa1a8",
   "metadata": {},
   "outputs": [
    {
     "name": "stdout",
     "output_type": "stream",
     "text": [
      "start=(1, 1), ziel=(3, 1)\n"
     ]
    }
   ],
   "source": [
    "for x in range(hoehe):\n",
    "    for y in range(breite):\n",
    "        if grid[x][y] == 'A':\n",
    "            start = (x,y)\n",
    "        elif grid[x][y] == 'B':\n",
    "            ziel = (x,y)\n",
    "\n",
    "print(f'start={start}, ziel={ziel}')"
   ]
  },
  {
   "cell_type": "markdown",
   "id": "c935cb90-1032-421d-8df2-ba1cb0b425a6",
   "metadata": {},
   "source": [
    "#### Breitensuche\n",
    "\n",
    "Die Breitensuche speichert ihre Ergebnisse in den dictionaries *prev* und *dist*.\n",
    "\n",
    "In dem dictionary *dist* speichern wir die Distanz eines Knotens zum Startknoten. Wenn die Distanz unendlich (*inf*) ist, dann haben wir den Knoten noch nicht besucht. In dem dictionary *prev* wird der Vorgänger des Knotens gespeichert. *prev* modelliert den shortest-path-Baum der Breitensuche."
   ]
  },
  {
   "cell_type": "code",
   "execution_count": 87,
   "id": "de80504d-3d5c-4bf8-9810-07cfa5ae3d8c",
   "metadata": {},
   "outputs": [],
   "source": [
    "from collections import deque\n",
    "inf = float('inf')\n",
    "dist = {v:inf for v in G}\n",
    "prev = {v:None for v in G}\n",
    "\n",
    "dist[start] = 0       # s ist der Startknoten\n",
    "Q = deque([start])    # Zu Beginn ist nur der Startknoten in der Schlange       \n",
    "\n",
    "while Q:                           # Solange die Schlange nicht leer      \n",
    "    u = Q.popleft()                # hole das erste Element u\n",
    "    for v in G[u]:                 # und kümmere dich darum, d.h. für alle Nachbarn v von u\n",
    "        if dist[v] == inf:         # falls Nachbar v noch nicht besucht wurde\n",
    "            dist[v] = dist[u]+1    # zu v benötigen wir einen Schritt mehr als zu u\n",
    "            prev[v] = u            # Vorgänger von v ist u\n",
    "            Q.append(v)            # füge v in die Schlange ein (damit später dessen Nachbarn betrachtet werden)\n"
   ]
  },
  {
   "cell_type": "code",
   "execution_count": 88,
   "id": "0e59c71f-5270-482c-a92c-899aaa10ed8a",
   "metadata": {},
   "outputs": [
    {
     "name": "stdout",
     "output_type": "stream",
     "text": [
      "{(1, 1): None, (1, 2): (1, 1), (1, 3): (1, 2), (1, 4): (1, 3), (2, 4): (1, 4), (3, 1): (3, 2), (3, 2): (3, 3), (3, 3): (3, 4), (3, 4): (2, 4)}\n",
      "{(1, 1): 0, (1, 2): 1, (1, 3): 2, (1, 4): 3, (2, 4): 4, (3, 1): 8, (3, 2): 7, (3, 3): 6, (3, 4): 5}\n"
     ]
    }
   ],
   "source": [
    "print(prev)\n",
    "print(dist)"
   ]
  },
  {
   "cell_type": "markdown",
   "id": "3370f551-c19d-47f1-88fb-5a825436b169",
   "metadata": {},
   "source": [
    "Aus dem dict prev rekonstruieren wir den Pfad des kürzesten Weges."
   ]
  },
  {
   "cell_type": "code",
   "execution_count": 89,
   "id": "3d1a30c8-f10b-4806-b9de-9abe5b36be9d",
   "metadata": {},
   "outputs": [
    {
     "data": {
      "text/plain": [
       "[(1, 1), (1, 2), (1, 3), (1, 4), (2, 4), (3, 4), (3, 3), (3, 2), (3, 1)]"
      ]
     },
     "execution_count": 89,
     "metadata": {},
     "output_type": "execute_result"
    }
   ],
   "source": [
    "def reconstructPath(start,ziel,prev):\n",
    "    result = []                  # hier sammeln wir die Vorgängerknoten\n",
    "    while ziel != start:         # solange wir mit ziel noch nicht bei start angekommen sind\n",
    "        result.append(ziel)      # füge zielknoten in die result-liste ein\n",
    "        ziel = prev[ziel]        # neues ziel ist der vorgänger von ziel\n",
    "    result.append(start)         # als letzes fügen wir den startknoten in die result-liste ein\n",
    "    result.reverse()             # wir drehen die Reihenfolge um\n",
    "    return result \n",
    "\n",
    "path = reconstructPath(start,ziel,prev)\n",
    "path"
   ]
  },
  {
   "cell_type": "markdown",
   "id": "42bdbab0-57c0-4b88-8e95-d8e931d0c7d7",
   "metadata": {},
   "source": [
    "Wir markieren den gefunden Pfad in dem grid. Den Start und Zielknoten wollen wir nicht überschrieben."
   ]
  },
  {
   "cell_type": "code",
   "execution_count": 90,
   "id": "67c9489c-6293-44ba-97e3-d63763b1130a",
   "metadata": {},
   "outputs": [
    {
     "name": "stdout",
     "output_type": "stream",
     "text": [
      "Länge des kürzesten Weges: 8\n",
      "######\n",
      "#A...#\n",
      "####.#\n",
      "#B...#\n",
      "######\n"
     ]
    }
   ],
   "source": [
    "path = reconstructPath(start,ziel,prev)\n",
    "for v in path[1:-1]:                # alles außer ersten und letzten Knoten\n",
    "    x, y = v\n",
    "    grid[x][y] = '.'\n",
    "\n",
    "print(f'Länge des kürzesten Weges: {len(path)-1}')\n",
    "show(grid)"
   ]
  },
  {
   "cell_type": "markdown",
   "id": "d7d90ed3-a027-465f-9b44-6ed94fd6c64d",
   "metadata": {},
   "source": [
    "Der gesamte Ablauf der Breitensuche:"
   ]
  },
  {
   "cell_type": "code",
   "execution_count": 91,
   "id": "b76ca993-1846-42f3-b1ae-eb3318faf8e6",
   "metadata": {},
   "outputs": [
    {
     "name": "stdout",
     "output_type": "stream",
     "text": [
      "Overwriting input.txt\n"
     ]
    }
   ],
   "source": [
    "%%writefile input.txt\n",
    "20 67\n",
    "###################################################################\n",
    "#                                                                 #\n",
    "#                                                                 #\n",
    "#                                                                 #\n",
    "#                       ####################################      #\n",
    "#                       #                                         #\n",
    "#                       #                     #                   #\n",
    "#                       #                     #                   #\n",
    "#                       #                     #                   #\n",
    "#                       #        B                     #          #\n",
    "#                       #      ####################    #          #\n",
    "#                       #                              #          #\n",
    "#                       #                              #          #\n",
    "#                       ################################          #\n",
    "#                                                                 #\n",
    "#                                                                 #\n",
    "#                                                                 #\n",
    "#     A                                                           #\n",
    "#                                                                 #\n",
    "###################################################################"
   ]
  },
  {
   "cell_type": "code",
   "execution_count": 95,
   "id": "bf467c1e-8665-4259-9b5a-d445573550ee",
   "metadata": {},
   "outputs": [
    {
     "name": "stdout",
     "output_type": "stream",
     "text": [
      "hoehe=20, breite=67\n",
      "start=(17, 6), ziel=(9, 33)\n",
      "Länge des kürzesten Weges: 83\n",
      "###################################################################\n",
      "#                                                                 #\n",
      "#                                                                 #\n",
      "#                                                                 #\n",
      "#                       ####################################      #\n",
      "#                       #                                         #\n",
      "#                       #                     #                   #\n",
      "#                       #                     #                   #\n",
      "#                       #                     #     .....         #\n",
      "#                       #        B...................  #.         #\n",
      "#                       #      ####################    #.         #\n",
      "#                       #                              #.         #\n",
      "#                       #                              #.         #\n",
      "#                       ################################.         #\n",
      "#           .............................................         #\n",
      "#         ...                                                     #\n",
      "#     .....                                                       #\n",
      "#     A                                                           #\n",
      "#                                                                 #\n",
      "###################################################################\n"
     ]
    }
   ],
   "source": [
    "# Einlesen der Daten\n",
    "f = open('input.txt')\n",
    "hoehe, breite = [int(x) for x in f.readline().split()]   # unpacking\n",
    "print(f'hoehe={hoehe}, breite={breite}')\n",
    "grid = []\n",
    "for k in range(hoehe):\n",
    "    grid.append(list(f.readline().strip()))\n",
    "f.close()\n",
    "\n",
    "V = [(x,y) for x in range(hoehe) for y in range(breite) if grid[x][y] != '#']\n",
    "G = {v:set() for v in V}\n",
    "dirs = [(0,1),(1,0),(0,-1),(-1,0)]    # Richtungen O,S,W,N\n",
    "\n",
    "# Aufbau des Graphen\n",
    "for v in G:\n",
    "    x, y = v\n",
    "    for (xd,yd) in dirs:\n",
    "        xn, yn = x+xd, y+yd\n",
    "        if 0 <= xn < hoehe and 0 <= yn < breite and grid[xn][yn] != '#':\n",
    "            G[v].add((xn,yn))\n",
    "\n",
    "# Bestimmung von Start und Zielknoten\n",
    "for x in range(hoehe):\n",
    "    for y in range(breite):\n",
    "        if grid[x][y] == 'A':\n",
    "            start = (x,y)\n",
    "        elif grid[x][y] == 'B':\n",
    "            ziel = (x,y)\n",
    "\n",
    "print(f'start={start}, ziel={ziel}')\n",
    "\n",
    "# Breitensuche\n",
    "from collections import deque\n",
    "inf = float('inf')\n",
    "dist = {v:inf for v in G}\n",
    "prev = {v:None for v in G}\n",
    "\n",
    "dist[start] = 0       # s ist der Startknoten\n",
    "Q = deque([start])    # Zu Beginn ist nur der Startknoten in der Schlange       \n",
    "\n",
    "while Q:                           # Solange die Schlange nicht leer      \n",
    "    u = Q.popleft()                # hole das erste Element u\n",
    "    for v in G[u]:                 # und kümmere dich darum, d.h. für alle Nachbarn v von u\n",
    "        if dist[v] == inf:         # falls Nachbar v noch nicht besucht wurde\n",
    "            dist[v] = dist[u]+1    # zu v benötigen wir einen Schritt mehr als zu u\n",
    "            prev[v] = u            # Vorgänger von v ist u\n",
    "            Q.append(v)            # füge v in die Schlange ein (damit später dessen Nachbarn betrachtet werden)\n",
    "\n",
    "# Rekonstruktion des Pfads\n",
    "def reconstructPath(start,ziel,prev):\n",
    "    result = []                  # hier sammeln wir die Vorgängerknoten\n",
    "    while ziel != start:         # solange wir mit ziel noch nicht bei start angekommen sind\n",
    "        result.append(ziel)      # füge zielknoten in die result-liste ein\n",
    "        ziel = prev[ziel]        # neues ziel ist der vorgänger von ziel\n",
    "    result.append(start)         # als letzes fügen wir den startknoten in die result-liste ein\n",
    "    result.reverse()             # wir drehen die Reihenfolge um\n",
    "    return result \n",
    "\n",
    "\n",
    "path = reconstructPath(start,ziel,prev)\n",
    "print(f'Länge des kürzesten Weges: {len(path)-1}')\n",
    "for v in path[1:-1]:                # alles außer ersten und letzten Knoten\n",
    "    x, y = v\n",
    "    grid[x][y] = '.'\n",
    "\n",
    "show(grid)\n"
   ]
  },
  {
   "cell_type": "markdown",
   "id": "98822065-67b8-4774-9119-ddd1738b9b70",
   "metadata": {},
   "source": [
    "### Dijkstra\n",
    "\n",
    "Der Lageplan hat 2 Stockwerke: Obergeschoß und Erdgeschoß. Wir lesen zunächste beide Stockwerke getrennt ein."
   ]
  },
  {
   "cell_type": "code",
   "execution_count": 97,
   "id": "82b49285-8c0b-4a33-b170-39fbbe6bdaae",
   "metadata": {},
   "outputs": [
    {
     "name": "stdout",
     "output_type": "stream",
     "text": [
      "Overwriting input.txt\n"
     ]
    }
   ],
   "source": [
    "%%writefile input.txt\n",
    "5 13\n",
    "#############\n",
    "#A          #\n",
    "#############           \n",
    "#          B#\n",
    "#############\n",
    "\n",
    "#############\n",
    "#     #     #\n",
    "#### ########           \n",
    "#     #     #\n",
    "#############"
   ]
  },
  {
   "cell_type": "code",
   "execution_count": 106,
   "id": "b8e3305c-d83f-4b4d-8ba6-0c9968d0c4a8",
   "metadata": {},
   "outputs": [],
   "source": [
    "f = open('input.txt')\n",
    "hoehe, breite = [int(x) for x in f.readline().split()]\n",
    "grid1 = []\n",
    "for k in range(hoehe):\n",
    "    grid1.append(list(f.readline().strip()))\n",
    "f.readline()\n",
    "grid2 = []\n",
    "for k in range(hoehe):\n",
    "    grid2.append(list(f.readline().strip()))\n",
    "f.close()\n",
    " "
   ]
  },
  {
   "cell_type": "code",
   "execution_count": 107,
   "id": "a95246b4-7eb8-4ebf-8701-607f63c84cd4",
   "metadata": {},
   "outputs": [
    {
     "name": "stdout",
     "output_type": "stream",
     "text": [
      "Obergeschoß:\n",
      "#############\n",
      "#A          #\n",
      "#############\n",
      "#          B#\n",
      "#############\n",
      "\n",
      "Erdgeschoß:\n",
      "#############\n",
      "#     #     #\n",
      "#### ########\n",
      "#     #     #\n",
      "#############\n"
     ]
    }
   ],
   "source": [
    "print('Obergeschoß:')\n",
    "show(grid1)\n",
    "print('\\nErdgeschoß:')\n",
    "show(grid2)\n",
    " "
   ]
  },
  {
   "cell_type": "code",
   "execution_count": 105,
   "id": "c2a3b52f-a3c4-49bd-8ae4-92bd29b6bcb8",
   "metadata": {},
   "outputs": [],
   "source": [
    "grid = [grid1, grid2]"
   ]
  },
  {
   "cell_type": "markdown",
   "id": "59049bdd-4cb3-406f-8005-f3d7f072535f",
   "metadata": {},
   "source": [
    "Wir fügen die beiden grids zu einem 3-dimensionalen grid zusammen. Eine Koordinate besteht jetzt aus drei Zahlen. Die erste Zahl kennzeichnet das Stockwerk, die 2. Zahl die Zeile im Stockwerk, die 3. Zahl die Spalte."
   ]
  },
  {
   "cell_type": "code",
   "execution_count": 113,
   "id": "5501a180-f670-4b71-9e18-276f590d601a",
   "metadata": {},
   "outputs": [
    {
     "name": "stdout",
     "output_type": "stream",
     "text": [
      "A\n"
     ]
    }
   ],
   "source": [
    "print(grid[0][1][1]) "
   ]
  },
  {
   "cell_type": "markdown",
   "id": "d5497a58-32eb-4d22-ada7-11dd09d190e0",
   "metadata": {},
   "source": [
    "Wir nutzen z als Variable für die erste Koordinate, damit wir mit x und y wie gewohnt über Zeile und Spalte laufen können."
   ]
  },
  {
   "cell_type": "code",
   "execution_count": 133,
   "id": "c5a92677-7c0a-4dd3-b8b7-4205f9bc7b54",
   "metadata": {},
   "outputs": [],
   "source": [
    "# Liste mit den Knoten\n",
    "V = [(z,x,y) for z in [0,1] for x in range(hoehe) for y in range(breite) if grid[z][x][y] != '#'] \n",
    "G = {v:dict() for v in V}"
   ]
  },
  {
   "cell_type": "markdown",
   "id": "308fd437-f5ac-423c-9357-856e98cd4f5b",
   "metadata": {},
   "source": [
    "Die Liste *dirs* mit den Bewegungsrichtungen müssen wir erweitern, um die Stockwerke zu wechseln."
   ]
  },
  {
   "cell_type": "code",
   "execution_count": 134,
   "id": "018d31c3-11b6-4cb6-bbfd-7490b27edc1f",
   "metadata": {},
   "outputs": [],
   "source": [
    "dirs = [(0,0,1),(0,1,0),(0,0,-1),(0,-1,0),(1,0,0),(-1,0,0)]    # Richtungen O,S,W,N,LOWER,HIGHER"
   ]
  },
  {
   "cell_type": "code",
   "execution_count": 135,
   "id": "6a54eb79-e8be-417d-9dce-ec3b2536dc33",
   "metadata": {},
   "outputs": [],
   "source": [
    "for v in G:\n",
    "    z, x, y = v\n",
    "    for (zd, xd,yd) in dirs:\n",
    "        zn, xn, yn = z+zd, x+xd, y+yd\n",
    "        if 0<= zn <= 1 and 0 <= xn < hoehe and 0 <= yn < breite and grid[zn][xn][yn] != '#':\n",
    "            if zn == z:     # wir bleiben in derselben Ebene\n",
    "                G[v][(zn,xn,yn)] = 1\n",
    "            else:           # wir wechseln das Stockwerk\n",
    "                G[v][(zn,xn,yn)] = 3\n"
   ]
  },
  {
   "cell_type": "code",
   "execution_count": 136,
   "id": "ebd2905d-647d-4b2b-a2b7-a765165df5ed",
   "metadata": {},
   "outputs": [
    {
     "name": "stdout",
     "output_type": "stream",
     "text": [
      "{(0, 1, 2): 1, (1, 1, 1): 3}\n"
     ]
    }
   ],
   "source": [
    "print(G[(0,1,1)])"
   ]
  },
  {
   "cell_type": "markdown",
   "id": "dbe8b78e-861c-4081-bdf5-0cfc448e7636",
   "metadata": {},
   "source": [
    "Wir bestimmen Start- und Zielknoten"
   ]
  },
  {
   "cell_type": "code",
   "execution_count": 137,
   "id": "d8b265a2-48d1-4636-8d00-0a3143a91fa0",
   "metadata": {},
   "outputs": [
    {
     "name": "stdout",
     "output_type": "stream",
     "text": [
      "start=(0, 1, 1), ziel=(0, 3, 11)\n"
     ]
    }
   ],
   "source": [
    "for v in G:\n",
    "    z,x,y = v\n",
    "    if grid[z][x][y] == 'A':\n",
    "        start = (z,x,y)\n",
    "    elif grid[z][x][y] == 'B':\n",
    "        ziel = (z,x,y)\n",
    "\n",
    "print(f'start={start}, ziel={ziel}')"
   ]
  },
  {
   "cell_type": "code",
   "execution_count": 153,
   "id": "6e1b152c-05c4-4616-a038-0feb2eaf42a3",
   "metadata": {},
   "outputs": [],
   "source": [
    "from heapq import  heappop, heappush\n",
    "inf = float('inf')\n",
    "dist = {v:inf for v in G}\n",
    "prev = {v:None for v in G}\n",
    "\n",
    " \n",
    "dist[start] = 0\n",
    "endgueltig = set()    \n",
    "\n",
    "H = [(dist[v],v) for v in G]                       \n",
    "\n",
    "while H:                                  # solange der Heap nicht leer\n",
    "    _, u = heappop(H)                     # hole das erste Element u aus dem Heap  \n",
    "    if u in endgueltig: continue          # falls es schon endgueltig markiert wurde, überspringen\n",
    "    endgueltig.add(u)                     # für diesen Knoten u haben wir die kürzeste Distanz gefunden.\n",
    "    for v in G[u]:                        # für jeden Nachbarn v von u:\n",
    "        if dist[v] > dist[u] + G[u][v]:   # Falls der Weg zu v über u kürzer als der bislang gefundene Weg zu v                          \n",
    "            dist[v] = dist[u] + G[u][v]   # speichere die kürzere Distanz für v\n",
    "            prev[v] = u                   # speichere, dass diese Distanz über den Vorgänger u kommt\n",
    "            heappush(H,(dist[v],v))    # speichere den Knoten mit der neuen Distanz im Heap"
   ]
  },
  {
   "cell_type": "markdown",
   "id": "89eb747a-db8e-4d0d-8c0f-791045f9f7c9",
   "metadata": {},
   "source": [
    "Aus dem dictionary *prev* rekonstruieren wir den kürzesten Weg"
   ]
  },
  {
   "cell_type": "code",
   "execution_count": 155,
   "id": "dc88430d-b2d9-49b5-bb49-cf5a030f7c64",
   "metadata": {},
   "outputs": [
    {
     "name": "stdout",
     "output_type": "stream",
     "text": [
      "Länge des kürzesten Weges: 14\n"
     ]
    }
   ],
   "source": [
    "def reconstructPath(start,ziel,prev):\n",
    "    result = []                  # hier sammeln wir die Vorgängerknoten\n",
    "    while ziel != start:         # solange wir mit ziel noch nicht bei start angekommen sind\n",
    "        result.append(ziel)      # füge zielknoten in die result-liste ein\n",
    "        ziel = prev[ziel]        # neues ziel ist der vorgänger von ziel\n",
    "    result.append(start)         # als letzes fügen wir den startknoten in die result-liste ein\n",
    "    result.reverse()             # wir drehen die Reihenfolge um\n",
    "    return result \n",
    "\n",
    "\n",
    "path = reconstructPath(start,ziel,prev)\n",
    "print(f'Länge des kürzesten Weges: {len(path)-1}') "
   ]
  },
  {
   "cell_type": "markdown",
   "id": "b8465d8c-91a0-4903-bddf-60b5894dc62b",
   "metadata": {},
   "source": [
    "Jetzt können wir den Weg markieren."
   ]
  },
  {
   "cell_type": "code",
   "execution_count": 154,
   "id": "9178dd0b-0000-4898-91b8-d52988c586c6",
   "metadata": {},
   "outputs": [
    {
     "name": "stdout",
     "output_type": "stream",
     "text": [
      "#############\n",
      "#A...       #\n",
      "#############\n",
      "#    ......B#\n",
      "#############\n",
      "\n",
      "#############\n",
      "#   . #     #\n",
      "####.########\n",
      "#   ..#     #\n",
      "#############\n"
     ]
    }
   ],
   "source": [
    "for v in path[1:-1]:                # alles außer ersten und letzten Knoten\n",
    "    z, x, y = v\n",
    "    grid[z][x][y] = '.'\n",
    "\n",
    "show(grid[0])\n",
    "print()\n",
    "show(grid[1])"
   ]
  },
  {
   "cell_type": "code",
   "execution_count": null,
   "id": "cf124cc2-995a-460a-ae98-455f6f9adc24",
   "metadata": {},
   "outputs": [],
   "source": []
  }
 ],
 "metadata": {
  "kernelspec": {
   "display_name": "Python 3 (ipykernel)",
   "language": "python",
   "name": "python3"
  },
  "language_info": {
   "codemirror_mode": {
    "name": "ipython",
    "version": 3
   },
   "file_extension": ".py",
   "mimetype": "text/x-python",
   "name": "python",
   "nbconvert_exporter": "python",
   "pygments_lexer": "ipython3",
   "version": "3.11.2"
  }
 },
 "nbformat": 4,
 "nbformat_minor": 5
}
