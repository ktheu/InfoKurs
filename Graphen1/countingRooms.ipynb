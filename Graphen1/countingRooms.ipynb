{
 "cells": [
  {
   "cell_type": "markdown",
   "id": "36461d61-31cf-4a70-8558-b11431c7406f",
   "metadata": {},
   "source": [
    "### CSES Counting Rooms"
   ]
  },
  {
   "cell_type": "code",
   "execution_count": 1,
   "id": "7eb4449c-1991-4f2e-9ba2-197f681c0715",
   "metadata": {},
   "outputs": [
    {
     "name": "stdout",
     "output_type": "stream",
     "text": [
      "Writing input.txt\n"
     ]
    }
   ],
   "source": [
    "%%writefile input.txt\n",
    "5 8\n",
    "########\n",
    "#..#...#\n",
    "####.#.#\n",
    "#..#...#\n",
    "########"
   ]
  },
  {
   "cell_type": "code",
   "execution_count": 10,
   "id": "30093637-57ae-4aa2-b183-c49f23f4f31e",
   "metadata": {},
   "outputs": [],
   "source": [
    "f = open('input.txt')\n",
    "hoehe, breite = [int(x) for x in f.readline().split()]\n",
    "grid = []\n",
    "for _ in range(hoehe):\n",
    "    grid.append(list(f.readline().strip()))\n",
    "    "
   ]
  },
  {
   "cell_type": "code",
   "execution_count": 11,
   "id": "ca4b32a2-1743-4482-bcdb-7191718b6473",
   "metadata": {},
   "outputs": [
    {
     "data": {
      "text/plain": [
       "[['#', '#', '#', '#', '#', '#', '#', '#'],\n",
       " ['#', '.', '.', '#', '.', '.', '.', '#'],\n",
       " ['#', '#', '#', '#', '.', '#', '.', '#'],\n",
       " ['#', '.', '.', '#', '.', '.', '.', '#'],\n",
       " ['#', '#', '#', '#', '#', '#', '#', '#']]"
      ]
     },
     "execution_count": 11,
     "metadata": {},
     "output_type": "execute_result"
    }
   ],
   "source": [
    "grid"
   ]
  },
  {
   "cell_type": "code",
   "execution_count": 15,
   "id": "2a89e6d1-0a7c-4cf7-8f97-20c4c9c4ec3d",
   "metadata": {},
   "outputs": [],
   "source": [
    "V = [(x,y) for x in range(hoehe) for y in range(breite) if grid[x][y] != '#']"
   ]
  },
  {
   "cell_type": "code",
   "execution_count": 18,
   "id": "261a2d38-dd98-4210-b7b6-95df853a3054",
   "metadata": {},
   "outputs": [
    {
     "data": {
      "text/plain": [
       "{(1, 1): set(),\n",
       " (1, 2): set(),\n",
       " (1, 4): set(),\n",
       " (1, 5): set(),\n",
       " (1, 6): set(),\n",
       " (2, 4): set(),\n",
       " (2, 6): set(),\n",
       " (3, 1): set(),\n",
       " (3, 2): set(),\n",
       " (3, 4): set(),\n",
       " (3, 5): set(),\n",
       " (3, 6): set()}"
      ]
     },
     "execution_count": 18,
     "metadata": {},
     "output_type": "execute_result"
    }
   ],
   "source": [
    "G = {v: set() for v in V}"
   ]
  },
  {
   "cell_type": "code",
   "execution_count": 19,
   "id": "41557303-33e8-40d3-ac95-0c858442674d",
   "metadata": {},
   "outputs": [],
   "source": [
    "dirs = [(-1,0),(0,1),(1,0),(0,-1)]\n",
    "for v in G:\n",
    "    x, y = v\n",
    "    for xd, yd in dirs:\n",
    "        x1, y1 = x+xd, y+yd\n",
    "        if 0 <= x1 < hoehe and 0 <= y1 < breite and grid[x1][y1] != '#':\n",
    "            G[v].add((x1,y1))\n",
    "    "
   ]
  },
  {
   "cell_type": "code",
   "execution_count": 20,
   "id": "2cd4db81-52bb-4547-9bcf-6536206b3338",
   "metadata": {},
   "outputs": [
    {
     "data": {
      "text/plain": [
       "{(1, 1): {(1, 2)},\n",
       " (1, 2): {(1, 1)},\n",
       " (1, 4): {(1, 5), (2, 4)},\n",
       " (1, 5): {(1, 4), (1, 6)},\n",
       " (1, 6): {(1, 5), (2, 6)},\n",
       " (2, 4): {(1, 4), (3, 4)},\n",
       " (2, 6): {(1, 6), (3, 6)},\n",
       " (3, 1): {(3, 2)},\n",
       " (3, 2): {(3, 1)},\n",
       " (3, 4): {(2, 4), (3, 5)},\n",
       " (3, 5): {(3, 4), (3, 6)},\n",
       " (3, 6): {(2, 6), (3, 5)}}"
      ]
     },
     "execution_count": 20,
     "metadata": {},
     "output_type": "execute_result"
    }
   ],
   "source": [
    "G"
   ]
  },
  {
   "cell_type": "code",
   "execution_count": 22,
   "id": "36548d6e-3439-43a4-b078-529fca3fba3a",
   "metadata": {},
   "outputs": [
    {
     "name": "stdout",
     "output_type": "stream",
     "text": [
      "(1, 4) (1, 5) (1, 6) (2, 4) (2, 6) (3, 4) (3, 5) (3, 6)\n"
     ]
    }
   ],
   "source": [
    "visited =  {v : False for v in G}       \n",
    "def dfs(v):  \n",
    "    visited[v] = True\n",
    "    for w in G[v]:\n",
    "        if not visited[w]:\n",
    "            dfs(w) \n",
    "            \n",
    "s = (1,4) \n",
    "dfs(s)\n",
    "result = [v for v in G if visited[v]]            \n",
    "print(*result)"
   ]
  },
  {
   "cell_type": "code",
   "execution_count": 25,
   "id": "b268ea04-9104-4f9a-924a-4c871d07bb49",
   "metadata": {},
   "outputs": [
    {
     "name": "stdout",
     "output_type": "stream",
     "text": [
      "3\n"
     ]
    }
   ],
   "source": [
    "zaehl = 0\n",
    "visited =  {v : False for v in G}     \n",
    "for v in G:\n",
    "    if not visited[v]:\n",
    "        zaehl+=1\n",
    "        dfs(v)\n",
    "print(zaehl)        "
   ]
  },
  {
   "cell_type": "code",
   "execution_count": 1,
   "id": "706361fc-0b1d-45f1-8e74-fe2f360e1a46",
   "metadata": {},
   "outputs": [
    {
     "name": "stdout",
     "output_type": "stream",
     "text": [
      "3\n"
     ]
    }
   ],
   "source": [
    "def dfs(v):  \n",
    "    visited[v] = True\n",
    "    for w in G[v]:\n",
    "        if not visited[w]:\n",
    "            dfs(w) \n",
    "\n",
    "# einlesen und grid erstellen\n",
    "f = open('input.txt')\n",
    "hoehe, breite = [int(x) for x in f.readline().split()]\n",
    "grid = []\n",
    "for _ in range(hoehe):\n",
    "    grid.append(list(f.readline().strip()))\n",
    "f.close()\n",
    "\n",
    "# Graph erstellen\n",
    "V = [(x,y) for x in range(hoehe) for y in range(breite) if grid[x][y] != '#']\n",
    "G = {v: set() for v in V}\n",
    "dirs = [(-1,0),(0,1),(1,0),(0,-1)]\n",
    "for v in G:\n",
    "    x, y = v\n",
    "    for xd, yd in dirs:\n",
    "        x1, y1 = x+xd, y+yd\n",
    "        if 0 <= x1 < hoehe and 0 <= y1 < breite and grid[x1][y1] != '#':\n",
    "            G[v].add((x1,y1))\n",
    "\n",
    "zaehl = 0\n",
    "visited =  {v : False for v in G}     \n",
    "for v in G:\n",
    "    if not visited[v]:\n",
    "        zaehl+=1\n",
    "        dfs(v)\n",
    "print(zaehl)   "
   ]
  },
  {
   "cell_type": "code",
   "execution_count": null,
   "id": "43c0b930-234a-48c5-9d32-aed3f7279082",
   "metadata": {},
   "outputs": [],
   "source": []
  }
 ],
 "metadata": {
  "kernelspec": {
   "display_name": "Python 3 (ipykernel)",
   "language": "python",
   "name": "python3"
  },
  "language_info": {
   "codemirror_mode": {
    "name": "ipython",
    "version": 3
   },
   "file_extension": ".py",
   "mimetype": "text/x-python",
   "name": "python",
   "nbconvert_exporter": "python",
   "pygments_lexer": "ipython3",
   "version": "3.11.2"
  }
 },
 "nbformat": 4,
 "nbformat_minor": 5
}
