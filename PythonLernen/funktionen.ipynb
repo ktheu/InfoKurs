{
 "cells": [
  {
   "cell_type": "markdown",
   "metadata": {
    "slideshow": {
     "slide_type": "slide"
    }
   },
   "source": [
    "## Funktionen\n",
    "\n",
    "Funktionen beginnen mit dem Schlüsselwort **def**. Sie haben\n",
    " - einen Namen\n",
    " - Parameter (0 oder mehr)\n",
    " - einen docstring (optional, aber empfohlen)\n",
    " - einen Funktionsrumpf\n",
    " \n",
    "Mit *return* können Funktionen eine Wert zurückgeben. Fehlt *return* wird *None* zurückgegeben."
   ]
  },
  {
   "cell_type": "markdown",
   "metadata": {
    "slideshow": {
     "slide_type": "slide"
    }
   },
   "source": [
    "###  Funktionen ohne return"
   ]
  },
  {
   "cell_type": "code",
   "execution_count": 26,
   "metadata": {
    "slideshow": {
     "slide_type": "fragment"
    }
   },
   "outputs": [],
   "source": [
    "def sterne():\n",
    "    print('*****')"
   ]
  },
  {
   "cell_type": "code",
   "execution_count": 27,
   "metadata": {
    "slideshow": {
     "slide_type": "fragment"
    }
   },
   "outputs": [
    {
     "name": "stdout",
     "output_type": "stream",
     "text": [
      "*****\n",
      "*****\n"
     ]
    }
   ],
   "source": [
    "sterne()\n",
    "sterne()"
   ]
  },
  {
   "cell_type": "code",
   "execution_count": 28,
   "metadata": {
    "slideshow": {
     "slide_type": "fragment"
    }
   },
   "outputs": [
    {
     "name": "stdout",
     "output_type": "stream",
     "text": [
      "*****\n",
      "None\n"
     ]
    }
   ],
   "source": [
    "a = sterne()              # die Funktion tut etwas, aber sie gibt nichts zurück\n",
    "print(a)"
   ]
  },
  {
   "cell_type": "markdown",
   "metadata": {
    "slideshow": {
     "slide_type": "slide"
    }
   },
   "source": [
    "### Funktionen mit return\n"
   ]
  },
  {
   "cell_type": "code",
   "execution_count": 29,
   "metadata": {
    "slideshow": {
     "slide_type": "fragment"
    }
   },
   "outputs": [],
   "source": [
    "def sterne():\n",
    "    return '*****'"
   ]
  },
  {
   "cell_type": "code",
   "execution_count": 30,
   "metadata": {
    "slideshow": {
     "slide_type": "fragment"
    }
   },
   "outputs": [
    {
     "name": "stdout",
     "output_type": "stream",
     "text": [
      "*****\n"
     ]
    }
   ],
   "source": [
    "a = sterne()\n",
    "print(a)"
   ]
  },
  {
   "cell_type": "markdown",
   "metadata": {
    "slideshow": {
     "slide_type": "slide"
    }
   },
   "source": [
    "### Funktionen mit Parameter"
   ]
  },
  {
   "cell_type": "code",
   "execution_count": 37,
   "metadata": {
    "slideshow": {
     "slide_type": "fragment"
    }
   },
   "outputs": [
    {
     "name": "stdout",
     "output_type": "stream",
     "text": [
      "*****\n"
     ]
    }
   ],
   "source": [
    "def sterne(k):        \n",
    "    return k * '*'      \n",
    "\n",
    "b = sterne(5)           # k erhält durch den Aufruf den Wert 12\n",
    "print(b)\n",
    "\n"
   ]
  },
  {
   "cell_type": "code",
   "execution_count": 38,
   "metadata": {
    "slideshow": {
     "slide_type": "slide"
    }
   },
   "outputs": [
    {
     "name": "stdout",
     "output_type": "stream",
     "text": [
      "************\n",
      "***\n"
     ]
    }
   ],
   "source": [
    "def sterne(k = 3):       # k ist optionaler Paramenter mit default 3 \n",
    "    return k * '*' \n",
    "\n",
    "print(sterne(12)) \n",
    "print(sterne()) "
   ]
  },
  {
   "cell_type": "markdown",
   "metadata": {
    "slideshow": {
     "slide_type": "slide"
    }
   },
   "source": [
    "Der *docstring* beschreibt die Anforderungen an die Eingabeparameter und was die Funktion zurückgibt."
   ]
  },
  {
   "cell_type": "code",
   "execution_count": 39,
   "metadata": {
    "slideshow": {
     "slide_type": "fragment"
    }
   },
   "outputs": [],
   "source": [
    "def zeichen(k, s):       \n",
    "    '''\n",
    "    k: positive ganze Zahl\n",
    "    s: String \n",
    "    returns: k mal den String\n",
    "    '''\n",
    "    return k * s"
   ]
  },
  {
   "cell_type": "markdown",
   "metadata": {},
   "source": [
    "Der *docstring* kann mit *help* angezeigt werden."
   ]
  },
  {
   "cell_type": "code",
   "execution_count": 42,
   "metadata": {},
   "outputs": [
    {
     "name": "stdout",
     "output_type": "stream",
     "text": [
      "abiabiabiabi\n"
     ]
    }
   ],
   "source": [
    "a = zeichen(4,'abi')\n",
    "print(a)"
   ]
  },
  {
   "cell_type": "code",
   "execution_count": 40,
   "metadata": {
    "slideshow": {
     "slide_type": "fragment"
    }
   },
   "outputs": [
    {
     "name": "stdout",
     "output_type": "stream",
     "text": [
      "Help on function zeichen in module __main__:\n",
      "\n",
      "zeichen(k, s)\n",
      "    k: positive ganze Zahl\n",
      "    s: String \n",
      "    returns: k mal den String\n",
      "\n"
     ]
    }
   ],
   "source": [
    "help(zeichen)"
   ]
  },
  {
   "cell_type": "code",
   "execution_count": 43,
   "metadata": {
    "slideshow": {
     "slide_type": "slide"
    }
   },
   "outputs": [],
   "source": [
    "def zeichen(k, s ='*'):    # optionale Parameter am Ende der Parameterliste\n",
    "    '''\n",
    "    k: positive ganze Zahl\n",
    "    s: String\n",
    "    returns: k mal den String\n",
    "    '''\n",
    "    return k * s\n"
   ]
  },
  {
   "cell_type": "code",
   "execution_count": 44,
   "metadata": {
    "slideshow": {
     "slide_type": "fragment"
    }
   },
   "outputs": [
    {
     "name": "stdout",
     "output_type": "stream",
     "text": [
      "#*#*#*#*#* ********************\n"
     ]
    }
   ],
   "source": [
    "s1 = zeichen(5,'#*')\n",
    "s2 = zeichen(20)\n",
    "print(s1, s2)"
   ]
  },
  {
   "cell_type": "markdown",
   "metadata": {
    "slideshow": {
     "slide_type": "slide"
    }
   },
   "source": [
    "In einer Funktion kann es mehrere return Anweisungen geben, aber bei der ersten Ausführung von return wird die Funktion sofort verlassen."
   ]
  },
  {
   "cell_type": "code",
   "execution_count": 45,
   "metadata": {
    "slideshow": {
     "slide_type": "fragment"
    }
   },
   "outputs": [],
   "source": [
    "def temperatur(k):\n",
    "    if k >= 30: return 'heiß'\n",
    "    if k >= 15: return 'warm'\n",
    "    return 'kalt'\n"
   ]
  },
  {
   "cell_type": "code",
   "execution_count": 48,
   "metadata": {
    "slideshow": {
     "slide_type": "fragment"
    }
   },
   "outputs": [
    {
     "name": "stdout",
     "output_type": "stream",
     "text": [
      "kalt\n"
     ]
    }
   ],
   "source": [
    "print(temperatur(10))"
   ]
  },
  {
   "cell_type": "markdown",
   "metadata": {
    "slideshow": {
     "slide_type": "slide"
    }
   },
   "source": [
    "### Mehrere Werte zurückgeben\n",
    "\n",
    "Wir können mit Komma getrennt mehrere Werte zurückgeben."
   ]
  },
  {
   "cell_type": "code",
   "execution_count": 49,
   "metadata": {
    "slideshow": {
     "slide_type": "fragment"
    }
   },
   "outputs": [
    {
     "name": "stdout",
     "output_type": "stream",
     "text": [
      "214 durch 70 ist 3 Rest 4.\n"
     ]
    }
   ],
   "source": [
    "def teile(a, b):\n",
    "    return a // b, a % b\n",
    "\n",
    "a, b = 214, 70\n",
    "x, y = teile(a, b)         \n",
    "print(f'{a} durch {b} ist {x} Rest {y}.')"
   ]
  },
  {
   "cell_type": "markdown",
   "metadata": {
    "slideshow": {
     "slide_type": "slide"
    }
   },
   "source": [
    "### Wie wir Funktionen schreiben\n",
    "**Funktionen sollten alles, was sie für ihre Arbeit benötigen, über die Parameter erhalten und alle Ergebnisse mittels return zurückgeben.** Wir werden in der Regel keine input- oder print-Anweisungen innerhalb von Funktionen verwenden. (Ausnahme: Funktionen, deren alleiniger Zweck die Ein- oder Ausgabe ist)."
   ]
  },
  {
   "cell_type": "code",
   "execution_count": 50,
   "metadata": {
    "slideshow": {
     "slide_type": "slide"
    }
   },
   "outputs": [
    {
     "name": "stdin",
     "output_type": "stream",
     "text": [
      "Bitte eine positive ganze Zahl eingeben:  24\n",
      "Bitte noch eine positive ganze Zahl eingeben:  8\n"
     ]
    },
    {
     "name": "stdout",
     "output_type": "stream",
     "text": [
      "Der größte gemeinsame Teiler beider Zahlen ist 8.\n"
     ]
    }
   ],
   "source": [
    "# SO NICHT:\n",
    "def ggt():\n",
    "    a = int(input('Bitte eine positive ganze Zahl eingeben: '))\n",
    "    b = int(input('Bitte noch eine positive ganze Zahl eingeben: '))\n",
    "    while a != b:\n",
    "        if a > b:\n",
    "            a = a - b\n",
    "        else:\n",
    "            b = b - a\n",
    "\n",
    "    print(f'Der größte gemeinsame Teiler beider Zahlen ist {a}.')\n",
    "    \n",
    "ggt()"
   ]
  },
  {
   "cell_type": "code",
   "execution_count": 52,
   "metadata": {
    "slideshow": {
     "slide_type": "slide"
    }
   },
   "outputs": [
    {
     "name": "stdin",
     "output_type": "stream",
     "text": [
      "Bitte eine positive ganze Zahl eingeben:  24\n",
      "Bitte noch eine positive ganze Zahl eingeben:  16\n"
     ]
    },
    {
     "name": "stdout",
     "output_type": "stream",
     "text": [
      "Der größte gemeinsame Teiler beider Zahlen ist 8.\n"
     ]
    }
   ],
   "source": [
    "# SONDERN SO:\n",
    "def ggt(a, b):\n",
    "    '''\n",
    "    a, b: positive ganze Zahl\n",
    "    returns: größten gemeinsamen Teiler von a und b\n",
    "    '''\n",
    "    while a != b:\n",
    "        if a > b:\n",
    "            a = a - b\n",
    "        else:\n",
    "            b = b - a\n",
    "    return a\n",
    "\n",
    "\n",
    "a = int(input('Bitte eine positive ganze Zahl eingeben: '))\n",
    "b = int(input('Bitte noch eine positive ganze Zahl eingeben: '))\n",
    "print(f'Der größte gemeinsame Teiler beider Zahlen ist {ggt(a,b)}.')"
   ]
  },
  {
   "cell_type": "markdown",
   "metadata": {
    "slideshow": {
     "slide_type": "slide"
    }
   },
   "source": [
    "### Lokale und globale Variablen\n"
   ]
  },
  {
   "cell_type": "markdown",
   "metadata": {
    "slideshow": {
     "slide_type": "fragment"
    }
   },
   "source": [
    "Variablen, die außerhalb der Funktionen definiert werden, heißen *globale Variablen* und gehören zum *global frame*. Beim Aufruf einer Funktion entsteht ein neuer *frame* für die *lokalen Variablen*. Dies lässt sich gut im \n",
    "[Python Tutor](http://www.pythontutor.com/visualize.html#mode=edit) verfolgen."
   ]
  },
  {
   "cell_type": "markdown",
   "metadata": {
    "slideshow": {
     "slide_type": "slide"
    }
   },
   "source": [
    "Funktionen können auf globale Variablen lesend zugreifen."
   ]
  },
  {
   "cell_type": "code",
   "execution_count": 54,
   "metadata": {
    "slideshow": {
     "slide_type": "fragment"
    }
   },
   "outputs": [
    {
     "name": "stdout",
     "output_type": "stream",
     "text": [
      "12\n"
     ]
    }
   ],
   "source": [
    "x = 10      # globale Variable\n",
    "def doit():\n",
    "    y = x + 2\n",
    "    return y\n",
    "\n",
    "z = doit()\n",
    "print(z)"
   ]
  },
  {
   "cell_type": "markdown",
   "metadata": {
    "slideshow": {
     "slide_type": "slide"
    }
   },
   "source": [
    "Lokale Variablen verdecken gleichnamige globale Variablen."
   ]
  },
  {
   "cell_type": "code",
   "execution_count": 55,
   "metadata": {
    "slideshow": {
     "slide_type": "fragment"
    }
   },
   "outputs": [
    {
     "name": "stdout",
     "output_type": "stream",
     "text": [
      "7\n",
      "10\n"
     ]
    }
   ],
   "source": [
    "x = 10       \n",
    "def doit():\n",
    "    x = 5  \n",
    "    y = x + 2\n",
    "    return y\n",
    "\n",
    "z = doit()\n",
    "print(z)\n",
    "print(x)"
   ]
  },
  {
   "cell_type": "markdown",
   "metadata": {
    "slideshow": {
     "slide_type": "slide"
    }
   },
   "source": [
    "Ein Parameter wirkt wie eine lokale Variable"
   ]
  },
  {
   "cell_type": "code",
   "execution_count": null,
   "metadata": {
    "slideshow": {
     "slide_type": "fragment"
    }
   },
   "outputs": [],
   "source": [
    "x = 10       \n",
    "def doit(x):\n",
    "    y = x + 2\n",
    "    return y\n",
    "\n",
    "z = doit(5)\n",
    "print(z)"
   ]
  },
  {
   "cell_type": "markdown",
   "metadata": {
    "slideshow": {
     "slide_type": "slide"
    }
   },
   "source": [
    "Um eine globale Variable in einer Funktion zu verändern, müssen wir diese Variable als global deklarieren."
   ]
  },
  {
   "cell_type": "code",
   "execution_count": null,
   "metadata": {
    "slideshow": {
     "slide_type": "fragment"
    }
   },
   "outputs": [],
   "source": [
    "x = 10       \n",
    "def doit():\n",
    "    global x\n",
    "    x = 7\n",
    "\n",
    "doit()    \n",
    "print(x)"
   ]
  },
  {
   "cell_type": "markdown",
   "metadata": {
    "slideshow": {
     "slide_type": "slide"
    }
   },
   "source": [
    "In der Regel gilt: **Funktionen sollten für ihre Arbeit keine globalen Variablen benötigen, sondern nur ihre Parameter.**"
   ]
  },
  {
   "cell_type": "markdown",
   "metadata": {},
   "source": [
    "Manchmal erlauben wir uns (aus Bequemlichkeitsgründen) auch Ausnahmen von dieser Regel."
   ]
  }
 ],
 "metadata": {
  "celltoolbar": "Slideshow",
  "kernelspec": {
   "display_name": "Python 3 (ipykernel)",
   "language": "python",
   "name": "python3"
  },
  "language_info": {
   "codemirror_mode": {
    "name": "ipython",
    "version": 3
   },
   "file_extension": ".py",
   "mimetype": "text/x-python",
   "name": "python",
   "nbconvert_exporter": "python",
   "pygments_lexer": "ipython3",
   "version": "3.11.2"
  }
 },
 "nbformat": 4,
 "nbformat_minor": 4
}
