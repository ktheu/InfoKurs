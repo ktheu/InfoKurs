{
 "cells": [
  {
   "cell_type": "markdown",
   "id": "b9c8fff8-9379-47a5-be83-f49cce2e16e4",
   "metadata": {},
   "source": [
    "### Aufgaben zu Codierung ganzer Zahlen\n",
    "\n",
    "#### Umwandlung von Bitfolgen\n"
   ]
  },
  {
   "cell_type": "code",
   "execution_count": 7,
   "id": "7684fe4c-9ece-44e5-b435-eacd03a63670",
   "metadata": {},
   "outputs": [
    {
     "name": "stdout",
     "output_type": "stream",
     "text": [
      "Wandle die Bitfolge in eine Folge von Vierergruppen mit hexadezimalen Ziffern um:\n",
      "0111 0110 1001 0111 0011 0001 0000 0001 1100 0010 1111 0001 \n"
     ]
    }
   ],
   "source": [
    "import random\n",
    "a = [random.choice(['0','1']) for i in range(4*12)]\n",
    "bitfolge = ''\n",
    "zaehler = 0\n",
    "for c in a:\n",
    "    bitfolge+=c;\n",
    "    zaehler+=1\n",
    "    if zaehler % 4 == 0:\n",
    "        bitfolge+=' '\n",
    "print('Wandle die Bitfolge in eine Folge von Vierergruppen mit hexadezimalen Ziffern um:')\n",
    "print(bitfolge)\n",
    "\n",
    "blist = bitfolge.split()\n",
    "hexfolge = ''\n",
    "zaehler = 0\n",
    "for s in blist:\n",
    "    hzahl = hex(eval('0b'+s))\n",
    "    hstring = str(hzahl)[-1].upper()\n",
    "    hexfolge += hstring\n",
    "    zaehler += 1\n",
    "    if zaehler % 4 == 0:\n",
    "        hexfolge+=' '\n"
   ]
  },
  {
   "cell_type": "code",
   "execution_count": 9,
   "id": "86a10360-aa52-45f7-8759-9796902f2c3f",
   "metadata": {},
   "outputs": [
    {
     "name": "stdout",
     "output_type": "stream",
     "text": [
      "Lösung:\n"
     ]
    }
   ],
   "source": [
    "print('Lösung:')\n",
    "#print(hexfolge)"
   ]
  },
  {
   "cell_type": "markdown",
   "id": "41b98c92-8c8f-42de-aca5-080962a70afb",
   "metadata": {},
   "source": [
    "#### Umwandlung von Dezimalzahl ins Binärsystem"
   ]
  },
  {
   "cell_type": "code",
   "execution_count": 26,
   "id": "0e7d27c8-219f-4f5e-84e1-a7d277ec0355",
   "metadata": {},
   "outputs": [],
   "source": [
    "def dez_dual(x):\n",
    "    zahl = x\n",
    "    print(\"{:5d} \".format(zahl))\n",
    "\n",
    "    s = \"\"\n",
    "    while x != 0:\n",
    "        print(\"{:5d} {:3d}\".format(x//2,x%2))\n",
    "        s = str(x%2) + s\n",
    "        x = x // 2\n",
    "    print(\"Die Binärdarstellung von \" + str(zahl) + \" ist \" + s)"
   ]
  },
  {
   "cell_type": "code",
   "execution_count": 17,
   "id": "0a0d7404-4f07-4fe7-b9db-e6bcdd6d0832",
   "metadata": {},
   "outputs": [
    {
     "name": "stdout",
     "output_type": "stream",
     "text": [
      "Wandle nach dem Verfahren aus dem Unterricht die Dezimalzahl 683 in das Binärsystemen um.\n"
     ]
    }
   ],
   "source": [
    "x = 683\n",
    "print(f'Wandle nach dem Verfahren aus dem Unterricht die Dezimalzahl {x} in das Binärsystemen um.')\n"
   ]
  },
  {
   "cell_type": "code",
   "execution_count": 25,
   "id": "84c7194d-ecd8-47c4-9238-5b42318c7dc8",
   "metadata": {},
   "outputs": [
    {
     "name": "stdout",
     "output_type": "stream",
     "text": [
      "Lösung:\n"
     ]
    }
   ],
   "source": [
    "print('Lösung:')\n",
    "#dez_dual(x)"
   ]
  },
  {
   "cell_type": "markdown",
   "id": "939bfa3e-e3d1-494b-99dd-91f1a469fa61",
   "metadata": {},
   "source": [
    "#### Umwandlung von Dezimalzahl ins Oktalsystem"
   ]
  },
  {
   "cell_type": "code",
   "execution_count": 27,
   "id": "d65d1dc7-de3a-4848-ada7-c7de3ca428c8",
   "metadata": {},
   "outputs": [],
   "source": [
    "def dez_okt(x):\n",
    "    zahl = x\n",
    "    print(\"{:5d} \".format(zahl))\n",
    "\n",
    "    s = \"\"\n",
    "    while x != 0:\n",
    "        h = str(oct(x%8))[2].upper()\n",
    "        print(\"{:5d} {:3s}\".format(x//8,h))\n",
    "        s = h + s\n",
    "        x = x // 8\n",
    "    print(\"Die Oktaldarstellung von \" + str(zahl) + \" ist \" + s)"
   ]
  },
  {
   "cell_type": "code",
   "execution_count": 29,
   "id": "308c2c50-e67c-463a-bbdd-2fed7d95e6e3",
   "metadata": {},
   "outputs": [
    {
     "name": "stdout",
     "output_type": "stream",
     "text": [
      "Wandle nach dem Verfahren aus dem Unterricht die Dezimalzahl 750 in das Oktalsystem um.\n"
     ]
    }
   ],
   "source": [
    "x = 750\n",
    "print(f'Wandle nach dem Verfahren aus dem Unterricht die Dezimalzahl {x} in das Oktalsystem um.')"
   ]
  },
  {
   "cell_type": "code",
   "execution_count": 30,
   "id": "e08f1f6f-d184-4e16-b1c0-95fe90c6b72e",
   "metadata": {},
   "outputs": [
    {
     "name": "stdout",
     "output_type": "stream",
     "text": [
      "Lösung:\n"
     ]
    }
   ],
   "source": [
    "print('Lösung:')\n",
    "#dez_okt(x)"
   ]
  },
  {
   "cell_type": "markdown",
   "id": "c46d9e21-146e-42ab-a8f5-aed23c5c2c44",
   "metadata": {},
   "source": [
    "#### Umwandlung von Dezimalzahl ins Hexadezimalsystem"
   ]
  },
  {
   "cell_type": "code",
   "execution_count": 31,
   "id": "d327f58c-d02b-4628-a442-7529b190a332",
   "metadata": {},
   "outputs": [],
   "source": [
    "def dez_hex(x):\n",
    "    zahl = x\n",
    "    print(\"{:5d} \".format(zahl))\n",
    "\n",
    "    s = \"\"\n",
    "    while x != 0:\n",
    "        h = str(hex(x%16))[2].upper()\n",
    "        print(\"{:5d} {:3s}\".format(x//16,h))\n",
    "        s = h + s\n",
    "        x = x // 16\n",
    "    print(\"Die Hexadezimaldarstellung von \" + str(zahl) + \" ist \" + s)\n",
    "\n",
    " "
   ]
  },
  {
   "cell_type": "code",
   "execution_count": 32,
   "id": "2621088b-30a3-48a7-9411-b4596fe42c30",
   "metadata": {},
   "outputs": [
    {
     "name": "stdout",
     "output_type": "stream",
     "text": [
      "Wandle nach dem Verfahren aus dem Unterricht die Dezimalzahl 6432 in das Hexadezimalsystem um.\n"
     ]
    }
   ],
   "source": [
    "x = 6432\n",
    "print(f'Wandle nach dem Verfahren aus dem Unterricht die Dezimalzahl {x} in das Hexadezimalsystem um.')"
   ]
  },
  {
   "cell_type": "code",
   "execution_count": 35,
   "id": "c046d046-bfd6-4965-82ed-ad909986e15e",
   "metadata": {},
   "outputs": [
    {
     "name": "stdout",
     "output_type": "stream",
     "text": [
      "Lösung:\n"
     ]
    }
   ],
   "source": [
    "print('Lösung:')\n",
    "#dez_hex(x)"
   ]
  },
  {
   "cell_type": "markdown",
   "id": "af158e97-6b02-45c3-afac-898f3ebb72a1",
   "metadata": {},
   "source": [
    "#### Negative Zahl im Zweierkomplement"
   ]
  },
  {
   "cell_type": "code",
   "execution_count": 40,
   "id": "1c50ed23-84a2-4206-8623-884c0cf0ce65",
   "metadata": {},
   "outputs": [],
   "source": [
    "def zweierkomplement(x):\n",
    "    x = -x\n",
    "\n",
    "    print(\"{:>20s} {:4d} : {:0>8s}\".format(\"Codierung von\",x,bin(x)[2:]))\n",
    "    print(\"-\"*40)\n",
    "    print(\"{:>20s} {:4s} : {:0>8s}\".format('bitweise Negation',' ',bin(255-x)[2:]))\n",
    "    print(\"{:>20s} {:4s} : {:0>8s}\".format('plus 1',' ',bin(1)[2:]))\n",
    "    print(\"-\"*40)\n",
    "    print(\"{:>20s} {:4d} : {:0>8s}\".format('Codierung von',-x,bin(256-x)[2:]))"
   ]
  },
  {
   "cell_type": "code",
   "execution_count": 39,
   "id": "42c2f777-35ac-46ff-a3c9-8ea4fd25f5a9",
   "metadata": {},
   "outputs": [
    {
     "name": "stdout",
     "output_type": "stream",
     "text": [
      "Wandle nach dem Verfahren aus dem Unterricht die Zahl -104\n",
      "in die 8-Bit Zweierkomplement Darstellung.\n"
     ]
    }
   ],
   "source": [
    "x = -104\n",
    "print(f'Wandle nach dem Verfahren aus dem Unterricht die Zahl {x}') \n",
    "print(f'in die 8-Bit Zweierkomplement Darstellung.')"
   ]
  },
  {
   "cell_type": "code",
   "execution_count": 44,
   "id": "ab26c949-608f-4119-90f2-207caa890e08",
   "metadata": {},
   "outputs": [
    {
     "name": "stdout",
     "output_type": "stream",
     "text": [
      "Lösung:\n"
     ]
    }
   ],
   "source": [
    "print('Lösung:')\n",
    "#zweierkomplement(x)"
   ]
  },
  {
   "cell_type": "markdown",
   "id": "24107ee2-785e-43f5-81d6-f6adf701880a",
   "metadata": {},
   "source": [
    "#### Rückrechnung aus dem Zweierkomplement"
   ]
  },
  {
   "cell_type": "code",
   "execution_count": 47,
   "id": "97833639-4821-458c-97a8-d81674ed861b",
   "metadata": {},
   "outputs": [],
   "source": [
    "def zweierkomplementZurueck(s):\n",
    "    print(\"{:>20s} {:4s} : {:0>8s}\".format(\"Gegebene Codierung\",' ',s))\n",
    "    print(\"{:>20s} {:4s} : {:0>8s}\".format(\"Addition von -1\",' ','11111111'))\n",
    "    print(\"-\"*40)\n",
    "    b = eval('0b'+s)\n",
    "    b1 = b-1\n",
    "    print(\"{:>20s} {:4s} : {:0>8s}\".format('Ergebnis',' ',bin(b1)[2:]))\n",
    "    print(\"{:>20s} {:4s} : {:0>8s}\".format('bitweise Negation',' ',bin(255-b1)[2:]))\n",
    "    print(\"-\"*40)\n",
    "    print(\"{:>20s} {:4s} : {: >8d}\".format('Umrechnung ',' ',256-b))\n",
    "    print(\"Die gegebene Codierung stellt die Zahl {:} dar.\".format(b-256))"
   ]
  },
  {
   "cell_type": "code",
   "execution_count": 50,
   "id": "188b155e-ab5d-4ea3-95de-17c48c83db63",
   "metadata": {},
   "outputs": [
    {
     "name": "stdout",
     "output_type": "stream",
     "text": [
      "Ermittle nach dem Verfahren aus dem Unterricht, welche Zahl in der\n",
      "8-Bit Zweierkomplement Darstellung die Codierung 10111100 hat.\n"
     ]
    }
   ],
   "source": [
    "s = '10111100'\n",
    "print(f'Ermittle nach dem Verfahren aus dem Unterricht, welche Zahl in der')\n",
    "print(f'8-Bit Zweierkomplement Darstellung die Codierung {s} hat.')\n",
    " "
   ]
  },
  {
   "cell_type": "code",
   "execution_count": 51,
   "id": "d9e221a9-c836-4145-9e58-17db86540a4f",
   "metadata": {},
   "outputs": [
    {
     "name": "stdout",
     "output_type": "stream",
     "text": [
      "  Gegebene Codierung      : 10111100\n",
      "     Addition von -1      : 11111111\n",
      "----------------------------------------\n",
      "            Ergebnis      : 10111011\n",
      "   bitweise Negation      : 01000100\n",
      "----------------------------------------\n",
      "         Umrechnung       :       68\n",
      "Die gegebene Codierung stellt die Zahl -68 dar.\n"
     ]
    }
   ],
   "source": [
    "zweierkomplementZurueck(s)"
   ]
  },
  {
   "cell_type": "code",
   "execution_count": null,
   "id": "351a8d13-dfa6-4988-b884-ba9301d278a7",
   "metadata": {},
   "outputs": [],
   "source": []
  }
 ],
 "metadata": {
  "kernelspec": {
   "display_name": "Python 3 (ipykernel)",
   "language": "python",
   "name": "python3"
  },
  "language_info": {
   "codemirror_mode": {
    "name": "ipython",
    "version": 3
   },
   "file_extension": ".py",
   "mimetype": "text/x-python",
   "name": "python",
   "nbconvert_exporter": "python",
   "pygments_lexer": "ipython3",
   "version": "3.10.6"
  }
 },
 "nbformat": 4,
 "nbformat_minor": 5
}
