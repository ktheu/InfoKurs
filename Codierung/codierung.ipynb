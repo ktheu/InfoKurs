{
 "cells": [
  {
   "cell_type": "markdown",
   "id": "9090844b",
   "metadata": {
    "slideshow": {
     "slide_type": "slide"
    }
   },
   "source": [
    "## Codierung ganzer Zahlen\n",
    "\n",
    "### Information und Daten\n",
    "\n",
    "**Information** muss immer in geeigneter Weise dargestellt werden, um sie als **Daten** maschinell weiterverarbeiten zu können. \n",
    "Aus Daten gewinnt man erst dann Information, wenn sie gedeutet werden können."
   ]
  },
  {
   "cell_type": "markdown",
   "id": "6b2f372a-ac0e-44bf-93e0-277bc5e326c8",
   "metadata": {
    "slideshow": {
     "slide_type": "slide"
    }
   },
   "source": [
    "<img src='bild1.png' width='350'>"
   ]
  },
  {
   "cell_type": "markdown",
   "id": "2fd44f8f",
   "metadata": {
    "slideshow": {
     "slide_type": "slide"
    }
   },
   "source": [
    "### Bit und Byte\n",
    "\n",
    "Zur Darstellung von Information nutzt man häufig Systeme, die nur zwei Zustände einnehmen können: \n",
    " an/aus; geladen/ungeladen; Strom fließt/Strom fließt nicht; magnetisiert/unmagnetisiert.\n",
    " "
   ]
  },
  {
   "cell_type": "markdown",
   "id": "7f4aece2",
   "metadata": {
    "slideshow": {
     "slide_type": "fragment"
    }
   },
   "source": [
    " \n",
    "Die beiden Zustände eines Zweizustandssystems werden in der Regel mit Hilfe der beiden Ziffern 0 und 1 beschrieben."
   ]
  },
  {
   "cell_type": "markdown",
   "id": "60a00155",
   "metadata": {
    "slideshow": {
     "slide_type": "slide"
    }
   },
   "source": [
    "Unter einem **Bit** versteht man eine Einheit zur Informationsdarstellung, die nur zwei Werte annehmen kann: 0 und 1. \n",
    "Unter einem **Byte** versteht man eine Einheit aus 8 Bits."
   ]
  },
  {
   "cell_type": "markdown",
   "id": "b2ec66e0",
   "metadata": {
    "slideshow": {
     "slide_type": "fragment"
    }
   },
   "source": [
    "Werden die Daten nur mit Bits dargestellt spricht man von **Binärdarstellung der Daten**. "
   ]
  },
  {
   "cell_type": "markdown",
   "id": "b9203eef",
   "metadata": {
    "slideshow": {
     "slide_type": "slide"
    }
   },
   "source": [
    "```\n",
    "1 Byte            8 Bit\n",
    "1 Kilobyte (KB)   1000 Byte\n",
    "1 Megabyte (MB)   1000 KB\n",
    "1 Gigabyte (GB)   1000 MB\n",
    "```"
   ]
  },
  {
   "cell_type": "markdown",
   "id": "a4ee2f05",
   "metadata": {
    "slideshow": {
     "slide_type": "fragment"
    }
   },
   "source": [
    "Die folgenden Einheiten bauen auf Zweierpotenzen statt auf Zehnerpotenzen auf:\n",
    "```\n",
    "1 Byte            8 Bit\n",
    "1 Kibibyte (KiB)   1024 Byte\n",
    "1 Mebibyte (MiB)   1024 KB\n",
    "1 Gibibyte (GiB)   1024 MB\n",
    "```"
   ]
  },
  {
   "cell_type": "markdown",
   "id": "5c02b632-dc16-462f-9d83-3d5c0b88e29d",
   "metadata": {
    "slideshow": {
     "slide_type": "slide"
    }
   },
   "source": [
    "Die beiden Einheiten werden manchmal mit derselben Abkürzung benutzt, was zu Verwirrung führen kann. Ein 16GB USB-Stick wird im Windows Explorer so angezeigt:\n",
    "\n",
    "<img src='bild3.png'>"
   ]
  },
  {
   "cell_type": "code",
   "execution_count": 1,
   "id": "7779399b-bcdb-4976-833f-3bd82a0ac1f0",
   "metadata": {
    "slideshow": {
     "slide_type": "fragment"
    }
   },
   "outputs": [
    {
     "data": {
      "text/plain": [
       "15998753177.6"
      ]
     },
     "execution_count": 1,
     "metadata": {},
     "output_type": "execute_result"
    }
   ],
   "source": [
    "# 14.9 Gibibyte = 16 Gigabyte\n",
    "14.9*1024*1024*1024"
   ]
  },
  {
   "cell_type": "markdown",
   "id": "ae973f92-7d39-44d4-95a5-faa2ae5b1389",
   "metadata": {
    "slideshow": {
     "slide_type": "slide"
    }
   },
   "source": [
    "### Zahlsysteme"
   ]
  },
  {
   "cell_type": "markdown",
   "id": "64fb5b8c",
   "metadata": {
    "slideshow": {
     "slide_type": "fragment"
    }
   },
   "source": [
    "```\n",
    "Dezimalzahlen:     10 Ziffern: 0,1,2,...9                4719\n",
    "Dualzahlen:         2 Ziffern: 0,1                       10010 \n",
    "Oktalzahlen:        8 Ziffern: 0,1,2,...7                273 \n",
    "Hexadezimalzahlen: 16 Ziffern: 0,1,2,...9,A,B,C,D,E,F    E52F \n",
    "```"
   ]
  },
  {
   "cell_type": "markdown",
   "id": "e9bdc97e",
   "metadata": {
    "slideshow": {
     "slide_type": "fragment"
    }
   },
   "source": [
    "$(4719)_{10} =   9 \\cdot 10^0 + 1 \\cdot 10^1 + 7 \\cdot 10^2 + 4 \\cdot 10^3$ <br>\n",
    "$(273)_{8} = 3 \\cdot 8^0 + 7 \\cdot 8^1 + 2 \\cdot 8^2 = (187)_{10}$ <br>\n",
    "$(10010)_{2} =   0 \\cdot 2^0 + 1 \\cdot 2^1 + 0 \\cdot 2^2 + 0 \\cdot 2^3 + 1 \\cdot 2^4 = (18)_{10}$ <br>\n",
    "$(E52F)_{16} =  15 \\cdot 16^0 + 2 \\cdot 16^1 + 5 \\cdot 16^2 + 14 \\cdot 16^3 = (58671)_{10}$"
   ]
  },
  {
   "cell_type": "markdown",
   "id": "3fbe2eb0-7da7-4b9b-8689-a22a641a3d03",
   "metadata": {
    "slideshow": {
     "slide_type": "slide"
    }
   },
   "source": [
    "Binär kodierte Daten lassen sich übersichtlicher mit hexadezimalen Ziffern schreiben. Wir fassen dazu Vierergruppen zusammen."
   ]
  },
  {
   "cell_type": "code",
   "execution_count": 9,
   "id": "246c1323-808c-44a7-9de7-47a5f682056a",
   "metadata": {
    "slideshow": {
     "slide_type": "fragment"
    }
   },
   "outputs": [
    {
     "data": {
      "text/plain": [
       "'0x2bdc542f0f5915'"
      ]
     },
     "execution_count": 9,
     "metadata": {},
     "output_type": "execute_result"
    }
   ],
   "source": [
    "k = int('101011110111000101010000101111000011110101100100010101',2)\n",
    "hex(k)"
   ]
  },
  {
   "cell_type": "markdown",
   "id": "0b21d334-272a-45ff-bc6c-8861ca8defce",
   "metadata": {
    "slideshow": {
     "slide_type": "fragment"
    }
   },
   "source": [
    "```\n",
    "101011110111000101010000101111000011110101100100010101\n",
    "Von rechts in Vierergruppen aufteilen, links ggf. mit 0 auffüllen.\n",
    "0010 1011 1101 1100 0101 0100 0010 1111 0000 1111 0101 1001 0001 0101\n",
    "   2    b    d    c    5    4    2    f    0    f    5    9    1    5\n",
    "```"
   ]
  },
  {
   "cell_type": "markdown",
   "id": "0fc76053",
   "metadata": {
    "slideshow": {
     "slide_type": "slide"
    }
   },
   "source": [
    "### Umrechnung Dezimalzahl in Dualzahl \n",
    "\n",
    "Beobachtungen bei Dualzahlen:\n",
    "\n",
    "Bei der ganzzahligen Division durch 2 verschwindet die rechte Ziffer. <br>\n",
    "Bei der Multiplikation mit 2 kommt rechts noch eine 0 dran."
   ]
  },
  {
   "cell_type": "markdown",
   "id": "b5491d62-609d-4eb0-aeef-daa6bd408135",
   "metadata": {
    "slideshow": {
     "slide_type": "fragment"
    }
   },
   "source": [
    "Bei gegebener Dezimalzahl x können wir die rechte Ziffer der Dualzahl leicht erkennen. Wir dividieren x ganzzahlig durch 2 und bestimmen auf die gleiche Art die restlichen Ziffern. Dies führt zu folgendem Algorithmus zur Umrechnung einer Dezimalzahl in eine Dualzahl:"
   ]
  },
  {
   "cell_type": "markdown",
   "id": "44af70b8",
   "metadata": {
    "slideshow": {
     "slide_type": "slide"
    }
   },
   "source": [
    "Unter die Zahl notieren wir das Ergebnis bei ganzzahliger Division durch 2. Daneben den Rest. \n",
    "Das wiederholen wir solange bis wir bei 0 angekommen sind. \n",
    "Die Reste von unten nach oben gelesen ergeben die duale Darstellung."
   ]
  },
  {
   "cell_type": "code",
   "execution_count": 15,
   "id": "d1888553-ef6a-40f3-9a97-808b91981ebd",
   "metadata": {
    "slideshow": {
     "slide_type": "fragment"
    }
   },
   "outputs": [
    {
     "name": "stdout",
     "output_type": "stream",
     "text": [
      " 44\n",
      " 22   0\n",
      " 11   0\n",
      "  5   1\n",
      "  2   1\n",
      "  1   0\n",
      "  0   1\n"
     ]
    },
    {
     "data": {
      "text/plain": [
       "'101100'"
      ]
     },
     "execution_count": 15,
     "metadata": {},
     "output_type": "execute_result"
    }
   ],
   "source": [
    "def dez2dual(x):\n",
    "    print(f'{x:3}')\n",
    "    if x == 0: return '0'\n",
    "    s = \"\"\n",
    "    while x != 0:\n",
    "        print(f'{x//2:3} {x%2:3}')\n",
    "        s = str(x%2) + s\n",
    "        x = x // 2\n",
    "    return s\n",
    "\n",
    "dez2dual(44)"
   ]
  },
  {
   "cell_type": "markdown",
   "id": "017875cb-f068-455f-a540-9255af5b3b6e",
   "metadata": {
    "slideshow": {
     "slide_type": "slide"
    }
   },
   "source": [
    "### Zweierkomplement\n",
    "\n",
    "##### Addition von Dualzahlen\n",
    "\n",
    "Die Addition von Dualzahlen erfolgt analog zum Dezimalsystem. Die Stellenwerte werden addiert, gegebenenfalls mit Übertrag.\n",
    "\n",
    "```\n",
    "    0 1 0 1 0\n",
    "+   1 1 0 1 1\n",
    "-------------\n",
    "  1 0 0 1 0 1 \n",
    "\n",
    "```"
   ]
  },
  {
   "cell_type": "markdown",
   "id": "e1581c4e-bb0b-4c79-b06b-7a67a612a2f8",
   "metadata": {
    "slideshow": {
     "slide_type": "slide"
    }
   },
   "source": [
    "Mit 3 Bit können die Zahlen von 0 - 7 dargestellt werden\n",
    "\n",
    "```\n",
    "0 0 0 : 0\n",
    "0 0 1 : 1\n",
    "0 1 0 : 2\n",
    "0 1 1 : 3\n",
    "1 0 0 : 4\n",
    "1 0 1 : 5\n",
    "1 1 0 : 6\n",
    "1 1 1 : 7\n",
    "```"
   ]
  },
  {
   "cell_type": "markdown",
   "id": "2fa804de-6430-4bfd-bb0c-27dd14ec4ea9",
   "metadata": {
    "slideshow": {
     "slide_type": "slide"
    }
   },
   "source": [
    "##### Codierung negativer Zahlen\n",
    "\n",
    "Negative Zahlen werden so dargestellt, dass für die Subtraktion derselbe Algorithmus wie bei der Addition genutzt werden kann. Mit 4 Bit können die Zahlen von -8 bis 7 dargestellt werden. Überträge außerhalb der Stellenzahl werden abgeschnitten.\n",
    "\n",
    "```\n",
    "0 0 0 0 : 0\n",
    "0 0 0 1 : 1\n",
    "0 0 1 0 : 2\n",
    "0 0 1 1 : 3\n",
    "0 1 0 0 : 4\n",
    "0 1 0 1 : 5\n",
    "0 1 1 0 : 6\n",
    "0 1 1 1 : 7\n",
    "```\n",
    "\n",
    "```\n",
    "1 0 0 0 : -8\n",
    "1 0 0 1 : -7\n",
    "1 0 1 0 : -6\n",
    "1 0 1 1 : -5\n",
    "1 1 0 0 : -4\n",
    "1 1 0 1 : -3\n",
    "1 1 1 0 : -2\n",
    "1 1 1 1 : -1\n",
    "```"
   ]
  },
  {
   "cell_type": "markdown",
   "id": "1197da92",
   "metadata": {
    "slideshow": {
     "slide_type": "slide"
    }
   },
   "source": [
    "##### Beispielrechnungen\n",
    "\n",
    "3 - 7  = -4\n",
    "\n",
    "```\n",
    "0 0 1 1 \n",
    "1 0 0 1 \n",
    "-------\n",
    "1 1 0 0\n",
    "```"
   ]
  },
  {
   "cell_type": "markdown",
   "id": "cac60135-0774-4817-a4a4-b1953c476280",
   "metadata": {
    "slideshow": {
     "slide_type": "fragment"
    }
   },
   "source": [
    "7 - 2 = 5\n",
    "```\n",
    "0 1 1 1\n",
    "1 1 1 0\n",
    "-------\n",
    "0 1 0 1\n",
    "```"
   ]
  },
  {
   "cell_type": "markdown",
   "id": "72e5a2d3-539a-41cb-9d77-398c500b30a7",
   "metadata": {
    "slideshow": {
     "slide_type": "slide"
    }
   },
   "source": [
    "#####  Wertebereich im Zweierkomplement\n",
    "```\n",
    "          Wertebereich   größte Zahl   kleinste Zahl\n",
    "4-Bit       -8...7              0111          1111\n",
    "8-Bit     -128...127        01111111      11111111\n",
    "\n",
    "```\n"
   ]
  },
  {
   "cell_type": "markdown",
   "id": "60a33585-0986-4e47-9deb-7dd60c747b58",
   "metadata": {
    "slideshow": {
     "slide_type": "slide"
    }
   },
   "source": [
    "##### Algorithmus zur Berechung des Zweierkomplements\n",
    "\n",
    "```\n",
    "codiere x\n",
    "negiere bitweise\n",
    "addiere 1\n",
    "```"
   ]
  },
  {
   "cell_type": "markdown",
   "id": "e758c6aa-0baf-4054-af4c-37d2d1c73d6e",
   "metadata": {
    "slideshow": {
     "slide_type": "fragment"
    }
   },
   "source": [
    "Beispiel: Codierung von -5\n",
    "\n",
    "```\n",
    "5                   0101\n",
    "                    ----\n",
    "bitweise Negation   1010\n",
    "addiere 1           0001\n",
    "                    ----\n",
    "-5                  1011\n",
    "```"
   ]
  },
  {
   "cell_type": "markdown",
   "id": "a70cac99-4214-4ab0-ba43-31a7d498a5a2",
   "metadata": {
    "slideshow": {
     "slide_type": "slide"
    }
   },
   "source": [
    "##### Effekte beim Überlauf\n",
    "In der Programmiersprache Java werden ganze Zahlen vom Typ *int* intern im 32-Bit Zweierkomplement gespeichert.\n",
    "Wie lässt sich die Ausgabe erklären?  "
   ]
  },
  {
   "cell_type": "code",
   "execution_count": null,
   "id": "d2166e79-ba55-417a-9fb6-8ee9e88ed887",
   "metadata": {
    "slideshow": {
     "slide_type": "fragment"
    }
   },
   "outputs": [],
   "source": [
    "int k = 1;\n",
    "while (k > 0) {\n",
    "  k = k+1;\n",
    "}\n",
    "System.out.println(k);\n",
    "\n",
    "Ausgabe: -2147483648"
   ]
  },
  {
   "cell_type": "code",
   "execution_count": 16,
   "id": "8127b47c",
   "metadata": {
    "slideshow": {
     "slide_type": "fragment"
    }
   },
   "outputs": [
    {
     "data": {
      "text/plain": [
       "2147483648"
      ]
     },
     "execution_count": 16,
     "metadata": {},
     "output_type": "execute_result"
    }
   ],
   "source": [
    "2**31"
   ]
  },
  {
   "cell_type": "code",
   "execution_count": null,
   "id": "595494f8",
   "metadata": {},
   "outputs": [],
   "source": []
  }
 ],
 "metadata": {
  "celltoolbar": "Slideshow",
  "kernelspec": {
   "display_name": "Python 3 (ipykernel)",
   "language": "python",
   "name": "python3"
  },
  "language_info": {
   "codemirror_mode": {
    "name": "ipython",
    "version": 3
   },
   "file_extension": ".py",
   "mimetype": "text/x-python",
   "name": "python",
   "nbconvert_exporter": "python",
   "pygments_lexer": "ipython3",
   "version": "3.10.6"
  }
 },
 "nbformat": 4,
 "nbformat_minor": 5
}
