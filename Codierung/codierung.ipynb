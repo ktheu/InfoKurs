{
 "cells": [
  {
   "cell_type": "markdown",
   "id": "6b2f372a-ac0e-44bf-93e0-277bc5e326c8",
   "metadata": {},
   "source": [
    "## Codierung ganzer Zahlen\n",
    "\n",
    "### Information und Daten\n",
    "\n",
    "**Information** muss immer in geeigneter Weise dargestellt werden, um sie als **Daten** maschinell weiterverarbeiten zu können. \n",
    "Aus Daten gewinnt man erst dann Information, wenn sie gedeutet werden können.\n",
    "\n",
    "<img src='bild1.png' width='400'>"
   ]
  },
  {
   "cell_type": "markdown",
   "id": "5c02b632-dc16-462f-9d83-3d5c0b88e29d",
   "metadata": {},
   "source": [
    "### Bit und Byte\n",
    "\n",
    "Zur Darstellung von Information nutzt man häufig Systeme, die nur zwei Zustände einnehmen können: \n",
    " an/aus; geladen/ungeladen; Strom fließt/Strom fließt nicht; magnetisiert/unmagnetisiert.\n",
    " \n",
    "Die beiden Zustände eines Zweizustandssystems werden in der Regel mit Hilfe der beiden Ziffern 0 und 1 beschrieben.\n",
    "\n",
    "Unter einem **Bit** versteht man eine Einheit zur Informationsdarstellung, die nur zwei Werte annehmen kann: 0 und 1. \n",
    "Unter einem **Byte** versteht man eine Einheit aus 8 Bits.\n",
    "\n",
    "Werden die Daten nur mit Bits dargestellt spricht man von **Binärdarstellung der Daten**. \n",
    "\n",
    "```\n",
    "1 Byte            8 Bit\n",
    "1 Kilobyte (KB)   1000 Byte\n",
    "1 Megabyte (MB)   1000 KB\n",
    "1 Gigabyte (GB)   1000 MB\n",
    "```\n",
    "Die folgenden Einheiten bauen auf Zweierpotenzen statt auf Zehnerpotenzen auf:\n",
    "```\n",
    "1 Byte            8 Bit\n",
    "1 Kibibyte (KiB)   1024 Byte\n",
    "1 Mebibyte (MiB)   1024 KB\n",
    "1 Gibibyte (GiB)   1024 MB\n",
    "```\n",
    "\n",
    "Die beiden Einheiten werden manchmal mit derselben Abkürzung benutzt, was zu Verwirrung führen kann. Ein 16GB USB-Stick wird im Windows Explorer so angezeigt:\n",
    "\n",
    "<img src='bild3.png'>\n",
    "\n"
   ]
  },
  {
   "cell_type": "code",
   "execution_count": 2,
   "id": "7779399b-bcdb-4976-833f-3bd82a0ac1f0",
   "metadata": {},
   "outputs": [
    {
     "data": {
      "text/plain": [
       "15998753177.6"
      ]
     },
     "execution_count": 2,
     "metadata": {},
     "output_type": "execute_result"
    }
   ],
   "source": [
    "# 14.9 Gibibyte = 16 Gigabyte\n",
    "14.9*1024*1024*1024"
   ]
  },
  {
   "cell_type": "markdown",
   "id": "ae973f92-7d39-44d4-95a5-faa2ae5b1389",
   "metadata": {},
   "source": [
    "### Zahlsysteme"
   ]
  },
  {
   "cell_type": "markdown",
   "id": "3fbe2eb0-7da7-4b9b-8689-a22a641a3d03",
   "metadata": {},
   "source": [
    "```\n",
    "Dezimalzahlen:     10 Ziffern: 0,1,2,...9                4719\n",
    "Dualzahlen:         2 Ziffern: 0,1                       10010 \n",
    "Oktalzahlen:        8 Ziffern: 0,1,2,...7                273 \n",
    "Hexadezimalzahlen: 16 Ziffern: 0,1,2,...9,A,B,C,D,E,F    E52F \n",
    "```\n",
    "\n",
    "$(4719)_{10} =   9 \\cdot 10^0 + 1 \\cdot 10^1 + 7 \\cdot 10^2 + 4 \\cdot 10^3$ <br>\n",
    "$(273)_{8} = 3 \\cdot 8^0 + 7 \\cdot 8^1 + 2 \\cdot 8^2 = (187)_{10}$ <br> \n",
    "$(10010)_{2} =   0 \\cdot 2^0 + 1 \\cdot 2^1 + 0 \\cdot 2^2 + 0 \\cdot 2^3 + 1 \\cdot 2^4 = (18)_{10}$ <br>\n",
    "$(E52F)_{16} =  15 \\cdot 16^0 + 2 \\cdot 16^1 + 5 \\cdot 16^2 + 14 \\cdot 16^3 = (58671)_{10}$"
   ]
  },
  {
   "cell_type": "markdown",
   "id": "5344b282-9db9-4c3f-a115-561aa21edacb",
   "metadata": {},
   "source": [
    "Binär kodierte Daten lassen sich übersichtlicher mit hexadezimalen Ziffern schreiben. Wir fassen dazu Vierergruppen zusammen."
   ]
  },
  {
   "cell_type": "code",
   "execution_count": 13,
   "id": "246c1323-808c-44a7-9de7-47a5f682056a",
   "metadata": {},
   "outputs": [
    {
     "data": {
      "text/plain": [
       "'0x2bdc542f0f5915'"
      ]
     },
     "execution_count": 13,
     "metadata": {},
     "output_type": "execute_result"
    }
   ],
   "source": [
    "k = int('101011110111000101010000101111000011110101100100010101',2)\n",
    "hex(k)"
   ]
  },
  {
   "cell_type": "markdown",
   "id": "0b21d334-272a-45ff-bc6c-8861ca8defce",
   "metadata": {},
   "source": [
    "```\n",
    "101011110111000101010000101111000011110101100100010101\n",
    "Von rechts in Vierergruppen aufteilen, links ggf. mit 0 auffüllen.\n",
    "0010 1011 1101 1100 0101 0100 0010 1111 0000 1111 0101 1001 0001 0101\n",
    "   2    b    d    c    5    4    2    f    0    f    5    9    1    5\n",
    "```"
   ]
  },
  {
   "cell_type": "markdown",
   "id": "b5491d62-609d-4eb0-aeef-daa6bd408135",
   "metadata": {},
   "source": [
    "### Umrechnung Dezimalzahl in Dualzahl \n",
    "\n",
    "Beobachtungen bei Dualzahlen:\n",
    "\n",
    "Bei der ganzzahligen Division durch 2 verschwindet die rechte Ziffer. <br>\n",
    "Bei der Multiplikation mit 2 kommt rechts noch eine 0 dran.\n",
    "\n",
    "Bei gegebener Dezimalzahl x können wir die rechte Ziffer der Dualzahl leicht erkennen. Wir dividieren x ganzzahlig durch 2 und bestimmen auf die gleiche Art die restlichen Ziffern. Dies führt zu folgendem Algorithmus zur Umrechnung einer Dezimalzahl in eine Dualzahl:\n"
   ]
  },
  {
   "cell_type": "code",
   "execution_count": null,
   "id": "294c12e0-dc94-4348-bec8-91a5b477e023",
   "metadata": {},
   "outputs": [],
   "source": [
    "# Umrechnung einer Dezimalzahl in eine Dualzahl\n",
    "Unter die Zahl notieren wir das Ergebnis bei ganzzahliger Division durch 2. Daneben den Rest. \n",
    "Das wiederholen wir solange bis wir bei 0 angekommen sind. \n",
    "Die Reste von unten nach oben gelesen ergeben die duale Darstellung."
   ]
  },
  {
   "cell_type": "code",
   "execution_count": 24,
   "id": "d1888553-ef6a-40f3-9a97-808b91981ebd",
   "metadata": {},
   "outputs": [],
   "source": [
    "def dez2dual(x):\n",
    "    print(f'{x:3}')\n",
    "    if x == 0: return '0'\n",
    "    s = \"\"\n",
    "    while x != 0:\n",
    "        print(f'{x//2:3} {x%2:3}')\n",
    "        s = str(x%2) + s\n",
    "        x = x // 2\n",
    "    return s"
   ]
  },
  {
   "cell_type": "code",
   "execution_count": 25,
   "id": "342be078-5f14-4b52-888e-3853e66d381d",
   "metadata": {},
   "outputs": [
    {
     "name": "stdout",
     "output_type": "stream",
     "text": [
      " 44\n",
      " 22   0\n",
      " 11   0\n",
      "  5   1\n",
      "  2   1\n",
      "  1   0\n",
      "  0   1\n"
     ]
    },
    {
     "data": {
      "text/plain": [
       "'101100'"
      ]
     },
     "execution_count": 25,
     "metadata": {},
     "output_type": "execute_result"
    }
   ],
   "source": [
    "dez2dual(44)"
   ]
  },
  {
   "cell_type": "markdown",
   "id": "017875cb-f068-455f-a540-9255af5b3b6e",
   "metadata": {},
   "source": [
    "### Zweierkomplement"
   ]
  },
  {
   "cell_type": "code",
   "execution_count": null,
   "id": "2b241a9a-c8fb-4aeb-bf15-52c3fc050259",
   "metadata": {},
   "outputs": [],
   "source": []
  }
 ],
 "metadata": {
  "kernelspec": {
   "display_name": "Python 3 (ipykernel)",
   "language": "python",
   "name": "python3"
  },
  "language_info": {
   "codemirror_mode": {
    "name": "ipython",
    "version": 3
   },
   "file_extension": ".py",
   "mimetype": "text/x-python",
   "name": "python",
   "nbconvert_exporter": "python",
   "pygments_lexer": "ipython3",
   "version": "3.9.12"
  }
 },
 "nbformat": 4,
 "nbformat_minor": 5
}
