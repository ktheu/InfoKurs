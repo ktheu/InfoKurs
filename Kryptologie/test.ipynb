{
 "cells": [
  {
   "cell_type": "code",
   "execution_count": 12,
   "id": "ca6d68a6-0423-41e5-a516-d4cd57e64c37",
   "metadata": {},
   "outputs": [
    {
     "name": "stdout",
     "output_type": "stream",
     "text": [
      "1 1\n",
      "2 12\n",
      "3 3\n",
      "4 6\n",
      "5 4\n",
      "6 12\n",
      "7 12\n",
      "8 4\n",
      "9 3\n",
      "10 6\n",
      "11 12\n",
      "12 2\n"
     ]
    }
   ],
   "source": [
    "\n",
    "for k in range(1,13):\n",
    "    a = set()\n",
    "    for i in range(13):\n",
    "        a.add(k**i % 13)\n",
    "    print(k,len(a))"
   ]
  },
  {
   "cell_type": "code",
   "execution_count": 10,
   "id": "8587ebed-349b-4397-80e5-8414533988f2",
   "metadata": {},
   "outputs": [
    {
     "data": {
      "text/plain": [
       "{1, 3, 4, 9, 10, 12}"
      ]
     },
     "execution_count": 10,
     "metadata": {},
     "output_type": "execute_result"
    }
   ],
   "source": [
    "a"
   ]
  },
  {
   "cell_type": "code",
   "execution_count": null,
   "id": "b3a007ee-7d3c-4395-8f18-dcbb8be6672f",
   "metadata": {},
   "outputs": [],
   "source": []
  }
 ],
 "metadata": {
  "kernelspec": {
   "display_name": "Python 3 (ipykernel)",
   "language": "python",
   "name": "python3"
  },
  "language_info": {
   "codemirror_mode": {
    "name": "ipython",
    "version": 3
   },
   "file_extension": ".py",
   "mimetype": "text/x-python",
   "name": "python",
   "nbconvert_exporter": "python",
   "pygments_lexer": "ipython3",
   "version": "3.11.2"
  }
 },
 "nbformat": 4,
 "nbformat_minor": 5
}
