{
 "cells": [
  {
   "cell_type": "markdown",
   "id": "5f2a1899-0cbe-4734-8170-0dd8de364b7a",
   "metadata": {},
   "source": [
    "### Aufgaben zur Kryptologie - Lösungen"
   ]
  },
  {
   "cell_type": "markdown",
   "id": "d5c09e5b-1099-4b5f-ab4d-9efc26ad282d",
   "metadata": {},
   "source": [
    "#### A1:"
   ]
  },
  {
   "cell_type": "code",
   "execution_count": null,
   "id": "6041f58a-e836-4b72-b2c7-5cb01cee04df",
   "metadata": {},
   "outputs": [],
   "source": [
    "Lösung:\n",
    "ABCDEFGHIJKLMNOPQRSTUVWXYZ\n",
    "EFGHIJKLMNOPQRSTUVXYZABCDE\n",
    "\n",
    "MORGENSTUNDE\n",
    "QSVKIRWXYRHI\n"
   ]
  },
  {
   "cell_type": "markdown",
   "id": "2bedf9fc-9641-43b9-b8ca-c854df5a61f8",
   "metadata": {},
   "source": [
    "#### A2: \n",
    "Der Chiffretext C ist aus dem Klartext K durch die Vigenere-Chiffre mit dem Schlüssel k entstanden. Beim Versuch, k zu erraten, probieren wir zwei (nicht korrekten) Schlüssel k1 = GRMAWOPST und k2 = GRNAWOPST aus.  \n",
    "\n",
    "a. Bestimme mit dem Koinzidenzindex, welcher der beiden Schlüssel k1 und k2 der 'bessere' ist.  <br>\n",
    "b. Führe zur Bestimmung der Schlüssellänge den Friedman-Test durch. <br>\n",
    "c. Führe zur Bestimmung der Schlüssellänge den Kasiski-Test durch. <br>\n",
    "d. Bestimme den korrekten Schlüssel k und entschlüssle den Chiffretext. <br>\n",
    "e. Aus welchem Buch stammt der Text?\n",
    "\n",
    "[Hilfsmittel](https://kryptografie.de/kryptografie/index.htm)"
   ]
  },
  {
   "cell_type": "markdown",
   "id": "eada951a-97ee-4fc4-839e-b335a0fe0511",
   "metadata": {},
   "source": [
    "a. Koinzidenzindex = 4,121% für k1, Koinzidenzindex = 3,999% für k2. k1 ist der bessere Schlüssel. <br>\n",
    "b. Friedman-Test ergibt: Wahrscheinliche Schlüssellänge ca. 6,949  <br>\n",
    "c. Nach dem Kasiski-Test ist die 7 nicht wahrscheinlich, am wahrscheinlichsten erscheint 3 * 3 = 9.  <br>\n",
    "d. key = 'GENTLEMAN'  <br>\n",
    "e. Charlotte Bronte: Jane Eyre"
   ]
  },
  {
   "cell_type": "raw",
   "id": "09d1d0da-9fbb-4f40-bb90-3517274e1ca3",
   "metadata": {},
   "source": [
    "ESWARGANZUNMOEGLICHANDIESEMTAGEEINENSPAZIERGANGZUMACHENAMMORGENWARENWIRALLERDINGSWAEHRENDEINERGANZENSTUNDEINDENBLAETTERLOSENJUNGENANPFLANZUNGENUMHERGEWANDERTABERSEITDEMMITTAGESSENMRSREEDSPEISTESTETSZUFRUEHERSTUNDEWENNKEINEGAESTEZUGEGENWARENHATTEDERKALTEWINTERWINDSODUESTERESCHWEREWOLKENUNDEINENSODURCHDRINGENDENREGENHERAUFGEWEHTDASSVONWEITERERBEWEGUNGINFRISCHERLUFTNICHTMEHRDIEREDESEINKONNTEICHWARVONHERZENFROHDARUEBERLANGESPAZIERGAENGEBESONDERSANFROSTIGENNACHMITTAGENWARENMIRSTETSZUWIDEREINGREUELWARESMIRINDERRAUHENDAEMMERSTUNDENACHHAUSEZUKOMMENMITFASTERFRORENENHAENDENUNDFUESSENMITEINEMHERZENDASDURCHDASSCHELTENBESSIESDERKINDERWAERTERINBISZUMBRECHENSCHWERWARGEDEMUETIGTDURCHDASBEWUSSTSEINPHYSISCHSOTIEFUNTERELIZAJOHNUNDGEORGINAREEDZUSTEHENDIESOEBENERWAEHNTENELIZAJOHNUNDGEORGINAHATTENSICHINDIESEMAUGENBLICKIMSALONUMIHREMAMAVERSAMMELTDIESERUHTEAUFEINEMSOFAINDERNAEHEDESKAMINSUNDUMGEBENVONIHRENLIEBLINGENDIEZUFAELLIGERWEISEINDIESEMMOMENTWEDERZANKTENNOCHSCHRIEENSAHSIEVOLLKOMMENGLUECKLICHAUSMICHHATTESIEDAVONDISPENSIERTMICHDERGRUPPEANZUSCHLIESSENINDEMSIESAGTEDASSESSIETIEFUNGLUECKLICHMACHEGEZWUNGENZUSEINMICHFERNZUHALTENDASSSIEMICHABERVONVORRECHTENAUSSCHLIESSENMUESSEZUDERENGENUSSNURZUFRIEDENEGLUECKLICHEKLEINEKINDERBERECHTIGTSEIENUNDDASSSIEMIRERSTVERZEIHENWUERDEWENNSIESOWOHLDURCHEIGENEWAHRNEHMUNGWIEDURCHBESSIESWORTEZUDERUEBERZEUGUNGGELANGTSEINWUERDEDASSICHINALLEMERNSTVERSUCHEMIRANZIEHENDEREUNDFREUNDLICHEREMANIERENEINENKINDLICHERENGESELLIGERENCHARAKTEREINLEICHTERESOFFENHERZIGERESNATUERLICHERESBENEHMENANZUEIGNENWASSAGTDENNBESSIEDASSICHGETHANHABEFRAGTEICHJANEICHLIEBEWEDERSPITZFINDIGKEITENNOCHFRAGENAUSSERDEMISTESGRADEZUWIDERLICHWENNEINKINDAELTERELEUTEINDIESERWEISEZURREDESTELLTAUGENBLICKLICHSETZESTDUDICHIRGENDWOHINUNDSCHWEIGSTBISDUFREUNDLICHERUNDLIEBENSWUERDIGERREDENKANNSTANDASWOHNZIMMERSTIESSEINKLEINESFRUEHSTUECKSZIMMERICHSCHLUEPFTEHINEINHIERSTANDEINGROSSERBUECHERSCHRANKBALDHATTEICHMICHEINESGROSSENBANDESBEMAECHTIGTNACHDEMICHMICHZUERSTVORSICHTIGVERGEWISSERTHATTEDASSERBILDERENTHALTEICHSTIEGAUFDENSITZINDERFENSTERVERTIEFUNGZOGDIEFUESSENACHUNDKREUZTEDIEBEINEWIEEINTUERKEDANNZOGICHDIEDUNKELROTENMOIREEVORHAENGEFESTZUSAMMENUNDSASSSOINEINEMDOPPELTENVERSTECKSCHARLACHROTEDRAPERIENSCHLOSSENMIRDIEAUSSICHTZURRECHTENHANDLINKSBEFANDENSICHDIEGROSSENKLARENFENSTERSCHEIBENDIEMICHVORDEMDUESTERNNOVEMBERTAGWOHLSCHUETZTENMICHABERNICHTVONIHMTRENNTENINKURZENZWISCHENRAEUMENWENNICHDIEBLAETTERMEINESBUCHESWENDETEFIELMEINBLICKAUFDASBILDDIESESWINTERLICHENNACHMITTAGSINDERFERNEWARNICHTSALSEINBLASSERLEERERNEBELWOLKENIMVORDERGRUNDEDERFEUCHTEFREIEPLATZVORDEMHAUSEVOMWINDEENTLAUBTEGESTRAEUCHEUNDEINUNAUFHOERLICHERVOMSTURMWILDGEPEITSCHTERREGENICHKEHRTEZUMEINEMBUCHEZURUECKBEWICKSGESCHICHTEVONENGLANDSGEFIEDERTENBEWOHNERNIMALLGEMEINENKUEMMERTEICHMICHWENIGUMDENGEDRUCKTENTEXTDESWERKESUNDDOCHWARENDAEINIGEEINLEITENDESEITENWELCHEICHOBGLEICHNUREINKINDNICHTGAENZLICHUEBERGEHENKONNTEESWARENJENEDIEVONDENVERSTECKENDERSEEVOEGELHANDELTENVONJENENEINSAMENFELSENUNDKLIPPENWELCHENURSIEALLEINBEWOHNENVONDERKUESTENORWEGENSDIEVONIHRERAEUSSERSTENSUEDLICHENSPITZEDEMLINDESNAESBISZUMNORDKAPMITINSELNBESAEETIST"
   ]
  },
  {
   "cell_type": "markdown",
   "id": "6b3a6b44-9a0a-40be-921d-31d3c3a0e2d3",
   "metadata": {},
   "source": [
    "#### A3\n",
    "a. 8  <br>\n",
    "b. MISSOURI <br>\n",
    "c. Thomas Mann, Zauberberg\n",
    "```"
   ]
  },
  {
   "cell_type": "raw",
   "id": "0c79d7f1-7883-49fc-8c9e-f46db539e996",
   "metadata": {},
   "source": [
    "DIEGESCHICHTEHANSCASTORPSDIEWIRERZAEHLENWOLLENNICHTUMSEINETWILLENDENNDERLESERWIRDEINENEINFACHENWENNAUCHANSPRECHENDENJUNGENMENSCHENINIHMKENNENLERNENSONDERNUMDERGESCHICHTEWILLENDIEUNSINHOHEMGRADEERZAEHLENSWERTSCHEINTWOBEIZUHANSCASTORPSGUNSTENDENNDOCHERINNERTWERDENSOLLTEDASSESSEINEGESCHICHTEISTUNDDASSNICHTJEDEMJEDEGESCHICHTEPASSIERTDIESEGESCHICHTEISTSEHRLANGEHERSIEISTSOZUSAGENSCHONGANZMITHISTORISCHEMEDELROSTUEBERZOGENUNDUNBEDINGTINDERZEITFORMDERTIEFSTENVERGANGENHEITVORZUTRAGENDASWAEREKEINNACHTEILFUEREINEGESCHICHTESONDERNEHEREINVORTEILDENNGESCHICHTENMUESSENVERGANGENSEINUNDJEVERGANGENERKOENNTEMANSAGENDESTOBESSERFUERSIEINIHREREIGENSCHAFTALSGESCHICHTENUNDFUERDENERZAEHLERDENRAUNENDENBESCHWOERERDESIMPERFEKTSESSTEHTJEDOCHSOMITIHRWIEESHEULEAUCHMITDENMENSCHENUNDUNTERDIESENNICHTZUMWENIGSTENMITDENGESCHICHTENERZAEHLERNSTEHTSIEISTVIELAELTERALSIHREFAHREIHREBETAGTHEITISTNICHTNACHTAGENDASALTERDASAUFIHRLIEGTNICHTNACHSONNENUMLAEUFENZUBERECHNENMITEINEMWORTESIEVERDANKTDENGRADIHRESVERGANGENSEINSNICHTEIGENTLICHDERZEITEINEAUSSAGEWOMITAUFDIEFRAGWUERDIGKEITUNDEIGENTUEMLICHEZWIENATURDIESESGEHEIMNISVOLLENELEMENTESIMVORBEIGEHENANGESPIELTUNDHINGEWIESENSEIUMABEREINENKLARENSACHVERHALTNICHTKUENSTLICHZUVERDUNKELNDIEHOCHGRADIGEVERFLOSSENHEITUNSERERGESCHICHTERUEHRTDAHERDASSSIEVOREINERGEWISSENLEBENUNDBEWUSSTSEINTIEFZERKLUEFTENDENWENDEUNDGRENZESPIELTSIESPIELTODERUMJEDESPRAESENSGEFLISSENTLICHZUVERMEIDENSIESPIELTEUNDHATGESPIELTVORMALSEHEDEMINDENALTENTAGENDERWELTVORDEMGROSSENKRIEGEMITDESSENBEGINNSOVIELESBEGANNWASZUBEGINNENWOHLKAUMSCHONAUFGEHOERTHATVORHERALSOSPIELTSIEWENNAUCHNICHTLANGEVORHERABERISTDERVERGANGENHEITSCHARAKTEREINERGESCHICHTENICHTDESTOTIEFERVOLLKOMMENERUNDMAERCHENHAFTERJEDICHTERVORHERSIESPIELTZUDEMKOENNTEESSEINDASSDIEUNSRIGEMITDEMMAERCHENAUCHSONSTIHRERINNERENNATURNACHDASEINEUNDANDREZUSCHAFFENHATWIRWERDENSIEAUSFUEHRLICHERZAEHLENGENAUUNDGRUENDLICHDENNWANNWAEREJEDIEKURZODERLANGWEILIGKEITEINERGESCHICHTEABHAENGIGGEWESENVONDEMRAUMUNDDERZEITDIESIEINANSPRUCHNAHMOHNEFURCHTVORDEMODIUMDERPEINLICHKEITNEIGENWIRVIELMEHRDERANSICHTZUDASSNURDASGRUENDLICHEWAHRHAFTUNTERHALTENDSEIIMHANDUMDREHENALSOWIRDDERERZAEHLERMITHANSENSGESCHICHTENICHTFERTIGWERDENDIESIEBENTAGEEINERWOCHEWERDENDAZUNICHTREICHENUNDAUCHSIEBENMONATENICHTAMBESTENISTESERMACHTSICHIMVORAUSNICHTKLARWIEVIELERDENZEITIHMVERSTREICHENWIRDWAEHRENDSIEIHNUMSPONNENHAELTESWERDENINGOTTESNAMENJANICHTGERADEZUSIEBENJAHRESEINUNDSOMITFANGENWIRAN"
   ]
  },
  {
   "cell_type": "markdown",
   "id": "730981ee-bab4-4f9a-9d81-5bd2d7465653",
   "metadata": {},
   "source": [
    "#### A4:\n",
    "\n",
    "a. WBPLVZNF <br>\n",
    "b. Nachdem die Schlüssellänge n bekannt ist, müssen nur noch n Cäsar-Verschlüsselungen analysiert werden. Diese können mit einer Häufigkeitsanalyse oder mit der Brut-Force-Methode entschlüsselt werden, da es nur 26 Möglichkeiten der Verschlüsselung gibt."
   ]
  },
  {
   "cell_type": "markdown",
   "id": "fee8d1da-b350-4d4b-9782-50ee36391918",
   "metadata": {},
   "source": [
    "#### A5\n",
    "\n",
    "a. Bei der symmetrischen Verschlüsselung wird für das Ver- und Entschlüsseln nur ein Schlüssel verwendet.\n",
    "Der Schlüssel muss entweder persönlich oder mit Hilfe eines\n",
    "abhörsicheren Kanals vom Sender zum Empfänger übertragen werden.\n",
    "Bei der asymmetrischen Verschlüsselung gibt es zwei Schlüssel, einen privaten und einen öffentlichen\n",
    "Schlüssel, der letztere ist allen möglichen Kommunikationspartnern bekannt. Der private Schlüssel wird\n",
    "nie veröffentlicht, der öffentliche Schlüssel kann über alle zur Verfügung stehenden Publikationsmöglichkeiten\n",
    "veröffentlicht werden (E-Mail, WWW-Seiten, Public-Key-Server, …).\n",
    "Um die Echtheit eines öffentlichen Schlüssels zu überprüfen, muss es ein Verfahren zur Herstellung von\n",
    "Schlüsselvertrauen geben. Das kann eine (zentrale) Zertifizierungsstelle sein oder ein dezentraler\n",
    "\"Web of Trust\"-Ansatz."
   ]
  },
  {
   "cell_type": "markdown",
   "id": "5402fd75-f16c-4adc-8658-c29a37bd3d0e",
   "metadata": {},
   "source": [
    "b. Bei der Verschlüsselung eines USB-Sticks ist es wichtig, dass die verschlüsselten Daten schnell ausgelesen\n",
    "werden können, um die Arbeitsgeschwindigkeit nicht zu beeinträchtigen. Der Schlüsselaustausch\n",
    "ist nicht relevant, da sowohl der „Empfänger“ als auch der „Sender“ ein und dieselbe Person sind.\n",
    "Deshalb ist ein symmetrisches Verfahren vorzuziehen."
   ]
  },
  {
   "cell_type": "markdown",
   "id": "f45b6ccd-7d66-4166-83af-87781f14c697",
   "metadata": {},
   "source": [
    "c. Der Webmaster veröffentlicht seinen eigenen öffentlichen Schlüssel an Stelle des öffentlichen Schlüssels\n",
    "der Bank auf deren Homepage. Wenn ein Kunde mit Hilfe dieses Schlüssels eine Nachricht an den Verein schickt, fängt der Webmaster die Mail auf dem Mailserver ab, entschlüsselt\n",
    "sie mit Hilfe seines privaten Schlüssels, manipuliert die Nachricht und schickt sie dann mit Hilfe des\n",
    "öffentlichen Schlüssels des Vereins an den Verein weiter."
   ]
  },
  {
   "cell_type": "markdown",
   "id": "629c8ba0-f55f-4bd1-bf53-4bec86da9985",
   "metadata": {},
   "source": [
    "#### A6\n",
    "\n",
    "a. MPVTBO <br>\n",
    "\n",
    "b. Die monoalphabetische Substitution kann durch eine Häufigkeitsanalyse gebrochen werden, weil die\n",
    "relativen Häufigkeiten der Geheimtextbuchstaben denen der Klartextbuchstaben entsprechen. Bei der\n",
    "Vigenère-Verschlüsselung werden gleiche Buchstaben im Klartext nicht zwangsläufig durch gleiche\n",
    "Buchstaben im Geheimtext ersetzt. Umgekehrt stehen gleiche Buchstaben im Geheimtext nicht unbedingt\n",
    "für gleiche Buchstaben im Klartext. Dadurch werden die relativen Häufigkeiten der Buchstaben\n",
    "im Geheimtext angeglichen und die Häufigkeitsanalyse schlägt fehl.\n",
    "\n",
    "c. Der erste Schlüssel *GEHEIM* ist 6 Buchstaben lang\n",
    "und damit ein Vielfaches der Länge des zweiten Schlüsselworts (3). Weil das zweite Schlüsselwort\n",
    "genau in das erste passt, ist es so, als hätte man nur mit einem einzelnen Schlüsselwort der Länge 6\n",
    "*GFPEJU* verschlüsselt. Da die Sicherheit in erster Linie von der Schlüssellänge abhängt, gewinnt\n",
    "man damit nichts. Anders sähe es aus, wenn die Längen der Schlüssel teilerfremd wären, also z.B. ein Schlüsselwort der Länge 3 und eines der Länge 7. Dadurch entstünde ein neuer Schlüssel der Länge 21.\n",
    "\n",
    "d. Die Aussage ist richtig. Wenn der Schlüssel so lang ist wie der zu verschlüsselnde Text, zufällig\n",
    "gewählt ist und nur einmal verwendet wird, ist das Verfahren nicht brechbar. Diese Variante der\n",
    "Vigenère-Verschlüsselung wird als *One-Time-Pad* bezeichnet."
   ]
  },
  {
   "cell_type": "markdown",
   "id": "3d58abfc-871b-4e62-b933-4278c435a545",
   "metadata": {},
   "source": [
    "#### A7 (Diffie-Hellman)\n",
    "Alice und Bob ermitteln einen gemeinsamen Schlüssel mit dem Diffie-Hellman Verfahren.\n",
    "Alice und Bob vereinbaren die Primzahl p und die Primitivwurzel g. Alice wählt a, Bob\n",
    "wählt b. Welche Zahlen sind öffentlich und wie heißt der gemeinsame Schlüssel?\n",
    "\n",
    "a. p = 7, g = 3, a = 3, b = 4.   <br>\n",
    "b. p = 23, g = 7, a = 15, b = 17.\n"
   ]
  },
  {
   "cell_type": "markdown",
   "id": "212e4dcb-bc51-4329-a538-398e738762fe",
   "metadata": {},
   "source": [
    "#### A8 (Diffie-Hellman)\n",
    "Alice und Bob ermitteln einen gemeinsamen Schlüssel mit dem Diffie-Hellman Verfahren.\n",
    "Alice und Bob vereinbaren p = 11 und g = 2. Alice schicht an Bob A = 5 und Bob\r\n",
    "meldet an Alice B = 8. Da die Zahlen klein sind, kann die Diffie-Hellman Verschlüsselung\r\n",
    "geknackt werden. Wie heißt der Schlüssel K?"
   ]
  },
  {
   "cell_type": "markdown",
   "id": "96a08c69-b84c-47a4-9fba-a9de9555ee37",
   "metadata": {},
   "source": [
    "#### A9 (RSA)\n",
    "Bob wählt p , q und Verschlüsselungsexponent e. Warum ist e ein zulässiger Verschlüsselungsexponent? Wie heißt der öffentliche, wie der private Schlüssel von Bob? Alice will\n",
    "an Bob die Nachricht n verschlüsselt übermitteln. Welche Zahl schickt sie an Bob? Wie\n",
    "entschlüsselt Bob die Nachricht?\n",
    "\n",
    "a. p = 3, q = 11, e = 7, n = 6.  <br>\n",
    "b. p = 7, q = 11, e = 47, n = 2\n"
   ]
  },
  {
   "cell_type": "markdown",
   "id": "3a5dfcfd-f7e5-42e7-aa90-44ee0d6872e6",
   "metadata": {},
   "source": [
    "#### A10 (Hashing)\n",
    "Ein Angreifer hat durch einen Angriff eine Liste von Benutzernamen und Passwörtern aus einer Datenbank erbeutet.\n",
    "Er stellt aber fest, dass die Passwörter nicht im Klartext, sonder gehasht gespeichert wurden.\n",
    "\n",
    "a. Erläutere die wesentliche Eigenschaft einer kryptografischen Hashfunktion für das Speichern von Passwörtern. <br>\n",
    "b. Im Internet kursieren Listen mit den 100.000 am häufigsten verwendeten Passwörtern. Beschreibe, wie der Angreifer mit Hilfe einer\n",
    "solchen Liste trotz Hashing Rückschlüsse auf die Passwörter ziehen kann."
   ]
  },
  {
   "cell_type": "markdown",
   "id": "175a2d65-cb2c-430d-aef5-ae22f1bfb2c1",
   "metadata": {},
   "source": [
    "#### Lösung:\n",
    "a. Die Hashfunktion für die Speicherung von Passwörtern darf in erster Linie nicht umkehrbar sein: Aus dem Hashwert darf niemand Rückschlüsse auf das gehashte Passwort ziehen können. <br>\n",
    "b. Der Angreifer vergleicht alle Hashwerte der erbeuteten Passwortdatenbank mit allen Hashwerten der öffentlich verfügbaren Liste. Jede Übereinstimmung der Hashwerte liefert ihm ein Passwort aus der Datenbank."
   ]
  },
  {
   "cell_type": "code",
   "execution_count": null,
   "id": "f9da4c09-a590-411f-ae06-45ceda13c1c4",
   "metadata": {},
   "outputs": [],
   "source": []
  }
 ],
 "metadata": {
  "kernelspec": {
   "display_name": "Python 3 (ipykernel)",
   "language": "python",
   "name": "python3"
  },
  "language_info": {
   "codemirror_mode": {
    "name": "ipython",
    "version": 3
   },
   "file_extension": ".py",
   "mimetype": "text/x-python",
   "name": "python",
   "nbconvert_exporter": "python",
   "pygments_lexer": "ipython3",
   "version": "3.11.2"
  }
 },
 "nbformat": 4,
 "nbformat_minor": 5
}
