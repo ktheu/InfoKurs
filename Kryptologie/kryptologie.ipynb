{
 "cells": [
  {
   "cell_type": "markdown",
   "metadata": {},
   "source": [
    "## Kryptologie\n",
    "\n",
    "Die **Kryptologie** ist die Wissenschaft von der sicheren Übermittlung (auch Speicherung) von Information (Daten).\n",
    "Üblich ist eine Unterteilung in **Kryptographie** (wie erstellt man eine Chiffre, d.h. ein Verschlüsselungssystem) und in **Kryptoanalyse** (wie knackt man eine Chiffre).\n"
   ]
  },
  {
   "cell_type": "markdown",
   "metadata": {},
   "source": [
    "Unsere Themen in der Kryptologie\n",
    "* Kryptographie\n",
    "  * Cäsar-Chiffre\n",
    "  * Vigenere-Chiffre\n",
    "  * Diffie-Hellman\n",
    "  * RSA\n",
    "* Kryptoanalyse\n",
    "  * Häufigkeitsanalyse\n",
    "  * Friedmanscher Koinzidenzindex\n",
    "  * Kasiski-Test \n",
    "\n",
    "\n",
    "\n",
    "\n",
    "\n",
    "\n",
    "\n",
    "\n",
    "\n",
    "\n",
    "\n"
   ]
  },
  {
   "cell_type": "markdown",
   "metadata": {},
   "source": [
    "#### Ausgangssituation und Rollen\n",
    "**Alice** will **Bob** eine Nachricht schicken. Dazu wandelt sie den **Klartext** in einen **Geheimtext** um (**Chiffrierung**) und verschickt den Geheimtext. Bob wandelt den Geheimtext wieder in einen Klartext um (**Dechiffrierung**).\n",
    "\n",
    "**Angreifer**: **Eve** will den Text mitlesen (ohne ihn zu verändern). **Mallory** will die verschickte Nachricht verändern.\n",
    "\n"
   ]
  },
  {
   "cell_type": "markdown",
   "metadata": {},
   "source": [
    "#### Sicherheitsziele  \n",
    "\n",
    "* **Vertraulichkeit**: Die Nachricht, die man erhält, ist nicht von dritten Personen gelesen worden.\n",
    "* **Integrität**: Die Nachricht, die man erhält, ist von keiner dritten Person manipuliert worden.\n",
    "* **Authentizität**: Die Nachricht, die man erhält, stammt wirklich von der Person, die als Absender angegeben ist.\n",
    "* **Verbindlichkeit**: Der Urheber kann nachträglich nicht bestreiten, die Nachricht verfasst zu haben."
   ]
  },
  {
   "cell_type": "markdown",
   "metadata": {},
   "source": [
    "#### Vorbereitung des Klartexts\n",
    "In unseren Beispielen wandeln wir den Klartext zunächst in einen Text um, der keine Umlaute hat, keine Satzzeichen, keine Leerzeichen und der nur aus Großbuchstaben besteht. Dazu verwenden wir die Funktion *prepare*"
   ]
  },
  {
   "cell_type": "code",
   "execution_count": 1,
   "metadata": {},
   "outputs": [],
   "source": [
    "def prepare(s):\n",
    "    '''\n",
    "    s: Klartext\n",
    "    returns: String, Klartext ohne Umlaute, Satzzeichen, Leerzeichen, nur Großbuchstaben\n",
    "    '''\n",
    "    s = s.upper()\n",
    "    s = s.replace('Ö','OE').replace('Ü','UE').replace('Ä','AE').replace('ß','SS')\n",
    "    return ''.join([c for c in list(s) if c.isalpha()]) "
   ]
  },
  {
   "cell_type": "code",
   "execution_count": 2,
   "metadata": {},
   "outputs": [
    {
     "name": "stdout",
     "output_type": "stream",
     "text": [
      "DIESISTMEINGEHEIMERTEXT\n"
     ]
    }
   ],
   "source": [
    "s = \"\"\"\n",
    "Dies ist mein geheimer Text\n",
    "\"\"\"\n",
    "print(prepare(s))"
   ]
  },
  {
   "cell_type": "markdown",
   "metadata": {},
   "source": [
    "#### Cäsar-Chiffre\n",
    "\n",
    "Die Cäsar-Chiffre gehört zu den **monoalphabetischem Substitutionschiffren**: Jeder Klartextbuchstabe wird durch immer denselben Geheimtextbuchstaben ersetzt. Bei der Cäsar-Chiffre geschieht die Ersetzung durch Verschiebung im Alphabet um einen festen Betrag.\n",
    "\n",
    "\n",
    "\n",
    "[Cäsar-Chiffre](https://kryptografie.de/kryptografie/chiffre/caesar.htm)\n",
    "\n",
    "Für die Cäsar-Chiffre gibt es nur 25 verschiedene Schlüssel. Der **key-space** hat die Größe 25. Mit einem **brute-force-Angriff** lässt sich eine Cäsar-Chiffre brechen.\n",
    "\n",
    "Ein konkretes Verschlüsselungsverfahren besteht aus dem Verschlüsselungsalgorithmus und einem Schlüssel, z.B. Cäsar-Chiffre mit Schlüssel 3."
   ]
  },
  {
   "cell_type": "markdown",
   "metadata": {},
   "source": [
    "#### Kerckhoffs' Prinzip\n",
    "\n",
    "Das Kerckhoffs’sche Prinzip ist ein im Jahr 1883 von Auguste Kerckhoffs formulierter Grundsatz der modernen Kryptographie, welcher besagt, dass die Sicherheit eines Verschlüsselungsverfahrens auf der Geheimhaltung des Schlüssels beruht und nicht auf der Geheimhaltung des Verschlüsselungsalgorithmus."
   ]
  },
  {
   "cell_type": "markdown",
   "metadata": {},
   "source": [
    "#### Monoalphabetische Substitution\n",
    "\n",
    "Dabei wird ein Buchstabe durch einen anderen ersetzt. Es muss nicht mehr eine feste Verschiebung sein (wie bei Cäsar), sondern kann eine beliebige Permutation sein.\n",
    "Der Schlüssel ist diese Permutation."
   ]
  },
  {
   "cell_type": "code",
   "execution_count": 3,
   "metadata": {},
   "outputs": [
    {
     "name": "stdout",
     "output_type": "stream",
     "text": [
      "ABCDEFGHIJKLMNOPQRSTUVWXYZ,XYLKWBFZTNJRQAHVGMUOPDICSE\n"
     ]
    }
   ],
   "source": [
    "import random\n",
    "random.seed(1)\n",
    "s = 'ABCDEFGHIJKLMNOPQRSTUVWXYZ'\n",
    "a = list(s)\n",
    "random.shuffle(a)\n",
    "s1 = ''.join(a)\n",
    "print(f'{s},{s1}')"
   ]
  },
  {
   "cell_type": "markdown",
   "metadata": {},
   "source": [
    "[Monoalphabetische Substitution](https://kryptografie.de/kryptografie/chiffre/monoalphabetische-substitution.htm)"
   ]
  },
  {
   "cell_type": "markdown",
   "metadata": {},
   "source": [
    "Der *key-space* besteht aus allen Permutationen der 26 Buchstaben. Eine brute-force Angriff ist nicht mehr möglich."
   ]
  },
  {
   "cell_type": "code",
   "execution_count": 4,
   "metadata": {},
   "outputs": [
    {
     "name": "stdout",
     "output_type": "stream",
     "text": [
      "403291461126605635584000000, 4.03e+26\n"
     ]
    }
   ],
   "source": [
    "import math\n",
    "a = math.factorial(26)\n",
    "print(f'{a}, {a:5.2e}')"
   ]
  },
  {
   "cell_type": "markdown",
   "metadata": {},
   "source": [
    "Mit einer Häufigkeitsanalyse lassen sich monoalphabetische Substitutionen brechen."
   ]
  },
  {
   "cell_type": "code",
   "execution_count": 36,
   "metadata": {},
   "outputs": [],
   "source": [
    "hf_deutsch = {'E': 17.4, 'N': 9.8, 'I': 7.6, 'S': 7.3, 'R': 7.0, 'A': 6.5, 'T': 6.2, 'D': 5.1, \n",
    "              'H': 4.8, 'U': 4.4, 'L': 3.4, 'C': 3.0, 'G': 3.0, 'M': 2.5, 'O': 2.5, 'B': 1.9, \n",
    "              'W': 1.9, 'F': 1.7, 'K': 1.2, 'Z': 1.1, 'P': 0.8, 'V': 0.7, 'J': 0.3, 'Y': 0.04, 'X': 0.03, 'Q': 0.02}"
   ]
  },
  {
   "cell_type": "markdown",
   "metadata": {},
   "source": [
    "#### Vigenere-Chiffre\n",
    "Die Vigenere-Chiffre gehört zu den polyalphabetischen Substitutionschiffren. Derselbe Klartextbuchstabe kann durch unterschiedliche Geheimtextbuchstaben ersetzt werden. Es kommt auf seine Position im Text an.\n",
    "Sender und Empfänger vereinbaren ein Schlüsselwort. Oft schreibt man es mit Wiederholungen unter den Klartext. Der Schlüsselbuchstabe bestimmt dann, mit welchem Alphabet der Klartextbuchstabe verschlüsselt wird. Häufig verwendet man dazu\n",
    "ein **Vigenere-Quadrat**.\n",
    "\n",
    "[Vigenere](https://kryptografie.de/kryptografie/chiffre/vigenere.htm)"
   ]
  },
  {
   "cell_type": "markdown",
   "metadata": {},
   "source": [
    "Die Vigenere-Chiffre wurde um 1500 entwickelt und galt ca. 350 Jahre als sicher. Das Hauptproblem beim Brechen der Chiffre ist die Bestimmung der Schlüssellänge. Zwei Verfahren zur Bestimmung der Schlüssellänge sind der **Kasiski-Test** und der **Friedman-Test**. Beide benötigen einen nicht zu kurzen Geheimtext."
   ]
  },
  {
   "cell_type": "markdown",
   "metadata": {},
   "source": [
    "[Kasiski-Test](https://kryptografie.de/kryptografie/kryptoanalyse/kasiski-test.htm)\n",
    "\n",
    "Wenn häufig vorkommende Buchstabenfolgen zufällig auf dieselbe Schlüsselposition fallen, wiederholen sich auch gleichartige Sequenzen im Geheimtext. Der Abstand dieser Sequenzen ist also ein Vielfaches der Schlüssellänge."
   ]
  },
  {
   "cell_type": "markdown",
   "metadata": {},
   "source": [
    "[Friedman-Test](https://kryptografie.de/kryptografie/kryptoanalyse/friedman-test.htm)\n",
    "\n",
    "Der Friedman-Test nutzt den **Friedmanschen Koinzidenzindex**. \n",
    "Der Koinzidenzindex einer Zeichenfolge m ist die Wahrscheinlichkeit, an zwei zufällig gewählten Positionen von m den gleichen Buchstaben zu finden. Für einen hinreichend langen deutschen Text liegt der Koinzidenindex bei 0.076.\n",
    "Für einen zufällig erzeugten Text liegt er bei 0.0385. \n",
    "\n",
    "Den Koinzidenzindex des gegebenen Textes kann man berechnen und diesen darstellen als Summe zweier Wahrscheinlichkeiten. Die Wahrscheinlichkeit, 2 Buchstaben aus Bereichen zu ziehen, die zum selben Verschlüsselungsbuchstaben gehören (dieser Bereich hat einen Koinzidenzindex von ca 0.076) und die Wahrscheinlichkeit,  2 Buchstaben aus Bereichen zu ziehen die zu unterschiedlichen Verschlüsselungsbuchstaben gehören (dieser Bereich hat Koinzidenzindex 0.0358). Man erhält daraus eine Formel, die man nach der Schlüssellänge d auflösen kann.\n",
    "\n",
    "Kasiski-Test zusammen mit Friedman-Test liefern häufig die korrekte Schätzung des Schlüssels.\n",
    "\n",
    " "
   ]
  },
  {
   "cell_type": "markdown",
   "metadata": {},
   "source": [
    "#### One Time Pad"
   ]
  },
  {
   "cell_type": "markdown",
   "metadata": {},
   "source": [
    "Das One Time Pad können wir uns vorstellen wie eine Vigenere-Chiffre, bei dem der Schlüssel genauso lang ist wie die zu verschlüsselnde Nachricht und bei der die Buchstabenreihenfolge des Schlüssels zufällig ist. Das One Time Pad ist absolut sicher, denn bei unbekanntem Schlüssel ist zu einem gegebenen Geheimtext jeder Klartext gleich wahrscheinlich.\n",
    "\n",
    "Das One Time Pad ist aber auch äußerst unpraktisch, denn der unter Umständen sehr lange Schlüssel muss ja irgendwie zwischen den Kommunikationspartnern ausgetauscht werden - er lässt sich wegen der Zufälligkeit der Buchstabenfolge in der Regel auch nicht \"auswendig lernen\"."
   ]
  },
  {
   "cell_type": "markdown",
   "metadata": {},
   "source": [
    "### Rechnen in Restklassenringen\n",
    "\n",
    "Um moderne kryptologische Verfahren zu verstehen, schauen wir uns zuvor das Rechnen in Restklassenringen an.\n",
    "\n",
    "Mit $Z_7$ bezeichnen wir den *Restklassenring modulo 7*, d.h. wir fassen alle Zahlen als gleich auf, die bei der Division von 7 denselben Rest ergeben.\n",
    "\n",
    "<img src='z7.png' width='400'>"
   ]
  },
  {
   "cell_type": "markdown",
   "metadata": {},
   "source": [
    "Alle folgenden Beispiele in $Z_7$:\n",
    "\n",
    "*Addition*, Beispiel $3+6$: wir wandern erst Kreisbogen 3, dann Kreisbogen 6."
   ]
  },
  {
   "cell_type": "code",
   "execution_count": 39,
   "metadata": {},
   "outputs": [
    {
     "data": {
      "text/plain": [
       "2"
      ]
     },
     "execution_count": 39,
     "metadata": {},
     "output_type": "execute_result"
    }
   ],
   "source": [
    "(3+6)%7"
   ]
  },
  {
   "cell_type": "markdown",
   "metadata": {},
   "source": [
    "*Subtraktion*, Beispiel $4-6$: wir wandern erst Kreisbogen 4 im Uhrzeigersinn, dann Kreisbogen 6 gegen Uhrzeigersinn"
   ]
  },
  {
   "cell_type": "code",
   "execution_count": 40,
   "metadata": {},
   "outputs": [
    {
     "data": {
      "text/plain": [
       "5"
      ]
     },
     "execution_count": 40,
     "metadata": {},
     "output_type": "execute_result"
    }
   ],
   "source": [
    "(4-6)%7"
   ]
  },
  {
   "cell_type": "markdown",
   "metadata": {},
   "source": [
    "*Multiplikation*, Beispiel $4*3$: wir setzen den Kreisbogen 4 dreimal hintereinander."
   ]
  },
  {
   "cell_type": "code",
   "execution_count": 41,
   "metadata": {},
   "outputs": [
    {
     "data": {
      "text/plain": [
       "5"
      ]
     },
     "execution_count": 41,
     "metadata": {},
     "output_type": "execute_result"
    }
   ],
   "source": [
    "(4*3)%7"
   ]
  },
  {
   "cell_type": "markdown",
   "metadata": {},
   "source": [
    "*Division*, Beispiel $\\dfrac{1}{5}$: Gesucht ist das $x$ mit $5*x = 1$. D.h. wir suchen das x, das angibt,\n",
    "wieviel mal wir den Kreisbogen 5 hintereinander setzen müssen, damit wir bei der 1 rauskommen."
   ]
  },
  {
   "cell_type": "code",
   "execution_count": 42,
   "metadata": {},
   "outputs": [
    {
     "name": "stdout",
     "output_type": "stream",
     "text": [
      "1 5\n",
      "2 3\n",
      "3 1\n",
      "4 6\n",
      "5 4\n",
      "6 2\n"
     ]
    }
   ],
   "source": [
    "for i in range(1,7):\n",
    "    print(i,5*i%7)"
   ]
  },
  {
   "cell_type": "markdown",
   "metadata": {},
   "source": [
    "Antwort: $\\dfrac{1}{5} = 3$\n",
    "\n",
    "Anmerkung: Wenn beim Rechnen in $Z_p$ p eine Primzahl ist, ist dieser Bruch wohldefiniert."
   ]
  },
  {
   "cell_type": "markdown",
   "metadata": {},
   "source": [
    "*Exponentiation*, \n",
    "Beispiel $4^5 = 4*4*4*4*4$"
   ]
  },
  {
   "cell_type": "code",
   "execution_count": 43,
   "metadata": {},
   "outputs": [
    {
     "data": {
      "text/plain": [
       "2"
      ]
     },
     "execution_count": 43,
     "metadata": {},
     "output_type": "execute_result"
    }
   ],
   "source": [
    "(4**5)%7"
   ]
  },
  {
   "cell_type": "markdown",
   "metadata": {},
   "source": [
    "*(Diskreter) Logarithmus*,\n",
    "Beispiel: $5^x = 2$.  Wir suchen die Zahl, hoch die wir 5 nehmen müssen, um bei der 2 zu landen."
   ]
  },
  {
   "cell_type": "code",
   "execution_count": 44,
   "metadata": {},
   "outputs": [
    {
     "name": "stdout",
     "output_type": "stream",
     "text": [
      "1 5\n",
      "2 4\n",
      "3 6\n",
      "4 2\n",
      "5 3\n",
      "6 1\n"
     ]
    }
   ],
   "source": [
    "for i in range(1,7):\n",
    "    print(i,5**i%7)"
   ]
  },
  {
   "cell_type": "markdown",
   "metadata": {},
   "source": [
    "Antwort: $x = 4$"
   ]
  },
  {
   "cell_type": "markdown",
   "metadata": {},
   "source": [
    "**Außer dem diskreten Logarithmus** lassen sich alle Operationen  auch für sehr große Zahlen effektiv durchführen."
   ]
  },
  {
   "cell_type": "markdown",
   "metadata": {},
   "source": [
    "Beim Rechnen im Restklassenring können wir Zwischenergebnisse durch kleinere Zahlen in derselben Restklasse ersetzen. \n",
    "\n",
    "In $Z_7$:\n",
    "\n",
    "$17*15-25*9 = 3*1 -(-3)*2) = 3+6=9=2$"
   ]
  },
  {
   "cell_type": "code",
   "execution_count": 45,
   "metadata": {},
   "outputs": [
    {
     "data": {
      "text/plain": [
       "2"
      ]
     },
     "execution_count": 45,
     "metadata": {},
     "output_type": "execute_result"
    }
   ],
   "source": [
    "(17*15-25*9)%7"
   ]
  },
  {
   "cell_type": "markdown",
   "metadata": {},
   "source": [
    "#### Das Powermod Verfahren\n",
    "\n",
    "Für die Exponentiation nutzen wir das *Powermod-Verfahren*. Wir berechnen die Bestandteile des Ergebnisses durch fortgesetztes Quadrieren. Die Umwandlung des Exponenten in eine Dualzahl gibt an, welche Teilergebnisse wir miteinander multiplizieren müssen.\n",
    "\n",
    "<img src='powermod.png'>"
   ]
  },
  {
   "cell_type": "code",
   "execution_count": 46,
   "metadata": {},
   "outputs": [
    {
     "data": {
      "text/plain": [
       "6"
      ]
     },
     "execution_count": 46,
     "metadata": {},
     "output_type": "execute_result"
    }
   ],
   "source": [
    "19**123%7"
   ]
  },
  {
   "cell_type": "markdown",
   "metadata": {},
   "source": [
    "#### Erweiterter Euklidscher Algorithmus \n",
    "\n",
    "Zum Berechnen von $1/k$ nutzen wir den *erweiterten Euklidschen Algorithmus*"
   ]
  },
  {
   "cell_type": "markdown",
   "metadata": {},
   "source": [
    "Satz: Seien a, b natürliche Zahlen, dann gibt es ganze Zahlen x, y mit: $a*x + b*y = ggT(a,b)$. Der erweiterte euklidsche Algorithmus ist ein effektives Verfahren, um die beiden Zahlen x und y zu finden.\n",
    "\n",
    "Beispiel: $a = 110, b = 32$\n",
    "\n",
    "<img src='ggt.png' width='600'>\n"
   ]
  },
  {
   "cell_type": "code",
   "execution_count": 28,
   "metadata": {},
   "outputs": [
    {
     "data": {
      "text/plain": [
       "2"
      ]
     },
     "execution_count": 28,
     "metadata": {},
     "output_type": "execute_result"
    }
   ],
   "source": [
    "110*7 + 32*(-24)"
   ]
  },
  {
   "cell_type": "markdown",
   "metadata": {},
   "source": [
    "<img src='division.png'>"
   ]
  },
  {
   "cell_type": "code",
   "execution_count": 34,
   "metadata": {},
   "outputs": [
    {
     "data": {
      "text/plain": [
       "5"
      ]
     },
     "execution_count": 34,
     "metadata": {},
     "output_type": "execute_result"
    }
   ],
   "source": [
    "13*16%29"
   ]
  },
  {
   "cell_type": "markdown",
   "metadata": {},
   "source": [
    "#### Diffie-Hellman Schlüsselaustausch"
   ]
  },
  {
   "cell_type": "markdown",
   "metadata": {},
   "source": [
    "\n",
    "Alice und Bob vereinbaren eine Primzahl $p$ und eine Generatorzahl $g \\in \\{1,2,...p-1\\}$, am besten eine Primitivwurzel in \n",
    "$\\mathbb{Z}_p$. Alice wählt geheim eine Zahl $a$ aus, Bob geheim eine Zahl $b$ mit $a,b \\in \\{1,2,...p-1\\}$.  \n",
    "Alice berechnet $A = g^a \\text{ mod } p$, Bob berechnet $B = g^b \\text{ mod } p$.  Dann tauschen beide $A$ und $B$ aus.  Das bedeutet, \n",
    "$p,g,A,B$ sind öffentlich bekannt, $a$ kennt nur Alice, $b$ nur Bob.  \n",
    "\n",
    "Beide können nun den gemeinsamen Schlüssel $K$ berechnen: <br>\n",
    "Alice: $B^a = (g^b)^a = g^{ba} = K \\text{ mod } p$ <br>\n",
    "Bob: $A^b = (g^a)^b = g^{ab} = K \\text { mod }p$ \n",
    "\n",
    "<img src='diffie.png'>"
   ]
  },
  {
   "cell_type": "markdown",
   "metadata": {},
   "source": [
    "#### Man-in-the-middle Angriff auf Diffie-Hellman\n",
    "\n",
    "Mallory kontrolliert das Netzwerk. Er gibt sich gegenüber Alice als Bob aus und gegenüber Bob als Alice. Mit beiden vereinbart er getrennte Schlüssel $g^{am}$ und $g^{bm}$.\n",
    "\n",
    "<img src='middleMan.png'>"
   ]
  },
  {
   "cell_type": "markdown",
   "metadata": {},
   "source": [
    "#### RSA-Verfahren\n",
    "\n",
    "Alice wählt zwei Primzahlen $p$ und $q$ und berechnet $m = p \\cdot q$ und $\\tilde{m} = (p-1)(q-1)$.\n",
    "Alice wählt Verschlüsselungsexponent $e$ mit $1 < e < \\tilde{m}$ und $\\text{ggT}(e,\\tilde{m}) = 1$ und berechnet\n",
    "Entschlüsselungsexponent $d$ mit  $d$ mit $d = \\dfrac{1}{e}$ in $\\mathbb{Z}_{\\tilde{m}}$.\n",
    "\n",
    "Dann ist der öffentliche Schlüssel  $(m,e)$ und der private Schlüssel $(m,d)$.\n",
    "\n",
    "Für die zu verschlüsselnde Nachricht $n$ muss gelten: $0<n<m$.\n",
    "\n",
    "Bob verschlüsselt $n: N = n^e \\text{ mod } m$ <br>\n",
    "Alice entschlüsselt $N:  n = N^d\\text{ mod } m$ \n",
    "\n",
    "<img src='rsa.png'>\n"
   ]
  },
  {
   "cell_type": "markdown",
   "metadata": {},
   "source": [
    "Die Sicherheit des Verfahrens hängt davon ab, dass der Angreifer das öffentlich bekannte $m$ nicht in die beiden\n",
    "Primfaktoren $p$ und $q$ zerlegen kann. Sonst könnte er $\\tilde{m}$ berechnen und dann auch das Inverse zu dem öffentlichen $e$ in $\\mathbb{Z}_{\\tilde{m}}$. \n",
    "\n",
    "**Aufwand für die Faktorensuche**\n",
    "\n",
    "Wenn wir versuchen, die Faktoren einer Primzahl mit 300 Stellen zu finden, testen wir nur Primzahlen, die kleiner als\n",
    "$\\sqrt{10^{300}} = 10^{150}$ sind. Nach der Abschätzung von Euler gilt für große $n$, dass es ca. $\\frac{n}{\\ln(n)}$ Primzahlen unterhalb von $n$ gibt.\n",
    "\n",
    "\n",
    "$\\ln(10^{150}) = 150 \\cdot \\ln(10) \\approx 150 \\cdot 2.3 = 345.4$. Also müssen wir $\\frac{10^{150}}{345.5} \\approx 3 \\cdot 10^{147}$ Kandidaten testen.\n",
    "\n",
    "Annahme: 1 Computer schafft $10^{12}$ Prüfungen pro Sekunde (1 Million Millionen). Das sind im Dauerbetrieb pro Jahr: \n",
    "$10^{12} \\cdot 60 \\cdot 60 \\cdot 24 \\cdot 365 \\approx 3 \\cdot 10^{19}$ Prüfungen. Das bedeutet $\\frac{3 \\cdot 10^{147}}{3 \\cdot 10^{19}} = 10^{128}$ Jahre für alle Prüfungen (Alter des Weltalls: ca. $10^{10} Jahre)$.\n",
    "\n"
   ]
  },
  {
   "cell_type": "markdown",
   "metadata": {},
   "source": [
    "#### Kryptographische Hashfunktionen \n",
    "\n",
    "Hashfunktionen bilden Eingabewerte (z.B. ein Text oder eine Datei) auf einen Wert fester Länge ab, den **Hash** der Eingabe.  Beispiel: SHA-256 bildet Eingaben auf eine Bitfolge der Länge 256 ab.  \n",
    "\n",
    "Kryptographische Hashfunktionen sind kollisionsresistene Einwegfunktionen. Kollisionsresistent bedeutet, es ist praktisch unmöglich, zwei Eingaben zu finden, die denselben Hash ergeben. Einwegfunktion bedeutet, es ist praktisch unmöglich, aus dem Hashwert den Eingabewert zu rekonstruieren."
   ]
  },
  {
   "cell_type": "code",
   "execution_count": 47,
   "metadata": {},
   "outputs": [
    {
     "data": {
      "text/plain": [
       "'e61000e5186a1e65c85ad713d438f85a3b2028eb1c7b9cfe69c1954c3976146a'"
      ]
     },
     "execution_count": 47,
     "metadata": {},
     "output_type": "execute_result"
    }
   ],
   "source": [
    "from hashlib import sha256 \n",
    "hash = sha256(b\"Dies ist eine geheime Botschaft\").hexdigest()\n",
    "hash"
   ]
  },
  {
   "cell_type": "code",
   "execution_count": 54,
   "metadata": {},
   "outputs": [
    {
     "data": {
      "text/plain": [
       "104060230903586659970490076555349987883149714790405932888550679235298292274282"
      ]
     },
     "execution_count": 54,
     "metadata": {},
     "output_type": "execute_result"
    }
   ],
   "source": [
    "int(hash,16)        # hex in Dezimal"
   ]
  },
  {
   "cell_type": "code",
   "execution_count": 55,
   "metadata": {},
   "outputs": [
    {
     "data": {
      "text/plain": [
       "'0b1110011000010000000000001110010100011000011010100001111001100101110010000101101011010111000100111101010000111000111110000101101000111011001000000010100011101011000111000111101110011100111111100110100111000001100101010100110000111001011101100001010001101010'"
      ]
     },
     "execution_count": 55,
     "metadata": {},
     "output_type": "execute_result"
    }
   ],
   "source": [
    "bin(int(hash,16))    # Dezimal in Binär"
   ]
  },
  {
   "cell_type": "code",
   "execution_count": 58,
   "metadata": {},
   "outputs": [
    {
     "data": {
      "text/plain": [
       "256"
      ]
     },
     "execution_count": 58,
     "metadata": {},
     "output_type": "execute_result"
    }
   ],
   "source": [
    "len(bin(int(hash,16))[2:])    # Die Binärdarstellung des hash-Wertes hat 256 Ziffern"
   ]
  },
  {
   "cell_type": "markdown",
   "metadata": {},
   "source": [
    "#### Digitale Signatur\n",
    "\n",
    "Mit dem RSA-Verfahren und einer kryptographischen Hashfunktion kann eine digitale Signatur erstellt werden. \n",
    "\n",
    "<img src='bild4.png'>"
   ]
  },
  {
   "cell_type": "markdown",
   "metadata": {},
   "source": [
    "Durch eine digitale Signatur wird der Diffie-Hellman Schlüsselaustausch vor einem\n",
    "Man-in-the-middle-Angriff geschützt.  \n",
    "\n",
    "<img src='bild5.png'>"
   ]
  },
  {
   "cell_type": "markdown",
   "metadata": {},
   "source": [
    "#### Public Key Infrastruktur (PKI)\n",
    "\n",
    "Ein Problem des RSA-Verfahrens ist die *Authentizität* des öffentlichen Schlüssels, also die Frage, ob der öffentliche Schlüssel wirklich zu der Person gehört, die ihn (z.B. auf einer Internetseite) präsentiert. Um dies sicherzustellen, muss der öffentliche Schlüssel von einem anerkannten Vertrauensbüro, einen Trust-Center, zertifiziert werden. Der prinzipielle Ablauf:\n",
    "\n",
    "<img src='zertifizierung.png'>"
   ]
  },
  {
   "cell_type": "markdown",
   "metadata": {},
   "source": [
    "[youtube](https://www.youtube.com/watch?v=0ctat6RBrFo)"
   ]
  }
 ],
 "metadata": {
  "kernelspec": {
   "display_name": "Python 3 (ipykernel)",
   "language": "python",
   "name": "python3"
  },
  "language_info": {
   "codemirror_mode": {
    "name": "ipython",
    "version": 3
   },
   "file_extension": ".py",
   "mimetype": "text/x-python",
   "name": "python",
   "nbconvert_exporter": "python",
   "pygments_lexer": "ipython3",
   "version": "3.11.2"
  }
 },
 "nbformat": 4,
 "nbformat_minor": 4
}
