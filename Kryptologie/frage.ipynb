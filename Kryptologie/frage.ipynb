{
 "cells": [
  {
   "cell_type": "markdown",
   "id": "aa27ba64-27e5-4739-8154-b469feb4fa1d",
   "metadata": {},
   "source": [
    "[Bigrams](http://practicalcryptography.com/cryptanalysis/letter-frequencies-various-languages/german-letter-frequencies/)"
   ]
  },
  {
   "cell_type": "raw",
   "id": "c136f2f0-257a-4532-981d-ae8eee46802d",
   "metadata": {},
   "source": [
    "ER :  3.90        ST :  1.21        SE :  0.83\n",
    "EN :  3.61        NE :  1.19        IT :  0.81\n",
    "CH :  2.36        BE :  1.17        DI :  0.81\n",
    "DE :  2.31        ES :  1.17        IC :  0.80\n",
    "EI :  1.98        UN :  1.13        SC :  0.77\n",
    "TE :  1.98        RE :  1.11        LE :  0.73\n",
    "IN :  1.71        AN :  1.07        DA :  0.72\n",
    "ND :  1.68        HE :  0.89        NS :  0.71\n",
    "IE :  1.48        AU :  0.89        IS :  0.70\n",
    "GE :  1.45        NG :  0.87        RA :  0.69"
   ]
  },
  {
   "cell_type": "code",
   "execution_count": 2,
   "id": "ea4415b4-e228-4b4a-a2a2-6399bdd2f450",
   "metadata": {},
   "outputs": [],
   "source": [
    "er = -3.33733534812927\n",
    "en = -3.2283136844635"
   ]
  },
  {
   "cell_type": "code",
   "execution_count": 3,
   "id": "b8c862f5-4329-4b5e-8010-30014d4334f8",
   "metadata": {},
   "outputs": [
    {
     "data": {
      "text/plain": [
       "0.0989377329191404"
      ]
     },
     "execution_count": 3,
     "metadata": {},
     "output_type": "execute_result"
    }
   ],
   "source": [
    "2**er"
   ]
  },
  {
   "cell_type": "code",
   "execution_count": 4,
   "id": "4b6b216d-6074-493b-9034-b6d9c4f79c88",
   "metadata": {},
   "outputs": [
    {
     "data": {
      "text/plain": [
       "0.10670401117652141"
      ]
     },
     "execution_count": 4,
     "metadata": {},
     "output_type": "execute_result"
    }
   ],
   "source": [
    "2**en"
   ]
  },
  {
   "cell_type": "code",
   "execution_count": 10,
   "id": "6bc53596-c927-4ab4-9097-a535caabc158",
   "metadata": {},
   "outputs": [
    {
     "data": {
      "text/plain": [
       "0.039624261488859336"
      ]
     },
     "execution_count": 10,
     "metadata": {},
     "output_type": "execute_result"
    }
   ],
   "source": [
    "import math\n",
    "math.e**en"
   ]
  },
  {
   "cell_type": "code",
   "execution_count": 11,
   "id": "8ce94d3c-4c8f-4da3-a135-e831ff9c9519",
   "metadata": {},
   "outputs": [],
   "source": [
    "s = 'HELLOWORLD'   # -5,97970480389065\n",
    "t = 'ERERERERER'   # -3,86432083447774\n",
    "HE = -4.42781686782837\n",
    "EL = -4.90578889846802\n",
    "LL = -5.39335775375366\n",
    "LO = -6.69669008255005\n",
    "OW = -7.81321954727173\n",
    "WO = -6.36126756668091\n",
    "OR = -5.50730514526367\n",
    "RL = -6.30962419509888\n",
    "LD = -6.40227317810059\n",
    "ER = -3.33733534812927\n",
    "\n"
   ]
  },
  {
   "cell_type": "code",
   "execution_count": 12,
   "id": "b64bf0e3-7c3c-4944-b1b3-fb1ae50885e4",
   "metadata": {},
   "outputs": [
    {
     "data": {
      "text/plain": [
       "-5.9797048038906535"
      ]
     },
     "execution_count": 12,
     "metadata": {},
     "output_type": "execute_result"
    }
   ],
   "source": [
    "(HE+EL+LL+LO+OW+WO+OR+RL+LD)/9"
   ]
  },
  {
   "cell_type": "markdown",
   "id": "3c2501d8-ad70-49fd-80dd-9dd2eee1a469",
   "metadata": {},
   "source": [
    "Hi Nils,\n",
    "thank you for your answer. I am still puzzled by the formula for the n-gram cost function which you gave in your video.\n",
    "If I calculate the cost of Text 'EN' for german in Cryptool2 it gives me as result -3.228.\n",
    "If I take e to the power of -3.338 I get 0.036 which roughly is the probability of chosing 'EN' as a\n",
    "Bigram from a german text (the term frequency in your formula is a little bit misleading, it really is\n",
    "a probabilty, I think). So the largest value the cost-function can take is 0, since this would correspond\n",
    "to probability 1. First question: What would it mean for a text, to have n-gram cost-value 0? Would the text-corpus\n",
    "with which you precalculated the n-gram-values have a cost of 0?\n",
    "Second question: I still do not understand, why a larger cost-value should indicate, that the text is 'closer' to\n",
    "a german text. For instance 'HELLOWORLD' has a value of -5,97970480389065 and 'ERERERERER' has a cost-value of -3,86432083447774.\n",
    "So with hill-climbing you would prefer ERERERERER, which seems not plausible.\n",
    "\n",
    "\n",
    "\n"
   ]
  },
  {
   "cell_type": "code",
   "execution_count": 16,
   "id": "89804bcd-c020-4167-9d7f-a1d94a9a6109",
   "metadata": {},
   "outputs": [
    {
     "data": {
      "text/plain": [
       "0.03550790255823019"
      ]
     },
     "execution_count": 16,
     "metadata": {},
     "output_type": "execute_result"
    }
   ],
   "source": [
    "import math\n",
    "math.e**(-3.338)"
   ]
  },
  {
   "cell_type": "code",
   "execution_count": null,
   "id": "762380d3-2c55-4227-b0db-965be3f32fb9",
   "metadata": {},
   "outputs": [],
   "source": []
  }
 ],
 "metadata": {
  "kernelspec": {
   "display_name": "Python 3 (ipykernel)",
   "language": "python",
   "name": "python3"
  },
  "language_info": {
   "codemirror_mode": {
    "name": "ipython",
    "version": 3
   },
   "file_extension": ".py",
   "mimetype": "text/x-python",
   "name": "python",
   "nbconvert_exporter": "python",
   "pygments_lexer": "ipython3",
   "version": "3.11.2"
  }
 },
 "nbformat": 4,
 "nbformat_minor": 5
}
