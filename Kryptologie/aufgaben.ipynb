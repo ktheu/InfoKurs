{
 "cells": [
  {
   "cell_type": "markdown",
   "id": "5f2a1899-0cbe-4734-8170-0dd8de364b7a",
   "metadata": {},
   "source": [
    "### Aufgaben zur Kryptologie"
   ]
  },
  {
   "cell_type": "markdown",
   "id": "d5c09e5b-1099-4b5f-ab4d-9efc26ad282d",
   "metadata": {},
   "source": [
    "#### A1:\n",
    "Verschlüssele den Klartext *Morgenstunde* mit der Cäsar-Chiffre und Schlüssel 4."
   ]
  },
  {
   "cell_type": "markdown",
   "id": "2bedf9fc-9641-43b9-b8ca-c854df5a61f8",
   "metadata": {},
   "source": [
    "#### A2: \n",
    "Der Chiffretext C ist aus dem Klartext K durch die Vigenere-Chiffre mit dem Schlüssel k entstanden. Beim Versuch, k zu erraten, probieren wir zwei (nicht korrekte) Schlüssel k1 = GRMAWOPST und k2 = GRNAWOPST aus.  \n",
    "\n",
    "a. Bestimme mit dem Koinzidenzindex, welcher der beiden Schlüssel k1 und k2 der 'bessere' ist.  <br>\n",
    "b. Führe zur Bestimmung der Schlüssellänge den Kasiski-Test durch. <br>\n",
    "c. Führe zur Bestimmung der Schlüssellänge den Friedman-Test durch. <br>\n",
    "d. Bestimme den korrekten Schlüssel k und entschlüssle den Chiffretext. <br>\n",
    "e. Aus welchem Buch stammt der Text?\n",
    "\n",
    "[Hilfsmittel](https://kryptografie.de/kryptografie/index.htm)"
   ]
  },
  {
   "cell_type": "markdown",
   "id": "2b6d7e53-7b2c-44ba-870b-371284b9fb09",
   "metadata": {},
   "source": [
    " \n",
    "Der Chiffretext C:"
   ]
  },
  {
   "cell_type": "raw",
   "id": "ccc8cc96-583f-421a-b369-c06988291baf",
   "metadata": {},
   "source": [
    "KWJTCKMNMARZHPKXIPNEAWTIEEZZETXPMZEAYTNSTIDGNTKMNXEOHRTEZFZVSEACEEXYAURNRPRKOMZGFCERACIZDRORRKREZZRTWGNYHQIAJIAUWEQTGKVYHDIZJHTKRGLRBFYGRMNYKQNHSLRKRIIAAJIEMLFQRFKMGWPQYIGZETXDWQNZXWEXPHEPROWGXDXQTFFYSKFITEEYXHGOIIEATORBYISARYXRSFKQGRTANKPRTAGZIQXCOMLGKAVGEIDWVTHFHOYQSGKVRLNLIEEKABEVIZUAJIVGPREOQAVPAOVUNTKRQXYVQGRTLRKLYRGRCIUMOEESIURJXTXQRRXFRPPKGNTORSKTWOHRXPHYERUCUZQRACHUEEKHRLPMZKBTRGXTGTWNXZBGSIDZRTJEHSHMRHKFRKWEZGRYTNSTIDGNKRTXMIEOAJIELLRRRBYXVZPRZAPNQVMEESEACEEXYQURFZIGLKYIIQKVRBYKDEHKPJTCIEMVXMAWPVDAHNIAWLIYMRXWGNYHQNNILUTFWQZHQSZFPRYIGLEFMPVRRBXIAXYLMEAJIANYHRURYWRGXMFEVTIZAPVLEAJEFWFVOHQGWFVSIXTRTFRLDMQSQKVXBYHQRJGIEMPVUNOOWMNXFDEPNIALNLIEECEEZPHQMHKXVZEHGRPNHNLMIIUFYXFXTRBHLYMFVSWATVKJHGEIDEYODNCZLZUAJKRHCKUNNXIRWKYETRNIAWTIEORHIAXCAMEUTXRGPPUZNPSUGFRPGRUVTBYETAGZIALTGTIAJMRLPQMUTKROETGWIZYEYHYYYIUXIZTXEHEEYEZFPPFDVKWRKFLFENAJRBYIYSBLEVGOIDNNKLRWPWWAZORFNYHGMTKFRGGSZIUXIAETINLVTKRGOMQZHLEREWMSEECIVLPMZDVKWRFXSYEAZARWPVLAAQXRGYSOHFILEBPIZSNNWVXGSXLXUQZXYKXURIOYBNLMUFSMPASEFTRYMRWLZANQOWCXYWUEEZQVVSHQRTXYCIPEZZHYGUETIESRTMAWPQEIRYETMPHMSFKWFBPXUESARTEFIOKYOGUFLGTETKDJNYKQNMAWRBYQUCULIEGKYTAYZIAWLWESVKQVVSENEEBSAOZVDEPNXRGLYESPNPVXDWQNZAIFLPDGDRXIAZPRGSFTYESFJDIRJIAXRPGEPQPVVSIWLRORRDTRPEEHIEXNLFITZWRBPRGNQJEFLDMQMVXIELEZQRMKMUXYAGEEJIJXYREIRYSJHSPPUEILRBRIZEJGLEGPLYUAMAVXOYDCUHIFLTIEWBXXRSFHQRHKFRKKIGGHTKTXWEZGGYIVGHYQRQKHNLDMOHVTEYEPQQRAYXIXCWGCUKQVKLRLIRNIAWPVQUAJJEXFRPLVILRKPQMNVKVRGPMZEAQMAWWMOHRXIAZPWQLYOKRKPROHNXEXMPVQIARIVVSXQRRYSSYPRTEEFMTXCIENNZYRKWMOHRXIFUPRQHZKRNGKYQITTIAPLWEATZHRGYFQSFOIQTDWUCUMIGALRTAOKJETRXQIPNNNGPMOHYOIOXHIPEEYTVMKJUNQOKXXTXQNAUGUYCESEAGYFLPVPEZOWGXDKDAQKDHPTHQRYOGUPPRZEVTOVGOEQLGKVREPYFEVTHVXDIDWROWRSFVDEQKWGXWPFAHMIAUWMOKYOGULPXLEFZHHWTGTIEMIAWHSTIAARQLNLIEVMWGUTWPUSXIHGOPUCUKVHGOPUEOKRFPFIDDVMIEKPHQNXGRALEEZDNYABAYDUMZKVFMTIESRORXEPMZEFLVHXSWFURIOFSTQYEEOGULNLXURVJGXSMZEVTLVXCWFAAJIVGRVASFKVONPGTEEYGUKLRWBNRHUTEXQIPNQVVSIUNRYKEHDWQNOGRQXDFQMNKGUMTKFNNILQXXMOHZOGUSFIDSGBSELTGTTVMZRKRIIIFYIEMSEFTRJEFLPVNIYJIEXYXTAYZIVVSWFIRMEHYOIZSVZDVGOIDFRTWGXCZQRGOISNYKLOTJMRYFIESRTEPAFRPKEKYMMPHUEOKMAXHMQEVTXHXCOQDNTRMHRMOHQOIQNYOQLEUXRGXSURRKZBKSEQNTKJRLEDGSNSQRGFRPSNYWFHTRQIAKQQHATQLGKRIXCWFEPQWPALVXAPNVBMPHDACKVVXYWOHYUWFXYQURQOINNDWUCUZDHKCIOHGKRUTYHXIAQWOXQEZDRTWVVSHUETXSFLPRWLNXIAYPRETRXWPAPMNEAJMRFTGTVBXHRFOYQSGKVAGZZQMOKVGTRAAHYYGUNPXLTRTQVVSENEETMPAEZANVNQGKPRZTRTMADFVLEAFAVLNLQNEGIHFPRIEATMPAOMQBYGIGMPVYEVTIFUFGTEFCIAWPXQFVKPZXTRNLVIONNQHMSOOPQWTIEEFCMAMPVXIPNIAGLGTMVZXNZDMZDRXJRKYIIAETMPAEWMLFKMAUWEESRXPRXCIDNRHIYPZPWEAOQIHCHQRTXYAWPHQRSKYPAEIRRROICELXLVBXHRFSEGSRBSZPTRPERTXYTFFFETKWGKLIGCUKYAWPMZUAGYSAZIDLVILRKGSYSGAVZPTPPGRVIVMDGTTRXVRZPRUCUQIUKEILUZKMAXXFGCUKDHKFIOKOKAVVVWSEFILVVSXQVBTIAZWEZDFMISBPHQRGKROXHSTNRXRVFLPXGRSIVGPRWURSQRKEIUCUSMPAHIZITAQQXYKQDEAGXMPRFEKZHRLHIDKRYYAWOSOHJGVRGOEQIAOKRXTRXEVZIAWPWQIGKRJXWGTEVILBURPQIPNRHKPMZKVTHABNLFGNKRMETGTURHIEZPLQNXURAMPIEWNXIACPRQDVKZBGOIZVRXWGXNOQNQKVFXPZAETKPUTYHQLGKRIHYNQNRTIVGDEYEALIYLPRGNQQPVIAIZWRRGUXYYDSVKEYEPMZBRCSUGPRHOAJIEDFIETRTSEPPKQNFJMROZRUHEKVNXFWEEEYXRGDYQDYOGUXYWBIGFIQXXPUNQKWATPWNIFFYZGZVPKNVQVMTREEYTFRLLIQTVYX"
   ]
  },
  {
   "cell_type": "markdown",
   "id": "6b3a6b44-9a0a-40be-921d-31d3c3a0e2d3",
   "metadata": {},
   "source": [
    "#### A3\n",
    "Der Klartext wurde mit einer Vigenere-Chiffre codiert.\n",
    "\n",
    "a. Bestimme die Schlüssellänge ohne Kasiki-Test und ohne Friedman-Test nur durch Vergleichen von Häufigkeitsverteilungen. <br>\n",
    "b. Wie heißt der Schlüssel? <br>\n",
    "c. Aus welchem Buch stammt der Klartext?  \n",
    "\n",
    "[Hilfsmittel](https://kryptografie.de/kryptografie/kryptoanalyse/2-3-2-brechen-von-vigenere-mittels-schluesselrekonstruktion.htm) <br>\n",
    "Hinweise zum Eingabefeld Schlüssel/Parameter auf der Hilfsmittel-Webseite:\n",
    "```\n",
    "3,1     # Angenommene Schlüssellänge = 3, ab dem 1. Buchstaben wird jeder 3. Buchstabe für die Häufigkeitsverteilung genommen.\n",
    "3,1,7   # Die Häufigkeitsverteilung wird um 7 Stellen nach links verschoben.\n",
    "```"
   ]
  },
  {
   "cell_type": "raw",
   "id": "0c79d7f1-7883-49fc-8c9e-f46db539e996",
   "metadata": {},
   "source": [
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
   ]
  },
  {
   "cell_type": "markdown",
   "id": "36a2c0d7-9899-4bec-81be-987716923f8c",
   "metadata": {},
   "source": [
    "#### A4:\n",
    "a. Verschlüssele nach dem Vigenere-Verfahren: Klartext = 'WAHLURNE', key = 'ABI' <br>\n",
    "b. Erkläre, wie man einen mit der Vigenere-Chiffre verschlüsselten Text bei bekannter Schlüssellänge vollständig entschlüsseln kann."
   ]
  },
  {
   "cell_type": "markdown",
   "id": "28157711-45d5-4d30-87b4-a5cccf2bba29",
   "metadata": {},
   "source": [
    "#### A5:\n",
    "\n",
    "a. Erläutere den Unterschied zwischen symmetrischer und asymmetrischer Verschlüsselung. <br>\n",
    "\n",
    "b. Du willst zur Sicherheit die Daten deiner Festplatte verschlüsseln. Gib, ob du ein symmetrisches oder\n",
    "asymmetrisches Verschlüsselungsverfahren wählen würdest. Begründe deine Wahl. <br>\n",
    "\n",
    "c. Ein Verein möchte Nachrichten nur noch mit asymmetrischer Verschlüsselung per email empfangen. Deshalb soll der Webmaster, der Zugriff auf den Mailserver hat, den öffentlichen Schlüssel auf der Homepage des Vereins veröffentlichen. Erläutere, wie der Webmaster mit Hilfe eines sogenannten \"Man-in-the-Middle-Angriffs\" die Nachrichten manipulieren kann.\n",
    "\n",
    "\n"
   ]
  },
  {
   "cell_type": "markdown",
   "id": "5402fd75-f16c-4adc-8658-c29a37bd3d0e",
   "metadata": {},
   "source": [
    "b. Bei der Verschlüsselung eines USB-Sticks ist es wichtig, dass die verschlüsselten Daten schnell ausgelesen\n",
    "werden können, um die Arbeitsgeschwindigkeit nicht zu beeinträchtigen. Der Schlüsselaustausch\n",
    "ist nicht relevant, da sowohl der „Empfänger“ als auch der „Sender“ ein und dieselbe Person sind.\n",
    "Deshalb ist ein symmetrisches Verfahren vorzuziehen."
   ]
  },
  {
   "cell_type": "markdown",
   "id": "f45b6ccd-7d66-4166-83af-87781f14c697",
   "metadata": {},
   "source": [
    "c. Der Webmaster veröffentlicht seinen eigenen öffentlichen Schlüssel an Stelle des öffentlichen Schlüssels\n",
    "der Bank auf deren Homepage. Wenn ein Kunde mit Hilfe dieses Schlüssels eine Nachricht an den Verein schickt, fängt der Webmaster die Mail auf dem Mailserver ab, entschlüsselt\n",
    "sie mit Hilfe seines privaten Schlüssels, manipuliert die Nachricht und schickt sie dann mit Hilfe des\n",
    "öffentlichen Schlüssels des Vereins an den Verein weiter."
   ]
  },
  {
   "cell_type": "markdown",
   "id": "feae436f-00b3-4078-8435-e2b81c688dd9",
   "metadata": {},
   "source": [
    "#### A6\n",
    "\n",
    "a. Führe die Vigenere-Verschlüsselung durch mit Klartext 'MONTAG' und Schlüssel 'ABI'. <br>\n",
    "\n",
    "b. Erläutere, warum die polyalphabetische Verschlüsselung von Vigenere jeder monoalphabetischen Verschlüsselung überlegen ist. <br>\n",
    "\n",
    "c. Jemand macht folgenden Verbesserungsvorschlag für das Vigenere-Verfahren. Der Klartext wird erst mit\n",
    "dem Schlüssel 'GEHEIM' verschlüsselt, der verschlüsselte Text dann nochmal mit dem Schlüssel 'ABI' verschlüsselt. Erhöht dieser Vorschlag die Sicherheit des Verfahrens? Begründe deine Antwort. <br>\n",
    "\n",
    "d. Nimm Stellung zu folgender Aussage: \"Bei geeigneter Wahl des Schlüsselwortes ist die Vigenere-Verschlüsselung nicht zu brechen\". \n"
   ]
  },
  {
   "cell_type": "markdown",
   "id": "3d58abfc-871b-4e62-b933-4278c435a545",
   "metadata": {},
   "source": [
    "#### A7 (Diffie-Hellman)\n",
    "Alice und Bob ermitteln einen gemeinsamen Schlüssel mit dem Diffie-Hellman Verfahren.\n",
    "Alice und Bob vereinbaren die Primzahl p und die Primitivwurzel g. Alice wählt a, Bob\n",
    "wählt b. Welche Zahlen sind öffentlich und wie heißt der gemeinsame Schlüssel?\n",
    "\n",
    "a. p = 7, g = 3, a = 3, b = 4.   <br>\n",
    "b. p = 23, g = 7, a = 15, b = 17.\n"
   ]
  },
  {
   "cell_type": "markdown",
   "id": "212e4dcb-bc51-4329-a538-398e738762fe",
   "metadata": {},
   "source": [
    "#### A8 (Diffie-Hellman)\n",
    "Alice und Bob ermitteln einen gemeinsamen Schlüssel mit dem Diffie-Hellman Verfahren.\n",
    "Alice und Bob vereinbaren p = 11 und g = 2. Alice schicht an Bob A = 5 und Bob\r\n",
    "meldet an Alice B = 8. Da die Zahlen klein sind, kann die Diffie-Hellman Verschlüsselung\r\n",
    "geknackt werden. Wie heißt der Schlüssel \n",
    "\n",
    "Hilfstabelle:\n",
    "\n",
    "K?"
   ]
  },
  {
   "cell_type": "markdown",
   "id": "96a08c69-b84c-47a4-9fba-a9de9555ee37",
   "metadata": {},
   "source": [
    "#### A9 (RSA)\n",
    "Bob wählt p , q und Verschlüsselungsexponent e. Warum ist e ein zulässiger Verschlüsselungsexponent? Wie heißt der öffentliche, wie der private Schlüssel von Bob? Alice will\n",
    "an Bob die Nachricht n verschlüsselt übermitteln. Welche Zahl schickt sie an Bob? Wie\n",
    "entschlüsselt Bob die Nachricht?\n",
    "\n",
    "a. p = 3, q = 11, e = 7, n = 6.  <br>\n",
    "b. p = 7, q = 11, e = 47, n = 2\n"
   ]
  },
  {
   "cell_type": "markdown",
   "id": "3a5dfcfd-f7e5-42e7-aa90-44ee0d6872e6",
   "metadata": {},
   "source": [
    "#### A10 (Hashing)\n",
    "Ein Angreifer hat durch einen Angriff eine Liste von Benutzernamen und Passwörtern aus einer Datenbank erbeutet.\n",
    "Er stellt aber fest, dass die Passwörter nicht im Klartext, sonder gehasht gespeichert wurden.\n",
    "\n",
    "a. Erläutere die wesentliche Eigenschaft einer kryptografischen Hashfunktion für das Speichern von Passwörtern. <br>\n",
    "b. Im Internet kursieren Listen mit den 100.000 am häufigsten verwendeten Passwörtern. Beschreibe, wie der Angreifer mit Hilfe einer\n",
    "solchen Liste trotz Hashing Rückschlüsse auf die Passwörter ziehen kann."
   ]
  }
 ],
 "metadata": {
  "kernelspec": {
   "display_name": "Python 3 (ipykernel)",
   "language": "python",
   "name": "python3"
  },
  "language_info": {
   "codemirror_mode": {
    "name": "ipython",
    "version": 3
   },
   "file_extension": ".py",
   "mimetype": "text/x-python",
   "name": "python",
   "nbconvert_exporter": "python",
   "pygments_lexer": "ipython3",
   "version": "3.11.2"
  }
 },
 "nbformat": 4,
 "nbformat_minor": 5
}
