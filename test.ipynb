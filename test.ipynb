{
 "cells": [
  {
   "cell_type": "code",
   "execution_count": 35,
   "id": "ba7d633b-0d05-415e-a4bc-28cfe70ee3cc",
   "metadata": {},
   "outputs": [],
   "source": [
    "class Datum:\n",
    "    def __init__(self, tag, monat, jahr):\n",
    "        self.tag = tag\n",
    "        self.monat = monat\n",
    "        self.jahr = jahr\n",
    "\n",
    "    def __str__(self):\n",
    "        return f'{self.tag}.{self.monat}.{self.jahr}'\n",
    "        "
   ]
  },
  {
   "cell_type": "code",
   "execution_count": 37,
   "id": "0aad76aa-1cd3-4b22-9ae9-721b246c15f3",
   "metadata": {},
   "outputs": [
    {
     "name": "stdout",
     "output_type": "stream",
     "text": [
      "23.6.2023\n"
     ]
    }
   ],
   "source": [
    "d = Datum(23,6,2023)\n",
    "print(d)\n",
    " "
   ]
  },
  {
   "cell_type": "code",
   "execution_count": 109,
   "id": "9a4e2823-abcb-4abe-9a30-df69e6c6455c",
   "metadata": {},
   "outputs": [],
   "source": [
    "import datetime\n",
    "class Person:\n",
    "    def __init__(self,vorname,nachnamen,tag,monat,jahr):\n",
    "        self.vorname = vorname\n",
    "        self.nachname = nachnamen\n",
    "        self.gebdatum = Datum(tag,monat,jahr)\n",
    "\n",
    "    def __str__(self):\n",
    "        return f'{self.vorname} {self.nachname}, geboren am {self.gebdatum}.'\n",
    "\n",
    "    def jahrgang(self):\n",
    "        return self.gebdatum.jahr\n",
    "\n",
    "    def alter(self):\n",
    "        akt_jahr = datetime.date.today().year\n",
    "        akt_monat = datetime.date.today().month\n",
    "        akt_tag = datetime.date.today().day\n",
    "\n",
    "        alter = akt_jahr - self.jahrgang()\n",
    "        if (self.gebdatum.monat, self.gebdatum.tag) > (akt_monat, akt_tag):\n",
    "            alter-=1\n",
    "        return alter\n",
    "\n",
    "class Student(Person):\n",
    "    def __init__(self,vorname,nachname,tag,monat,jahr,fach,jsb):\n",
    "        super().__init__(vorname,nachname,tag,monat,jahr)\n",
    "        self.fach = fach\n",
    "        self.jsb = jsb\n",
    "\n",
    "    def jahrgang(self):\n",
    "        return self.jsb\n"
   ]
  },
  {
   "cell_type": "code",
   "execution_count": 110,
   "id": "cffcedb4-9a85-48a0-83c7-54369250304a",
   "metadata": {},
   "outputs": [
    {
     "name": "stdout",
     "output_type": "stream",
     "text": [
      "willi Wacker, geboren am 23.6.2022.\n",
      "1\n"
     ]
    },
    {
     "data": {
      "text/plain": [
       "2018"
      ]
     },
     "execution_count": 110,
     "metadata": {},
     "output_type": "execute_result"
    }
   ],
   "source": [
    "p = Person('willi','Wacker',23,6,2022)\n",
    "print(p)\n",
    "print(p.alter())\n",
    "\n",
    "s = Student('Susi','Sorglos',3,5,2000,'Bio',2018)\n",
    "s.jahrgang() "
   ]
  },
  {
   "cell_type": "code",
   "execution_count": 91,
   "id": "5499704d-5fa5-46f1-81ec-278f4f0497a0",
   "metadata": {},
   "outputs": [
    {
     "data": {
      "text/plain": [
       "datetime.date(2023, 6, 23)"
      ]
     },
     "execution_count": 91,
     "metadata": {},
     "output_type": "execute_result"
    }
   ],
   "source": [
    "import datetime\n",
    "datetime.date.today() "
   ]
  },
  {
   "cell_type": "code",
   "execution_count": 96,
   "id": "efb54030-4932-48a9-8b07-af01103b957a",
   "metadata": {},
   "outputs": [],
   "source": [
    "class Konto:\n",
    "    def __init__(self,kontostand):\n",
    "        self.__kontostand = kontostand\n",
    "\n",
    "    def getKontostand(self):\n",
    "        return self.__kontostand\n",
    "\n",
    "    def setKontostand(self,betrag):\n",
    "        self.__kontostand = betrag"
   ]
  },
  {
   "cell_type": "code",
   "execution_count": 113,
   "id": "c00fe2d1-262a-4591-82b4-6874a9a47f86",
   "metadata": {},
   "outputs": [
    {
     "name": "stdout",
     "output_type": "stream",
     "text": [
      "Das Ding A hat den Wert 100\n"
     ]
    }
   ],
   "source": [
    "class Ding:\n",
    "    def __init__(self,name, wert):\n",
    "        self.name = name\n",
    "        self.wert = wert\n",
    "\n",
    "    def __str__(self):\n",
    "        return f'Das Ding {self.name} hat den Wert {self.wert}'\n",
    "\n",
    "\n",
    "d = Ding(\"A\",100)\n",
    "print(d)"
   ]
  },
  {
   "cell_type": "raw",
   "id": "2717a963-30b1-4cb7-b8a0-0bfa9b8c8104",
   "metadata": {},
   "source": [
    "k1 = K( 1 )\n",
    "k2 = K( 2 )\n",
    "print ( k1 . x , k1 . y , k2 . x , k2 . y )\n",
    "1 1 2 2"
   ]
  },
  {
   "cell_type": "code",
   "execution_count": 156,
   "id": "b2b21396-d051-4a64-ace0-0daa724c1870",
   "metadata": {},
   "outputs": [],
   "source": [
    "class A:\n",
    "\n",
    "    def berechne(self,x):\n",
    "        return 2*x\n"
   ]
  },
  {
   "cell_type": "code",
   "execution_count": 163,
   "id": "3cd78eed-9274-42ec-bfea-0e97034fd92e",
   "metadata": {},
   "outputs": [],
   "source": [
    "class B(A):\n",
    "    def berechne(self,x):\n",
    "        return super().berechne(x) + 10\n"
   ]
  },
  {
   "cell_type": "code",
   "execution_count": 165,
   "id": "b6966587-c2af-4944-b9c0-b2ee1b4c5d1e",
   "metadata": {},
   "outputs": [
    {
     "data": {
      "text/plain": [
       "24"
      ]
     },
     "execution_count": 165,
     "metadata": {},
     "output_type": "execute_result"
    }
   ],
   "source": [
    "a = A()\n",
    "b = B()\n",
    "a.berechne(5)\n",
    "b.berechne(7)"
   ]
  },
  {
   "cell_type": "code",
   "execution_count": null,
   "id": "450539ff-b4e5-4aef-bb8a-e3b0c83e5b1f",
   "metadata": {},
   "outputs": [],
   "source": []
  }
 ],
 "metadata": {
  "kernelspec": {
   "display_name": "Python 3 (ipykernel)",
   "language": "python",
   "name": "python3"
  },
  "language_info": {
   "codemirror_mode": {
    "name": "ipython",
    "version": 3
   },
   "file_extension": ".py",
   "mimetype": "text/x-python",
   "name": "python",
   "nbconvert_exporter": "python",
   "pygments_lexer": "ipython3",
   "version": "3.11.2"
  }
 },
 "nbformat": 4,
 "nbformat_minor": 5
}
