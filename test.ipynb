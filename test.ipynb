{
 "cells": [
  {
   "cell_type": "markdown",
   "id": "cf96180e-80f4-40d7-85e5-2ccd8b2d8361",
   "metadata": {},
   "source": [
    "### Übungen zu Graphen\n",
    "\n",
    "#### Einlesen von Daten"
   ]
  },
  {
   "cell_type": "code",
   "execution_count": 57,
   "id": "49614074-b555-4905-8e9e-61ec7da7a6d3",
   "metadata": {},
   "outputs": [
    {
     "name": "stdout",
     "output_type": "stream",
     "text": [
      "Overwriting input.txt\n"
     ]
    }
   ],
   "source": [
    "%%writefile input.txt\n",
    "3 9\n",
    "#########\n",
    "#    #  #\n",
    "#########"
   ]
  },
  {
   "cell_type": "code",
   "execution_count": 58,
   "id": "39333cc4-d8ea-4225-9a95-bbbbf226ce18",
   "metadata": {},
   "outputs": [],
   "source": [
    "f = open('input.txt')\n",
    "hoehe, breite = [int(x) for x in f.readline().split()]       # list-comprehension, unpacking\n",
    "grid = []\n",
    "for i in range(hoehe):\n",
    "    grid.append(list(f.readline().strip()))\n",
    "f.close()"
   ]
  },
  {
   "cell_type": "markdown",
   "id": "24e39cb5-7018-48e0-8eac-396d14fad5fd",
   "metadata": {},
   "source": [
    "#### Aufbau des Graphen\n",
    "\n",
    "V ist die Liste mit den Knoten."
   ]
  },
  {
   "cell_type": "code",
   "execution_count": 59,
   "id": "0110155b-5fbe-4442-98b1-0bb96bf67fd1",
   "metadata": {},
   "outputs": [
    {
     "data": {
      "text/plain": [
       "[(1, 1), (1, 2), (1, 3), (1, 4), (1, 6), (1, 7)]"
      ]
     },
     "execution_count": 59,
     "metadata": {},
     "output_type": "execute_result"
    }
   ],
   "source": [
    "V = [(x,y) for x in range(hoehe) for y in range(breite) if grid[x][y] != '#']\n",
    "V"
   ]
  },
  {
   "cell_type": "code",
   "execution_count": 61,
   "id": "f5a73128-abde-4de6-b9e9-2cbf3bd13521",
   "metadata": {},
   "outputs": [
    {
     "data": {
      "text/plain": [
       "{(1, 1): set(),\n",
       " (1, 2): set(),\n",
       " (1, 3): set(),\n",
       " (1, 4): set(),\n",
       " (1, 6): set(),\n",
       " (1, 7): set()}"
      ]
     },
     "execution_count": 61,
     "metadata": {},
     "output_type": "execute_result"
    }
   ],
   "source": [
    "G = {v: set() for v in V}\n",
    "G"
   ]
  },
  {
   "cell_type": "code",
   "execution_count": 65,
   "id": "2057b353-d887-4ce7-b30e-1b8e931c9d81",
   "metadata": {},
   "outputs": [
    {
     "data": {
      "text/plain": [
       "{(1, 1): {(1, 2)},\n",
       " (1, 2): {(1, 1), (1, 3)},\n",
       " (1, 3): {(1, 2), (1, 4)},\n",
       " (1, 4): {(1, 3)},\n",
       " (1, 6): {(1, 7)},\n",
       " (1, 7): {(1, 6)}}"
      ]
     },
     "execution_count": 65,
     "metadata": {},
     "output_type": "execute_result"
    }
   ],
   "source": [
    "dirs = [(0,1),(1,0),(0,-1),(-1,0)]   # Richtungen O,S,W,N\n",
    "for (x,y) in G:\n",
    "    for (xd,yd) in dirs:\n",
    "        xn, yn = x+xd, y+yd\n",
    "        if 0 <= xn < hoehe and 0 <= yn < breite and grid[xn][yn] != '#':\n",
    "            G[(x,y)].add((xn,yn))\n",
    "       \n",
    "\n",
    "G   "
   ]
  },
  {
   "cell_type": "markdown",
   "id": "76393b75-c877-4efc-81fe-a1680a9f7674",
   "metadata": {},
   "source": [
    "#### Erreichbarkeit"
   ]
  },
  {
   "cell_type": "code",
   "execution_count": 66,
   "id": "f2eecaf8-8048-4e9a-84ff-9c1b15abed72",
   "metadata": {},
   "outputs": [],
   "source": [
    "visited =  {v : False for v in G}       \n",
    "def explore(v):  \n",
    "    visited[v] = True\n",
    "    for w in G[v]:\n",
    "        if not visited[w]:\n",
    "            explore(w) \n",
    "            "
   ]
  },
  {
   "cell_type": "code",
   "execution_count": null,
   "id": "5dc5fd17-22fd-408a-a0c1-9765fe93ab47",
   "metadata": {},
   "outputs": [],
   "source": []
  }
 ],
 "metadata": {
  "kernelspec": {
   "display_name": "Python 3 (ipykernel)",
   "language": "python",
   "name": "python3"
  },
  "language_info": {
   "codemirror_mode": {
    "name": "ipython",
    "version": 3
   },
   "file_extension": ".py",
   "mimetype": "text/x-python",
   "name": "python",
   "nbconvert_exporter": "python",
   "pygments_lexer": "ipython3",
   "version": "3.11.2"
  }
 },
 "nbformat": 4,
 "nbformat_minor": 5
}
