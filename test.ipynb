{
 "cells": [
  {
   "cell_type": "markdown",
   "id": "cf96180e-80f4-40d7-85e5-2ccd8b2d8361",
   "metadata": {},
   "source": [
    "### Übungen zu Graphen\n",
    "\n",
    "#### Einlesen von Daten"
   ]
  },
  {
   "cell_type": "code",
   "execution_count": 103,
   "id": "49614074-b555-4905-8e9e-61ec7da7a6d3",
   "metadata": {},
   "outputs": [
    {
     "name": "stdout",
     "output_type": "stream",
     "text": [
      "Overwriting input.txt\n"
     ]
    }
   ],
   "source": [
    "%%writefile input.txt\n",
    "4 5\n",
    "#####\n",
    "#A B#\n",
    "# ###\n",
    "##### "
   ]
  },
  {
   "cell_type": "code",
   "execution_count": 104,
   "id": "39333cc4-d8ea-4225-9a95-bbbbf226ce18",
   "metadata": {},
   "outputs": [],
   "source": [
    "f = open('input.txt')\n",
    "hoehe, breite = [int(x) for x in f.readline().split()]       # list-comprehension, unpacking\n",
    "grid = []\n",
    "for i in range(hoehe):\n",
    "    grid.append(list(f.readline().strip()))\n",
    "f.close()"
   ]
  },
  {
   "cell_type": "markdown",
   "id": "24e39cb5-7018-48e0-8eac-396d14fad5fd",
   "metadata": {},
   "source": [
    "#### Aufbau des Graphen\n",
    "\n",
    "V ist die Liste mit den Knoten."
   ]
  },
  {
   "cell_type": "code",
   "execution_count": 105,
   "id": "0110155b-5fbe-4442-98b1-0bb96bf67fd1",
   "metadata": {},
   "outputs": [
    {
     "data": {
      "text/plain": [
       "[(1, 1), (1, 2), (1, 3), (2, 1)]"
      ]
     },
     "execution_count": 105,
     "metadata": {},
     "output_type": "execute_result"
    }
   ],
   "source": [
    "V = [(x,y) for x in range(hoehe) for y in range(breite) if grid[x][y] != '#']\n",
    "V"
   ]
  },
  {
   "cell_type": "code",
   "execution_count": 106,
   "id": "f5a73128-abde-4de6-b9e9-2cbf3bd13521",
   "metadata": {},
   "outputs": [
    {
     "data": {
      "text/plain": [
       "{(1, 1): set(), (1, 2): set(), (1, 3): set(), (2, 1): set()}"
      ]
     },
     "execution_count": 106,
     "metadata": {},
     "output_type": "execute_result"
    }
   ],
   "source": [
    "G = {v: set() for v in V}\n",
    "G"
   ]
  },
  {
   "cell_type": "code",
   "execution_count": 110,
   "id": "2057b353-d887-4ce7-b30e-1b8e931c9d81",
   "metadata": {},
   "outputs": [
    {
     "name": "stdout",
     "output_type": "stream",
     "text": [
      "G={(1, 1): {(1, 2), (2, 1)}, (1, 2): {(1, 1), (1, 3)}, (1, 3): {(1, 2)}, (2, 1): {(1, 1)}}\n"
     ]
    }
   ],
   "source": [
    "dirs = [(0,1),(1,0),(0,-1),(-1,0)]   # Richtungen O,S,W,N\n",
    "for (x,y) in G:\n",
    "    for (xd,yd) in dirs:\n",
    "        xn, yn = x+xd, y+yd\n",
    "        if 0 <= xn < hoehe and 0 <= yn < breite and grid[xn][yn] != '#':\n",
    "            G[(x,y)].add((xn,yn))\n",
    "       \n",
    "\n",
    "print(f'G={G}')"
   ]
  },
  {
   "cell_type": "markdown",
   "id": "76393b75-c877-4efc-81fe-a1680a9f7674",
   "metadata": {},
   "source": [
    "#### Erreichbarkeit"
   ]
  },
  {
   "cell_type": "code",
   "execution_count": 96,
   "id": "f2eecaf8-8048-4e9a-84ff-9c1b15abed72",
   "metadata": {},
   "outputs": [
    {
     "name": "stdout",
     "output_type": "stream",
     "text": [
      "(1, 1) (1, 2) (1, 3) (2, 2) (3, 1) (3, 2) (3, 3)\n"
     ]
    }
   ],
   "source": [
    "visited =  {v : False for v in G}       \n",
    "def dfs(v):  \n",
    "    visited[v] = True\n",
    "    for w in G[v]:\n",
    "        if not visited[w]:\n",
    "            dfs(w) \n",
    "            \n",
    "s = (1,1)\n",
    "dfs(s)\n",
    "result = [v for v in G if visited[v]]            \n",
    "print(*result)"
   ]
  },
  {
   "cell_type": "markdown",
   "id": "c2efe66d-dc3c-45fd-824f-c2aebd5e21da",
   "metadata": {},
   "source": [
    "#### Zusammenhangskomponenten (connected components)\n",
    "\n",
    "Anzahl Räume zählen"
   ]
  },
  {
   "cell_type": "code",
   "execution_count": 97,
   "id": "6d202ae7-0b5b-466c-b20d-a5134b3e3225",
   "metadata": {},
   "outputs": [
    {
     "name": "stdout",
     "output_type": "stream",
     "text": [
      "1\n"
     ]
    }
   ],
   "source": [
    "visited =  {v : False for v in G}       \n",
    "def dfs(v):  \n",
    "    visited[v] = True\n",
    "    for w in G[v]:\n",
    "        if not visited[w]:\n",
    "            dfs(w) \n",
    "            \n",
    "zaehl = 0\n",
    "for v in G:\n",
    "    if not visited[v]:\n",
    "        zaehl+=1\n",
    "        dfs(v)\n",
    "\n",
    "print(zaehl)"
   ]
  },
  {
   "cell_type": "markdown",
   "id": "0670efa4-3a18-4103-8d9d-d46be66e6ed7",
   "metadata": {},
   "source": [
    "#### Kürzester Weg (Breitensuche)\n",
    "\n",
    "Bestimmung von Start und Zielknoten"
   ]
  },
  {
   "cell_type": "code",
   "execution_count": 109,
   "id": "a64951ed-1c89-4431-8bf7-ac1378e8690a",
   "metadata": {},
   "outputs": [
    {
     "name": "stdout",
     "output_type": "stream",
     "text": [
      "(1, 1) (1, 3)\n"
     ]
    }
   ],
   "source": [
    "for (x,y) in G:\n",
    "    if grid[x][y] == 'A':\n",
    "        start = (x,y)\n",
    "    if grid[x][y] == 'B':\n",
    "        ziel = (x,y)\n",
    "\n",
    "print(start, ziel)"
   ]
  },
  {
   "cell_type": "code",
   "execution_count": 108,
   "id": "5a98cbed-2fb4-41be-9dd1-264cc774dec5",
   "metadata": {},
   "outputs": [
    {
     "name": "stdout",
     "output_type": "stream",
     "text": [
      "{(1, 1): None, (1, 2): (1, 1), (1, 3): (1, 2), (2, 1): (1, 1)}\n",
      "\n",
      "{(1, 1): 0, (1, 2): 1, (1, 3): 2, (2, 1): 1}\n"
     ]
    }
   ],
   "source": [
    "from collections import deque\n",
    "inf = float('inf')\n",
    "dist = {v:inf for v in G}\n",
    "prev = {v:None for v in G}\n",
    "\n",
    "s = start       # Startknoten\n",
    "dist[s] = 0\n",
    "Q = deque([s])          \n",
    "while Q:\n",
    "    u = Q.popleft()\n",
    "    #for v in G[u]:\n",
    "    for v in sorted(G[u]):       #  für alphabetische Reihenfolge  \n",
    "        if dist[v] == inf:\n",
    "            Q.append(v)\n",
    "            dist[v] = dist[u]+1\n",
    "            prev[v] = u\n",
    "\n",
    "print(prev)\n",
    "print()\n",
    "print(dist)"
   ]
  },
  {
   "cell_type": "code",
   "execution_count": 111,
   "id": "02d56440-2352-4e15-b9d9-c2d8897927e4",
   "metadata": {},
   "outputs": [
    {
     "name": "stdout",
     "output_type": "stream",
     "text": [
      "Pfad von (1, 1) nach (1, 3) : (1, 1) (1, 2) (1, 3)\n",
      "Länge = 2\n"
     ]
    }
   ],
   "source": [
    "def reconstructPath(s,u,prev):\n",
    "    result = []\n",
    "    while u != s:\n",
    "        result.append(u)\n",
    "        u = prev[u]\n",
    "    result.append(s)\n",
    "    result.reverse()\n",
    "    return result\n",
    "    \n",
    " \n",
    "print('Pfad von',s,'nach',ziel,':',*reconstructPath(start,ziel,prev))\n",
    "print('Länge =',dist[ziel])"
   ]
  },
  {
   "cell_type": "code",
   "execution_count": null,
   "id": "4f1ef178-c97a-4cd8-82c2-54c4c6dc32f3",
   "metadata": {},
   "outputs": [],
   "source": []
  }
 ],
 "metadata": {
  "kernelspec": {
   "display_name": "Python 3 (ipykernel)",
   "language": "python",
   "name": "python3"
  },
  "language_info": {
   "codemirror_mode": {
    "name": "ipython",
    "version": 3
   },
   "file_extension": ".py",
   "mimetype": "text/x-python",
   "name": "python",
   "nbconvert_exporter": "python",
   "pygments_lexer": "ipython3",
   "version": "3.11.2"
  }
 },
 "nbformat": 4,
 "nbformat_minor": 5
}
