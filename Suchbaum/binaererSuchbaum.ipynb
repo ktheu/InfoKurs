{
 "cells": [
  {
   "cell_type": "markdown",
   "id": "c3a84923-8094-440d-a5e2-0c70b24699be",
   "metadata": {},
   "source": [
    "### Binärer Suchbaum  "
   ]
  },
  {
   "cell_type": "markdown",
   "id": "4ca76a5d-013d-4524-8b25-425f9ee9067a",
   "metadata": {},
   "source": [
    "Ein *binärer Suchbaum (BST - binary search tree)* ist ein binärer Baum, bei dem alle Einträge im linken\n",
    "Teilbaum eines Knotens x kleiner sind als der Eintrag im Knoten x und bei\n",
    "dem alle Einträge im rechten Teilbaum eines Knotens x größer sind als der\n",
    "Eintrag im Knoten x. \n",
    "\n",
    "<img src=\"suchbaum1.png\">\n",
    "\n",
    "Beispiel:\n",
    "\n",
    "<img src=\"suchbaum2.png\">\n",
    "\n"
   ]
  },
  {
   "cell_type": "markdown",
   "id": "42abfc22-74a7-44b9-930f-c0cde242d151",
   "metadata": {},
   "source": [
    "#### Methoden des Suchbaums:  "
   ]
  },
  {
   "cell_type": "markdown",
   "id": "cc59c191-80b4-4d01-b64e-8a681ee1a257",
   "metadata": {},
   "source": [
    "- lookup(x)\n",
    "\n",
    "lookup 20, 19, 85 \n",
    "\n",
    "<img src=\"suchbaum3.png\">"
   ]
  },
  {
   "cell_type": "markdown",
   "id": "90485438-c35d-4df2-b75c-369db40aab48",
   "metadata": {},
   "source": [
    "- insert(x)\n",
    "\n",
    "insert 5, 18, 70, 71, 20\n",
    "\n",
    "<img src=\"suchbaum4.png\">"
   ]
  },
  {
   "cell_type": "markdown",
   "id": "d22de6fe-ca6a-4784-9be7-5d001d9a0852",
   "metadata": {},
   "source": [
    "- delete(x)"
   ]
  },
  {
   "cell_type": "markdown",
   "id": "322ade18-57f5-4fd7-9f02-e501b2d4217b",
   "metadata": {},
   "source": [
    "delete 42 - Fall 1: Blatt löschen   \n",
    "\n",
    "<img src = 'suchbaum8.png' width='200'> &nbsp;&nbsp;&nbsp;&nbsp;&nbsp;&nbsp;&nbsp;&nbsp;&nbsp;&nbsp;&nbsp;&nbsp; <img src = 'suchbaum9.png' width='120'>\n"
   ]
  },
  {
   "cell_type": "markdown",
   "id": "40ee56fe-3f5e-48e8-8100-26f2dcead844",
   "metadata": {},
   "source": [
    "delete 42 - Fall 2: ein Kind\n",
    "\n",
    "<img src = 'suchbaum10.png'> &nbsp;&nbsp;&nbsp;&nbsp;&nbsp;&nbsp;&nbsp;&nbsp;&nbsp;&nbsp;&nbsp;&nbsp; <img src = 'suchbaum11.png'>"
   ]
  },
  {
   "cell_type": "markdown",
   "id": "952a49b3-3e29-4378-a191-641afead9fe9",
   "metadata": {},
   "source": [
    "delete 42 - Fall 3: zwei Kinder \n",
    "\n",
    "<img src = 'suchbaum12.png'>\n",
    "<img src = 'suchbaum13.png'>"
   ]
  },
  {
   "cell_type": "markdown",
   "id": "c94c2161-e026-4313-a97a-fb080bbefc3a",
   "metadata": {},
   "source": [
    "#### Komplexität der Methoden im Suchbaum: Anzahl Ebenen  \n",
    "\n",
    "worst case:  $O(n)$\n",
    "\n",
    "<img src = 'suchbaum6.png'>\n",
    "\n",
    " \n",
    " \n",
    "best case, average case:  $O(log(n))$\n",
    "\n",
    "<img src = 'suchbaum7.png'>\n",
    "   "
   ]
  },
  {
   "cell_type": "markdown",
   "id": "d988c2a6-3a96-4f96-8dec-23153644d2f4",
   "metadata": {},
   "source": [
    "Suchbäume sind Lösungen des sogenannten „Wörterbuchproblems“, d.h. mit Suchbäumen lassen sich dictionaries implementieren. Ein inorder-Durchlauf durch einen binären Suchbaum ist äquivalent zum Wandern durch eine sortierte Liste."
   ]
  }
 ],
 "metadata": {
  "kernelspec": {
   "display_name": "Python 3 (ipykernel)",
   "language": "python",
   "name": "python3"
  },
  "language_info": {
   "codemirror_mode": {
    "name": "ipython",
    "version": 3
   },
   "file_extension": ".py",
   "mimetype": "text/x-python",
   "name": "python",
   "nbconvert_exporter": "python",
   "pygments_lexer": "ipython3",
   "version": "3.11.2"
  }
 },
 "nbformat": 4,
 "nbformat_minor": 5
}
