{
 "cells": [
  {
   "cell_type": "markdown",
   "id": "065a8967-54b1-48d4-8583-4d9dfd7bdd91",
   "metadata": {},
   "source": [
    "## ASCII, Unicode, UTF-8\n",
    "\n",
    "### ASCII\n",
    "\n",
    "Ein Computer speichert Zahlen. Um mit Zeichen umgehen zu können, wird über\n",
    "eine Zeichensatztabelle (Codepage) jedem Zeichen eine Zahl zugeordnet.\n",
    "Der **ASCII-Code** (American Standard Code for Information Interchange) sieht in seiner ursprünglichen Version 7 Bits zur Codierung von Zeichen vor. Damit lassen sich $2^7 = 128$ Zeichen darstellen.  \n",
    "\n",
    "<img src='bild3.png' width='600'>\n",
    "\n",
    "**ISO-8859-1** ist eine Erweiterung des ASCII-Codes auf 8 bit und reicht für die meisten westeuropäischen Sprachen aus. Es fehlt aber das Eurozeichen und einige französische Zeichen.\n",
    "\n",
    "<img src='bild1.png' width='600'>"
   ]
  },
  {
   "cell_type": "markdown",
   "id": "fd6e3b22-875e-4996-89da-979b180be59f",
   "metadata": {},
   "source": [
    "### Unicode und UTF-8\n",
    "\n",
    "**Unicode** ist ein internationaler Standard, der jedem Schriftzeichen aller bekannter Sprachen einen eindeutige Zahl zuordnet (Code Point). [Unicode Charts](https://www.unicode.org/charts/). \n",
    "\n",
    "\n",
    "```\n",
    "A     65 \n",
    "a     97 \n",
    "ß    223 \n",
    "€   8364\n",
    "```\n",
    "\n",
    "**UTF-8** (1992) ist die am weitesten verbreitete Kodierung für Unicode-Zeichen. [Numberphile](https://www.youtube.com/watch?v=MijmeoH9LT4). <br>\n",
    "Unicode-Zeichen größer als 127 werden in der UTF-8 Kodierung zu Byte-Ketten der Länge 2 bis 4 kodiert.\n",
    "\n",
    "<img src='utf8.png'>"
   ]
  },
  {
   "cell_type": "markdown",
   "id": "6fb77094-e479-4fff-96e1-0d684ccbe3b4",
   "metadata": {},
   "source": [
    "\n",
    "Beispiel: Die UTF-8 Codierung von € \n",
    "```\n",
    "Code Point (dezimal) = 8364  \n",
    "Code Point (hex) =  20AC  (zur Codierung werden 3 Bytes benötigt) \n",
    "Code Point (binär) =  0010 0000 1010 1100 \n",
    "Aufteilung der bits in die 3 Bytes  \n",
    "1110xxxx 10xxxxxx 10xxxxxx\n",
    "11100010 10000010 10101100\n",
    "E2 82 AC   ist die Codierung des Eurozeichens.\n",
    "```"
   ]
  },
  {
   "cell_type": "markdown",
   "id": "b269f4c6-1098-4051-8475-a88293003a3f",
   "metadata": {},
   "source": [
    "##### Beispiele in Python"
   ]
  },
  {
   "cell_type": "code",
   "execution_count": 6,
   "id": "89f29555-4c9b-4768-b722-5048a8089101",
   "metadata": {},
   "outputs": [
    {
     "name": "stdout",
     "output_type": "stream",
     "text": [
      "8364 0x20ac b'\\xe2\\x82\\xac'\n"
     ]
    }
   ],
   "source": [
    "# Vom Zeichen zur UTF-8 Codierung\n",
    "c = '€'\n",
    "x1 = ord(c)             # Dezimaler Codepoint\n",
    "x2 = hex(ord(c))        # hexadezimaler Codepoint\n",
    "x3= c.encode('utf-8')   # utf-8 Codierung\n",
    "print(x1,x2,x3)"
   ]
  },
  {
   "cell_type": "code",
   "execution_count": 20,
   "id": "419dad5f-3584-483d-8ce5-7b7ed424b88d",
   "metadata": {},
   "outputs": [
    {
     "name": "stdout",
     "output_type": "stream",
     "text": [
      "€ €\n"
     ]
    }
   ],
   "source": [
    "# Vom hexadezimalen Codepoint zum Zeichen\n",
    "c = '\\u20ac'           # so\n",
    "c1 = chr(0x20ac)       # oder so\n",
    "print(c,c1)"
   ]
  },
  {
   "cell_type": "code",
   "execution_count": 17,
   "id": "9d1b66a4-e59a-4b1f-b2ea-e4d39501c7f7",
   "metadata": {},
   "outputs": [
    {
     "name": "stdout",
     "output_type": "stream",
     "text": [
      "€\n"
     ]
    }
   ],
   "source": [
    "# Von der UTF-8 Codierung zum Zeichen\n",
    "x = b\"\\xe2\\x82\\xac\"    \n",
    "c = x.decode(\"utf8\")\n",
    "print(c)"
   ]
  },
  {
   "cell_type": "markdown",
   "id": "4ea01651-b973-4cca-8e68-ecaf1914b10a",
   "metadata": {},
   "source": [
    "##### Einen Speicherbereich analysieren\n",
    "\n",
    "Ein Texteditor soll folgenden Speicherbereich darstellen:\n",
    "\n",
    "<img src='bild4.png'>\n",
    "\n",
    "Derselbe Speicherbereich hexadezimal:\n",
    "\n",
    "<img src='bild5.png'>\n",
    "\n",
    "Die Bytefolge EF BB BF heißt **Byte Order Mark (BOM)** und gibt den Editor einen Hinweis darauf, dass\n",
    "eine UTF-8 Kodierung vorliegt.  \n",
    "0A ist die ASCII (und UTF-8) Codierung für den Zeilenvorschub."
   ]
  },
  {
   "cell_type": "code",
   "execution_count": 21,
   "id": "7d2bc8cb-144c-4d71-a815-36a16b96bb7c",
   "metadata": {},
   "outputs": [
    {
     "name": "stdout",
     "output_type": "stream",
     "text": [
      "♔\n"
     ]
    }
   ],
   "source": [
    "x = b\"\\xe2\\x99\\x94\"    # byte-Folge\n",
    "c = x.decode(\"utf8\")\n",
    "print(c)"
   ]
  },
  {
   "cell_type": "code",
   "execution_count": null,
   "id": "70017ee9-fde0-4a78-8802-1110cb71fec6",
   "metadata": {},
   "outputs": [],
   "source": []
  }
 ],
 "metadata": {
  "kernelspec": {
   "display_name": "Python 3 (ipykernel)",
   "language": "python",
   "name": "python3"
  },
  "language_info": {
   "codemirror_mode": {
    "name": "ipython",
    "version": 3
   },
   "file_extension": ".py",
   "mimetype": "text/x-python",
   "name": "python",
   "nbconvert_exporter": "python",
   "pygments_lexer": "ipython3",
   "version": "3.9.12"
  }
 },
 "nbformat": 4,
 "nbformat_minor": 5
}
